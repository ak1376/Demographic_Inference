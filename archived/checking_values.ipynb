{
 "cells": [
  {
   "cell_type": "code",
   "execution_count": 1,
   "metadata": {},
   "outputs": [],
   "source": [
    "import numpy as np\n",
    "import matplotlib.pyplot as plt\n",
    "import os\n",
    "import pickle"
   ]
  },
  {
   "cell_type": "code",
   "execution_count": 2,
   "metadata": {},
   "outputs": [],
   "source": [
    "with open('/sietch_colab/akapoor/Demographic_Inference/experiments/snakemake/preprocessing_results_obj.pkl', 'rb') as file:\n",
    "    snakemake_object = pickle.load(file)"
   ]
  },
  {
   "cell_type": "code",
   "execution_count": 5,
   "metadata": {},
   "outputs": [
    {
     "data": {
      "text/plain": [
       "array([[ 0.72970199, -0.15978262,  0.46874415, ...,  0.07172043,\n",
       "        -0.22776294, -0.04880369],\n",
       "       [-0.28882961,  0.71869393, -0.14499883, ...,  0.07270843,\n",
       "        -0.19677574, -0.04829206],\n",
       "       [-0.23098985,  0.63648408, -0.11336435, ...,  0.03781933,\n",
       "        -0.39383877, -0.04853401],\n",
       "       ...,\n",
       "       [-0.02984842, -1.03382716, -0.08653367, ...,  0.05194588,\n",
       "         0.1142085 , -0.04803179],\n",
       "       [-0.07711935,  0.77209332, -0.07694115, ...,  0.07351967,\n",
       "         0.33757467, -0.04821259],\n",
       "       [-0.09166935, -0.47398056, -0.06564253, ...,  0.09444145,\n",
       "         0.48457417, -0.04803179]])"
      ]
     },
     "execution_count": 5,
     "metadata": {},
     "output_type": "execute_result"
    }
   ],
   "source": [
    "snakemake_object['training']['predictions']"
   ]
  },
  {
   "cell_type": "code",
   "execution_count": 6,
   "metadata": {},
   "outputs": [],
   "source": [
    "with open('/sietch_colab/akapoor/experiments/checking_against_snakemake/preprocessing_results_obj.pkl', 'rb') as file:\n",
    "    original = pickle.load(file)"
   ]
  },
  {
   "cell_type": "code",
   "execution_count": 7,
   "metadata": {},
   "outputs": [
    {
     "data": {
      "text/plain": [
       "array([[ 1.17171994e+04,  6.05921602e+03,  2.95945417e+03, ...,\n",
       "        -4.13586253e-01,  3.61903813e-01, -3.35000011e-01],\n",
       "       [ 4.45552213e+03,  5.94794050e+03,  9.98608401e+02, ...,\n",
       "        -6.23268840e+00, -1.24324303e+00, -8.81747259e-01],\n",
       "       [ 3.71625543e+03,  6.27775476e+03,  6.32152193e+02, ...,\n",
       "        -1.66212390e+01, -2.07812357e+00, -6.15879220e-01],\n",
       "       ...,\n",
       "       [ 5.70013351e+03,  6.80906075e+03,  1.16428146e+03, ...,\n",
       "        -1.29268876e+01, -1.63450922e+00, -5.51124239e-01],\n",
       "       [ 6.25847813e+03,  6.09363232e+03,  8.29152421e+02, ...,\n",
       "        -1.12422811e+01, -3.73129964e+00, -3.09603471e+00],\n",
       "       [ 5.36255634e+03,  6.15780067e+03,  1.58772840e+03, ...,\n",
       "        -2.97042942e+01, -2.20282542e+00, -1.28019482e+00]])"
      ]
     },
     "execution_count": 7,
     "metadata": {},
     "output_type": "execute_result"
    }
   ],
   "source": [
    "original['training']['predictions']"
   ]
  },
  {
   "cell_type": "code",
   "execution_count": null,
   "metadata": {},
   "outputs": [],
   "source": []
  }
 ],
 "metadata": {
  "kernelspec": {
   "display_name": "myenv",
   "language": "python",
   "name": "python3"
  },
  "language_info": {
   "codemirror_mode": {
    "name": "ipython",
    "version": 3
   },
   "file_extension": ".py",
   "mimetype": "text/x-python",
   "name": "python",
   "nbconvert_exporter": "python",
   "pygments_lexer": "ipython3",
   "version": "3.10.13"
  }
 },
 "nbformat": 4,
 "nbformat_minor": 2
}
