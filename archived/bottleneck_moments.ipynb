{
 "cells": [
  {
   "cell_type": "code",
   "execution_count": 1,
   "metadata": {},
   "outputs": [],
   "source": [
    "# I want to see how the expected SFS changes when I change the bottleneck size "
   ]
  },
  {
   "cell_type": "code",
   "execution_count": 1,
   "metadata": {},
   "outputs": [
    {
     "ename": "ModuleNotFoundError",
     "evalue": "No module named 'timestamp'",
     "output_type": "error",
     "traceback": [
      "\u001b[0;31m---------------------------------------------------------------------------\u001b[0m",
      "\u001b[0;31mModuleNotFoundError\u001b[0m                       Traceback (most recent call last)",
      "Cell \u001b[0;32mIn[1], line 3\u001b[0m\n\u001b[1;32m      1\u001b[0m \u001b[38;5;28;01mimport\u001b[39;00m \u001b[38;5;21;01mmatplotlib\u001b[39;00m\u001b[38;5;21;01m.\u001b[39;00m\u001b[38;5;21;01mpyplot\u001b[39;00m \u001b[38;5;28;01mas\u001b[39;00m \u001b[38;5;21;01mplt\u001b[39;00m\n\u001b[1;32m      2\u001b[0m \u001b[38;5;28;01mimport\u001b[39;00m \u001b[38;5;21;01mnumpy\u001b[39;00m \u001b[38;5;28;01mas\u001b[39;00m \u001b[38;5;21;01mnp\u001b[39;00m\n\u001b[0;32m----> 3\u001b[0m \u001b[38;5;28;01mimport\u001b[39;00m \u001b[38;5;21;01mmoments\u001b[39;00m\n\u001b[1;32m      4\u001b[0m \u001b[38;5;28;01mfrom\u001b[39;00m \u001b[38;5;21;01mdadi\u001b[39;00m \u001b[38;5;28;01mimport\u001b[39;00m Numerics, PhiManip, Integration\n\u001b[1;32m      5\u001b[0m \u001b[38;5;28;01mfrom\u001b[39;00m \u001b[38;5;21;01mdadi\u001b[39;00m\u001b[38;5;21;01m.\u001b[39;00m\u001b[38;5;21;01mSpectrum_mod\u001b[39;00m \u001b[38;5;28;01mimport\u001b[39;00m Spectrum\n",
      "File \u001b[0;32m/sietch_colab/akapoor/.venv/lib/python3.10/site-packages/moments/__init__.py:14\u001b[0m\n\u001b[1;32m      1\u001b[0m \u001b[38;5;66;03m# so this directory is treated as a python package\u001b[39;00m\n\u001b[1;32m      2\u001b[0m \u001b[38;5;66;03m# http://www.python.org/doc/2.0.1/tut/node8.html\u001b[39;00m\n\u001b[1;32m      4\u001b[0m __all__ \u001b[38;5;241m=\u001b[39m [\u001b[38;5;124m\"\u001b[39m\u001b[38;5;124mtag\u001b[39m\u001b[38;5;124m\"\u001b[39m,\n\u001b[1;32m      5\u001b[0m            \u001b[38;5;124m\"\u001b[39m\u001b[38;5;124massociation\u001b[39m\u001b[38;5;124m\"\u001b[39m,\n\u001b[1;32m      6\u001b[0m            \u001b[38;5;124m\"\u001b[39m\u001b[38;5;124mtimestamp\u001b[39m\u001b[38;5;124m\"\u001b[39m\n\u001b[0;32m   (...)\u001b[0m\n\u001b[1;32m     11\u001b[0m            \u001b[38;5;124m\"\u001b[39m\u001b[38;5;124mpath\u001b[39m\u001b[38;5;124m\"\u001b[39m,\n\u001b[1;32m     12\u001b[0m            ]\n\u001b[0;32m---> 14\u001b[0m \u001b[38;5;28;01mfrom\u001b[39;00m \u001b[38;5;21;01mtimestamp\u001b[39;00m \u001b[38;5;28;01mimport\u001b[39;00m Timestamp\n\u001b[1;32m     15\u001b[0m \u001b[38;5;28;01mfrom\u001b[39;00m \u001b[38;5;21;01mjournal\u001b[39;00m \u001b[38;5;28;01mimport\u001b[39;00m Journal\n\u001b[1;32m     16\u001b[0m \u001b[38;5;28;01mfrom\u001b[39;00m \u001b[38;5;21;01mpath\u001b[39;00m \u001b[38;5;28;01mimport\u001b[39;00m Path\n",
      "\u001b[0;31mModuleNotFoundError\u001b[0m: No module named 'timestamp'"
     ]
    }
   ],
   "source": [
    "import matplotlib.pyplot as plt\n",
    "import numpy as np\n",
    "import moments\n",
    "from dadi import Numerics, PhiManip, Integration\n",
    "from dadi.Spectrum_mod import Spectrum"
   ]
  },
  {
   "cell_type": "code",
   "execution_count": 2,
   "metadata": {},
   "outputs": [
    {
     "name": "stdout",
     "output_type": "stream",
     "text": [
      "Collecting moments\n",
      "  Downloading Moments-2.0.tar.gz (76 kB)\n",
      "\u001b[2K     \u001b[90m━━━━━━━━━━━━━━━━━━━━━━━━━━━━━━━━━━━━━━━━\u001b[0m \u001b[32m76.9/76.9 kB\u001b[0m \u001b[31m8.7 MB/s\u001b[0m eta \u001b[36m0:00:00\u001b[0m\n",
      "\u001b[?25h  Installing build dependencies ... \u001b[?25ldone\n",
      "\u001b[?25h  Getting requirements to build wheel ... \u001b[?25ldone\n",
      "\u001b[?25h  Preparing metadata (pyproject.toml) ... \u001b[?25ldone\n",
      "\u001b[?25hRequirement already satisfied: setuptools in /sietch_colab/akapoor/.venv/lib/python3.10/site-packages (from moments) (70.3.0)\n",
      "Building wheels for collected packages: moments\n",
      "  Building wheel for moments (pyproject.toml) ... \u001b[?25ldone\n",
      "\u001b[?25h  Created wheel for moments: filename=Moments-2.0-py3-none-any.whl size=84444 sha256=f7e1c79f0eb003fd7d6deedafff09506a89e2f44e1cdf5dbef2d3e208f6d00f9\n",
      "  Stored in directory: /home/akapoor/.cache/pip/wheels/36/b1/bc/f84182a1885389e8554e836e3b35be60e2647c37ae337635e6\n",
      "Successfully built moments\n",
      "Installing collected packages: moments\n",
      "Successfully installed moments-2.0\n",
      "\n",
      "\u001b[1m[\u001b[0m\u001b[34;49mnotice\u001b[0m\u001b[1;39;49m]\u001b[0m\u001b[39;49m A new release of pip is available: \u001b[0m\u001b[31;49m24.1.2\u001b[0m\u001b[39;49m -> \u001b[0m\u001b[32;49m24.2\u001b[0m\n",
      "\u001b[1m[\u001b[0m\u001b[34;49mnotice\u001b[0m\u001b[1;39;49m]\u001b[0m\u001b[39;49m To update, run: \u001b[0m\u001b[32;49mpip install --upgrade pip\u001b[0m\n"
     ]
    }
   ],
   "source": [
    "!pip install moments timestamp"
   ]
  },
  {
   "cell_type": "code",
   "execution_count": 2,
   "metadata": {},
   "outputs": [
    {
     "data": {
      "image/png": "[encoded data removed]",
      "text/plain": [
       "<Figure size 640x480 with 1 Axes>"
      ]
     },
     "metadata": {},
     "output_type": "display_data"
    }
   ],
   "source": [
    "input_theta = 10000\n",
    "\n",
    "# Let's define the ground truth parameter values. We will try to recover these values using the moments optimization procedure.\n",
    "\n",
    "sampled_params = {}\n",
    "\n",
    "sampled_params['N0'] = 10000\n",
    "sampled_params['Nb'] = 7000\n",
    "sampled_params['N_recover'] = 9000\n",
    "sampled_params['t_bottleneck_end'] = 400\n",
    "sampled_params['t_bottleneck_start'] = 600\n",
    "\n",
    "\n",
    "nuB = sampled_params['Nb']/sampled_params['N0']\n",
    "nuF = sampled_params['N_recover']/sampled_params['N0']\n",
    "TB = (sampled_params['t_bottleneck_start'] - sampled_params['t_bottleneck_end'])/(2*sampled_params['N0'])\n",
    "TF = sampled_params['t_bottleneck_end']/(2*sampled_params['N0'])\n",
    "\n",
    "params = [nuB, nuF, TB, TF]\n",
    "model_func = moments.Demographics1D.three_epoch\n",
    "model = model_func(params, [200])\n",
    "model = input_theta * model\n",
    "data = model.sample()\n",
    "\n",
    "plt.figure()\n",
    "plt.hist(np.array(data))\n",
    "plt.show()\n",
    "# plt.savefig('bottleneck_sfs.png')\n"
   ]
  },
  {
   "cell_type": "code",
   "execution_count": 3,
   "metadata": {},
   "outputs": [
    {
     "name": "stdout",
     "output_type": "stream",
     "text": [
      "Optimal Parameters: [0.7, 0.9, 0.01, 0.02]\n"
     ]
    }
   ],
   "source": [
    "print(f'Optimal Parameters: {params}')"
   ]
  },
  {
   "cell_type": "code",
   "execution_count": 4,
   "metadata": {},
   "outputs": [
    {
     "name": "stdout",
     "output_type": "stream",
     "text": [
      "20      , -785.741    , array([ 0.987367   ,  0.861425   ,  0.0796225  ,  0.00814635 ])\n",
      "40      , -781.744    , array([ 0.987662   ,  0.820886   ,  0.0790306  ,  0.00808556 ])\n"
     ]
    },
    {
     "name": "stdout",
     "output_type": "stream",
     "text": [
      "60      , -778.398    , array([ 0.987917   ,  0.823786   ,  0.0677761  ,  0.0118469  ])\n",
      "80      , -777.025    , array([ 0.987913   ,  0.823266   ,  0.0634299  ,  0.0170416  ])\n",
      "100     , -774.119    , array([ 0.987862   ,  0.860012   ,  0.0525133  ,  0.0312102  ])\n",
      "120     , -773.991    , array([ 0.987842   ,  0.867409   ,  0.051359   ,  0.0336818  ])\n",
      "140     , -773.99     , array([ 0.987841   ,  0.86771    ,  0.0513572  ,  0.0335046  ])\n",
      "160     , -773.99     , array([ 0.987845   ,  0.867624   ,  0.0513293  ,  0.033465   ])\n",
      "180     , -773.99     , array([ 0.987881   ,  0.867535   ,  0.05098    ,  0.033497   ])\n",
      "200     , -773.988    , array([ 0.988473   ,  0.867777   ,  0.0449352  ,  0.0338737  ])\n",
      "220     , -773.978    , array([ 0.992719   ,  0.868958   ,  0.0183075  ,  0.0362589  ])\n",
      "240     , -773.974    , array([ 0.993756   ,  0.868674   ,  0.0148242  ,  0.0359951  ])\n",
      "260     , -773.972    , array([ 0.997206   ,  0.868669   ,  0.00730406 ,  0.0360192  ])\n",
      "280     , -773.971    , array([ 0.99852    ,  0.868461   ,  0.00558187 ,  0.0360797  ])\n",
      "360     , -773.971    , array([ 0.999999   ,  0.868578   ,  0.00411794 ,  0.0362074  ])\n",
      "380     , -773.971    , array([ 0.999998   ,  0.868584   ,  0.0041175  ,  0.0362129  ])\n",
      "400     , -773.971    , array([ 1          ,  0.86858    ,  0.00411497 ,  0.0362157  ])\n"
     ]
    }
   ],
   "source": [
    "p_guess = [0.75, 0.85, 0.1, 0.01]\n",
    "lower_bound = [0.001, 0.001, 0.001, 0.001]\n",
    "upper_bound = [1, 1, 1, 1]\n",
    "\n",
    "p_guess = moments.Misc.perturb_params(\n",
    "    p_guess, lower_bound=lower_bound, upper_bound=upper_bound, fold = 2)\n",
    "\n",
    "opt_params = moments.Inference.optimize_log_fmin(\n",
    "    p_guess, data, model_func,\n",
    "    lower_bound=lower_bound, upper_bound=upper_bound,\n",
    "    verbose=20) # report every 20 iterations\n"
   ]
  },
  {
   "cell_type": "code",
   "execution_count": 5,
   "metadata": {},
   "outputs": [
    {
     "name": "stdout",
     "output_type": "stream",
     "text": [
      "Found params: [0.99999989 0.86857916 0.00411509 0.03621515]\n",
      "Actual Params: [0.7, 0.9, 0.01, 0.02]\n"
     ]
    }
   ],
   "source": [
    "print(f'Found params: {opt_params}')\n",
    "print(f'Actual Params: {params}')"
   ]
  },
  {
   "cell_type": "code",
   "execution_count": 6,
   "metadata": {},
   "outputs": [],
   "source": [
    "# Bottleneck size, recovery size, TB, TF"
   ]
  },
  {
   "cell_type": "markdown",
   "metadata": {},
   "source": [
    "After suggestion from Andy: define my own demographic model where I am not estimating the bottleneck duration"
   ]
  },
  {
   "cell_type": "code",
   "execution_count": 48,
   "metadata": {},
   "outputs": [],
   "source": [
    "def bottleneck_model(params, ns, pts = 400):\n",
    "    \"\"\"\n",
    "    params = (nuB,nuF,TF)\n",
    "    ns = (n1,)\n",
    "\n",
    "    nuB: Ratio of bottleneck population size to ancient pop size\n",
    "    nuF: Ratio of contemporary to ancient pop size\n",
    "    TF: Time since bottleneck recovery (in units of 2*Na generations) \n",
    "\n",
    "    n1: Number of samples in resulting Spectrum\n",
    "    pts: Number of grid points to use in integration.\n",
    "    \"\"\"\n",
    "    # TB = 0.1\n",
    "    nuB,nuF,TB, TF = params\n",
    "\n",
    "    xx = Numerics.default_grid(pts)\n",
    "    phi = PhiManip.phi_1D(xx)\n",
    "\n",
    "    phi = Integration.one_pop(phi, xx, TB, nuB)\n",
    "    phi = Integration.one_pop(phi, xx, TF, nuF)\n",
    "\n",
    "    fs = Spectrum.from_phi(phi, ns, (xx,))\n",
    "    return fs"
   ]
  },
  {
   "cell_type": "code",
   "execution_count": 49,
   "metadata": {},
   "outputs": [],
   "source": [
    "params = [nuB, nuF, TB, TF]\n"
   ]
  },
  {
   "cell_type": "code",
   "execution_count": 50,
   "metadata": {},
   "outputs": [],
   "source": [
    "data = bottleneck_model(params, [100], 400)"
   ]
  },
  {
   "cell_type": "code",
   "execution_count": 51,
   "metadata": {},
   "outputs": [
    {
     "data": {
      "image/png": "[encoded data removed]",
      "text/plain": [
       "<Figure size 640x480 with 1 Axes>"
      ]
     },
     "metadata": {},
     "output_type": "display_data"
    }
   ],
   "source": [
    "plt.figure()\n",
    "plt.hist(np.array(data))\n",
    "plt.show()"
   ]
  },
  {
   "cell_type": "code",
   "execution_count": 52,
   "metadata": {},
   "outputs": [],
   "source": [
    "p_guess = [0.2, 0.3, 0.05, 0.005]\n",
    "lower_bound = [1e-4, 1e-4, 1e-4, 1e-4]\n",
    "upper_bound = [10, 10, 10, 10]\n",
    "model_func = bottleneck_model\n",
    "\n",
    "p_guess = moments.Misc.perturb_params(\n",
    "    p_guess, lower_bound=lower_bound, upper_bound=upper_bound, fold = 0)\n"
   ]
  },
  {
   "cell_type": "code",
   "execution_count": 53,
   "metadata": {},
   "outputs": [
    {
     "name": "stdout",
     "output_type": "stream",
     "text": [
      "1860    , -13.625     , array([ 1.09326    ,  0.668512   ,  0.0298793  ,  0.00408249 ])\n",
      "1880    , -13.6231    , array([ 0.925704   ,  0.683277   ,  0.0298587  ,  0.00420371 ])\n",
      "1900    , -13.6227    , array([ 0.82602    ,  0.991192   ,  0.0300273  ,  0.00413541 ])\n"
     ]
    }
   ],
   "source": [
    "opt_params = moments.Inference.optimize_log_lbfgsb(\n",
    "    p_guess, data, model_func,\n",
    "    lower_bound=lower_bound, upper_bound=upper_bound,\n",
    "    verbose=20) # report every 20 iterations"
   ]
  },
  {
   "cell_type": "code",
   "execution_count": 54,
   "metadata": {},
   "outputs": [
    {
     "name": "stdout",
     "output_type": "stream",
     "text": [
      "Found params: [0.82529491 0.99765067 0.03003989 0.00414179]\n",
      "Actual Params: [0.7, 0.9, 0.01, 0.02]\n"
     ]
    }
   ],
   "source": [
    "print(f'Found params: {opt_params}')\n",
    "print(f'Actual Params: {params}')"
   ]
  },
  {
   "cell_type": "code",
   "execution_count": 2,
   "metadata": {},
   "outputs": [
    {
     "ename": "ValueError",
     "evalue": "Events must be time-sorted. Please use demography.sort_events()if you add events out of order.",
     "output_type": "error",
     "traceback": [
      "\u001b[0;31m---------------------------------------------------------------------------\u001b[0m",
      "\u001b[0;31mValueError\u001b[0m                                Traceback (most recent call last)",
      "Cell \u001b[0;32mIn[2], line 25\u001b[0m\n\u001b[1;32m     20\u001b[0m demography\u001b[38;5;241m.\u001b[39madd_population_parameters_change(\n\u001b[1;32m     21\u001b[0m     time\u001b[38;5;241m=\u001b[39mbottleneck_end_time, initial_size\u001b[38;5;241m=\u001b[39mpopulation_size_initial, population\u001b[38;5;241m=\u001b[39m\u001b[38;5;124m\"\u001b[39m\u001b[38;5;124mpop\u001b[39m\u001b[38;5;124m\"\u001b[39m\n\u001b[1;32m     22\u001b[0m )\n\u001b[1;32m     24\u001b[0m \u001b[38;5;66;03m# Simulate the population\u001b[39;00m\n\u001b[0;32m---> 25\u001b[0m tree_sequence \u001b[38;5;241m=\u001b[39m \u001b[43mmsprime\u001b[49m\u001b[38;5;241;43m.\u001b[39;49m\u001b[43msim_ancestry\u001b[49m\u001b[43m(\u001b[49m\n\u001b[1;32m     26\u001b[0m \u001b[43m    \u001b[49m\u001b[43msamples\u001b[49m\u001b[38;5;241;43m=\u001b[39;49m\u001b[43msample_size\u001b[49m\u001b[43m,\u001b[49m\n\u001b[1;32m     27\u001b[0m \u001b[43m    \u001b[49m\u001b[43mdemography\u001b[49m\u001b[38;5;241;43m=\u001b[39;49m\u001b[43mdemography\u001b[49m\u001b[43m,\u001b[49m\n\u001b[1;32m     28\u001b[0m \u001b[43m    \u001b[49m\u001b[43msequence_length\u001b[49m\u001b[38;5;241;43m=\u001b[39;49m\u001b[38;5;241;43m1e6\u001b[39;49m\u001b[43m,\u001b[49m\u001b[43m  \u001b[49m\u001b[38;5;66;43;03m# 1 Mbp\u001b[39;49;00m\n\u001b[1;32m     29\u001b[0m \u001b[43m    \u001b[49m\u001b[43mrecombination_rate\u001b[49m\u001b[38;5;241;43m=\u001b[39;49m\u001b[38;5;241;43m1e-8\u001b[39;49m\u001b[43m  \u001b[49m\u001b[38;5;66;43;03m# Recombination rate per base per generation\u001b[39;49;00m\n\u001b[1;32m     30\u001b[0m \u001b[43m)\u001b[49m\n\u001b[1;32m     32\u001b[0m \u001b[38;5;66;03m# Introduce mutations\u001b[39;00m\n\u001b[1;32m     33\u001b[0m mutated_tree_sequence \u001b[38;5;241m=\u001b[39m msprime\u001b[38;5;241m.\u001b[39msim_mutations(\n\u001b[1;32m     34\u001b[0m     tree_sequence, rate\u001b[38;5;241m=\u001b[39m\u001b[38;5;241m1e-8\u001b[39m, model\u001b[38;5;241m=\u001b[39m\u001b[38;5;124m\"\u001b[39m\u001b[38;5;124mbinary\u001b[39m\u001b[38;5;124m\"\u001b[39m\n\u001b[1;32m     35\u001b[0m )\n",
      "File \u001b[0;32m/sietch_colab/akapoor/.venv/lib/python3.10/site-packages/msprime/ancestry.py:1290\u001b[0m, in \u001b[0;36msim_ancestry\u001b[0;34m(samples, demography, sequence_length, discrete_genome, recombination_rate, gene_conversion_rate, gene_conversion_tract_length, population_size, ploidy, model, initial_state, start_time, end_time, record_migrations, record_full_arg, additional_nodes, coalescing_segments_only, num_labels, random_seed, num_replicates, replicate_index, record_provenance)\u001b[0m\n\u001b[1;32m   1265\u001b[0m     parameters \u001b[38;5;241m=\u001b[39m \u001b[38;5;28mdict\u001b[39m(\n\u001b[1;32m   1266\u001b[0m         command\u001b[38;5;241m=\u001b[39m\u001b[38;5;124m\"\u001b[39m\u001b[38;5;124msim_ancestry\u001b[39m\u001b[38;5;124m\"\u001b[39m,\n\u001b[1;32m   1267\u001b[0m         samples\u001b[38;5;241m=\u001b[39msamples,\n\u001b[0;32m   (...)\u001b[0m\n\u001b[1;32m   1287\u001b[0m         \u001b[38;5;66;03m# replicate index is excluded as it is inserted for each replicate\u001b[39;00m\n\u001b[1;32m   1288\u001b[0m     )\n\u001b[1;32m   1289\u001b[0m     provenance_dict \u001b[38;5;241m=\u001b[39m provenance\u001b[38;5;241m.\u001b[39mget_provenance_dict(parameters)\n\u001b[0;32m-> 1290\u001b[0m sim \u001b[38;5;241m=\u001b[39m \u001b[43m_parse_sim_ancestry\u001b[49m\u001b[43m(\u001b[49m\n\u001b[1;32m   1291\u001b[0m \u001b[43m    \u001b[49m\u001b[43msamples\u001b[49m\u001b[38;5;241;43m=\u001b[39;49m\u001b[43msamples\u001b[49m\u001b[43m,\u001b[49m\n\u001b[1;32m   1292\u001b[0m \u001b[43m    \u001b[49m\u001b[43msequence_length\u001b[49m\u001b[38;5;241;43m=\u001b[39;49m\u001b[43msequence_length\u001b[49m\u001b[43m,\u001b[49m\n\u001b[1;32m   1293\u001b[0m \u001b[43m    \u001b[49m\u001b[43mrecombination_rate\u001b[49m\u001b[38;5;241;43m=\u001b[39;49m\u001b[43mrecombination_rate\u001b[49m\u001b[43m,\u001b[49m\n\u001b[1;32m   1294\u001b[0m \u001b[43m    \u001b[49m\u001b[43mgene_conversion_rate\u001b[49m\u001b[38;5;241;43m=\u001b[39;49m\u001b[43mgene_conversion_rate\u001b[49m\u001b[43m,\u001b[49m\n\u001b[1;32m   1295\u001b[0m \u001b[43m    \u001b[49m\u001b[43mgene_conversion_tract_length\u001b[49m\u001b[38;5;241;43m=\u001b[39;49m\u001b[43mgene_conversion_tract_length\u001b[49m\u001b[43m,\u001b[49m\n\u001b[1;32m   1296\u001b[0m \u001b[43m    \u001b[49m\u001b[43mdiscrete_genome\u001b[49m\u001b[38;5;241;43m=\u001b[39;49m\u001b[43mdiscrete_genome\u001b[49m\u001b[43m,\u001b[49m\n\u001b[1;32m   1297\u001b[0m \u001b[43m    \u001b[49m\u001b[43mpopulation_size\u001b[49m\u001b[38;5;241;43m=\u001b[39;49m\u001b[43mpopulation_size\u001b[49m\u001b[43m,\u001b[49m\n\u001b[1;32m   1298\u001b[0m \u001b[43m    \u001b[49m\u001b[43mdemography\u001b[49m\u001b[38;5;241;43m=\u001b[39;49m\u001b[43mdemography\u001b[49m\u001b[43m,\u001b[49m\n\u001b[1;32m   1299\u001b[0m \u001b[43m    \u001b[49m\u001b[43mploidy\u001b[49m\u001b[38;5;241;43m=\u001b[39;49m\u001b[43mploidy\u001b[49m\u001b[43m,\u001b[49m\n\u001b[1;32m   1300\u001b[0m \u001b[43m    \u001b[49m\u001b[43mmodel\u001b[49m\u001b[38;5;241;43m=\u001b[39;49m\u001b[43mmodel\u001b[49m\u001b[43m,\u001b[49m\n\u001b[1;32m   1301\u001b[0m \u001b[43m    \u001b[49m\u001b[43minitial_state\u001b[49m\u001b[38;5;241;43m=\u001b[39;49m\u001b[43minitial_state\u001b[49m\u001b[43m,\u001b[49m\n\u001b[1;32m   1302\u001b[0m \u001b[43m    \u001b[49m\u001b[43mstart_time\u001b[49m\u001b[38;5;241;43m=\u001b[39;49m\u001b[43mstart_time\u001b[49m\u001b[43m,\u001b[49m\n\u001b[1;32m   1303\u001b[0m \u001b[43m    \u001b[49m\u001b[43mend_time\u001b[49m\u001b[38;5;241;43m=\u001b[39;49m\u001b[43mend_time\u001b[49m\u001b[43m,\u001b[49m\n\u001b[1;32m   1304\u001b[0m \u001b[43m    \u001b[49m\u001b[43mrecord_migrations\u001b[49m\u001b[38;5;241;43m=\u001b[39;49m\u001b[43mrecord_migrations\u001b[49m\u001b[43m,\u001b[49m\n\u001b[1;32m   1305\u001b[0m \u001b[43m    \u001b[49m\u001b[43mrecord_full_arg\u001b[49m\u001b[38;5;241;43m=\u001b[39;49m\u001b[43mrecord_full_arg\u001b[49m\u001b[43m,\u001b[49m\n\u001b[1;32m   1306\u001b[0m \u001b[43m    \u001b[49m\u001b[43madditional_nodes\u001b[49m\u001b[38;5;241;43m=\u001b[39;49m\u001b[43madditional_nodes\u001b[49m\u001b[43m,\u001b[49m\n\u001b[1;32m   1307\u001b[0m \u001b[43m    \u001b[49m\u001b[43mcoalescing_segments_only\u001b[49m\u001b[38;5;241;43m=\u001b[39;49m\u001b[43mcoalescing_segments_only\u001b[49m\u001b[43m,\u001b[49m\n\u001b[1;32m   1308\u001b[0m \u001b[43m    \u001b[49m\u001b[43mnum_labels\u001b[49m\u001b[38;5;241;43m=\u001b[39;49m\u001b[43mnum_labels\u001b[49m\u001b[43m,\u001b[49m\n\u001b[1;32m   1309\u001b[0m \u001b[43m    \u001b[49m\u001b[43mrandom_seed\u001b[49m\u001b[38;5;241;43m=\u001b[39;49m\u001b[43mrandom_seed\u001b[49m\u001b[43m,\u001b[49m\n\u001b[1;32m   1310\u001b[0m \u001b[43m\u001b[49m\u001b[43m)\u001b[49m\n\u001b[1;32m   1311\u001b[0m \u001b[38;5;28;01mreturn\u001b[39;00m _wrap_replicates(\n\u001b[1;32m   1312\u001b[0m     sim,\n\u001b[1;32m   1313\u001b[0m     num_replicates\u001b[38;5;241m=\u001b[39mnum_replicates,\n\u001b[1;32m   1314\u001b[0m     replicate_index\u001b[38;5;241m=\u001b[39mreplicate_index,\n\u001b[1;32m   1315\u001b[0m     provenance_dict\u001b[38;5;241m=\u001b[39mprovenance_dict,\n\u001b[1;32m   1316\u001b[0m )\n",
      "File \u001b[0;32m/sietch_colab/akapoor/.venv/lib/python3.10/site-packages/msprime/ancestry.py:1031\u001b[0m, in \u001b[0;36m_parse_sim_ancestry\u001b[0;34m(samples, sequence_length, recombination_rate, gene_conversion_rate, gene_conversion_tract_length, discrete_genome, population_size, demography, ploidy, model, initial_state, start_time, end_time, record_migrations, record_full_arg, additional_nodes, coalescing_segments_only, num_labels, random_seed, init_for_debugger)\u001b[0m\n\u001b[1;32m   1029\u001b[0m \u001b[38;5;28;01melse\u001b[39;00m:\n\u001b[1;32m   1030\u001b[0m     \u001b[38;5;28;01mraise\u001b[39;00m \u001b[38;5;167;01mTypeError\u001b[39;00m(\u001b[38;5;124m\"\u001b[39m\u001b[38;5;124mdemography argument must be an instance of msprime.Demography\u001b[39m\u001b[38;5;124m\"\u001b[39m)\n\u001b[0;32m-> 1031\u001b[0m demography \u001b[38;5;241m=\u001b[39m \u001b[43mdemography\u001b[49m\u001b[38;5;241;43m.\u001b[39;49m\u001b[43mvalidate\u001b[49m\u001b[43m(\u001b[49m\u001b[43m)\u001b[49m\n\u001b[1;32m   1033\u001b[0m \u001b[38;5;28;01mif\u001b[39;00m initial_state \u001b[38;5;129;01mis\u001b[39;00m \u001b[38;5;28;01mNone\u001b[39;00m:\n\u001b[1;32m   1034\u001b[0m     \u001b[38;5;28;01mif\u001b[39;00m samples \u001b[38;5;129;01mis\u001b[39;00m \u001b[38;5;28;01mNone\u001b[39;00m \u001b[38;5;129;01mand\u001b[39;00m \u001b[38;5;129;01mnot\u001b[39;00m init_for_debugger:\n",
      "File \u001b[0;32m/sietch_colab/akapoor/.venv/lib/python3.10/site-packages/msprime/demography.py:1023\u001b[0m, in \u001b[0;36mDemography.validate\u001b[0;34m(self)\u001b[0m\n\u001b[1;32m   1021\u001b[0m     \u001b[38;5;28;01mif\u001b[39;00m last_event \u001b[38;5;129;01mis\u001b[39;00m \u001b[38;5;129;01mnot\u001b[39;00m \u001b[38;5;28;01mNone\u001b[39;00m:\n\u001b[1;32m   1022\u001b[0m         \u001b[38;5;28;01mif\u001b[39;00m last_event\u001b[38;5;241m.\u001b[39mtime \u001b[38;5;241m>\u001b[39m event\u001b[38;5;241m.\u001b[39mtime:\n\u001b[0;32m-> 1023\u001b[0m             \u001b[38;5;28;01mraise\u001b[39;00m \u001b[38;5;167;01mValueError\u001b[39;00m(\n\u001b[1;32m   1024\u001b[0m                 \u001b[38;5;124m\"\u001b[39m\u001b[38;5;124mEvents must be time-sorted. Please use demography.sort_events()\u001b[39m\u001b[38;5;124m\"\u001b[39m\n\u001b[1;32m   1025\u001b[0m                 \u001b[38;5;124m\"\u001b[39m\u001b[38;5;124mif you add events out of order.\u001b[39m\u001b[38;5;124m\"\u001b[39m\n\u001b[1;32m   1026\u001b[0m             )\n\u001b[1;32m   1027\u001b[0m     last_event \u001b[38;5;241m=\u001b[39m event\n\u001b[1;32m   1028\u001b[0m resolved \u001b[38;5;241m=\u001b[39m copy\u001b[38;5;241m.\u001b[39mdeepcopy(\u001b[38;5;28mself\u001b[39m)\n",
      "\u001b[0;31mValueError\u001b[0m: Events must be time-sorted. Please use demography.sort_events()if you add events out of order."
     ]
    }
   ],
   "source": [
    "import msprime\n",
    "import tskit\n",
    "\n",
    "# Define the simulation parameters\n",
    "population_size_initial = 10000\n",
    "population_size_bottleneck = 1000\n",
    "bottleneck_start_time = 0.05  # 0.05 * 4Ne generations ago\n",
    "bottleneck_end_time = 0.03    # 0.03 * 4Ne generations ago\n",
    "sample_size = 100\n",
    "num_generations = 10  # number of generations post-bottleneck\n",
    "\n",
    "# Define a demographic event sequence\n",
    "demography = msprime.Demography()\n",
    "demography.add_population(name=\"pop\", initial_size=population_size_initial)\n",
    "\n",
    "# Add a bottleneck event\n",
    "demography.add_population_parameters_change(\n",
    "    time=bottleneck_start_time, initial_size=population_size_bottleneck, population=\"pop\"\n",
    ")\n",
    "demography.add_population_parameters_change(\n",
    "    time=bottleneck_end_time, initial_size=population_size_initial, population=\"pop\"\n",
    ")\n",
    "\n",
    "# Simulate the population\n",
    "tree_sequence = msprime.sim_ancestry(\n",
    "    samples=sample_size,\n",
    "    demography=demography,\n",
    "    sequence_length=1e6,  # 1 Mbp\n",
    "    recombination_rate=1e-8  # Recombination rate per base per generation\n",
    ")\n",
    "\n",
    "# Introduce mutations\n",
    "mutated_tree_sequence = msprime.sim_mutations(\n",
    "    tree_sequence, rate=1e-8, model=\"binary\"\n",
    ")\n",
    "\n",
    "# Save the tree sequence to a VCF file\n",
    "with open(\"bottleneck_simulation.vcf\", \"w\") as vcf_file:\n",
    "    mutated_tree_sequence.write_vcf(vcf_file)\n",
    "\n",
    "print(\"VCF file generated: bottleneck_simulation.vcf\")"
   ]
  },
  {
   "cell_type": "code",
   "execution_count": null,
   "metadata": {},
   "outputs": [],
   "source": []
  }
 ],
 "metadata": {
  "kernelspec": {
   "display_name": "myenv",
   "language": "python",
   "name": "python3"
  },
  "language_info": {
   "codemirror_mode": {
    "name": "ipython",
    "version": 3
   },
   "file_extension": ".py",
   "mimetype": "text/x-python",
   "name": "python",
   "nbconvert_exporter": "python",
   "pygments_lexer": "ipython3",
   "version": "3.10.12"
  }
 },
 "nbformat": 4,
 "nbformat_minor": 2
}
