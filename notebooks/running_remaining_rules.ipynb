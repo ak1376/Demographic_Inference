{
 "cells": [
  {
   "cell_type": "markdown",
   "metadata": {},
   "source": [
    "# Postprocessing and Model Building"
   ]
  },
  {
   "cell_type": "code",
   "execution_count": 1,
   "metadata": {},
   "outputs": [],
   "source": [
    "import os\n",
    "import pickle\n",
    "import json"
   ]
  },
  {
   "cell_type": "code",
   "execution_count": 6,
   "metadata": {},
   "outputs": [],
   "source": [
    "CONFIG_FILEPATH = '/sietch_colab/akapoor/Demographic_Inference/experiment_config.json'\n",
    "MODEL_CONFIG_FILEPATH = '/sietch_colab/akapoor/Demographic_Inference/model_config.json'\n",
    "\n",
    "with open(CONFIG_FILEPATH, 'r') as f:\n",
    "   experiment_config = json.load(f)\n",
    "\n",
    "with open(MODEL_CONFIG_FILEPATH, 'r') as f:\n",
    "   model_config = json.load(f)\n",
    "\n",
    "\n",
    "CWD = os.getcwd()\n",
    "\n",
    "# Use double quotes for the dictionary keys inside the f-string\n",
    "EXPERIMENT_DIRECTORY = f\"{experiment_config['demographic_model']}_dadi_analysis_{experiment_config['dadi_analysis']}_moments_analysis_{experiment_config['moments_analysis']}_momentsLD_analysis_{experiment_config['momentsLD_analysis']}_seed_{experiment_config['seed']}\"\n",
    "EXPERIMENT_NAME = f'sims_pretrain_{experiment_config[\"num_sims_pretrain\"]}_sims_inference_{experiment_config[\"num_sims_inference\"]}_seed_{experiment_config[\"seed\"]}_num_replicates_{experiment_config[\"k\"]}_top_values_{experiment_config[\"top_values_k\"]}'\n",
    "SIM_DIRECTORY = f\"{EXPERIMENT_DIRECTORY}/sims/{EXPERIMENT_NAME}\"\n",
    "\n",
    "# Check if hidden_size is a list, and if so, join the elements with \"_\"\n",
    "hidden_size = model_config['neural_net_hyperparameters']['hidden_size']\n",
    "if isinstance(hidden_size, list):\n",
    "    hidden_size_str = \"_\".join(map(str, hidden_size))  # Join list elements with \"_\"\n",
    "else:\n",
    "    hidden_size_str = str(hidden_size)  # Convert integer to string if not a list\n",
    "\n",
    "# Build the MODEL_DIRECTORY string\n",
    "MODEL_DIRECTORY = (\n",
    "    f\"{EXPERIMENT_DIRECTORY}/models/{EXPERIMENT_NAME}/\"\n",
    "    f\"num_hidden_neurons_{hidden_size_str}_\"\n",
    "    f\"num_hidden_layers_{model_config['neural_net_hyperparameters']['num_layers']}_\"\n",
    "    f\"num_epochs_{model_config['neural_net_hyperparameters']['num_epochs']}_\"\n",
    "    f\"dropout_value_{model_config['neural_net_hyperparameters']['dropout_rate']}_\"\n",
    "    f\"weight_decay_{model_config['neural_net_hyperparameters']['weight_decay']}_\"\n",
    "    f\"batch_size_{model_config['neural_net_hyperparameters']['batch_size']}_\"\n",
    "    f\"EarlyStopping_{model_config['neural_net_hyperparameters']['EarlyStopping']}\"\n",
    ")\n"
   ]
  },
  {
   "cell_type": "code",
   "execution_count": 8,
   "metadata": {},
   "outputs": [],
   "source": [
    "os.chdir('/sietch_colab/akapoor/Demographic_Inference/')\n",
    "os.environ['PYTHONPATH'] = '/sietch_colab/akapoor/Demographic_Inference:' + os.environ.get('PYTHONPATH', '')"
   ]
  },
  {
   "cell_type": "markdown",
   "metadata": {},
   "source": [
    "## Postprocessing"
   ]
  },
  {
   "cell_type": "code",
   "execution_count": 14,
   "metadata": {},
   "outputs": [
    {
     "name": "stdout",
     "output_type": "stream",
     "text": [
      "\n",
      "Processing training data:\n",
      "===> Normalizing the data.\n",
      "\n",
      "Processing validation data:\n",
      "===> Normalizing the data.\n",
      "Postprocessing dict keys: dict_keys(['normalization', 'predictions', 'normalized_predictions', 'targets', 'normalized_targets'])\n",
      "Postprocessing complete!\n"
     ]
    }
   ],
   "source": [
    "!python /projects/kernlab/akapoor/Demographic_Inference/snakemake_scripts/postprocessing.py \\\n",
    "    --config_file $CONFIG_FILEPATH \\\n",
    "    --training_features_filepath $SIM_DIRECTORY/training_features.csv \\\n",
    "    --training_targets_filepath $SIM_DIRECTORY/training_targets.csv \\\n",
    "    --validation_features_filepath $SIM_DIRECTORY/validation_features.csv \\\n",
    "    --validation_targets_filepath $SIM_DIRECTORY/validation_targets.csv \\\n",
    "    --sim_directory $SIM_DIRECTORY\n"
   ]
  },
  {
   "cell_type": "markdown",
   "metadata": {},
   "source": [
    "## Extracting Features"
   ]
  },
  {
   "cell_type": "code",
   "execution_count": 15,
   "metadata": {},
   "outputs": [
    {
     "name": "stdout",
     "output_type": "stream",
     "text": [
      "dict_keys(['parameter_names', 'target_names', 'training', 'validation'])\n",
      "Training features shape: (3103, 40)\n",
      "Validation features shape: (776, 40)\n",
      "Training targets shape: (3103, 4)\n",
      "Validation targets shape: (776, 4)\n"
     ]
    }
   ],
   "source": [
    "!python /projects/kernlab/akapoor/Demographic_Inference/snakemake_scripts/extracting_features.py \\\n",
    " --postprocessing_results_filepath $SIM_DIRECTORY/postprocessing_results.pkl \\\n",
    " --sim_directory $SIM_DIRECTORY"
   ]
  },
  {
   "cell_type": "markdown",
   "metadata": {},
   "source": [
    "## Linear Evaluation"
   ]
  },
  {
   "cell_type": "code",
   "execution_count": 16,
   "metadata": {},
   "outputs": [
    {
     "name": "stdout",
     "output_type": "stream",
     "text": [
      "Model directory created/verified: split_isolation_model_dadi_analysis_True_moments_analysis_True_momentsLD_analysis_True_seed_42/models/sims_pretrain_5000_sims_inference_1_seed_42_num_replicates_3_top_values_2/num_hidden_neurons_10_num_hidden_layers_2_num_epochs_500_dropout_value_0_weight_decay_0_batch_size_64_EarlyStopping_False\n",
      "PREDICTIONS SHAPE TRAINING: (3103, 4)\n",
      "[3.08548473e-05 1.14525216e-04 7.21379959e-04 ... 2.96558599e-04\n",
      " 1.72751430e-04 6.03199257e-05]\n",
      "[6.94621886e-05 1.41237977e-03 2.47863429e-04 1.72926016e-04\n",
      " 5.77620747e-05 1.16029247e-03 1.55734685e-04 4.93573187e-04\n",
      " 8.30986923e-05 3.57659474e-05 5.29262691e-05 3.50000583e-04\n",
      " 3.42143690e-04 3.08402507e-04 1.97795924e-04 1.11603769e-04\n",
      " 1.88107945e-05 9.48969216e-05 1.79246817e-04 2.31868951e-04\n",
      " 3.30283735e-04 9.36469816e-05 3.08923629e-04 1.18480510e-04\n",
      " 1.65949850e-04 1.51422087e-04 2.28568966e-04 2.04515440e-04\n",
      " 7.50176120e-04 4.42887717e-05 6.05288305e-04 3.37282426e-04\n",
      " 6.25937024e-05 3.05644727e-05 3.35459335e-05 8.50583714e-05\n",
      " 7.85469251e-05 4.30285307e-05 3.07312878e-04 5.26665401e-05\n",
      " 2.25701608e-03 2.82792258e-03 1.86164737e-04 7.58615337e-05\n",
      " 2.90028812e-05 1.58492329e-04 1.01216371e-04 2.23447386e-04\n",
      " 1.88340105e-04 7.25976094e-05 5.37531050e-05 1.15025100e-04\n",
      " 2.78024018e-05 1.07800997e-04 5.43047744e-05 4.41611110e-04\n",
      " 3.62550412e-05 3.71085539e-04 3.54896716e-04 5.20572974e-04\n",
      " 2.90019638e-04 9.75236880e-04 1.08869550e-04 1.46528754e-04\n",
      " 2.89867647e-05 2.79028984e-05 1.17861769e-03 2.53683901e-04\n",
      " 1.08168963e-04 5.02893816e-04 6.33980915e-05 6.24477240e-05\n",
      " 1.09378023e-04 4.83705137e-03 2.62726926e-04 2.40988565e-04\n",
      " 8.48226632e-05 2.07044303e-04 2.39842794e-05 9.39921288e-05\n",
      " 1.35815794e-03 4.17275554e-05 1.56174319e-04 4.14321357e-04\n",
      " 2.46782483e-04 2.64828998e-04 8.57117585e-04 1.04858244e-04\n",
      " 2.77344682e-05 5.66141338e-06 7.57242894e-04 1.23285160e-04\n",
      " 8.42050377e-05 5.68732752e-04 1.37586272e-04 4.15692220e-04\n",
      " 2.03883178e-04 1.41496867e-03 5.14787745e-05 1.04809170e-04\n",
      " 6.29253893e-05 6.56658145e-05 4.06132242e-04 1.71724528e-04\n",
      " 1.54266046e-05 1.89837135e-04 7.04289972e-05 3.69967712e-04\n",
      " 5.90434306e-04 2.28993939e-04 1.04177244e-04 2.01768044e-04\n",
      " 3.55500710e-04 5.95279822e-04 2.87431880e-05 3.36569459e-04\n",
      " 4.17370075e-06 2.75855851e-04 1.17131628e-05 2.78090692e-05\n",
      " 2.13071528e-04 1.39523555e-04 1.99983890e-05 3.00789777e-04\n",
      " 1.36316790e-03 5.90725386e-05 8.29501802e-05 1.30387996e-02\n",
      " 1.85122995e-04 4.44548802e-04 2.07760960e-04 9.07737923e-05\n",
      " 1.74771664e-04 2.07047794e-05 1.47651346e-04 5.49388411e-05\n",
      " 3.51078518e-04 2.44346452e-04 3.26426450e-04 3.92668257e-04\n",
      " 8.48899301e-05 1.89583996e-04 2.92917044e-04 3.33822928e-04\n",
      " 1.06710114e-04 1.62818680e-04 2.49799044e-04 9.89358477e-04\n",
      " 1.95679547e-04 3.51237134e-05 1.88196477e-04 1.70497527e-04\n",
      " 2.71141315e-05 2.74031384e-04 2.39780894e-04 2.37398724e-04\n",
      " 6.75321003e-04 1.86405184e-04 7.18424359e-05 2.74687951e-05\n",
      " 3.92577346e-04 5.63063797e-05 4.28120668e-05 3.39557708e-04\n",
      " 3.82143826e-04 1.47712710e-04 5.53278067e-04 9.37141516e-05\n",
      " 7.91747183e-05 3.16877642e-04 2.00182272e-04 7.82450793e-05\n",
      " 5.56560805e-05 5.45751358e-05 2.24628548e-04 3.26168431e-05\n",
      " 1.85210718e-04 3.03851026e-04 8.07617802e-05 8.98483216e-05\n",
      " 7.17412927e-04 4.99728787e-04 2.37708065e-04 3.56947111e-04\n",
      " 4.31526821e-04 2.94633859e-05 1.01626230e-04 5.85265021e-05\n",
      " 5.86642025e-05 1.80309226e-04 2.83914823e-04 1.06417737e-04\n",
      " 9.75620554e-05 1.76715975e-04 1.09285114e-04 1.56207960e-04\n",
      " 4.27676005e-05 4.13448887e-04 1.16306566e-04 8.09472610e-05\n",
      " 1.05260543e-04 4.44054412e-04 2.91895072e-03 1.34035722e-04\n",
      " 2.60392982e-05 5.98252690e-05 2.13236783e-04 3.57595516e-04\n",
      " 1.50555948e-04 1.64399788e-03 1.13418504e-04 6.30537748e-05\n",
      " 1.59440368e-04 2.94454000e-04 1.52335986e-04 7.69064248e-05\n",
      " 9.09910306e-04 5.95802087e-05 2.05866109e-04 3.21880201e-04\n",
      " 1.53271084e-04 3.31613262e-04 8.69407367e-05 4.93640931e-05\n",
      " 1.23733459e-05 7.50637242e-06 3.02198765e-04 1.22690725e-05\n",
      " 1.05786693e-04 1.47297392e-04 1.89600269e-04 9.41130915e-05\n",
      " 5.28588290e-04 5.05346026e-04 2.64125717e-04 1.15964024e-04\n",
      " 4.91325096e-05 4.32772422e-04 4.02331236e-04 7.24013784e-05\n",
      " 2.17915080e-04 1.49155534e-04 1.67525916e-04 6.98368612e-05\n",
      " 1.24245878e-05 1.57654453e-04 1.97021357e-04 8.16770592e-05\n",
      " 1.07404611e-04 1.06988955e-04 3.26629333e-04 4.55386926e-05\n",
      " 2.95712349e-03 4.28669142e-05 7.42383335e-05 1.79053427e-06\n",
      " 2.86744696e-04 4.25779514e-06 1.69138843e-04 3.13730607e-04\n",
      " 1.10638582e-04 4.39638494e-05 8.04624733e-04 4.42342916e-04\n",
      " 9.15324394e-05 8.95046694e-05 5.42642853e-04 7.75355846e-04\n",
      " 4.04520364e-04 9.35080763e-05 1.93690904e-04 4.55360563e-04\n",
      " 3.78913282e-05 6.65337102e-04 1.02227450e-04 1.01738900e-04\n",
      " 2.43975748e-05 2.65446899e-04 2.33575922e-04 7.95723613e-04\n",
      " 2.40109839e-04 4.67127607e-05 6.29397523e-06 8.97909981e-05\n",
      " 2.32146190e-04 1.85558136e-04 1.52321501e-04 1.44939567e-04\n",
      " 3.84956423e-04 2.10321968e-04 9.02772477e-04 1.35145613e-04\n",
      " 1.75841447e-04 2.13500107e-05 2.60086162e-04 1.15942106e-04\n",
      " 1.22874565e-04 1.10462719e-04 3.13533369e-04 7.10261291e-05\n",
      " 1.24090185e-04 1.13688689e-04 1.90150696e-04 5.88614061e-04\n",
      " 2.90010072e-05 4.35433373e-05 1.21293900e-04 6.04991079e-04\n",
      " 1.89802065e-04 1.90115236e-04 4.45759578e-05 1.88157141e-04\n",
      " 1.12591698e-04 3.95256786e-05 4.48049900e-04 8.29812191e-04\n",
      " 5.16684536e-05 1.84264399e-04 6.79416279e-04 1.78241734e-04\n",
      " 6.03543198e-05 6.02616744e-05 9.33796062e-05 6.84906052e-04\n",
      " 6.46876681e-05 1.20829761e-04 1.29828230e-04 5.47178179e-04\n",
      " 1.83110167e-04 3.37050557e-04 8.73258137e-05 2.22052284e-04\n",
      " 3.16233319e-04 8.02111057e-04 1.08823088e-04 1.70507304e-04\n",
      " 8.33283598e-05 1.17909852e-04 2.36460924e-04 8.14699733e-05\n",
      " 3.32494451e-04 8.84787273e-05 2.82767767e-04 1.73998569e-04\n",
      " 2.70078523e-05 5.00644866e-04 9.32686570e-05 7.06747794e-05\n",
      " 6.61583144e-05 4.81608192e-06 2.80918621e-05 2.68256314e-04\n",
      " 6.19588173e-05 3.58039651e-04 2.77899737e-04 5.95606989e-05\n",
      " 1.58888892e-04 2.83727858e-05 1.38318380e-04 3.81309550e-04\n",
      " 3.13732507e-04 2.07293098e-04 3.32496198e-04 1.89437933e-04\n",
      " 2.79554195e-03 2.43702541e-04 7.88962772e-04 2.35951995e-04\n",
      " 5.64449938e-04 1.15552638e-04 1.67381105e-04 6.52760136e-05\n",
      " 5.49816928e-05 1.84729499e-04 5.40371894e-05 3.62341778e-04\n",
      " 3.21905960e-04 6.04668398e-04 8.59999513e-05 7.66461200e-05\n",
      " 1.50487042e-04 1.34418626e-04 1.26201765e-04 7.33765393e-05\n",
      " 2.65069764e-04 2.63128698e-04 5.55725553e-05 2.31498521e-04\n",
      " 7.65753268e-05 3.72148059e-05 3.09642177e-04 1.05918036e-04\n",
      " 2.32811517e-04 3.07428288e-05 3.00370232e-04 1.49038910e-04\n",
      " 2.28470441e-04 6.20591952e-06 1.86089051e-04 7.53849191e-04\n",
      " 6.48767393e-05 7.13274938e-05 3.05960724e-04 2.72352685e-04\n",
      " 2.07459239e-04 1.19884909e-04 1.45079631e-04 4.96263841e-05\n",
      " 1.91736219e-04 2.02567601e-04 1.24573025e-05 3.86665028e-04\n",
      " 2.54012810e-05 3.30662307e-05 5.98413480e-04 1.36147529e-04\n",
      " 3.86740710e-04 5.45839523e-03 4.51701085e-04 1.68881912e-04\n",
      " 6.81285897e-05 4.34324703e-05 1.28684300e-04 7.12442106e-05\n",
      " 2.41286071e-05 3.78565890e-04 1.40403058e-04 7.45512185e-05\n",
      " 2.16441614e-04 2.75505093e-05 5.61037720e-05 3.62969059e-04\n",
      " 4.57749185e-04 1.45868777e-04 2.13017408e-05 4.49274373e-04\n",
      " 3.20567606e-05 4.90342791e-05 1.75066865e-04 1.42422716e-04\n",
      " 4.93484137e-05 7.98232545e-04 8.40063068e-05 2.81620268e-04\n",
      " 1.40632734e-05 3.83198323e-05 8.25894992e-04 2.83436972e-04\n",
      " 8.55552344e-05 1.49824483e-04 1.30915402e-04 2.41931676e-04\n",
      " 1.44635510e-04 4.32807135e-05 6.02260270e-05 5.90082083e-04\n",
      " 1.22624387e-03 8.30497011e-05 4.03247775e-04 2.57183074e-04\n",
      " 9.09144258e-05 2.21007052e-05 4.30317654e-04 6.20333303e-04\n",
      " 1.91042170e-05 5.04443898e-04 1.43647970e-04 2.50101657e-04\n",
      " 1.33760805e-05 5.86114883e-05 3.83336769e-05 1.00452877e-04\n",
      " 1.27432615e-04 2.76040098e-04 4.92833698e-05 2.25910496e-05\n",
      " 2.09034016e-04 2.78851341e-04 6.29558841e-04 1.02357067e-04\n",
      " 6.90937325e-04 1.09669739e-04 9.18618566e-05 8.56979870e-05\n",
      " 5.42658401e-04 3.18453639e-04 3.10197363e-04 3.85193018e-05\n",
      " 8.43317341e-05 3.03696749e-04 6.28274128e-04 2.14956093e-04\n",
      " 9.46268869e-04 3.95978623e-04 2.07825760e-04 7.12218536e-06\n",
      " 1.93987284e-04 5.09296495e-05 7.53707697e-05 6.48517395e-05\n",
      " 2.37480579e-04 4.75281433e-04 3.97559726e-04 1.80885278e-04\n",
      " 1.06345801e-03 4.57239281e-04 2.32277249e-04 2.50819496e-05\n",
      " 4.68030795e-05 7.21007802e-05 1.20360755e-04 6.13293600e-04\n",
      " 4.50677349e-04 2.85182518e-05 8.10981278e-05 6.48495327e-05\n",
      " 1.49775733e-05 6.53305359e-05 3.90330442e-05 9.83397960e-05\n",
      " 9.99500808e-05 1.74979354e-04 3.77141844e-04 9.09348748e-05\n",
      " 2.53991333e-04 4.58372887e-05 4.32592391e-04 5.81784972e-05\n",
      " 1.38488276e-04 2.78406482e-04 3.84431471e-04 7.78507042e-05\n",
      " 1.05404234e-04 1.10327879e-04 6.09174900e-05 1.74826183e-04\n",
      " 7.18113877e-05 1.01646229e-04 4.24302864e-04 1.91074894e-04\n",
      " 3.62028750e-04 7.89274728e-04 2.48987369e-04 2.99134310e-04\n",
      " 1.25844260e-05 6.20186157e-04 7.76555702e-05 7.69943431e-05\n",
      " 6.64094473e-05 2.14764684e-04 2.34904469e-04 1.29659340e-04\n",
      " 1.44949455e-04 2.04986527e-04 7.60088299e-04 1.28298923e-03\n",
      " 4.22934704e-04 2.34623455e-03 2.05317510e-03 2.87280994e-05\n",
      " 3.15029271e-04 6.26454351e-05 5.14706220e-05 1.86142663e-04\n",
      " 2.71584203e-05 7.76826773e-05 1.60942611e-03 3.59431610e-04\n",
      " 7.96777721e-05 3.09303289e-04 4.22503244e-04 3.28509597e-04\n",
      " 6.01009003e-05 7.47736604e-05 2.80905473e-04 6.31596033e-05\n",
      " 5.28363746e-04 4.44802620e-04 3.99622072e-04 2.37133240e-04\n",
      " 4.11762450e-04 1.46911214e-04 1.22648924e-04 2.32206942e-04\n",
      " 5.03126536e-05 2.29886019e-04 3.62210614e-05 2.19311374e-04\n",
      " 2.36881823e-05 5.38915208e-04 4.59557756e-05 3.91838302e-04\n",
      " 4.17896096e-05 3.98213004e-04 1.28500522e-04 3.19218962e-05\n",
      " 1.61238185e-04 2.52070820e-04 1.23335985e-04 1.71144786e-04\n",
      " 4.96296478e-05 4.60556301e-04 9.33645601e-06 4.10882038e-05\n",
      " 1.39597431e-04 6.30763608e-04 1.59507844e-04 1.99132659e-04\n",
      " 4.51609273e-05 7.60846450e-06 1.02899702e-04 2.59345905e-04\n",
      " 1.45760978e-03 2.23983620e-04 8.01196615e-05 1.51255116e-04\n",
      " 2.84941639e-04 1.64058116e-04 1.18948784e-03 1.97531259e-04\n",
      " 5.94551342e-04 2.03155228e-04 4.80585434e-05 1.10228236e-05\n",
      " 1.38021394e-04 2.35711710e-04 2.60357690e-04 7.67189517e-04\n",
      " 3.74984476e-04 2.30900688e-04 8.31411795e-05 7.51883853e-05\n",
      " 8.40861435e-05 6.14601060e-06 3.06837675e-04 3.69991775e-03\n",
      " 3.02400886e-04 3.98884992e-04 6.85702835e-05 2.38345505e-04\n",
      " 9.27597438e-05 2.62479596e-04 6.54824492e-05 1.36263816e-04\n",
      " 6.65012963e-04 1.40208544e-03 8.67370619e-06 1.26811620e-03\n",
      " 2.71952475e-04 1.11870912e-04 4.39859842e-04 3.91495248e-05\n",
      " 5.63446739e-04 7.26523363e-05 9.12157694e-04 3.07826514e-04\n",
      " 1.36465189e-05 1.48394171e-04 3.09971545e-04 6.61375719e-04\n",
      " 2.23688220e-04 3.21867803e-04 1.32343635e-04 4.07151144e-05\n",
      " 8.10552677e-04 1.66788725e-04 1.50385532e-04 2.31588249e-04\n",
      " 6.91779112e-05 3.52431908e-04 2.42793574e-04 4.06973860e-04\n",
      " 8.05788590e-04 3.04778523e-05 1.46310820e-04 7.88987417e-05\n",
      " 9.62750293e-05 1.08320708e-03 9.45148450e-05 3.41099646e-04\n",
      " 4.89622108e-04 4.64202176e-05 1.38199242e-04 1.78617461e-04\n",
      " 3.21298923e-05 9.02202475e-05 5.35738175e-06 1.68974003e-05\n",
      " 4.19636908e-04 4.03180588e-05 3.24466164e-04 1.03206146e-04\n",
      " 4.33952551e-05 5.49914891e-04 7.49728387e-04 2.06460111e-02\n",
      " 4.45094630e-05 1.99893915e-04 4.15994211e-04 2.87074709e-04\n",
      " 3.21959620e-04 5.17718228e-05 9.81317537e-05 1.03689279e-03\n",
      " 1.43651275e-04 7.92990403e-05 1.01457591e-04 8.79145627e-05\n",
      " 1.96032140e-04 4.71962227e-04 2.16089746e-04 1.56358498e-04\n",
      " 1.48026698e-04 2.29895062e-04 3.00197339e-04 4.64094086e-04\n",
      " 2.49650950e-04 4.78485788e-05 1.53088699e-04 8.51044650e-03\n",
      " 9.10205823e-05 3.26239771e-04 6.51487651e-05 2.61641072e-04\n",
      " 9.08485974e-05 3.94637277e-05 2.89701424e-04 6.65251219e-06\n",
      " 8.39280676e-05 8.26893760e-05 7.43927765e-05 7.83447896e-05\n",
      " 7.90413581e-05 2.35780212e-04 1.25728485e-03 8.85350277e-05\n",
      " 9.10849537e-05 4.40839544e-04 9.64899077e-05 1.53428801e-04\n",
      " 1.82408757e-04 1.07090555e-04 3.80057182e-04 3.39221725e-04\n",
      " 2.16349449e-04 3.49255653e-04 1.68490741e-04 4.74346696e-04\n",
      " 1.46862570e-03 1.65363462e-04 3.23015557e-05 4.20401421e-05\n",
      " 4.33137127e-05 1.37155360e-04 9.62141523e-05 5.79967898e-06\n",
      " 1.27889739e-03 5.90659879e-04 1.30562939e-04 2.30949253e-04\n",
      " 3.18959326e-04 1.03102673e-03 9.15743967e-05 3.22452677e-04\n",
      " 4.04657372e-04 4.23308053e-04 2.72179760e-05 1.66507189e-04\n",
      " 1.03629251e-04 2.20189186e-04 1.10339149e-04 9.03666399e-05\n",
      " 1.50902431e-04 8.82851075e-05 1.15118654e-04 9.42344676e-05]\n",
      "Figure(1000x1000)\n",
      "Linear model trained LFG\n"
     ]
    }
   ],
   "source": [
    "!python /projects/kernlab/akapoor/Demographic_Inference/snakemake_scripts/linear_evaluation.py \\\n",
    "     --features_and_targets_filepath /projects/kernlab/akapoor/Demographic_Inference/split_isolation_model_dadi_analysis_True_moments_analysis_True_momentsLD_analysis_True_seed_42/sims/sims_pretrain_5000_sims_inference_1_seed_42_num_replicates_3_top_values_2/features_and_targets.pkl \\\n",
    "     --model_config_path /projects/kernlab/akapoor/Demographic_Inference/model_config.json \\\n",
    "     --color_shades_file /projects/kernlab/akapoor/Demographic_Inference/split_isolation_model_dadi_analysis_True_moments_analysis_True_momentsLD_analysis_True_seed_42/sims/sims_pretrain_5000_sims_inference_1_seed_42_num_replicates_3_top_values_2/color_shades.pkl \\\n",
    "     --main_colors_file /projects/kernlab/akapoor/Demographic_Inference/split_isolation_model_dadi_analysis_True_moments_analysis_True_momentsLD_analysis_True_seed_42/sims/sims_pretrain_5000_sims_inference_1_seed_42_num_replicates_3_top_values_2/main_colors.pkl \\\n",
    "     --experiment_config_filepath /projects/kernlab/akapoor/Demographic_Inference/experiment_config.json "
   ]
  },
  {
   "cell_type": "markdown",
   "metadata": {},
   "source": [
    "## Neural Network"
   ]
  },
  {
   "cell_type": "code",
   "execution_count": null,
   "metadata": {},
   "outputs": [],
   "source": [
    "    # parser.add_argument(\"--experiment_directory\", type=str, required=True)\n",
    "    # parser.add_argument(\"--model_config_file\", type=str, required=True)\n",
    "    # parser.add_argument(\"--features_file\", type=str, required=True)\n",
    "    # parser.add_argument(\"--color_shades\", type=str, required=True)\n",
    "    # parser.add_argument(\"--main_colors\", type=str, required=True)"
   ]
  },
  {
   "cell_type": "code",
   "execution_count": null,
   "metadata": {},
   "outputs": [],
   "source": [
    "!python /sietch_colab/akapoor/Demographic_Inference/snakemake_scripts/setup_trainer.py \\\n",
    "    --experiment_directory $EXPERIMENT_DIRECTORY \\\n",
    "    --model_config_file $MODEL_CONFIG_FILEPATH \\\n",
    "    --features_file $SIM_DIRECTORY/features_and_targets.pkl \\\n",
    "    --color_shades $SIM_DIRECTORY/color_shades.pkl \\\n",
    "    --main_colors $SIM_DIRECTORY/main_colors.pkl"
   ]
  },
  {
   "cell_type": "code",
   "execution_count": 20,
   "metadata": {},
   "outputs": [
    {
     "name": "stdout",
     "output_type": "stream",
     "text": [
      "Is CUDA available? False\n",
      "Number of GPUs: 0\n"
     ]
    },
    {
     "name": "stderr",
     "output_type": "stream",
     "text": [
      "/home/akapoor/miniforge3/envs/snakemake-env/lib/python3.12/site-packages/torch/cuda/__init__.py:654: UserWarning: Can't initialize NVML\n",
      "  warnings.warn(\"Can't initialize NVML\")\n"
     ]
    },
    {
     "ename": "RuntimeError",
     "evalue": "No CUDA GPUs are available",
     "output_type": "error",
     "traceback": [
      "\u001b[0;31m---------------------------------------------------------------------------\u001b[0m",
      "\u001b[0;31mRuntimeError\u001b[0m                              Traceback (most recent call last)",
      "Cell \u001b[0;32mIn[20], line 4\u001b[0m\n\u001b[1;32m      2\u001b[0m \u001b[38;5;28mprint\u001b[39m(\u001b[38;5;124m\"\u001b[39m\u001b[38;5;124mIs CUDA available?\u001b[39m\u001b[38;5;124m\"\u001b[39m, torch\u001b[38;5;241m.\u001b[39mcuda\u001b[38;5;241m.\u001b[39mis_available())\n\u001b[1;32m      3\u001b[0m \u001b[38;5;28mprint\u001b[39m(\u001b[38;5;124m\"\u001b[39m\u001b[38;5;124mNumber of GPUs:\u001b[39m\u001b[38;5;124m\"\u001b[39m, torch\u001b[38;5;241m.\u001b[39mcuda\u001b[38;5;241m.\u001b[39mdevice_count())\n\u001b[0;32m----> 4\u001b[0m \u001b[38;5;28mprint\u001b[39m(\u001b[38;5;124m\"\u001b[39m\u001b[38;5;124mCurrent GPU:\u001b[39m\u001b[38;5;124m\"\u001b[39m, \u001b[43mtorch\u001b[49m\u001b[38;5;241;43m.\u001b[39;49m\u001b[43mcuda\u001b[49m\u001b[38;5;241;43m.\u001b[39;49m\u001b[43mcurrent_device\u001b[49m\u001b[43m(\u001b[49m\u001b[43m)\u001b[49m)\n\u001b[1;32m      5\u001b[0m \u001b[38;5;28mprint\u001b[39m(\u001b[38;5;124m\"\u001b[39m\u001b[38;5;124mGPU Name:\u001b[39m\u001b[38;5;124m\"\u001b[39m, torch\u001b[38;5;241m.\u001b[39mcuda\u001b[38;5;241m.\u001b[39mget_device_name(\u001b[38;5;241m0\u001b[39m) \u001b[38;5;28;01mif\u001b[39;00m torch\u001b[38;5;241m.\u001b[39mcuda\u001b[38;5;241m.\u001b[39mis_available() \u001b[38;5;28;01melse\u001b[39;00m \u001b[38;5;124m\"\u001b[39m\u001b[38;5;124mNo GPU detected\u001b[39m\u001b[38;5;124m\"\u001b[39m)\n",
      "File \u001b[0;32m~/miniforge3/envs/snakemake-env/lib/python3.12/site-packages/torch/cuda/__init__.py:878\u001b[0m, in \u001b[0;36mcurrent_device\u001b[0;34m()\u001b[0m\n\u001b[1;32m    876\u001b[0m \u001b[38;5;28;01mdef\u001b[39;00m \u001b[38;5;21mcurrent_device\u001b[39m() \u001b[38;5;241m-\u001b[39m\u001b[38;5;241m>\u001b[39m \u001b[38;5;28mint\u001b[39m:\n\u001b[1;32m    877\u001b[0m \u001b[38;5;250m    \u001b[39m\u001b[38;5;124mr\u001b[39m\u001b[38;5;124;03m\"\"\"Return the index of a currently selected device.\"\"\"\u001b[39;00m\n\u001b[0;32m--> 878\u001b[0m     \u001b[43m_lazy_init\u001b[49m\u001b[43m(\u001b[49m\u001b[43m)\u001b[49m\n\u001b[1;32m    879\u001b[0m     \u001b[38;5;28;01mreturn\u001b[39;00m torch\u001b[38;5;241m.\u001b[39m_C\u001b[38;5;241m.\u001b[39m_cuda_getDevice()\n",
      "File \u001b[0;32m~/miniforge3/envs/snakemake-env/lib/python3.12/site-packages/torch/cuda/__init__.py:314\u001b[0m, in \u001b[0;36m_lazy_init\u001b[0;34m()\u001b[0m\n\u001b[1;32m    312\u001b[0m \u001b[38;5;28;01mif\u001b[39;00m \u001b[38;5;124m\"\u001b[39m\u001b[38;5;124mCUDA_MODULE_LOADING\u001b[39m\u001b[38;5;124m\"\u001b[39m \u001b[38;5;129;01mnot\u001b[39;00m \u001b[38;5;129;01min\u001b[39;00m os\u001b[38;5;241m.\u001b[39menviron:\n\u001b[1;32m    313\u001b[0m     os\u001b[38;5;241m.\u001b[39menviron[\u001b[38;5;124m\"\u001b[39m\u001b[38;5;124mCUDA_MODULE_LOADING\u001b[39m\u001b[38;5;124m\"\u001b[39m] \u001b[38;5;241m=\u001b[39m \u001b[38;5;124m\"\u001b[39m\u001b[38;5;124mLAZY\u001b[39m\u001b[38;5;124m\"\u001b[39m\n\u001b[0;32m--> 314\u001b[0m \u001b[43mtorch\u001b[49m\u001b[38;5;241;43m.\u001b[39;49m\u001b[43m_C\u001b[49m\u001b[38;5;241;43m.\u001b[39;49m\u001b[43m_cuda_init\u001b[49m\u001b[43m(\u001b[49m\u001b[43m)\u001b[49m\n\u001b[1;32m    315\u001b[0m \u001b[38;5;66;03m# Some of the queued calls may reentrantly call _lazy_init();\u001b[39;00m\n\u001b[1;32m    316\u001b[0m \u001b[38;5;66;03m# we need to just return without initializing in that case.\u001b[39;00m\n\u001b[1;32m    317\u001b[0m \u001b[38;5;66;03m# However, we must not let any *other* threads in!\u001b[39;00m\n\u001b[1;32m    318\u001b[0m _tls\u001b[38;5;241m.\u001b[39mis_initializing \u001b[38;5;241m=\u001b[39m \u001b[38;5;28;01mTrue\u001b[39;00m\n",
      "\u001b[0;31mRuntimeError\u001b[0m: No CUDA GPUs are available"
     ]
    }
   ],
   "source": [
    "import torch\n",
    "print(\"Is CUDA available?\", torch.cuda.is_available())\n",
    "print(\"Number of GPUs:\", torch.cuda.device_count())\n",
    "print(\"Current GPU:\", torch.cuda.current_device())\n",
    "print(\"GPU Name:\", torch.cuda.get_device_name(0) if torch.cuda.is_available() else \"No GPU detected\")"
   ]
  },
  {
   "cell_type": "code",
   "execution_count": null,
   "metadata": {},
   "outputs": [],
   "source": []
  }
 ],
 "metadata": {
  "kernelspec": {
   "display_name": "myenv",
   "language": "python",
   "name": "python3"
  },
  "language_info": {
   "codemirror_mode": {
    "name": "ipython",
    "version": 3
   },
   "file_extension": ".py",
   "mimetype": "text/x-python",
   "name": "python",
   "nbconvert_exporter": "python",
   "pygments_lexer": "ipython3",
   "version": "3.10.13"
  }
 },
 "nbformat": 4,
 "nbformat_minor": 2
}
