{
 "cells": [
  {
   "cell_type": "markdown",
   "metadata": {},
   "source": []
  },
  {
   "cell_type": "code",
   "execution_count": 14,
   "metadata": {},
   "outputs": [],
   "source": [
    "import os \n",
    "import pickle\n",
    "import json\n",
    "os.chdir('/sietch_colab/akapoor/Demographic_Inference/')"
   ]
  },
  {
   "cell_type": "code",
   "execution_count": 15,
   "metadata": {},
   "outputs": [],
   "source": [
    "from snakemake_scripts.obtain_single_feature import obtain_feature"
   ]
  },
  {
   "cell_type": "markdown",
   "metadata": {},
   "source": [
    "Baseline resuls for dadi"
   ]
  },
  {
   "cell_type": "code",
   "execution_count": 29,
   "metadata": {},
   "outputs": [],
   "source": [
    "sampled_params = '/sietch_colab/akapoor/Demographic_Inference/slow_dadi_moments/sampled_params_96.pkl'\n",
    "# sampled_params = '/sietch_colab/akapoor/Demographic_Inference/sampled_params_78.pkl'\n",
    "\n",
    "SFS = '/sietch_colab/akapoor/Demographic_Inference/slow_dadi_moments/SFS_sim_96.pkl'\n",
    "# SFS = '/sietch_colab/akapoor/Demographic_Inference/SFS_sim_78.pkl'\n",
    "\n",
    "experiment_config = '/sietch_colab/akapoor/Demographic_Inference/experiment_config.json'\n",
    "\n",
    "sim_number = 96\n",
    "replicate_number = 0"
   ]
  },
  {
   "cell_type": "code",
   "execution_count": 30,
   "metadata": {},
   "outputs": [],
   "source": [
    "with open(sampled_params, 'rb') as f:\n",
    "    params = pickle.load(f)"
   ]
  },
  {
   "cell_type": "code",
   "execution_count": 31,
   "metadata": {},
   "outputs": [
    {
     "data": {
      "text/plain": [
       "{'t_split': 10422, 'N1': 5178, 'N2': 5260, 'Na': 28830, 'm': 0}"
      ]
     },
     "execution_count": 31,
     "metadata": {},
     "output_type": "execute_result"
    }
   ],
   "source": [
    "params"
   ]
  },
  {
   "cell_type": "markdown",
   "metadata": {},
   "source": [
    "I want to do dadi directly on this"
   ]
  },
  {
   "cell_type": "code",
   "execution_count": 32,
   "metadata": {},
   "outputs": [],
   "source": [
    "with open(experiment_config, 'r') as f:\n",
    "    experiment_config_obj = json.load(f)"
   ]
  },
  {
   "cell_type": "code",
   "execution_count": 33,
   "metadata": {},
   "outputs": [
    {
     "data": {
      "text/plain": [
       "'/sietch_colab/akapoor/Demographic_Inference/experiment_config.json'"
      ]
     },
     "execution_count": 33,
     "metadata": {},
     "output_type": "execute_result"
    }
   ],
   "source": [
    "experiment_config"
   ]
  },
  {
   "cell_type": "code",
   "execution_count": 34,
   "metadata": {},
   "outputs": [],
   "source": [
    "from src.demographic_models import split_isolation_model_dadi\n",
    "import dadi"
   ]
  },
  {
   "cell_type": "code",
   "execution_count": 44,
   "metadata": {},
   "outputs": [],
   "source": [
    "p0 = experiment_config_obj['optimization_initial_guess']\n",
    "\n",
    "with open(SFS, 'rb') as f:\n",
    "    data_fs = pickle.load(f)\n",
    "\n",
    "demo_model_ex = dadi.Numerics.make_extrap_log_func(split_isolation_model_dadi)\n",
    "num_samples = 100\n",
    "pts_l = [num_samples + 20, num_samples + 30, num_samples + 40]\n",
    "lower_bounds = experiment_config_obj['lower_bound_optimization']\n",
    "upper_bounds = experiment_config_obj['upper_bound_optimization']"
   ]
  },
  {
   "cell_type": "code",
   "execution_count": 45,
   "metadata": {},
   "outputs": [
    {
     "data": {
      "text/plain": [
       "False"
      ]
     },
     "execution_count": 45,
     "metadata": {},
     "output_type": "execute_result"
    }
   ],
   "source": [
    "dadi.cuda_enabled(False)"
   ]
  },
  {
   "cell_type": "code",
   "execution_count": 46,
   "metadata": {},
   "outputs": [],
   "source": [
    "import nlopt\n",
    "import time"
   ]
  },
  {
   "cell_type": "code",
   "execution_count": 47,
   "metadata": {},
   "outputs": [
    {
     "name": "stdout",
     "output_type": "stream",
     "text": [
      "1083    , -665320     , array([ 0.11       ,  0.8        ,  0.05       ,  0.02       ])\n",
      "1084    , -970681     , array([ 0.192425   ,  0.8        ,  0.05       ,  0.02       ])\n",
      "1085    , -772371     , array([ 0.11       ,  1.39993    ,  0.05       ,  0.02       ])\n",
      "1086    , -398176     , array([ 0.11       ,  0.8        ,  0.087425   ,  0.02       ])\n",
      "1087    , -666279     , array([ 0.11       ,  0.8        ,  0.05       ,  0.0275     ])\n",
      "1088    , -573894     , array([ 0.027575   ,  0.8        ,  0.05       ,  0.02       ])\n",
      "1089    , -299014     , array([ 0.11       ,  0.200075   ,  0.05       ,  0.02       ])\n",
      "1090    , -2.09685e+06, array([ 0.11       ,  0.8        ,  0.012575   ,  0.02       ])\n",
      "1091    , -664360     , array([ 0.11       ,  0.8        ,  0.05       ,  0.0125     ])\n",
      "1092    , -2.23687e+06, array([ 0.0561146  ,  0.0001     ,  0.0754236  ,  0.0199664  ])\n",
      "1093    , -168142     , array([ 0.144876   ,  0.0469854  ,  0.0471399  ,  0.0200202  ])\n"
     ]
    },
    {
     "ename": "SystemError",
     "evalue": "<built-in function opt_optimize> returned a result with an exception set",
     "output_type": "error",
     "traceback": [
      "\u001b[0;31m---------------------------------------------------------------------------\u001b[0m",
      "\u001b[0;31mKeyboardInterrupt\u001b[0m                         Traceback (most recent call last)",
      "File \u001b[0;32m~/miniconda3/envs/myenv/lib/python3.10/site-packages/dadi/NLopt_mod.py:126\u001b[0m, in \u001b[0;36mopt.<locals>.f\u001b[0;34m(x, grad)\u001b[0m\n\u001b[1;32m    125\u001b[0m     x \u001b[38;5;241m=\u001b[39m np\u001b[38;5;241m.\u001b[39mexp(x)\n\u001b[0;32m--> 126\u001b[0m \u001b[38;5;28;01mreturn\u001b[39;00m \u001b[38;5;241m-\u001b[39m\u001b[43m_object_func\u001b[49m\u001b[43m(\u001b[49m\u001b[43mx\u001b[49m\u001b[43m,\u001b[49m\u001b[43m \u001b[49m\u001b[43mdata\u001b[49m\u001b[43m,\u001b[49m\u001b[43m \u001b[49m\u001b[43mmodel_func\u001b[49m\u001b[43m,\u001b[49m\u001b[43m \u001b[49m\u001b[43mpts\u001b[49m\u001b[43m,\u001b[49m\u001b[43m \u001b[49m\n\u001b[1;32m    127\u001b[0m \u001b[43m                     \u001b[49m\u001b[43mverbose\u001b[49m\u001b[38;5;241;43m=\u001b[39;49m\u001b[43mverbose\u001b[49m\u001b[43m,\u001b[49m\u001b[43m \u001b[49m\u001b[43mmultinom\u001b[49m\u001b[38;5;241;43m=\u001b[39;49m\u001b[43mmultinom\u001b[49m\u001b[43m,\u001b[49m\n\u001b[1;32m    128\u001b[0m \u001b[43m                     \u001b[49m\u001b[43mfunc_args\u001b[49m\u001b[38;5;241;43m=\u001b[39;49m\u001b[43mfunc_args\u001b[49m\u001b[43m,\u001b[49m\u001b[43m \u001b[49m\u001b[43mfunc_kwargs\u001b[49m\u001b[38;5;241;43m=\u001b[39;49m\u001b[43mfunc_kwargs\u001b[49m\u001b[43m,\u001b[49m\u001b[43m \u001b[49m\u001b[43mfixed_params\u001b[49m\u001b[38;5;241;43m=\u001b[39;49m\u001b[43mfixed_params\u001b[49m\u001b[43m)\u001b[49m\n",
      "File \u001b[0;32m~/miniconda3/envs/myenv/lib/python3.10/site-packages/dadi/Inference.py:52\u001b[0m, in \u001b[0;36m_object_func\u001b[0;34m(params, data, model_func, pts, lower_bound, upper_bound, verbose, multinom, flush_delay, func_args, func_kwargs, fixed_params, ll_scale, output_stream, store_thetas)\u001b[0m\n\u001b[1;32m     51\u001b[0m func_kwargs[\u001b[38;5;124m'\u001b[39m\u001b[38;5;124mpts\u001b[39m\u001b[38;5;124m'\u001b[39m] \u001b[38;5;241m=\u001b[39m pts\n\u001b[0;32m---> 52\u001b[0m sfs \u001b[38;5;241m=\u001b[39m \u001b[43mmodel_func\u001b[49m\u001b[43m(\u001b[49m\u001b[38;5;241;43m*\u001b[39;49m\u001b[43mall_args\u001b[49m\u001b[43m,\u001b[49m\u001b[43m \u001b[49m\u001b[38;5;241;43m*\u001b[39;49m\u001b[38;5;241;43m*\u001b[39;49m\u001b[43mfunc_kwargs\u001b[49m\u001b[43m)\u001b[49m\n\u001b[1;32m     53\u001b[0m \u001b[38;5;28;01mif\u001b[39;00m multinom:\n",
      "File \u001b[0;32m~/miniconda3/envs/myenv/lib/python3.10/site-packages/dadi/Numerics.py:396\u001b[0m, in \u001b[0;36mmake_extrap_func.<locals>.extrap_func\u001b[0;34m(*args, **kwargs)\u001b[0m\n\u001b[1;32m    373\u001b[0m \u001b[38;5;66;03m##\u001b[39;00m\n\u001b[1;32m    374\u001b[0m \u001b[38;5;66;03m## The commented-out code implements distribution of fs calculations\u001b[39;00m\n\u001b[1;32m    375\u001b[0m \u001b[38;5;66;03m## among multiple processors. Unfortunately, it doesn't work with\u001b[39;00m\n\u001b[0;32m   (...)\u001b[0m\n\u001b[1;32m    393\u001b[0m \u001b[38;5;66;03m#    import sys\u001b[39;00m\n\u001b[1;32m    394\u001b[0m \u001b[38;5;66;03m#    sys.exit()\u001b[39;00m\n\u001b[0;32m--> 396\u001b[0m result_l \u001b[38;5;241m=\u001b[39m \u001b[38;5;28;43mlist\u001b[39;49m\u001b[43m(\u001b[49m\u001b[38;5;28;43mmap\u001b[39;49m\u001b[43m(\u001b[49m\u001b[43mpartial_func\u001b[49m\u001b[43m,\u001b[49m\u001b[43m \u001b[49m\u001b[43mpts_l\u001b[49m\u001b[43m)\u001b[49m\u001b[43m)\u001b[49m\n\u001b[1;32m    397\u001b[0m \u001b[38;5;28;01mif\u001b[39;00m no_extrap:\n",
      "File \u001b[0;32m/sietch_colab/akapoor/Demographic_Inference/src/demographic_models.py:74\u001b[0m, in \u001b[0;36msplit_isolation_model_dadi\u001b[0;34m(params, ns, pts)\u001b[0m\n\u001b[1;32m     73\u001b[0m \u001b[38;5;66;03m# Split into two populations at T_split with no migration\u001b[39;00m\n\u001b[0;32m---> 74\u001b[0m phi \u001b[38;5;241m=\u001b[39m \u001b[43mIntegration\u001b[49m\u001b[38;5;241;43m.\u001b[39;49m\u001b[43mtwo_pops\u001b[49m\u001b[43m(\u001b[49m\u001b[43mphi\u001b[49m\u001b[43m,\u001b[49m\u001b[43m \u001b[49m\u001b[43mxx\u001b[49m\u001b[43m,\u001b[49m\u001b[43m \u001b[49m\u001b[43mt_split\u001b[49m\u001b[43m,\u001b[49m\u001b[43m \u001b[49m\u001b[43mnu1\u001b[49m\u001b[43m,\u001b[49m\u001b[43m \u001b[49m\u001b[43mnu2\u001b[49m\u001b[43m,\u001b[49m\u001b[43m \u001b[49m\u001b[43mm12\u001b[49m\u001b[38;5;241;43m=\u001b[39;49m\u001b[43mm\u001b[49m\u001b[43m,\u001b[49m\u001b[43m \u001b[49m\u001b[43mm21\u001b[49m\u001b[38;5;241;43m=\u001b[39;49m\u001b[43mm\u001b[49m\u001b[43m)\u001b[49m\n\u001b[1;32m     76\u001b[0m \u001b[38;5;66;03m# Calculate the site frequency spectrum (SFS)\u001b[39;00m\n",
      "File \u001b[0;32m~/miniconda3/envs/myenv/lib/python3.10/site-packages/dadi/Integration.py:319\u001b[0m, in \u001b[0;36mtwo_pops\u001b[0;34m(phi, xx, T, nu1, nu2, m12, m21, gamma1, gamma2, h1, h2, theta0, initial_t, frozen1, frozen2, nomut1, nomut2, enable_cuda_cached, deme_ids)\u001b[0m\n\u001b[1;32m    318\u001b[0m     \u001b[38;5;28;01mif\u001b[39;00m \u001b[38;5;129;01mnot\u001b[39;00m cuda_enabled \u001b[38;5;129;01mor\u001b[39;00m (cuda_enabled \u001b[38;5;129;01mand\u001b[39;00m enable_cuda_cached):\n\u001b[0;32m--> 319\u001b[0m         \u001b[38;5;28;01mreturn\u001b[39;00m \u001b[43m_two_pops_const_params\u001b[49m\u001b[43m(\u001b[49m\u001b[43mphi\u001b[49m\u001b[43m,\u001b[49m\u001b[43m \u001b[49m\u001b[43mxx\u001b[49m\u001b[43m,\u001b[49m\u001b[43m \u001b[49m\u001b[43mT\u001b[49m\u001b[43m,\u001b[49m\u001b[43m \u001b[49m\u001b[43mnu1\u001b[49m\u001b[43m,\u001b[49m\u001b[43m \u001b[49m\u001b[43mnu2\u001b[49m\u001b[43m,\u001b[49m\u001b[43m \u001b[49m\u001b[43mm12\u001b[49m\u001b[43m,\u001b[49m\u001b[43m \u001b[49m\u001b[43mm21\u001b[49m\u001b[43m,\u001b[49m\n\u001b[1;32m    320\u001b[0m \u001b[43m                \u001b[49m\u001b[43mgamma1\u001b[49m\u001b[43m,\u001b[49m\u001b[43m \u001b[49m\u001b[43mgamma2\u001b[49m\u001b[43m,\u001b[49m\u001b[43m \u001b[49m\u001b[43mh1\u001b[49m\u001b[43m,\u001b[49m\u001b[43m \u001b[49m\u001b[43mh2\u001b[49m\u001b[43m,\u001b[49m\u001b[43m \u001b[49m\u001b[43mtheta0\u001b[49m\u001b[43m,\u001b[49m\u001b[43m \u001b[49m\u001b[43minitial_t\u001b[49m\u001b[43m,\u001b[49m\n\u001b[1;32m    321\u001b[0m \u001b[43m                \u001b[49m\u001b[43mfrozen1\u001b[49m\u001b[43m,\u001b[49m\u001b[43m \u001b[49m\u001b[43mfrozen2\u001b[49m\u001b[43m,\u001b[49m\u001b[43m \u001b[49m\u001b[43mnomut1\u001b[49m\u001b[43m,\u001b[49m\u001b[43m \u001b[49m\u001b[43mnomut2\u001b[49m\u001b[43m)\u001b[49m\n\u001b[1;32m    322\u001b[0m yy \u001b[38;5;241m=\u001b[39m xx\n",
      "File \u001b[0;32m~/miniconda3/envs/myenv/lib/python3.10/site-packages/dadi/Integration.py:963\u001b[0m, in \u001b[0;36m_two_pops_const_params\u001b[0;34m(phi, xx, T, nu1, nu2, m12, m21, gamma1, gamma2, h1, h2, theta0, initial_t, frozen1, frozen2, nomut1, nomut2)\u001b[0m\n\u001b[1;32m    962\u001b[0m \u001b[38;5;28;01mif\u001b[39;00m \u001b[38;5;129;01mnot\u001b[39;00m frozen1:\n\u001b[0;32m--> 963\u001b[0m     phi \u001b[38;5;241m=\u001b[39m \u001b[43mint_c\u001b[49m\u001b[38;5;241;43m.\u001b[39;49m\u001b[43mimplicit_precalc_2Dx\u001b[49m\u001b[43m(\u001b[49m\u001b[43mphi\u001b[49m\u001b[43m,\u001b[49m\u001b[43m \u001b[49m\u001b[43max\u001b[49m\u001b[43m,\u001b[49m\u001b[43m \u001b[49m\u001b[43mbx\u001b[49m\u001b[43m,\u001b[49m\u001b[43m \u001b[49m\u001b[43mcx\u001b[49m\u001b[43m,\u001b[49m\u001b[43m \u001b[49m\u001b[43mthis_dt\u001b[49m\u001b[43m)\u001b[49m\n\u001b[1;32m    964\u001b[0m \u001b[38;5;28;01mif\u001b[39;00m \u001b[38;5;129;01mnot\u001b[39;00m frozen2:\n",
      "\u001b[0;31mKeyboardInterrupt\u001b[0m: ",
      "\nThe above exception was the direct cause of the following exception:\n",
      "\u001b[0;31mSystemError\u001b[0m                               Traceback (most recent call last)",
      "Cell \u001b[0;32mIn[47], line 2\u001b[0m\n\u001b[1;32m      1\u001b[0m start \u001b[38;5;241m=\u001b[39m time\u001b[38;5;241m.\u001b[39mtime()\n\u001b[0;32m----> 2\u001b[0m popt, ll_model \u001b[38;5;241m=\u001b[39m \u001b[43mdadi\u001b[49m\u001b[38;5;241;43m.\u001b[39;49m\u001b[43mInference\u001b[49m\u001b[38;5;241;43m.\u001b[39;49m\u001b[43mopt\u001b[49m\u001b[43m(\u001b[49m\u001b[43mp0\u001b[49m\u001b[43m,\u001b[49m\u001b[43m \u001b[49m\u001b[43mdata_fs\u001b[49m\u001b[43m,\u001b[49m\u001b[43m \u001b[49m\u001b[43mdemo_model_ex\u001b[49m\u001b[43m,\u001b[49m\u001b[43m \u001b[49m\u001b[43mpts_l\u001b[49m\u001b[43m,\u001b[49m\n\u001b[1;32m      3\u001b[0m \u001b[43m                                    \u001b[49m\u001b[43mlower_bound\u001b[49m\u001b[38;5;241;43m=\u001b[39;49m\u001b[43mlower_bounds\u001b[49m\u001b[43m,\u001b[49m\n\u001b[1;32m      4\u001b[0m \u001b[43m                                    \u001b[49m\u001b[43mupper_bound\u001b[49m\u001b[38;5;241;43m=\u001b[39;49m\u001b[43mupper_bounds\u001b[49m\u001b[43m,\u001b[49m\n\u001b[1;32m      5\u001b[0m \u001b[43m                                    \u001b[49m\u001b[43malgorithm\u001b[49m\u001b[43m \u001b[49m\u001b[38;5;241;43m=\u001b[39;49m\u001b[43m \u001b[49m\u001b[43mnlopt\u001b[49m\u001b[38;5;241;43m.\u001b[39;49m\u001b[43mLN_BOBYQA\u001b[49m\u001b[43m,\u001b[49m\n\u001b[1;32m      6\u001b[0m \u001b[43m                                    \u001b[49m\u001b[43mmaxeval\u001b[49m\u001b[38;5;241;43m=\u001b[39;49m\u001b[38;5;241;43m400\u001b[39;49m\u001b[43m,\u001b[49m\u001b[43m \u001b[49m\u001b[43mverbose\u001b[49m\u001b[38;5;241;43m=\u001b[39;49m\u001b[38;5;241;43m1\u001b[39;49m\u001b[43m)\u001b[49m\n\u001b[1;32m      8\u001b[0m end \u001b[38;5;241m=\u001b[39m time\u001b[38;5;241m.\u001b[39mtime()\n\u001b[1;32m     10\u001b[0m \u001b[38;5;28mprint\u001b[39m(\u001b[38;5;124mf\u001b[39m\u001b[38;5;124m'\u001b[39m\u001b[38;5;124mTime taken for optimization -- no GPU: \u001b[39m\u001b[38;5;132;01m{\u001b[39;00mend\u001b[38;5;250m \u001b[39m\u001b[38;5;241m-\u001b[39mstart\u001b[38;5;132;01m}\u001b[39;00m\u001b[38;5;124m'\u001b[39m)\n",
      "File \u001b[0;32m~/miniconda3/envs/myenv/lib/python3.10/site-packages/dadi/NLopt_mod.py:138\u001b[0m, in \u001b[0;36mopt\u001b[0;34m(p0, data, model_func, pts, multinom, lower_bound, upper_bound, fixed_params, ineq_constraints, eq_constraints, algorithm, ftol_abs, xtol_abs, maxeval, maxtime, stopval, log_opt, local_optimizer, verbose, func_args, func_kwargs)\u001b[0m\n\u001b[1;32m    136\u001b[0m \u001b[38;5;28;01mif\u001b[39;00m log_opt:\n\u001b[1;32m    137\u001b[0m     p0 \u001b[38;5;241m=\u001b[39m np\u001b[38;5;241m.\u001b[39mlog(p0)\n\u001b[0;32m--> 138\u001b[0m xopt \u001b[38;5;241m=\u001b[39m \u001b[43mopt\u001b[49m\u001b[38;5;241;43m.\u001b[39;49m\u001b[43moptimize\u001b[49m\u001b[43m(\u001b[49m\u001b[43mp0\u001b[49m\u001b[43m)\u001b[49m\n\u001b[1;32m    139\u001b[0m \u001b[38;5;28;01mif\u001b[39;00m log_opt:\n\u001b[1;32m    140\u001b[0m     xopt \u001b[38;5;241m=\u001b[39m np\u001b[38;5;241m.\u001b[39mexp(p0)\n",
      "File \u001b[0;32m~/miniconda3/envs/myenv/lib/python3.10/site-packages/nlopt/nlopt.py:335\u001b[0m, in \u001b[0;36mopt.optimize\u001b[0;34m(self, *args)\u001b[0m\n\u001b[1;32m    334\u001b[0m \u001b[38;5;28;01mdef\u001b[39;00m \u001b[38;5;21moptimize\u001b[39m(\u001b[38;5;28mself\u001b[39m, \u001b[38;5;241m*\u001b[39margs):\n\u001b[0;32m--> 335\u001b[0m     \u001b[38;5;28;01mreturn\u001b[39;00m \u001b[43m_nlopt\u001b[49m\u001b[38;5;241;43m.\u001b[39;49m\u001b[43mopt_optimize\u001b[49m\u001b[43m(\u001b[49m\u001b[38;5;28;43mself\u001b[39;49m\u001b[43m,\u001b[49m\u001b[43m \u001b[49m\u001b[38;5;241;43m*\u001b[39;49m\u001b[43margs\u001b[49m\u001b[43m)\u001b[49m\n",
      "\u001b[0;31mSystemError\u001b[0m: <built-in function opt_optimize> returned a result with an exception set"
     ]
    }
   ],
   "source": [
    "start = time.time()\n",
    "popt, ll_model = dadi.Inference.opt(p0, data_fs, demo_model_ex, pts_l,\n",
    "                                    lower_bound=lower_bounds,\n",
    "                                    upper_bound=upper_bounds,\n",
    "                                    algorithm = nlopt.LN_BOBYQA,\n",
    "                                    maxeval=400, verbose=1)\n",
    "\n",
    "end = time.time()\n",
    "\n",
    "print(f'Time taken for optimization -- no GPU: {end -start}')"
   ]
  },
  {
   "cell_type": "code",
   "execution_count": 28,
   "metadata": {},
   "outputs": [
    {
     "data": {
      "text/plain": [
       "array([1.22037701, 1.28397507, 0.21122988, 0.01      ])"
      ]
     },
     "execution_count": 28,
     "metadata": {},
     "output_type": "execute_result"
    }
   ],
   "source": [
    "popt"
   ]
  },
  {
   "cell_type": "code",
   "execution_count": 40,
   "metadata": {},
   "outputs": [
    {
     "data": {
      "text/plain": [
       "True"
      ]
     },
     "execution_count": 40,
     "metadata": {},
     "output_type": "execute_result"
    }
   ],
   "source": [
    "dadi.cuda_enabled(True)"
   ]
  },
  {
   "cell_type": "code",
   "execution_count": 41,
   "metadata": {},
   "outputs": [
    {
     "name": "stdout",
     "output_type": "stream",
     "text": [
      "550     , -455211     , array([ 0.11       ,  0.8        ,  0.05       ,  0.0125     ])\n"
     ]
    },
    {
     "ename": "SystemError",
     "evalue": "<built-in function opt_optimize> returned a result with an exception set",
     "output_type": "error",
     "traceback": [
      "\u001b[0;31m---------------------------------------------------------------------------\u001b[0m",
      "\u001b[0;31mKeyboardInterrupt\u001b[0m                         Traceback (most recent call last)",
      "File \u001b[0;32m~/miniconda3/envs/myenv/lib/python3.10/site-packages/dadi/NLopt_mod.py:126\u001b[0m, in \u001b[0;36mopt.<locals>.f\u001b[0;34m(x, grad)\u001b[0m\n\u001b[1;32m    125\u001b[0m     x \u001b[38;5;241m=\u001b[39m np\u001b[38;5;241m.\u001b[39mexp(x)\n\u001b[0;32m--> 126\u001b[0m \u001b[38;5;28;01mreturn\u001b[39;00m \u001b[38;5;241m-\u001b[39m\u001b[43m_object_func\u001b[49m\u001b[43m(\u001b[49m\u001b[43mx\u001b[49m\u001b[43m,\u001b[49m\u001b[43m \u001b[49m\u001b[43mdata\u001b[49m\u001b[43m,\u001b[49m\u001b[43m \u001b[49m\u001b[43mmodel_func\u001b[49m\u001b[43m,\u001b[49m\u001b[43m \u001b[49m\u001b[43mpts\u001b[49m\u001b[43m,\u001b[49m\u001b[43m \u001b[49m\n\u001b[1;32m    127\u001b[0m \u001b[43m                     \u001b[49m\u001b[43mverbose\u001b[49m\u001b[38;5;241;43m=\u001b[39;49m\u001b[43mverbose\u001b[49m\u001b[43m,\u001b[49m\u001b[43m \u001b[49m\u001b[43mmultinom\u001b[49m\u001b[38;5;241;43m=\u001b[39;49m\u001b[43mmultinom\u001b[49m\u001b[43m,\u001b[49m\n\u001b[1;32m    128\u001b[0m \u001b[43m                     \u001b[49m\u001b[43mfunc_args\u001b[49m\u001b[38;5;241;43m=\u001b[39;49m\u001b[43mfunc_args\u001b[49m\u001b[43m,\u001b[49m\u001b[43m \u001b[49m\u001b[43mfunc_kwargs\u001b[49m\u001b[38;5;241;43m=\u001b[39;49m\u001b[43mfunc_kwargs\u001b[49m\u001b[43m,\u001b[49m\u001b[43m \u001b[49m\u001b[43mfixed_params\u001b[49m\u001b[38;5;241;43m=\u001b[39;49m\u001b[43mfixed_params\u001b[49m\u001b[43m)\u001b[49m\n",
      "File \u001b[0;32m~/miniconda3/envs/myenv/lib/python3.10/site-packages/dadi/Inference.py:52\u001b[0m, in \u001b[0;36m_object_func\u001b[0;34m(params, data, model_func, pts, lower_bound, upper_bound, verbose, multinom, flush_delay, func_args, func_kwargs, fixed_params, ll_scale, output_stream, store_thetas)\u001b[0m\n\u001b[1;32m     51\u001b[0m func_kwargs[\u001b[38;5;124m'\u001b[39m\u001b[38;5;124mpts\u001b[39m\u001b[38;5;124m'\u001b[39m] \u001b[38;5;241m=\u001b[39m pts\n\u001b[0;32m---> 52\u001b[0m sfs \u001b[38;5;241m=\u001b[39m \u001b[43mmodel_func\u001b[49m\u001b[43m(\u001b[49m\u001b[38;5;241;43m*\u001b[39;49m\u001b[43mall_args\u001b[49m\u001b[43m,\u001b[49m\u001b[43m \u001b[49m\u001b[38;5;241;43m*\u001b[39;49m\u001b[38;5;241;43m*\u001b[39;49m\u001b[43mfunc_kwargs\u001b[49m\u001b[43m)\u001b[49m\n\u001b[1;32m     53\u001b[0m \u001b[38;5;28;01mif\u001b[39;00m multinom:\n",
      "File \u001b[0;32m~/miniconda3/envs/myenv/lib/python3.10/site-packages/dadi/Numerics.py:396\u001b[0m, in \u001b[0;36mmake_extrap_func.<locals>.extrap_func\u001b[0;34m(*args, **kwargs)\u001b[0m\n\u001b[1;32m    373\u001b[0m \u001b[38;5;66;03m##\u001b[39;00m\n\u001b[1;32m    374\u001b[0m \u001b[38;5;66;03m## The commented-out code implements distribution of fs calculations\u001b[39;00m\n\u001b[1;32m    375\u001b[0m \u001b[38;5;66;03m## among multiple processors. Unfortunately, it doesn't work with\u001b[39;00m\n\u001b[0;32m   (...)\u001b[0m\n\u001b[1;32m    393\u001b[0m \u001b[38;5;66;03m#    import sys\u001b[39;00m\n\u001b[1;32m    394\u001b[0m \u001b[38;5;66;03m#    sys.exit()\u001b[39;00m\n\u001b[0;32m--> 396\u001b[0m result_l \u001b[38;5;241m=\u001b[39m \u001b[38;5;28;43mlist\u001b[39;49m\u001b[43m(\u001b[49m\u001b[38;5;28;43mmap\u001b[39;49m\u001b[43m(\u001b[49m\u001b[43mpartial_func\u001b[49m\u001b[43m,\u001b[49m\u001b[43m \u001b[49m\u001b[43mpts_l\u001b[49m\u001b[43m)\u001b[49m\u001b[43m)\u001b[49m\n\u001b[1;32m    397\u001b[0m \u001b[38;5;28;01mif\u001b[39;00m no_extrap:\n",
      "File \u001b[0;32m/sietch_colab/akapoor/Demographic_Inference/src/demographic_models.py:74\u001b[0m, in \u001b[0;36msplit_isolation_model_dadi\u001b[0;34m(params, ns, pts)\u001b[0m\n\u001b[1;32m     73\u001b[0m \u001b[38;5;66;03m# Split into two populations at T_split with no migration\u001b[39;00m\n\u001b[0;32m---> 74\u001b[0m phi \u001b[38;5;241m=\u001b[39m \u001b[43mIntegration\u001b[49m\u001b[38;5;241;43m.\u001b[39;49m\u001b[43mtwo_pops\u001b[49m\u001b[43m(\u001b[49m\u001b[43mphi\u001b[49m\u001b[43m,\u001b[49m\u001b[43m \u001b[49m\u001b[43mxx\u001b[49m\u001b[43m,\u001b[49m\u001b[43m \u001b[49m\u001b[43mt_split\u001b[49m\u001b[43m,\u001b[49m\u001b[43m \u001b[49m\u001b[43mnu1\u001b[49m\u001b[43m,\u001b[49m\u001b[43m \u001b[49m\u001b[43mnu2\u001b[49m\u001b[43m,\u001b[49m\u001b[43m \u001b[49m\u001b[43mm12\u001b[49m\u001b[38;5;241;43m=\u001b[39;49m\u001b[43mm\u001b[49m\u001b[43m,\u001b[49m\u001b[43m \u001b[49m\u001b[43mm21\u001b[49m\u001b[38;5;241;43m=\u001b[39;49m\u001b[43mm\u001b[49m\u001b[43m,\u001b[49m\u001b[43m \u001b[49m\u001b[43mdeme_ids\u001b[49m\u001b[38;5;241;43m=\u001b[39;49m\u001b[43m[\u001b[49m\u001b[38;5;124;43m\"\u001b[39;49m\u001b[38;5;124;43mN1\u001b[39;49m\u001b[38;5;124;43m\"\u001b[39;49m\u001b[43m,\u001b[49m\u001b[43m \u001b[49m\u001b[38;5;124;43m\"\u001b[39;49m\u001b[38;5;124;43mN2\u001b[39;49m\u001b[38;5;124;43m\"\u001b[39;49m\u001b[43m]\u001b[49m\u001b[43m)\u001b[49m \u001b[38;5;66;03m#TODO: Change later\u001b[39;00m\n\u001b[1;32m     76\u001b[0m \u001b[38;5;66;03m# Calculate the site frequency spectrum (SFS)\u001b[39;00m\n",
      "File \u001b[0;32m~/miniconda3/envs/myenv/lib/python3.10/site-packages/dadi/Integration.py:336\u001b[0m, in \u001b[0;36mtwo_pops\u001b[0;34m(phi, xx, T, nu1, nu2, m12, m21, gamma1, gamma2, h1, h2, theta0, initial_t, frozen1, frozen2, nomut1, nomut2, enable_cuda_cached, deme_ids)\u001b[0m\n\u001b[1;32m    335\u001b[0m \u001b[38;5;28;01mimport\u001b[39;00m \u001b[38;5;21;01mdadi\u001b[39;00m\u001b[38;5;21;01m.\u001b[39;00m\u001b[38;5;21;01mcuda\u001b[39;00m\n\u001b[0;32m--> 336\u001b[0m phi \u001b[38;5;241m=\u001b[39m \u001b[43mdadi\u001b[49m\u001b[38;5;241;43m.\u001b[39;49m\u001b[43mcuda\u001b[49m\u001b[38;5;241;43m.\u001b[39;49m\u001b[43mIntegration\u001b[49m\u001b[38;5;241;43m.\u001b[39;49m\u001b[43m_two_pops_temporal_params\u001b[49m\u001b[43m(\u001b[49m\u001b[43mphi\u001b[49m\u001b[43m,\u001b[49m\u001b[43m \u001b[49m\u001b[43mxx\u001b[49m\u001b[43m,\u001b[49m\u001b[43m \u001b[49m\u001b[43mT\u001b[49m\u001b[43m,\u001b[49m\u001b[43m \u001b[49m\u001b[43minitial_t\u001b[49m\u001b[43m,\u001b[49m\n\u001b[1;32m    337\u001b[0m \u001b[43m        \u001b[49m\u001b[43mnu1_f\u001b[49m\u001b[43m,\u001b[49m\u001b[43m \u001b[49m\u001b[43mnu2_f\u001b[49m\u001b[43m,\u001b[49m\u001b[43m \u001b[49m\u001b[43mm12_f\u001b[49m\u001b[43m,\u001b[49m\u001b[43m \u001b[49m\u001b[43mm21_f\u001b[49m\u001b[43m,\u001b[49m\u001b[43m \u001b[49m\u001b[43mgamma1_f\u001b[49m\u001b[43m,\u001b[49m\u001b[43m \u001b[49m\u001b[43mgamma2_f\u001b[49m\u001b[43m,\u001b[49m\u001b[43m \u001b[49m\u001b[43mh1_f\u001b[49m\u001b[43m,\u001b[49m\u001b[43m \u001b[49m\u001b[43mh2_f\u001b[49m\u001b[43m,\u001b[49m\u001b[43m \u001b[49m\u001b[43mtheta0_f\u001b[49m\u001b[43m,\u001b[49m\u001b[43m \u001b[49m\n\u001b[1;32m    338\u001b[0m \u001b[43m        \u001b[49m\u001b[43mfrozen1\u001b[49m\u001b[43m,\u001b[49m\u001b[43m \u001b[49m\u001b[43mfrozen2\u001b[49m\u001b[43m,\u001b[49m\u001b[43m \u001b[49m\u001b[43mnomut1\u001b[49m\u001b[43m,\u001b[49m\u001b[43m \u001b[49m\u001b[43mnomut2\u001b[49m\u001b[43m)\u001b[49m\n\u001b[1;32m    339\u001b[0m \u001b[38;5;28;01mreturn\u001b[39;00m phi\n",
      "File \u001b[0;32m~/miniconda3/envs/myenv/lib/python3.10/site-packages/dadi/cuda/Integration.py:236\u001b[0m, in \u001b[0;36m_two_pops_temporal_params\u001b[0;34m(phi, xx, T, initial_t, nu1_f, nu2_f, m12_f, m21_f, gamma1_f, gamma2_f, h1_f, h2_f, theta0_f, frozen1, frozen2, nomut1, nomut2)\u001b[0m\n\u001b[1;32m    235\u001b[0m bx_gpu\u001b[38;5;241m.\u001b[39mfill(\u001b[38;5;241m1.\u001b[39m\u001b[38;5;241m/\u001b[39mthis_dt)\n\u001b[0;32m--> 236\u001b[0m \u001b[43mkernels\u001b[49m\u001b[38;5;241;43m.\u001b[39;49m\u001b[43m_compute_ab_nobc\u001b[49m\u001b[43m(\u001b[49m\u001b[43mdx_gpu\u001b[49m\u001b[43m,\u001b[49m\u001b[43m \u001b[49m\u001b[43mdfactor_gpu\u001b[49m\u001b[43m,\u001b[49m\u001b[43m \u001b[49m\n\u001b[1;32m    237\u001b[0m \u001b[43m    \u001b[49m\u001b[43mbuff_gpu\u001b[49m\u001b[43m,\u001b[49m\u001b[43m \u001b[49m\u001b[43mVx_gpu\u001b[49m\u001b[43m,\u001b[49m\u001b[43m \u001b[49m\u001b[43mthis_dt\u001b[49m\u001b[43m,\u001b[49m\u001b[43m \u001b[49m\u001b[43mL\u001b[49m\u001b[43m,\u001b[49m\u001b[43m \u001b[49m\u001b[43mM\u001b[49m\u001b[43m,\u001b[49m\n\u001b[1;32m    238\u001b[0m \u001b[43m    \u001b[49m\u001b[43max_gpu\u001b[49m\u001b[43m,\u001b[49m\u001b[43m \u001b[49m\u001b[43mbx_gpu\u001b[49m\u001b[43m,\u001b[49m\n\u001b[1;32m    239\u001b[0m \u001b[43m    \u001b[49m\u001b[43mgrid\u001b[49m\u001b[38;5;241;43m=\u001b[39;49m\u001b[43m_grid\u001b[49m\u001b[43m(\u001b[49m\u001b[43m(\u001b[49m\u001b[43mL\u001b[49m\u001b[38;5;241;43m-\u001b[39;49m\u001b[38;5;241;43m1\u001b[39;49m\u001b[43m)\u001b[49m\u001b[38;5;241;43m*\u001b[39;49m\u001b[43mM\u001b[49m\u001b[43m)\u001b[49m\u001b[43m,\u001b[49m\u001b[43m \u001b[49m\u001b[43mblock\u001b[49m\u001b[38;5;241;43m=\u001b[39;49m\u001b[43m_block\u001b[49m\u001b[43m(\u001b[49m\u001b[43m)\u001b[49m\u001b[43m)\u001b[49m\n\u001b[1;32m    240\u001b[0m \u001b[38;5;66;03m# Note that this transforms buff_gpu from MInt to cx\u001b[39;00m\n",
      "File \u001b[0;32m~/miniconda3/envs/myenv/lib/python3.10/site-packages/pycuda/driver.py:502\u001b[0m, in \u001b[0;36m_add_functionality.<locals>.function_call\u001b[0;34m(func, *args, **kwargs)\u001b[0m\n\u001b[1;32m    500\u001b[0m     start_time \u001b[38;5;241m=\u001b[39m time()\n\u001b[0;32m--> 502\u001b[0m \u001b[43mfunc\u001b[49m\u001b[38;5;241;43m.\u001b[39;49m\u001b[43m_launch_kernel\u001b[49m\u001b[43m(\u001b[49m\u001b[43mgrid\u001b[49m\u001b[43m,\u001b[49m\u001b[43m \u001b[49m\u001b[43mblock\u001b[49m\u001b[43m,\u001b[49m\u001b[43m \u001b[49m\u001b[43marg_buf\u001b[49m\u001b[43m,\u001b[49m\u001b[43m \u001b[49m\u001b[43mshared\u001b[49m\u001b[43m,\u001b[49m\u001b[43m \u001b[49m\u001b[38;5;28;43;01mNone\u001b[39;49;00m\u001b[43m)\u001b[49m\n\u001b[1;32m    504\u001b[0m \u001b[38;5;28;01mif\u001b[39;00m post_handlers \u001b[38;5;129;01mor\u001b[39;00m time_kernel:\n",
      "\u001b[0;31mKeyboardInterrupt\u001b[0m: ",
      "\nThe above exception was the direct cause of the following exception:\n",
      "\u001b[0;31mSystemError\u001b[0m                               Traceback (most recent call last)",
      "Cell \u001b[0;32mIn[41], line 2\u001b[0m\n\u001b[1;32m      1\u001b[0m start \u001b[38;5;241m=\u001b[39m time\u001b[38;5;241m.\u001b[39mtime()\n\u001b[0;32m----> 2\u001b[0m popt, ll_model \u001b[38;5;241m=\u001b[39m \u001b[43mdadi\u001b[49m\u001b[38;5;241;43m.\u001b[39;49m\u001b[43mInference\u001b[49m\u001b[38;5;241;43m.\u001b[39;49m\u001b[43mopt\u001b[49m\u001b[43m(\u001b[49m\u001b[43mp0\u001b[49m\u001b[43m,\u001b[49m\u001b[43m \u001b[49m\u001b[43mdata_fs\u001b[49m\u001b[43m,\u001b[49m\u001b[43m \u001b[49m\u001b[43mdemo_model_ex\u001b[49m\u001b[43m,\u001b[49m\u001b[43m \u001b[49m\u001b[43mpts_l\u001b[49m\u001b[43m,\u001b[49m\n\u001b[1;32m      3\u001b[0m \u001b[43m                                    \u001b[49m\u001b[43mlower_bound\u001b[49m\u001b[38;5;241;43m=\u001b[39;49m\u001b[43mlower_bounds\u001b[49m\u001b[43m,\u001b[49m\n\u001b[1;32m      4\u001b[0m \u001b[43m                                    \u001b[49m\u001b[43mupper_bound\u001b[49m\u001b[38;5;241;43m=\u001b[39;49m\u001b[43mupper_bounds\u001b[49m\u001b[43m,\u001b[49m\n\u001b[1;32m      5\u001b[0m \u001b[43m                                    \u001b[49m\u001b[43malgorithm\u001b[49m\u001b[43m \u001b[49m\u001b[38;5;241;43m=\u001b[39;49m\u001b[43m \u001b[49m\u001b[43mnlopt\u001b[49m\u001b[38;5;241;43m.\u001b[39;49m\u001b[43mLN_BOBYQA\u001b[49m\u001b[43m,\u001b[49m\n\u001b[1;32m      6\u001b[0m \u001b[43m                                    \u001b[49m\u001b[43mmaxeval\u001b[49m\u001b[38;5;241;43m=\u001b[39;49m\u001b[38;5;241;43m400\u001b[39;49m\u001b[43m,\u001b[49m\u001b[43m \u001b[49m\u001b[43mverbose\u001b[49m\u001b[38;5;241;43m=\u001b[39;49m\u001b[38;5;241;43m10\u001b[39;49m\u001b[43m)\u001b[49m\n\u001b[1;32m      8\u001b[0m end \u001b[38;5;241m=\u001b[39m time\u001b[38;5;241m.\u001b[39mtime()\n\u001b[1;32m     10\u001b[0m \u001b[38;5;28mprint\u001b[39m(\u001b[38;5;124mf\u001b[39m\u001b[38;5;124m'\u001b[39m\u001b[38;5;124mTime taken for optimization -- GPU: \u001b[39m\u001b[38;5;132;01m{\u001b[39;00mend\u001b[38;5;250m \u001b[39m\u001b[38;5;241m-\u001b[39mstart\u001b[38;5;132;01m}\u001b[39;00m\u001b[38;5;124m'\u001b[39m)\n",
      "File \u001b[0;32m~/miniconda3/envs/myenv/lib/python3.10/site-packages/dadi/NLopt_mod.py:138\u001b[0m, in \u001b[0;36mopt\u001b[0;34m(p0, data, model_func, pts, multinom, lower_bound, upper_bound, fixed_params, ineq_constraints, eq_constraints, algorithm, ftol_abs, xtol_abs, maxeval, maxtime, stopval, log_opt, local_optimizer, verbose, func_args, func_kwargs)\u001b[0m\n\u001b[1;32m    136\u001b[0m \u001b[38;5;28;01mif\u001b[39;00m log_opt:\n\u001b[1;32m    137\u001b[0m     p0 \u001b[38;5;241m=\u001b[39m np\u001b[38;5;241m.\u001b[39mlog(p0)\n\u001b[0;32m--> 138\u001b[0m xopt \u001b[38;5;241m=\u001b[39m \u001b[43mopt\u001b[49m\u001b[38;5;241;43m.\u001b[39;49m\u001b[43moptimize\u001b[49m\u001b[43m(\u001b[49m\u001b[43mp0\u001b[49m\u001b[43m)\u001b[49m\n\u001b[1;32m    139\u001b[0m \u001b[38;5;28;01mif\u001b[39;00m log_opt:\n\u001b[1;32m    140\u001b[0m     xopt \u001b[38;5;241m=\u001b[39m np\u001b[38;5;241m.\u001b[39mexp(p0)\n",
      "File \u001b[0;32m~/miniconda3/envs/myenv/lib/python3.10/site-packages/nlopt/nlopt.py:335\u001b[0m, in \u001b[0;36mopt.optimize\u001b[0;34m(self, *args)\u001b[0m\n\u001b[1;32m    334\u001b[0m \u001b[38;5;28;01mdef\u001b[39;00m \u001b[38;5;21moptimize\u001b[39m(\u001b[38;5;28mself\u001b[39m, \u001b[38;5;241m*\u001b[39margs):\n\u001b[0;32m--> 335\u001b[0m     \u001b[38;5;28;01mreturn\u001b[39;00m \u001b[43m_nlopt\u001b[49m\u001b[38;5;241;43m.\u001b[39;49m\u001b[43mopt_optimize\u001b[49m\u001b[43m(\u001b[49m\u001b[38;5;28;43mself\u001b[39;49m\u001b[43m,\u001b[49m\u001b[43m \u001b[49m\u001b[38;5;241;43m*\u001b[39;49m\u001b[43margs\u001b[49m\u001b[43m)\u001b[49m\n",
      "\u001b[0;31mSystemError\u001b[0m: <built-in function opt_optimize> returned a result with an exception set"
     ]
    }
   ],
   "source": [
    "start = time.time()\n",
    "popt, ll_model = dadi.Inference.opt(p0, data_fs, demo_model_ex, pts_l,\n",
    "                                    lower_bound=lower_bounds,\n",
    "                                    upper_bound=upper_bounds,\n",
    "                                    algorithm = nlopt.LN_BOBYQA,\n",
    "                                    maxeval=400, verbose=10)\n",
    "\n",
    "end = time.time()\n",
    "\n",
    "print(f'Time taken for optimization -- GPU: {end -start}')"
   ]
  },
  {
   "cell_type": "code",
   "execution_count": null,
   "metadata": {},
   "outputs": [],
   "source": [
    "popt"
   ]
  },
  {
   "cell_type": "code",
   "execution_count": null,
   "metadata": {},
   "outputs": [],
   "source": [
    "obtain_feature(SFS, sampled_params, experiment_config, sim_number, replicate_number)"
   ]
  },
  {
   "cell_type": "markdown",
   "metadata": {},
   "source": [
    "Inspect dadi and moments results"
   ]
  },
  {
   "cell_type": "code",
   "execution_count": null,
   "metadata": {},
   "outputs": [],
   "source": [
    "with open('/sietch_colab/akapoor/Demographic_Inference/moments_dadi_features/sim_78/dadi/replicate_0/replicate_0.pkl', 'rb') as f:\n",
    "    dadi_results = pickle.load(f)"
   ]
  },
  {
   "cell_type": "code",
   "execution_count": null,
   "metadata": {},
   "outputs": [],
   "source": [
    "dadi_results['opt_params_dadi']"
   ]
  },
  {
   "cell_type": "code",
   "execution_count": null,
   "metadata": {},
   "outputs": [],
   "source": [
    "with open('/sietch_colab/akapoor/Demographic_Inference/moments_dadi_features/sim_78/moments/replicate_0/replicate_0.pkl', 'rb') as f:\n",
    "    moments_results = pickle.load(f)"
   ]
  },
  {
   "cell_type": "code",
   "execution_count": null,
   "metadata": {},
   "outputs": [],
   "source": [
    "moments_results['opt_params_moments']"
   ]
  },
  {
   "cell_type": "code",
   "execution_count": null,
   "metadata": {},
   "outputs": [],
   "source": [
    "with open('/sietch_colab/akapoor/Demographic_Inference/sampled_params_986.pkl', 'rb') as f:\n",
    "    sampled_params = pickle.load(f)"
   ]
  },
  {
   "cell_type": "code",
   "execution_count": null,
   "metadata": {},
   "outputs": [],
   "source": [
    "sampled_params"
   ]
  },
  {
   "cell_type": "code",
   "execution_count": null,
   "metadata": {},
   "outputs": [],
   "source": [
    "with open('/sietch_colab/akapoor/Demographic_Inference/SFS_sim_986.pkl', 'rb') as f:\n",
    "    sfs = pickle.load(f)"
   ]
  },
  {
   "cell_type": "code",
   "execution_count": null,
   "metadata": {},
   "outputs": [],
   "source": [
    "import numpy as np"
   ]
  },
  {
   "cell_type": "code",
   "execution_count": null,
   "metadata": {},
   "outputs": [],
   "source": [
    "with open('/sietch_colab/akapoor/Demographic_Inference/software_inferences_sim_8.pkl', 'rb') as f:\n",
    "    software_inferences = pickle.load(f)"
   ]
  },
  {
   "cell_type": "code",
   "execution_count": null,
   "metadata": {},
   "outputs": [],
   "source": [
    "software_inferences['simulated_params']"
   ]
  },
  {
   "cell_type": "code",
   "execution_count": null,
   "metadata": {},
   "outputs": [],
   "source": [
    "software_inferences['opt_params_dadi']"
   ]
  },
  {
   "cell_type": "code",
   "execution_count": null,
   "metadata": {},
   "outputs": [],
   "source": [
    "software_inferences['simulated_params']"
   ]
  },
  {
   "cell_type": "code",
   "execution_count": null,
   "metadata": {},
   "outputs": [],
   "source": [
    "software_inferences['opt_params_moments']"
   ]
  }
 ],
 "metadata": {
  "kernelspec": {
   "display_name": "myenv",
   "language": "python",
   "name": "python3"
  },
  "language_info": {
   "codemirror_mode": {
    "name": "ipython",
    "version": 3
   },
   "file_extension": ".py",
   "mimetype": "text/x-python",
   "name": "python",
   "nbconvert_exporter": "python",
   "pygments_lexer": "ipython3",
   "version": "3.10.13"
  }
 },
 "nbformat": 4,
 "nbformat_minor": 2
}
