{
 "cells": [
  {
   "cell_type": "markdown",
   "metadata": {},
   "source": []
  },
  {
   "cell_type": "code",
   "execution_count": 1,
   "metadata": {},
   "outputs": [],
   "source": [
    "import os \n",
    "import pickle\n",
    "import json\n",
    "os.chdir('/sietch_colab/akapoor/Demographic_Inference/')"
   ]
  },
  {
   "cell_type": "code",
   "execution_count": 2,
   "metadata": {},
   "outputs": [],
   "source": [
    "from snakemake_scripts.obtain_single_feature import obtain_feature"
   ]
  },
  {
   "cell_type": "markdown",
   "metadata": {},
   "source": [
    "Baseline resuls for dadi"
   ]
  },
  {
   "cell_type": "code",
   "execution_count": 3,
   "metadata": {},
   "outputs": [],
   "source": [
    "sampled_params = '/sietch_colab/akapoor/Demographic_Inference/sampled_params_0.pkl'\n",
    "\n",
    "SFS = '/sietch_colab/akapoor/Demographic_Inference/SFS_sim_0.pkl'\n",
    "\n",
    "experiment_config = '/sietch_colab/akapoor/Demographic_Inference/experiment_config.json'\n",
    "\n",
    "sim_number = 0\n",
    "replicate_number = 0"
   ]
  },
  {
   "cell_type": "code",
   "execution_count": 4,
   "metadata": {},
   "outputs": [
    {
     "name": "stdout",
     "output_type": "stream",
     "text": [
      "20      , -67313.7    , array([ 0.179707   ,  0.504184   ,  0.0929745  ,  0.0316434  ])\n",
      "40      , -14624.6    , array([ 0.24213    ,  0.272816   ,  0.0556376  ,  0.0336909  ])\n",
      "60      , -7295.32    , array([ 0.42614    ,  0.398936   ,  0.0884823  ,  0.047967   ])\n",
      "80      , -7089.99    , array([ 0.450039   ,  0.415422   ,  0.0937858  ,  0.0504993  ])\n",
      "100     , -7010.61    , array([ 0.480518   ,  0.437863   ,  0.0987345  ,  0.0539155  ])\n",
      "120     , -7004       , array([ 0.481442   ,  0.437702   ,  0.0996155  ,  0.054052   ])\n",
      "140     , -7003.92    , array([ 0.482022   ,  0.438298   ,  0.0997434  ,  0.0539412  ])\n",
      "160     , -7009.09    , array([ 0.482325   ,  0.444427   ,  0.100632   ,  0.0506459  ])\n",
      "180     , -7012.11    , array([ 0.481408   ,  0.441282   ,  0.098874   ,  0.0475803  ])\n",
      "200     , -7000.83    , array([ 0.481304   ,  0.437737   ,  0.0993687  ,  0.0466594  ])\n",
      "220     , -6998.23    , array([ 0.482058   ,  0.437558   ,  0.0992882  ,  0.0390263  ])\n",
      "240     , -6992.4     , array([ 0.480667   ,  0.437301   ,  0.097985   ,  0.00546564 ])\n",
      "260     , -6992.36    , array([ 0.481015   ,  0.437083   ,  0.0979901  ,  0.00560555 ])\n",
      "OPT DADI PARAMETER: [0.48099232 0.43706411 0.09798545 0.00560586]\n",
      "Model shape after scaling: (41, 41)\n",
      "20      , -94780.8    , array([ 0.228138   ,  1.6056     ,  0.057753   ,  0.00828764 ])\n",
      "40      , -55040.4    , array([ 0.690496   ,  1.80249    ,  0.234695   ,  0.0038419  ])\n",
      "60      , -46166.7    , array([ 0.943529   ,  1.74631    ,  0.241704   ,  0.00240195 ])\n",
      "80      , -37926.1    , array([ 0.8785     ,  1.45884    ,  0.238898   ,  0.00203557 ])\n",
      "100     , -7024.4     , array([ 0.477539   ,  0.428817   ,  0.0945336  ,  3.75926e-05])\n",
      "120     , -7182.3     , array([ 0.519458   ,  0.483294   ,  0.107048   ,  6.43802e-05])\n",
      "140     , -6982.39    , array([ 0.481408   ,  0.440558   ,  0.0980076  ,  5.88121e-05])\n",
      "160     , -6980.92    , array([ 0.480871   ,  0.437793   ,  0.0976207  ,  5.57196e-05])\n",
      "180     , -6980.87    , array([ 0.480993   ,  0.437278   ,  0.0975595  ,  5.50363e-05])\n",
      "200     , -6980.86    , array([ 0.481125   ,  0.43732    ,  0.0976041  ,  5.49838e-05])\n",
      "220     , -6980.86    , array([ 0.481047   ,  0.437333   ,  0.0975923  ,  5.49988e-05])\n",
      "OPT MOMENTS PARAMETER: [4.81020262e-01 4.37312123e-01 9.75861716e-02 5.49826281e-05]\n",
      "LL: 6980.8617179050925\n"
     ]
    }
   ],
   "source": [
    "obtain_feature(SFS, sampled_params, experiment_config, sim_number, replicate_number)"
   ]
  },
  {
   "cell_type": "markdown",
   "metadata": {},
   "source": [
    "Inspect dadi and moments results"
   ]
  },
  {
   "cell_type": "code",
   "execution_count": 5,
   "metadata": {},
   "outputs": [],
   "source": [
    "with open('/sietch_colab/akapoor/Demographic_Inference/moments_dadi_features/sim_0/dadi/replicate_0/replicate_0.pkl', 'rb') as f:\n",
    "    dadi_results = pickle.load(f)"
   ]
  },
  {
   "cell_type": "code",
   "execution_count": 6,
   "metadata": {},
   "outputs": [
    {
     "data": {
      "text/plain": [
       "{'Na': 14648.738026739438,\n",
       " 'N1': 7045.930427522271,\n",
       " 'N2': 6402.437603855234,\n",
       " 't_split': 2870.7262921097913,\n",
       " 'm': 164.23747406808715,\n",
       " 'll': -6992.35826011375}"
      ]
     },
     "execution_count": 6,
     "metadata": {},
     "output_type": "execute_result"
    }
   ],
   "source": [
    "dadi_results['opt_params_dadi']"
   ]
  },
  {
   "cell_type": "code",
   "execution_count": 7,
   "metadata": {},
   "outputs": [],
   "source": [
    "with open('/sietch_colab/akapoor/Demographic_Inference/moments_dadi_features/sim_0/moments/replicate_0/replicate_0.pkl', 'rb') as f:\n",
    "    moments_results = pickle.load(f)"
   ]
  },
  {
   "cell_type": "code",
   "execution_count": 8,
   "metadata": {},
   "outputs": [
    {
     "data": {
      "text/plain": [
       "{'Na': 14673.602965996166,\n",
       " 'N1': 7058.300344052293,\n",
       " 'N2': 6416.944469525361,\n",
       " 't_split': 2863.881474333098,\n",
       " 'm': 1.613586509262086,\n",
       " 'upper_triangular_FIM': array([-7.56713075e+05, -1.38355129e+05,  2.68340208e+06,  0.00000000e+00,\n",
       "        -9.39884321e+05,  3.10981960e+06,  1.93665884e+07, -2.10262599e+07,\n",
       "         0.00000000e+00, -6.16139620e+11]),\n",
       " 'll': 6980.8617179050925}"
      ]
     },
     "execution_count": 8,
     "metadata": {},
     "output_type": "execute_result"
    }
   ],
   "source": [
    "moments_results['opt_params_moments']"
   ]
  },
  {
   "cell_type": "code",
   "execution_count": 9,
   "metadata": {},
   "outputs": [],
   "source": [
    "with open('/sietch_colab/akapoor/Demographic_Inference/sampled_params_0.pkl', 'rb') as f:\n",
    "    sampled_params = pickle.load(f)"
   ]
  },
  {
   "cell_type": "code",
   "execution_count": 10,
   "metadata": {},
   "outputs": [
    {
     "data": {
      "text/plain": [
       "{'t_split': 2858, 'N1': 7111, 'N2': 6388, 'Na': 14696, 'm': 0}"
      ]
     },
     "execution_count": 10,
     "metadata": {},
     "output_type": "execute_result"
    }
   ],
   "source": [
    "sampled_params"
   ]
  },
  {
   "cell_type": "code",
   "execution_count": 11,
   "metadata": {},
   "outputs": [],
   "source": [
    "with open('/sietch_colab/akapoor/Demographic_Inference/SFS_sim_0.pkl', 'rb') as f:\n",
    "    sfs = pickle.load(f)"
   ]
  },
  {
   "cell_type": "code",
   "execution_count": null,
   "metadata": {},
   "outputs": [],
   "source": [
    "import numpy as np"
   ]
  },
  {
   "cell_type": "code",
   "execution_count": null,
   "metadata": {},
   "outputs": [],
   "source": [
    "import dadi\n",
    "import matplotlib.pyplot as plt\n",
    "fig = plt.figure(219033)\n",
    "fig.clear()\n",
    "dadi.Plotting.plot_2d_comp_multinom(model = dadi_results['model_sfs_dadi'], data = sfs)"
   ]
  },
  {
   "cell_type": "code",
   "execution_count": null,
   "metadata": {},
   "outputs": [],
   "source": [
    "dadi_results['model_sfs_dadi']"
   ]
  },
  {
   "cell_type": "code",
   "execution_count": null,
   "metadata": {},
   "outputs": [],
   "source": [
    "sfs"
   ]
  },
  {
   "cell_type": "code",
   "execution_count": null,
   "metadata": {},
   "outputs": [],
   "source": []
  }
 ],
 "metadata": {
  "kernelspec": {
   "display_name": "myenv",
   "language": "python",
   "name": "python3"
  },
  "language_info": {
   "codemirror_mode": {
    "name": "ipython",
    "version": 3
   },
   "file_extension": ".py",
   "mimetype": "text/x-python",
   "name": "python",
   "nbconvert_exporter": "python",
   "pygments_lexer": "ipython3",
   "version": "3.10.13"
  }
 },
 "nbformat": 4,
 "nbformat_minor": 2
}
