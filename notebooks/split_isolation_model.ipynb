{
 "cells": [
  {
   "cell_type": "code",
   "execution_count": null,
   "metadata": {},
   "outputs": [],
   "source": []
  },
  {
   "cell_type": "markdown",
   "metadata": {},
   "source": [
    "# Playing around with the split isolation model"
   ]
  },
  {
   "cell_type": "code",
   "execution_count": 1,
   "metadata": {},
   "outputs": [],
   "source": [
    "import msprime\n",
    "import numpy as np\n",
    "import matplotlib.pyplot as plt\n",
    "import demesdraw\n",
    "import moments\n",
    "import dadi\n"
   ]
  },
  {
   "cell_type": "markdown",
   "metadata": {},
   "source": [
    "This is to get a good idea of what the prior parameter distribution should be. "
   ]
  },
  {
   "cell_type": "code",
   "execution_count": 29,
   "metadata": {},
   "outputs": [
    {
     "name": "stdout",
     "output_type": "stream",
     "text": [
      "Sampled populations: 3 46\n",
      "Number of mutations: 346\n",
      "Number of trees: 303\n"
     ]
    }
   ],
   "source": [
    "# Define key parameters for the model\n",
    "N1 = 1000  # Population size of population 1\n",
    "N2 = 1200  # Population size of population 2\n",
    "Na = 2000  # Ancestral population size\n",
    "T_split = 500  # Time since split in generations\n",
    "mutation_rate = 1e-8  # Mutation rate per base pair per generation\n",
    "recombination_rate = 1e-8  # Recombination rate per base pair per generation\n",
    "\n",
    "# Sample sizes\n",
    "samples_pop1 = 15  # 15 samples from population 1\n",
    "samples_pop2 = 8   # 8 samples from population 2\n",
    "\n",
    "# Define the demographic history\n",
    "demography = msprime.Demography()\n",
    "demography.add_population(name=\"pop1\", initial_size=N1)\n",
    "demography.add_population(name=\"pop2\", initial_size=N2)\n",
    "demography.add_population(name=\"ancestral\", initial_size=Na)\n",
    "demography.add_population_split(time=T_split, derived=[\"pop1\", \"pop2\"], ancestral=\"ancestral\")\n",
    "\n",
    "# Simulate the tree sequence with different sample sizes\n",
    "ts = msprime.sim_ancestry(\n",
    "    samples={\"pop1\": samples_pop1, \"pop2\": samples_pop2},\n",
    "    demography=demography,\n",
    "    sequence_length=1e6,  # Simulate 1 Mb of sequence\n",
    "    recombination_rate=recombination_rate\n",
    ")\n",
    "\n",
    "print(\"Sampled populations:\", ts.num_populations, ts.num_samples)\n",
    "\n",
    "# Simulate mutations on the tree sequence\n",
    "mutated_ts = msprime.sim_mutations(ts, rate=mutation_rate)\n",
    "\n",
    "# Output some information about the simulation\n",
    "print(f\"Number of mutations: {mutated_ts.num_mutations}\")\n",
    "print(f\"Number of trees: {mutated_ts.num_trees}\")\n"
   ]
  },
  {
   "cell_type": "code",
   "execution_count": 30,
   "metadata": {},
   "outputs": [
    {
     "name": "stdout",
     "output_type": "stream",
     "text": [
      "[ 0  1  2  3  4  5  6  7  8  9 10 11 12 13 14 15 16 17 18 19 20 21 22 23\n",
      " 24 25 26 27 28 29]\n",
      "[30 31 32 33 34 35 36 37 38 39 40 41 42 43 44 45]\n",
      "[]\n"
     ]
    }
   ],
   "source": [
    "for i in range(3):\n",
    "    print(ts.samples(population = i))"
   ]
  },
  {
   "cell_type": "code",
   "execution_count": 16,
   "metadata": {},
   "outputs": [
    {
     "data": {
      "image/png": "[encoded data removed]",
      "text/plain": [
       "<Figure size 800x600 with 1 Axes>"
      ]
     },
     "metadata": {},
     "output_type": "display_data"
    }
   ],
   "source": [
    "# Convert msprime demography to demes graph\n",
    "demes_graph = demography.to_demes()\n",
    "\n",
    "# Visualize the demographic model using demesdraw\n",
    "fig, ax = plt.subplots(1, 1, figsize=(8, 6))\n",
    "demesdraw.tubes(demes_graph, ax=ax)\n",
    "plt.title(\"Demographic Model: Split Isolation\")\n",
    "plt.show()"
   ]
  },
  {
   "cell_type": "code",
   "execution_count": 38,
   "metadata": {},
   "outputs": [
    {
     "name": "stdout",
     "output_type": "stream",
     "text": [
      "Population 0 samples: [ 0  1  2  3  4  5  6  7  8  9 10 11 12 13 14]\n",
      "Population 1 samples: [15 16 17 18 19 20 21 22]\n",
      "Population 2 samples: []\n",
      "Number of mutations: 257\n",
      "Number of trees: 208\n"
     ]
    }
   ],
   "source": [
    "import msprime\n",
    "import numpy as np\n",
    "import matplotlib.pyplot as plt\n",
    "import demesdraw\n",
    "import moments\n",
    "import dadi\n",
    "\n",
    "# Define key parameters for the model\n",
    "N1 = 1000  # Population size of population 1\n",
    "N2 = 1200  # Population size of population 2\n",
    "Na = 2000  # Ancestral population size\n",
    "T_split = 500  # Time since split in generations\n",
    "mutation_rate = 1e-8  # Mutation rate per base pair per generation\n",
    "recombination_rate = 1e-8  # Recombination rate per base pair per generation\n",
    "\n",
    "# Sample sizes\n",
    "samples_pop1 = 15  # 15 samples from population 1\n",
    "samples_pop2 = 8   # 8 samples from population 2\n",
    "\n",
    "# Define the demographic history\n",
    "demography = msprime.Demography()\n",
    "demography.add_population(name=\"pop1\", initial_size=N1)\n",
    "demography.add_population(name=\"pop2\", initial_size=N2)\n",
    "demography.add_population(name=\"ancestral\", initial_size=Na)\n",
    "demography.add_population_split(time=T_split, derived=[\"pop1\", \"pop2\"], ancestral=\"ancestral\")\n",
    "\n",
    "# Define the samples using msprime.SampleSet\n",
    "samples = [\n",
    "    msprime.SampleSet(samples_pop1, population=\"pop1\", ploidy=1),  # Population 1 samples\n",
    "    msprime.SampleSet(samples_pop2, population=\"pop2\", ploidy=1)   # Population 2 samples\n",
    "]\n",
    "\n",
    "# Simulate the tree sequence with correct sample sizes\n",
    "ts = msprime.sim_ancestry(\n",
    "    samples=samples,\n",
    "    demography=demography,\n",
    "    sequence_length=1e6,  # Simulate 1 Mb of sequence\n",
    "    recombination_rate=recombination_rate,\n",
    "    random_seed=42  # Optional: For reproducibility\n",
    ")\n",
    "\n",
    "# Check the samples for each population\n",
    "for i in range(ts.num_populations):\n",
    "    print(f\"Population {i} samples:\", ts.samples(population=i))\n",
    "\n",
    "# Simulate mutations on the tree sequence\n",
    "mutated_ts = msprime.sim_mutations(ts, rate=mutation_rate)\n",
    "\n",
    "# Output information about mutations and trees in the tree sequence\n",
    "print(f\"Number of mutations: {mutated_ts.num_mutations}\")\n",
    "print(f\"Number of trees: {mutated_ts.num_trees}\")"
   ]
  },
  {
   "cell_type": "code",
   "execution_count": 39,
   "metadata": {},
   "outputs": [
    {
     "data": {
      "image/png": "[encoded data removed]",
      "text/plain": [
       "<Figure size 640x480 with 1 Axes>"
      ]
     },
     "metadata": {},
     "output_type": "display_data"
    }
   ],
   "source": [
    "# Visualize the SFS (site frequency spectrum) using moments\n",
    "sfs = mutated_ts.allele_frequency_spectrum(polarised=False)\n",
    "plt.step(range(len(sfs)), sfs, where=\"mid\")\n",
    "plt.xlabel(\"Allele frequency\")\n",
    "plt.ylabel(\"Number of sites\")\n",
    "plt.title(\"Site Frequency Spectrum\")\n",
    "plt.show()"
   ]
  },
  {
   "cell_type": "code",
   "execution_count": 41,
   "metadata": {},
   "outputs": [
    {
     "name": "stdout",
     "output_type": "stream",
     "text": [
      "2D Joint SFS shape: (16, 9)\n"
     ]
    },
    {
     "data": {
      "image/png": "[encoded data removed]",
      "text/plain": [
       "<Figure size 640x480 with 2 Axes>"
      ]
     },
     "metadata": {},
     "output_type": "display_data"
    }
   ],
   "source": [
    "# Define sample sets for calculating the joint 2D SFS\n",
    "sample_sets = [\n",
    "    ts.samples(population=0),  # Population 1\n",
    "    ts.samples(population=1)   # Population 2\n",
    "]\n",
    "\n",
    "# Compute the 2D joint SFS\n",
    "sfs = mutated_ts.allele_frequency_spectrum(sample_sets=sample_sets, polarised=False)\n",
    "\n",
    "# Output the 2D joint SFS\n",
    "print(\"2D Joint SFS shape:\", sfs.shape)\n",
    "\n",
    "# Visualize the 2D joint SFS\n",
    "plt.imshow(sfs, origin='lower', aspect='auto', cmap='viridis')\n",
    "plt.colorbar(label=\"Number of sites\")\n",
    "plt.xlabel(\"Frequency in population 1\")\n",
    "plt.ylabel(\"Frequency in population 2\")\n",
    "plt.title(\"2D Joint Site Frequency Spectrum\")\n",
    "plt.show()"
   ]
  },
  {
   "cell_type": "code",
   "execution_count": 2,
   "metadata": {},
   "outputs": [],
   "source": [
    "upper_bound_params = {\n",
    "    \"t_split\": 5000, \n",
    "    \"N1\": 10000,\n",
    "    \"N2\": 10000,\n",
    "    \"Na\": 20000\n",
    "}\n",
    "\n",
    "lower_bound_params =  {\n",
    "    \"t_split\": 100, \n",
    "    \"N1\": 100,\n",
    "    \"N2\": 100,\n",
    "    \"Na\": 100\n",
    "\n",
    "}\n",
    "\n",
    "mutation_rate = 5.7e-9\n",
    "recombination_rate = 3.386e-9"
   ]
  },
  {
   "cell_type": "code",
   "execution_count": 3,
   "metadata": {},
   "outputs": [],
   "source": [
    "def sample_params():\n",
    "    sampled_params = {}\n",
    "    for key in lower_bound_params:\n",
    "        lower_bound = lower_bound_params[key]\n",
    "        upper_bound = upper_bound_params[key]\n",
    "        sampled_value = np.random.uniform(lower_bound, upper_bound)\n",
    "        sampled_params[key] = int(sampled_value)\n",
    "\n",
    "\n",
    "        # Check if the sampled parameter is equal to the mean of the uniform distribution\n",
    "        mean_value = (lower_bound + upper_bound) / 2\n",
    "        if sampled_value == mean_value:\n",
    "            # Add a small random value to avoid exact mean, while keeping within bounds\n",
    "            adjustment = np.random.uniform(-0.1 * (upper_bound - lower_bound), 0.1 * (upper_bound - lower_bound))\n",
    "            adjusted_value = sampled_value + adjustment\n",
    "            \n",
    "            # Ensure the adjusted value is still within the bounds\n",
    "            adjusted_value = max(min(adjusted_value, upper_bound), lower_bound)\n",
    "            sampled_params[key] = int(adjusted_value)\n",
    "\n",
    "    return sampled_params"
   ]
  },
  {
   "cell_type": "code",
   "execution_count": 4,
   "metadata": {},
   "outputs": [
    {
     "name": "stdout",
     "output_type": "stream",
     "text": [
      "{'t_split': 3372, 'N1': 9087, 'N2': 4960, 'Na': 10760}\n"
     ]
    }
   ],
   "source": [
    "sampled_params = sample_params()\n",
    "print(sampled_params)"
   ]
  },
  {
   "cell_type": "code",
   "execution_count": 5,
   "metadata": {},
   "outputs": [],
   "source": [
    "import os\n",
    "os.chdir('/sietch_colab/akapoor/Demographic_Inference/')"
   ]
  },
  {
   "cell_type": "code",
   "execution_count": 6,
   "metadata": {},
   "outputs": [],
   "source": [
    "from src.demographic_models import split_isolation_model_simulation"
   ]
  },
  {
   "cell_type": "code",
   "execution_count": 7,
   "metadata": {},
   "outputs": [],
   "source": [
    "def create_SFS(\n",
    "    sampled_params, mode, num_samples, demographic_model, length=1e7, mutation_rate=5.7e-9, recombination_rate = 3.386e-9, **kwargs\n",
    "):\n",
    "    \"\"\"\n",
    "    If we are in pretraining mode we will use a simulated SFS. If we are in inference mode we will use a real SFS.\n",
    "\n",
    "    \"\"\"\n",
    "\n",
    "    if mode == \"pretrain\":\n",
    "        # Simulate the demographic model\n",
    "        g = demographic_model(sampled_params)\n",
    "        demog = msprime.Demography.from_demes(g)\n",
    "\n",
    "        # Dynamically define the samples using msprime.SampleSet, based on the sample_sizes dictionary\n",
    "        samples = [\n",
    "            msprime.SampleSet(sample_size, population=pop_name, ploidy=1)\n",
    "            for pop_name, sample_size in num_samples.items()\n",
    "        ]\n",
    "\n",
    "        # Simulate ancestry for two populations (joint simulation)\n",
    "        ts = msprime.sim_ancestry(\n",
    "            samples=samples,  # Two populations\n",
    "            demography=demog,\n",
    "            sequence_length=length,\n",
    "            recombination_rate=recombination_rate,\n",
    "            random_seed=295,\n",
    "        )\n",
    "\n",
    "        # Check the samples for each population dynamically\n",
    "        for pop in ts.populations():\n",
    "            print(f\"Population {pop.id} samples:\", ts.samples(population=pop.id))\n",
    "\n",
    "        \n",
    "        # Simulate mutations over the ancestry tree sequence\n",
    "        ts = msprime.sim_mutations(ts, rate=mutation_rate)\n",
    "\n",
    "        # Define sample sets dynamically for the SFS\n",
    "        sample_sets = [\n",
    "            ts.samples(population=pop.id) \n",
    "            for pop in ts.populations() \n",
    "            if len(ts.samples(population=pop.id)) > 0  # Exclude populations with no samples\n",
    "        ]\n",
    "        \n",
    "        # Create the joint allele frequency spectrum\n",
    "        sfs = ts.allele_frequency_spectrum(sample_sets=sample_sets, mode=\"site\", polarised=True)\n",
    "        \n",
    "        # Multiply SFS by the sequence length to adjust scale\n",
    "        sfs *= length\n",
    "\n",
    "        # Convert to moments Spectrum for further use\n",
    "        sfs = moments.Spectrum(sfs)\n",
    "    \n",
    "    elif mode == \"inference\":\n",
    "        vcf_file = kwargs.get(\"vcf_file\", None)\n",
    "        pop_file = kwargs.get(\"pop_file\", None)\n",
    "        popname = kwargs.get(\"popname\", None)\n",
    "\n",
    "        if vcf_file is None or pop_file is None:\n",
    "            raise ValueError(\n",
    "                \"vcf_file and pop_file must be provided in inference mode.\"\n",
    "            )\n",
    "\n",
    "        dd = dadi.Misc.make_data_dict_vcf(vcf_file, pop_file)\n",
    "        sfs = dadi.Spectrum.from_data_dict(\n",
    "            dd, [popname], projections=[2 * num_samples], polarized=True\n",
    "        )\n",
    "\n",
    "    return sfs"
   ]
  },
  {
   "cell_type": "code",
   "execution_count": 8,
   "metadata": {},
   "outputs": [
    {
     "name": "stdout",
     "output_type": "stream",
     "text": [
      "Population 0 samples: []\n",
      "Population 1 samples: [ 0  1  2  3  4  5  6  7  8  9 10 11 12 13 14]\n",
      "Population 2 samples: [15 16 17 18 19 20 21 22]\n"
     ]
    }
   ],
   "source": [
    "sample_sizes = {\n",
    "    \"N1\": 15,  # 15 samples from population 1\n",
    "    \"N2\": 8    # 8 samples from population 2\n",
    "}\n",
    "\n",
    "sfs = create_SFS(\n",
    "    sampled_params, 'pretrain', sample_sizes, demographic_model = split_isolation_model_simulation, length=1e7, mutation_rate=5.7e-9, recombination_rate = 3.386e-9)"
   ]
  },
  {
   "cell_type": "code",
   "execution_count": 9,
   "metadata": {},
   "outputs": [
    {
     "data": {
      "text/plain": [
       "(16, 9)"
      ]
     },
     "execution_count": 9,
     "metadata": {},
     "output_type": "execute_result"
    }
   ],
   "source": [
    "sfs.shape"
   ]
  },
  {
   "cell_type": "code",
   "execution_count": 10,
   "metadata": {},
   "outputs": [],
   "source": [
    "from src.parameter_inference import run_inference_dadi, run_inference_moments\n",
    "from src.demographic_models import split_isolation_model"
   ]
  },
  {
   "cell_type": "code",
   "execution_count": 11,
   "metadata": {},
   "outputs": [],
   "source": [
    "p0 = [sampled_params[\"N1\"], sampled_params[\"N2\"], sampled_params[\"t_split\"]]\n",
    "num_samples = [sample_sizes['N1'], sample_sizes['N2']]\n",
    "demographic_model = \"split_isolation_model\"\n",
    "k = 1"
   ]
  },
  {
   "cell_type": "code",
   "execution_count": 12,
   "metadata": {},
   "outputs": [
    {
     "data": {
      "text/plain": [
       "{'t_split': 3372, 'N1': 9087, 'N2': 4960, 'Na': 10760}"
      ]
     },
     "execution_count": 12,
     "metadata": {},
     "output_type": "execute_result"
    }
   ],
   "source": [
    "sampled_params"
   ]
  },
  {
   "cell_type": "code",
   "execution_count": 13,
   "metadata": {},
   "outputs": [],
   "source": [
    "demographic_model = \"split_isolation_model\""
   ]
  },
  {
   "cell_type": "code",
   "execution_count": 15,
   "metadata": {},
   "outputs": [
    {
     "name": "stdout",
     "output_type": "stream",
     "text": [
      "OPT DADI PARAMETER: [4710.86956659 4465.08157155 1591.96669658]\n"
     ]
    }
   ],
   "source": [
    "model_list, opt_theta_list, opt_params_final_list, ll_list = run_inference_dadi(\n",
    "    sfs,\n",
    "    p0,\n",
    "    num_samples = 100,\n",
    "    demographic_model = demographic_model,\n",
    "    k = k,\n",
    "    lower_bound=[100, 100, 100], # [N1, N2 , t_split]\n",
    "    upper_bound=[10000, 10000, 5000], # [N1, N2, t_split]\n",
    "    mutation_rate=mutation_rate,\n",
    "    length=1e6,\n",
    "    top_values_k = 1\n",
    ")"
   ]
  },
  {
   "cell_type": "code",
   "execution_count": 16,
   "metadata": {},
   "outputs": [
    {
     "data": {
      "text/plain": [
       "[{'Na': 42.01830078661329,\n",
       "  'N1': 4710.869566591911,\n",
       "  'N2': 4465.081571548137,\n",
       "  't_split': 1591.9666965753324}]"
      ]
     },
     "execution_count": 16,
     "metadata": {},
     "output_type": "execute_result"
    }
   ],
   "source": [
    "opt_params_final_list"
   ]
  },
  {
   "cell_type": "code",
   "execution_count": 18,
   "metadata": {},
   "outputs": [
    {
     "data": {
      "text/plain": [
       "{'t_split': 3372, 'N1': 9087, 'N2': 4960, 'Na': 10760}"
      ]
     },
     "execution_count": 18,
     "metadata": {},
     "output_type": "execute_result"
    }
   ],
   "source": [
    "sampled_params"
   ]
  },
  {
   "cell_type": "code",
   "execution_count": null,
   "metadata": {},
   "outputs": [],
   "source": []
  }
 ],
 "metadata": {
  "kernelspec": {
   "display_name": "base",
   "language": "python",
   "name": "python3"
  },
  "language_info": {
   "codemirror_mode": {
    "name": "ipython",
    "version": 3
   },
   "file_extension": ".py",
   "mimetype": "text/x-python",
   "name": "python",
   "nbconvert_exporter": "python",
   "pygments_lexer": "ipython3",
   "version": "3.10.13"
  }
 },
 "nbformat": 4,
 "nbformat_minor": 2
}
