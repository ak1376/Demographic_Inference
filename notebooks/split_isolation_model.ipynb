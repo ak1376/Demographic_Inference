{
 "cells": [
  {
   "cell_type": "code",
   "execution_count": 1,
   "metadata": {},
   "outputs": [],
   "source": [
    "import msprime\n",
    "import numpy as np\n",
    "import matplotlib.pyplot as plt\n",
    "import demesdraw\n",
    "import moments\n",
    "import dadi\n",
    "import time \n",
    "import nlopt\n",
    "from tqdm import tqdm\n"
   ]
  },
  {
   "cell_type": "markdown",
   "metadata": {},
   "source": [
    "# Playing around with the split isolation model"
   ]
  },
  {
   "cell_type": "code",
   "execution_count": 69,
   "metadata": {},
   "outputs": [],
   "source": [
    "upper_bound_params = {\n",
    "    \"t_split\": 5000, \n",
    "    \"m\": 1e-4,\n",
    "    \"N1\": 10000,\n",
    "    \"N2\": 10000,\n",
    "    \"Na\": 20000\n",
    "}\n",
    "\n",
    "lower_bound_params =  {\n",
    "    \"t_split\": 100, \n",
    "    \"m\": 1e-8,\n",
    "    \"N1\": 100,\n",
    "    \"N2\": 100,\n",
    "    \"Na\": 100\n",
    "\n",
    "}\n",
    "\n",
    "mutation_rate = 5.7e-9\n",
    "recombination_rate = 3.386e-9\n",
    "length = 1e8"
   ]
  },
  {
   "cell_type": "code",
   "execution_count": 70,
   "metadata": {},
   "outputs": [],
   "source": [
    "def sample_params():\n",
    "    sampled_params = {}\n",
    "    for key in lower_bound_params:\n",
    "        lower_bound = lower_bound_params[key]\n",
    "        upper_bound = upper_bound_params[key]\n",
    "        sampled_value = np.random.uniform(lower_bound, upper_bound)\n",
    "\n",
    "        # Initialize adjusted_value with sampled_value by default\n",
    "        adjusted_value = sampled_value\n",
    "\n",
    "        # Check if the sampled parameter is equal to the mean of the uniform distribution\n",
    "        mean_value = (lower_bound + upper_bound) / 2\n",
    "        if sampled_value == mean_value:\n",
    "            # Add a small random value to avoid exact mean, while keeping within bounds\n",
    "            adjustment = np.random.uniform(-0.1 * (upper_bound - lower_bound), 0.1 * (upper_bound - lower_bound))\n",
    "            adjusted_value = sampled_value + adjustment\n",
    "            # Ensure the adjusted value is still within the bounds\n",
    "            adjusted_value = max(min(adjusted_value, upper_bound), lower_bound)\n",
    "\n",
    "        # Assign adjusted_value to sampled_params\n",
    "        if key == \"m\":\n",
    "            sampled_params[key] = adjusted_value\n",
    "        else:\n",
    "            sampled_params[key] = int(adjusted_value)\n",
    "\n",
    "    return sampled_params"
   ]
  },
  {
   "cell_type": "code",
   "execution_count": 71,
   "metadata": {},
   "outputs": [
    {
     "name": "stdout",
     "output_type": "stream",
     "text": [
      "{'t_split': 2920, 'm': 0, 'N1': 3978, 'N2': 4227, 'Na': 11093}\n"
     ]
    }
   ],
   "source": [
    "sampled_params = sample_params()\n",
    "sampled_params['m'] = 0\n",
    "print(sampled_params)"
   ]
  },
  {
   "cell_type": "markdown",
   "metadata": {},
   "source": [
    "I want to visualize the demes"
   ]
  },
  {
   "cell_type": "code",
   "execution_count": 72,
   "metadata": {},
   "outputs": [],
   "source": [
    "import os\n",
    "import demes\n",
    "os.chdir('/sietch_colab/akapoor/Demographic_Inference/')"
   ]
  },
  {
   "cell_type": "code",
   "execution_count": 73,
   "metadata": {},
   "outputs": [],
   "source": [
    "def split_isolation_model_simulation(sampled_params):\n",
    "\n",
    "    # Unpack the sampled parameters\n",
    "    Na, N1, N2, m, t_split = (\n",
    "        sampled_params[\"Na\"],  # Effective population size of the ancestral population\n",
    "        sampled_params[\"N1\"],  # Size of population 1 after split\n",
    "        sampled_params[\"N2\"],  # Size of population 2 after split\n",
    "        sampled_params[\"m\"],   # Migration rate between populations\n",
    "        sampled_params[\"t_split\"],  # Time of the population split (in generations)\n",
    "    )\n",
    "\n",
    "    b = demes.Builder()\n",
    "    b.add_deme(\"Na\", epochs=[dict(start_size=Na, end_time=t_split)])\n",
    "    b.add_deme(\"N1\", ancestors=[\"Na\"], epochs=[dict(start_size=N1)])\n",
    "    b.add_deme(\"N2\", ancestors=[\"Na\"], epochs=[dict(start_size=N2)])\n",
    "    g = b.resolve()\n",
    "    return g"
   ]
  },
  {
   "cell_type": "code",
   "execution_count": 81,
   "metadata": {},
   "outputs": [],
   "source": [
    "# Create the demographic model\n",
    "g = split_isolation_model_simulation(sampled_params)"
   ]
  },
  {
   "cell_type": "code",
   "execution_count": 85,
   "metadata": {},
   "outputs": [
    {
     "data": {
      "image/png": "[encoded data removed]",
      "text/plain": [
       "<Figure size 1000x600 with 1 Axes>"
      ]
     },
     "metadata": {},
     "output_type": "display_data"
    }
   ],
   "source": [
    "# Plot the graph\n",
    "fig, ax = plt.subplots(figsize=(10, 6))\n",
    "demesdraw.tubes(graph=g, title=\"Split Isolation Model (no migration)\", ax=ax)\n",
    "\n",
    "# Add t_split line and label\n",
    "ax.axhline(y=sampled_params[\"t_split\"], color=\"red\", linestyle=\"--\", linewidth=1)\n",
    "ax.text(0.5, sampled_params[\"t_split\"] + 100, f\"t_split = {sampled_params['t_split']}\",\n",
    "        color=\"red\", fontsize=12, ha=\"center\")\n",
    "\n",
    "plt.show()"
   ]
  },
  {
   "cell_type": "code",
   "execution_count": 42,
   "metadata": {},
   "outputs": [],
   "source": [
    "for migration in g.migrations:\n",
    "    print(migration)"
   ]
  },
  {
   "cell_type": "code",
   "execution_count": 7,
   "metadata": {},
   "outputs": [],
   "source": [
    "def create_SFS(\n",
    "    sampled_params, mode, num_samples, demographic_model, length=1e7, mutation_rate=5.7e-9, recombination_rate = 3.386e-9, **kwargs\n",
    "):\n",
    "    \"\"\"\n",
    "    If we are in pretraining mode we will use a simulated SFS. If we are in inference mode we will use a real SFS.\n",
    "\n",
    "    \"\"\"\n",
    "\n",
    "    if mode == \"pretrain\":\n",
    "        # Simulate the demographic model\n",
    "        g = demographic_model(sampled_params)\n",
    "        demog = msprime.Demography.from_demes(g)\n",
    "\n",
    "        # Dynamically define the samples using msprime.SampleSet, based on the sample_sizes dictionary\n",
    "        samples = [\n",
    "            msprime.SampleSet(sample_size, population=pop_name, ploidy=1)\n",
    "            for pop_name, sample_size in num_samples.items()\n",
    "        ]\n",
    "\n",
    "        # Simulate ancestry for two populations (joint simulation)\n",
    "        ts = msprime.sim_ancestry(\n",
    "            samples=samples,  # Two populations\n",
    "            demography=demog,\n",
    "            sequence_length=length,\n",
    "            recombination_rate=recombination_rate,\n",
    "            random_seed=295,\n",
    "        )\n",
    "\n",
    "        # Check the samples for each population dynamically\n",
    "        for pop in ts.populations():\n",
    "            print(f\"Population {pop.id} samples:\", ts.samples(population=pop.id))\n",
    "\n",
    "        \n",
    "        # Simulate mutations over the ancestry tree sequence\n",
    "        ts = msprime.sim_mutations(ts, rate=mutation_rate)\n",
    "\n",
    "        # Define sample sets dynamically for the SFS\n",
    "        sample_sets = [\n",
    "            ts.samples(population=pop.id) \n",
    "            for pop in ts.populations() \n",
    "            if len(ts.samples(population=pop.id)) > 0  # Exclude populations with no samples\n",
    "        ]\n",
    "        \n",
    "        # Create the joint allele frequency spectrum\n",
    "        sfs = ts.allele_frequency_spectrum(sample_sets=sample_sets, mode=\"site\", polarised=True)\n",
    "        \n",
    "        # Multiply SFS by the sequence length to adjust scale\n",
    "        sfs *= length\n",
    "\n",
    "        # Convert to moments Spectrum for further use\n",
    "        sfs = moments.Spectrum(sfs)\n",
    "    \n",
    "    elif mode == \"inference\":\n",
    "        vcf_file = kwargs.get(\"vcf_file\", None)\n",
    "        pop_file = kwargs.get(\"pop_file\", None)\n",
    "        popname = kwargs.get(\"popname\", None)\n",
    "\n",
    "        if vcf_file is None or pop_file is None:\n",
    "            raise ValueError(\n",
    "                \"vcf_file and pop_file must be provided in inference mode.\"\n",
    "            )\n",
    "\n",
    "        dd = dadi.Misc.make_data_dict_vcf(vcf_file, pop_file)\n",
    "        sfs = dadi.Spectrum.from_data_dict(\n",
    "            dd, [popname], projections=[2 * num_samples], polarized=True\n",
    "        )\n",
    "\n",
    "    return sfs"
   ]
  },
  {
   "cell_type": "code",
   "execution_count": null,
   "metadata": {},
   "outputs": [],
   "source": [
    "sample_sizes = {\n",
    "    \"N1\": 15,  # 15 samples from population 1\n",
    "    \"N2\": 8    # 8 samples from population 2\n",
    "}\n",
    "\n",
    "sfs = create_SFS(\n",
    "    sampled_params, 'pretrain', sample_sizes, demographic_model = split_isolation_model_simulation, length=1e8, mutation_rate=5.7e-9, recombination_rate = 3.386e-9)"
   ]
  },
  {
   "cell_type": "code",
   "execution_count": null,
   "metadata": {},
   "outputs": [],
   "source": [
    "sfs.shape"
   ]
  },
  {
   "cell_type": "code",
   "execution_count": 10,
   "metadata": {},
   "outputs": [],
   "source": [
    "from src.parameter_inference import run_inference_dadi, run_inference_moments\n",
    "from src.demographic_models import split_isolation_model_dadi, split_isolation_model_moments"
   ]
  },
  {
   "cell_type": "code",
   "execution_count": null,
   "metadata": {},
   "outputs": [],
   "source": [
    "sampled_params"
   ]
  },
  {
   "cell_type": "code",
   "execution_count": 12,
   "metadata": {},
   "outputs": [],
   "source": [
    "p0 = [sampled_params[\"N1\"]/sampled_params['Na'], sampled_params[\"N2\"]/sampled_params['Na'], sampled_params[\"t_split\"]/(2*sampled_params['Na']), sampled_params[\"m\"]/(2*sampled_params['Na'])]\n",
    "num_samples = [sample_sizes['N1'], sample_sizes['N2']]\n",
    "demographic_model = \"split_isolation_model\"\n",
    "k = 3"
   ]
  },
  {
   "cell_type": "code",
   "execution_count": null,
   "metadata": {},
   "outputs": [],
   "source": [
    "p0"
   ]
  },
  {
   "cell_type": "code",
   "execution_count": 14,
   "metadata": {},
   "outputs": [],
   "source": [
    "demographic_model = \"split_isolation_model\""
   ]
  },
  {
   "cell_type": "code",
   "execution_count": 15,
   "metadata": {},
   "outputs": [],
   "source": [
    "import src.demographic_models as demographic_models\n",
    "num_samples = 100"
   ]
  },
  {
   "cell_type": "code",
   "execution_count": null,
   "metadata": {},
   "outputs": [],
   "source": [
    "model_list, opt_theta_list, opt_params_final_list, ll_list = run_inference_dadi(\n",
    "    sfs,\n",
    "    p0,\n",
    "    num_samples = 100,\n",
    "    demographic_model = demographic_model,\n",
    "    k = k,\n",
    "    lower_bound=[1e-12, 1e-12, 1e-12, 1e-12], # [N1, N2 , t_split, m]\n",
    "    upper_bound=[None, None, None, 1e-4], # [N1, N2, t_split, m]\n",
    "    mutation_rate=mutation_rate,\n",
    "    length=1e8,\n",
    "    top_values_k = 1\n",
    ")"
   ]
  },
  {
   "cell_type": "code",
   "execution_count": null,
   "metadata": {},
   "outputs": [],
   "source": [
    "sampled_params['Na']"
   ]
  },
  {
   "cell_type": "code",
   "execution_count": null,
   "metadata": {},
   "outputs": [],
   "source": [
    "model_list[0].shape"
   ]
  },
  {
   "cell_type": "code",
   "execution_count": null,
   "metadata": {},
   "outputs": [],
   "source": [
    "plt.figure()\n",
    "plt.imshow(model_list[0])"
   ]
  },
  {
   "cell_type": "code",
   "execution_count": null,
   "metadata": {},
   "outputs": [],
   "source": [
    "plt.figure()\n",
    "plt.imshow(sfs)"
   ]
  },
  {
   "cell_type": "code",
   "execution_count": null,
   "metadata": {},
   "outputs": [],
   "source": [
    "opt_params_final_list[0]"
   ]
  },
  {
   "cell_type": "code",
   "execution_count": null,
   "metadata": {},
   "outputs": [],
   "source": [
    "sampled_params"
   ]
  },
  {
   "cell_type": "code",
   "execution_count": null,
   "metadata": {},
   "outputs": [],
   "source": [
    "model_list, opt_theta_list, opt_params_final_list, ll_list = run_inference_moments(\n",
    "    sfs,\n",
    "    p0,\n",
    "    demographic_model = demographic_model,\n",
    "    k = k,\n",
    "    lower_bound=[1e-4, 1e-4, 1e-4, 1e-12], # [N1, N2 , t_split, m]\n",
    "    upper_bound=[None, None, None, 1e-4], # [N1, N2, t_split, m]\n",
    "    mutation_rate=mutation_rate,\n",
    "    length=1e8,\n",
    "    top_values_k = 1\n",
    ")"
   ]
  },
  {
   "cell_type": "code",
   "execution_count": null,
   "metadata": {},
   "outputs": [],
   "source": [
    "opt_params_final_list[0]"
   ]
  },
  {
   "cell_type": "code",
   "execution_count": null,
   "metadata": {},
   "outputs": [],
   "source": [
    "sampled_params"
   ]
  },
  {
   "cell_type": "code",
   "execution_count": null,
   "metadata": {},
   "outputs": [],
   "source": [
    "model_list[0].shape"
   ]
  },
  {
   "cell_type": "markdown",
   "metadata": {},
   "source": [
    "# Moments LD"
   ]
  },
  {
   "cell_type": "code",
   "execution_count": 2,
   "metadata": {},
   "outputs": [],
   "source": [
    "upper_bound_params = {\n",
    "    \"t_split\": 5000, \n",
    "    \"m\": 1e-4,\n",
    "    \"N1\": 10000,\n",
    "    \"N2\": 10000,\n",
    "    \"Na\": 20000\n",
    "}\n",
    "\n",
    "lower_bound_params =  {\n",
    "    \"t_split\": 100, \n",
    "    \"m\": 1e-8,\n",
    "    \"N1\": 100,\n",
    "    \"N2\": 100,\n",
    "    \"Na\": 100\n",
    "\n",
    "}"
   ]
  },
  {
   "cell_type": "code",
   "execution_count": 3,
   "metadata": {},
   "outputs": [],
   "source": [
    "def sample_params():\n",
    "    sampled_params = {}\n",
    "    for key in lower_bound_params:\n",
    "        lower_bound = lower_bound_params[key]\n",
    "        upper_bound = upper_bound_params[key]\n",
    "        sampled_value = np.random.uniform(lower_bound, upper_bound)\n",
    "\n",
    "        # Initialize adjusted_value with sampled_value by default\n",
    "        adjusted_value = sampled_value\n",
    "\n",
    "        # Check if the sampled parameter is equal to the mean of the uniform distribution\n",
    "        mean_value = (lower_bound + upper_bound) / 2\n",
    "        if sampled_value == mean_value:\n",
    "            # Add a small random value to avoid exact mean, while keeping within bounds\n",
    "            adjustment = np.random.uniform(-0.1 * (upper_bound - lower_bound), 0.1 * (upper_bound - lower_bound))\n",
    "            adjusted_value = sampled_value + adjustment\n",
    "            # Ensure the adjusted value is still within the bounds\n",
    "            adjusted_value = max(min(adjusted_value, upper_bound), lower_bound)\n",
    "\n",
    "        # Assign adjusted_value to sampled_params\n",
    "        if key == \"m\":\n",
    "            sampled_params[key] = adjusted_value\n",
    "        else:\n",
    "            sampled_params[key] = int(adjusted_value)\n",
    "\n",
    "    return sampled_params"
   ]
  },
  {
   "cell_type": "code",
   "execution_count": 4,
   "metadata": {},
   "outputs": [
    {
     "name": "stdout",
     "output_type": "stream",
     "text": [
      "{'t_split': 1412, 'm': 3.747457207511364e-05, 'N1': 3430, 'N2': 2260, 'Na': 5579}\n"
     ]
    }
   ],
   "source": [
    "sampled_params = sample_params()\n",
    "print(sampled_params)"
   ]
  },
  {
   "cell_type": "code",
   "execution_count": 5,
   "metadata": {},
   "outputs": [],
   "source": [
    "import os\n",
    "os.chdir('/sietch_colab/akapoor/Demographic_Inference/')"
   ]
  },
  {
   "cell_type": "code",
   "execution_count": 6,
   "metadata": {},
   "outputs": [],
   "source": [
    "from src.demographic_models import split_isolation_model_simulation"
   ]
  },
  {
   "cell_type": "code",
   "execution_count": 7,
   "metadata": {},
   "outputs": [],
   "source": [
    "# from src.parameter_inference import run_inference_momentsLD\n",
    "import src.demographic_models as demographic_models\n",
    "# from src.demographic_models import split_isolation_model_momentsLD\n",
    "from src.preprocess import Processor\n",
    "import json"
   ]
  },
  {
   "cell_type": "code",
   "execution_count": 8,
   "metadata": {},
   "outputs": [],
   "source": [
    "demographic_model = demographic_models.split_isolation_model_simulation\n",
    "sim_directory = '/sietch_colab/akapoor/Demographic_Inference/split_isolation_testing'\n",
    "sim_number = 1\n",
    "\n",
    "with open(\"/sietch_colab/akapoor/Demographic_Inference/experiment_config.json\") as f:\n",
    "    experiment_config = json.load(f)\n",
    "\n",
    "mutation_rate = experiment_config['mutation_rate']\n",
    "recombination_rate = experiment_config['recombination_rate']\n",
    "length = experiment_config['genome_length']\n",
    "window_length = experiment_config['window_length']"
   ]
  },
  {
   "cell_type": "code",
   "execution_count": 9,
   "metadata": {},
   "outputs": [],
   "source": [
    "# Simulate process and save windows as VCF files\n",
    "g = demographic_model(sampled_params)"
   ]
  },
  {
   "cell_type": "code",
   "execution_count": 10,
   "metadata": {},
   "outputs": [
    {
     "name": "stderr",
     "output_type": "stream",
     "text": [
      "100%|██████████| 100/100 [00:04<00:00, 23.13it/s]"
     ]
    },
    {
     "name": "stdout",
     "output_type": "stream",
     "text": [
      "Metadata file written to /sietch_colab/akapoor/Demographic_Inference/split_isolation_testing/sampled_genome_windows/sim_1/metadata.txt\n",
      "MSPRIME REPLICATES DONE!!!!!!\n",
      "SAMPLES AND REC MAP WRITTEN!!!!!!\n"
     ]
    },
    {
     "name": "stderr",
     "output_type": "stream",
     "text": [
      "\n"
     ]
    }
   ],
   "source": [
    "directory_for_windows = f\"{sim_directory}/sampled_genome_windows/sim_{sim_number}\"\n",
    "Processor.run_msprime_replicates(experiment_config, g, directory_for_windows)\n",
    "print(\"MSPRIME REPLICATES DONE!!!!!!\")\n",
    "samples_file, flat_map_file = Processor.write_samples_and_rec_map(experiment_config, directory_for_windows)\n",
    "print(\"SAMPLES AND REC MAP WRITTEN!!!!!!\")"
   ]
  },
  {
   "cell_type": "code",
   "execution_count": 32,
   "metadata": {},
   "outputs": [],
   "source": [
    "flat_map_path = '/sietch_colab/akapoor/Demographic_Inference/split_isolation_testing/sampled_genome_windows/sim_1/flat_map.txt'\n",
    "samples_path = '/sietch_colab/akapoor/Demographic_Inference/split_isolation_testing/sampled_genome_windows/sim_1/samples.txt'\n",
    "metadata_path = '/sietch_colab/akapoor/Demographic_Inference/split_isolation_testing/sampled_genome_windows/sim_1/metadata.txt'\n",
    "p_guess = [sampled_params[\"N1\"]/sampled_params['Na'], sampled_params[\"N2\"]/sampled_params['Na'], sampled_params[\"t_split\"]/(2*sampled_params['Na']), 0.1, 5000] # Not sure if I need to provide the ancestral population size\n",
    "demographic_model = \"split_isolation_model\"\n"
   ]
  },
  {
   "cell_type": "code",
   "execution_count": 15,
   "metadata": {},
   "outputs": [
    {
     "data": {
      "text/plain": [
       "{'t_split': 1412,\n",
       " 'm': 3.747457207511364e-05,\n",
       " 'N1': 3430,\n",
       " 'N2': 2260,\n",
       " 'Na': 5579}"
      ]
     },
     "execution_count": 15,
     "metadata": {},
     "output_type": "execute_result"
    }
   ],
   "source": [
    "sampled_params"
   ]
  },
  {
   "cell_type": "code",
   "execution_count": 33,
   "metadata": {},
   "outputs": [
    {
     "data": {
      "text/plain": [
       "[0.6148055207026348, 0.405090518013981, 0.12654597598135867, 0.1, 5000]"
      ]
     },
     "execution_count": 33,
     "metadata": {},
     "output_type": "execute_result"
    }
   ],
   "source": [
    "p_guess"
   ]
  },
  {
   "cell_type": "code",
   "execution_count": 17,
   "metadata": {},
   "outputs": [],
   "source": [
    "import ray"
   ]
  },
  {
   "cell_type": "code",
   "execution_count": 18,
   "metadata": {},
   "outputs": [],
   "source": [
    "@ray.remote\n",
    "def get_LD_stats(vcf_file, r_bins, flat_map_path, pop_file_path):\n",
    "    # start_time = time.time()\n",
    "    ld_stats = moments.LD.Parsing.compute_ld_statistics(  # type: ignore\n",
    "        vcf_file,\n",
    "        rec_map_file=flat_map_path,\n",
    "        pop_file=pop_file_path,\n",
    "        pops=[\"N1\", \"N2\"], #TODO: FIX LATER\n",
    "        r_bins=r_bins,\n",
    "        report=False,\n",
    "    )\n",
    "    # end_time = time.time()\n",
    "\n",
    "    # print(f\"LD stats for {vcf_file} computed in {end_time - start_time} seconds\")\n",
    "\n",
    "    return ld_stats\n"
   ]
  },
  {
   "cell_type": "code",
   "execution_count": 19,
   "metadata": {},
   "outputs": [],
   "source": [
    "def compute_ld_stats_parallel(folderpath, num_reps, r_bins):\n",
    "    flat_map_path = os.path.join(folderpath, \"flat_map.txt\")\n",
    "    pop_file_path = os.path.join(folderpath, \"samples.txt\")\n",
    "    vcf_files = [\n",
    "        os.path.join(folderpath, f\"window.{rep_ii}.vcf.gz\")\n",
    "        for rep_ii in range(num_reps)\n",
    "    ]\n",
    "\n",
    "    # Launch the tasks in parallel using Ray\n",
    "    futures = [\n",
    "        get_LD_stats.remote(vcf_file, r_bins, flat_map_path, pop_file_path)\n",
    "        for vcf_file in vcf_files\n",
    "    ]\n",
    "\n",
    "    # Wait for all the tasks to complete and retrieve results\n",
    "    results = ray.get(futures)\n",
    "    return results"
   ]
  },
  {
   "cell_type": "code",
   "execution_count": 20,
   "metadata": {},
   "outputs": [],
   "source": [
    "# def compute_ld_stats_sequential(flat_map_path, samples_path, metadata_path, r_bins):\n",
    "#     # Start by defining paths\n",
    "    \n",
    "#     # List of VCF files\n",
    "#     # Read the file and store each line (filepath) into a list\n",
    "#     with open(metadata_path, 'r') as f:\n",
    "#         vcf_files = [line.strip() for line in f]\n",
    "\n",
    "#     # List to store LD statistics results\n",
    "#     ld_stats_list = []\n",
    "\n",
    "#     # Sequentially compute LD statistics for each VCF file\n",
    "#     for vcf_file in vcf_files:\n",
    "#         ld_stats = get_LD_stats(vcf_file, r_bins, flat_map_path, samples_path)\n",
    "#         ld_stats_list.append(ld_stats)\n",
    "    \n",
    "#     return ld_stats_list\n"
   ]
  },
  {
   "cell_type": "code",
   "execution_count": 21,
   "metadata": {},
   "outputs": [],
   "source": [
    "def run_inference_momentsLD(\n",
    "    flat_map_path, samples_path, metadata_path, p_guess, demographic_model, maxiter=20\n",
    "):\n",
    "    \"\"\"\n",
    "    This should do the parameter inference for momentsLD\n",
    "    index: unique simulation number\n",
    "    \"\"\"\n",
    "\n",
    "    r_bins = np.array([0, 1e-6, 2e-6, 5e-6, 1e-5, 2e-5, 5e-5, 1e-4, 2e-4, 5e-4, 1e-3])\n",
    "\n",
    "    print(\"parsing LD statistics\")\n",
    "\n",
    "    ld_stats = {}\n",
    "    results = compute_ld_stats_parallel(flat_map_path, samples_path, experiment_config['num_windows'], r_bins)\n",
    "\n",
    "    for i, result in enumerate(results):\n",
    "        ld_stats[i] = result\n",
    "\n",
    "    # print(\"computing mean and varcov matrix from LD statistics sums\")\n",
    "    mv = moments.LD.Parsing.bootstrap_data(ld_stats)  # type: ignore\n",
    "    print(\"SHAPE OF THE COVARIANCE MATRIX\")\n",
    "    print(mv[\"varcovs\"][-1].shape)\n",
    "    # mv[\"varcovs\"][-1].shape = (1, 1)\n",
    "\n",
    "    if demographic_model == \"bottleneck_model\":\n",
    "        demo_func = moments.LD.Demographics1D.three_epoch # type: ignore\n",
    "\n",
    "    elif demographic_model == \"split_isolation_model\":\n",
    "        demo_func = demographic_models.split_isolation_model_momentsLD\n",
    "\n",
    "    else:\n",
    "        raise ValueError(f\"Unsupported demographic model: {demographic_model}\")\n",
    "\n",
    "    # Set up the initial guess\n",
    "    p_guess = moments.LD.Util.perturb_params(p_guess, fold=1)  # type: ignore\n",
    "    \n",
    "    # Define necessary arguments for the new opt function\n",
    "    # p0 = p_guess  # Initial parameters guess\n",
    "    # data = [mv[\"means\"], mv[\"varcovs\"]]  # Means and varcovs\n",
    "    # model_func = demo_func  # Demographic model function\n",
    "    # func_args = [r_bins]  # Pass r_bins as part of additional function arguments\n",
    "    # ftol_abs = 1e-6  # You can specify or adjust these based on your use case\n",
    "    # xtol_abs = 1e-6\n",
    "    # maxeval = maxiter  # Use maxiter as max function evaluations   \n",
    "    \n",
    "    # opt_params, LL = ld_opt(\n",
    "    #     p0=p0,\n",
    "    #     data=data,\n",
    "    #     model_func=model_func,\n",
    "    #     lower_bound=None,  # Add your actual lower bounds if applicable\n",
    "    #     upper_bound=None,  # Add your actual upper bounds if applicable\n",
    "    #     func_args=func_args,\n",
    "    #     ftol_abs=ftol_abs,\n",
    "    #     xtol_abs=xtol_abs,\n",
    "    #     maxeval=maxeval,\n",
    "    #     verbose=0\n",
    "    # )\n",
    "\n",
    "    opt_params, LL = moments.LD.Inference.optimize_log_lbfgsb( #type:ignore\n",
    "    p_guess, [mv[\"means\"], mv[\"varcovs\"]], [demo_func], rs=r_bins, verbose = 3\n",
    "    )\n",
    "\n",
    "    opt_params_dict = {}\n",
    "    if demographic_model == \"bottleneck_model\":\n",
    "\n",
    "        opt_params_dict = {\n",
    "            # \"N0\": opt_params[4],\n",
    "            \"Nb\": opt_params[0] * opt_params[4],\n",
    "            \"N_recover\": opt_params[1] * opt_params[4],\n",
    "            \"t_bottleneck_start\": (opt_params[2]+opt_params[3]) * 2 * opt_params[4],\n",
    "            \"t_bottleneck_end\": opt_params[3] * 2 * opt_params[4]\n",
    "        }\n",
    "\n",
    "    elif demographic_model == \"split_isolation_model\":\n",
    "        physical_units = moments.LD.Util.rescale_params( #type:ignore\n",
    "        opt_params, [\"nu\", \"nu\", \"T\", \"Ne\"]\n",
    "        )\n",
    "\n",
    "        print(physical_units)\n",
    "\n",
    "        opt_params_dict = {\n",
    "            \"N1\": physical_units[0],\n",
    "            \"N2\": physical_units[1],\n",
    "            \"t_split\": physical_units[2]\n",
    "        }\n",
    "    \n",
    "    print(f'Moments LD results: {opt_params_dict}')\n",
    "\n",
    "    return opt_params_dict\n"
   ]
  },
  {
   "cell_type": "code",
   "execution_count": 22,
   "metadata": {},
   "outputs": [
    {
     "name": "stdout",
     "output_type": "stream",
     "text": [
      "parsing LD statistics\n"
     ]
    },
    {
     "name": "stderr",
     "output_type": "stream",
     "text": [
      "2024-10-14 12:03:49,807\tINFO worker.py:1781 -- Started a local Ray instance.\n",
      "100it [00:00, 544714.81it/s]\n"
     ]
    }
   ],
   "source": [
    "r_bins = np.array([0, 1e-6, 2e-6, 5e-6, 1e-5, 2e-5, 5e-5, 1e-4, 2e-4, 5e-4, 1e-3])\n",
    "folderpath = '/sietch_colab/akapoor/Demographic_Inference/split_isolation_testing/sampled_genome_windows/sim_1'\n",
    "print(\"parsing LD statistics\")\n",
    "\n",
    "ld_stats = {}\n",
    "results = compute_ld_stats_parallel(folderpath, experiment_config['num_windows'], r_bins)\n",
    "\n",
    "for i, result in tqdm(enumerate(results)):\n",
    "    ld_stats[i] = result\n"
   ]
  },
  {
   "cell_type": "code",
   "execution_count": 23,
   "metadata": {},
   "outputs": [
    {
     "data": {
      "text/plain": [
       "{'bins': [(0.0, 1e-06),\n",
       "  (1e-06, 2e-06),\n",
       "  (2e-06, 5e-06),\n",
       "  (5e-06, 1e-05),\n",
       "  (1e-05, 2e-05),\n",
       "  (2e-05, 5e-05),\n",
       "  (5e-05, 0.0001),\n",
       "  (0.0001, 0.0002),\n",
       "  (0.0002, 0.0005),\n",
       "  (0.0005, 0.001)],\n",
       " 'sums': [array([ 0.15931875,  0.11144887,  0.11635349,  0.06188198, -0.01807359,\n",
       "         -0.05845571,  0.24048609,  0.17905619,  0.19519336,  0.77045739,\n",
       "          0.73222252,  0.63807013,  0.71532464,  0.63920629,  0.58510349]),\n",
       "  array([ 0.13452951,  0.09458556,  0.11459695,  0.13797562,  0.18291246,\n",
       "          0.26633633,  0.05459002, -0.00832776,  0.04266068,  0.58257718,\n",
       "          0.59268503,  0.55184637,  0.61837165,  0.58393331,  0.55382285]),\n",
       "  array([0.58044543, 0.37463394, 0.40355392, 0.29506152, 0.2752886 ,\n",
       "         0.37296636, 0.3379276 , 0.18389316, 0.2939951 , 2.59930508,\n",
       "         2.58422318, 2.38835307, 2.59225881, 2.40500188, 2.23125   ]),\n",
       "  array([ 0.89449761,  0.60389434,  0.58910675,  0.82886193,  0.83781566,\n",
       "          1.15753119,  0.03047633, -0.1893568 ,  0.1524646 ,  4.38815362,\n",
       "          4.39465676,  4.05475359,  4.4579434 ,  4.13962697,  3.84932938]),\n",
       "  array([1.58340738, 1.0786701 , 1.16480801, 0.94822853, 0.65410654,\n",
       "         0.75523795, 0.96476318, 0.7828747 , 1.28772467, 7.77104124,\n",
       "         7.81822992, 7.32275486, 7.91353309, 7.42574063, 6.95835376]),\n",
       "  array([ 3.71415186,  2.27181655,  2.62124864,  2.7945859 ,  2.38431938,\n",
       "          3.14341595,  1.45087075,  0.85447768,  2.26618328, 21.33223115,\n",
       "         21.65163164, 20.16923259, 22.07398477, 20.59742937, 19.17274986]),\n",
       "  array([ 4.92046594,  2.86522614,  3.47680419,  4.61502051,  4.41212121,\n",
       "          5.67088249,  1.34010624,  0.79447044,  2.79179602, 34.41564138,\n",
       "         34.68849282, 32.04783125, 35.16394866, 32.50086573, 29.86667347]),\n",
       "  array([ 5.85292493,  3.24370632,  5.21827342,  5.27569777,  5.59909512,\n",
       "          6.79685864,  3.37087613,  3.47050468,  6.47480937, 62.82823394,\n",
       "         63.15216037, 58.53346755, 63.50317602, 58.68755686, 53.83735022]),\n",
       "  array([  9.13291752,   3.99139504,  10.5296841 ,  10.16663249,\n",
       "          11.40901575,  11.5771546 ,   3.84779518,   7.19339071,\n",
       "           9.37037037, 164.98220124, 168.93997452, 157.38311158,\n",
       "         172.66557292, 160.66035528, 149.35668573]),\n",
       "  array([  7.14841365,   1.88023619,  10.50950436,   8.27649522,\n",
       "           7.24150433,   3.14909954,   1.12492573,   2.97423685,\n",
       "           7.16563181, 267.44328577, 271.43784797, 251.56112243,\n",
       "         274.79493022, 254.4509978 , 235.42231073]),\n",
       "  array([121.15151515, 137.12121212, 117.05882353])],\n",
       " 'stats': (['DD_0_0',\n",
       "   'DD_0_1',\n",
       "   'DD_1_1',\n",
       "   'Dz_0_0_0',\n",
       "   'Dz_0_0_1',\n",
       "   'Dz_0_1_1',\n",
       "   'Dz_1_0_0',\n",
       "   'Dz_1_0_1',\n",
       "   'Dz_1_1_1',\n",
       "   'pi2_0_0_0_0',\n",
       "   'pi2_0_0_0_1',\n",
       "   'pi2_0_0_1_1',\n",
       "   'pi2_0_1_0_1',\n",
       "   'pi2_0_1_1_1',\n",
       "   'pi2_1_1_1_1'],\n",
       "  ['H_0_0', 'H_0_1', 'H_1_1']),\n",
       " 'pops': ['N1', 'N2']}"
      ]
     },
     "execution_count": 23,
     "metadata": {},
     "output_type": "execute_result"
    }
   ],
   "source": [
    "ld_stats[0]"
   ]
  },
  {
   "cell_type": "code",
   "execution_count": 24,
   "metadata": {},
   "outputs": [
    {
     "name": "stdout",
     "output_type": "stream",
     "text": [
      "computing mean and varcov matrix from LD statistics sums\n"
     ]
    }
   ],
   "source": [
    "print(\"computing mean and varcov matrix from LD statistics sums\")\n",
    "mv = moments.LD.Parsing.bootstrap_data(ld_stats)"
   ]
  },
  {
   "cell_type": "code",
   "execution_count": 25,
   "metadata": {},
   "outputs": [
    {
     "data": {
      "text/plain": [
       "dict_keys(['bins', 'stats', 'pops', 'means', 'varcovs'])"
      ]
     },
     "execution_count": 25,
     "metadata": {},
     "output_type": "execute_result"
    }
   ],
   "source": [
    "mv.keys()"
   ]
  },
  {
   "cell_type": "code",
   "execution_count": 26,
   "metadata": {},
   "outputs": [
    {
     "data": {
      "text/plain": [
       "11"
      ]
     },
     "execution_count": 26,
     "metadata": {},
     "output_type": "execute_result"
    }
   ],
   "source": [
    "len(mv['varcovs'])"
   ]
  },
  {
   "cell_type": "code",
   "execution_count": 27,
   "metadata": {},
   "outputs": [
    {
     "data": {
      "text/plain": [
       "(15, 15)"
      ]
     },
     "execution_count": 27,
     "metadata": {},
     "output_type": "execute_result"
    }
   ],
   "source": [
    "mv['varcovs'][0].shape"
   ]
  },
  {
   "cell_type": "code",
   "execution_count": 28,
   "metadata": {},
   "outputs": [],
   "source": [
    "demo_func = moments.LD.Demographics2D.split_mig"
   ]
  },
  {
   "cell_type": "code",
   "execution_count": 29,
   "metadata": {},
   "outputs": [
    {
     "data": {
      "text/plain": [
       "[0.6148055207026348, 0.405090518013981, 0.12654597598135867, 0, 5000]"
      ]
     },
     "execution_count": 29,
     "metadata": {},
     "output_type": "execute_result"
    }
   ],
   "source": [
    "p_guess"
   ]
  },
  {
   "cell_type": "code",
   "execution_count": 34,
   "metadata": {},
   "outputs": [
    {
     "name": "stdout",
     "output_type": "stream",
     "text": [
      "15      , -669927     , array([ 0.600158   ,  0.420802   ,  0.125983   ,  0.0999428  ,  5297.07    ])\n",
      "18      , -672599     , array([ 0.600158   ,  0.420802   ,  0.126109   ,  0.0999428  ,  5297.07    ])\n",
      "21      , -43225.9    , array([ 0.872238   ,  0.706919   ,  0.0585841  ,  0.102007   ,  5661.4     ])\n",
      "24      , -43217.4    , array([ 0.872238   ,  0.706919   ,  0.0586427  ,  0.102007   ,  5661.4     ])\n",
      "27      , -42515.8    , array([ 0.875359   ,  0.707824   ,  0.0587184  ,  0.102008   ,  5739.17    ])\n",
      "30      , -42507.5    , array([ 0.875359   ,  0.707824   ,  0.0587772  ,  0.102008   ,  5739.17    ])\n",
      "33      , -39804.8    , array([ 0.887955   ,  0.711455   ,  0.0592589  ,  0.102009   ,  6061.11    ])\n",
      "36      , -39797.4    , array([ 0.887955   ,  0.711455   ,  0.0593181  ,  0.102009   ,  6061.11    ])\n",
      "39      , -30811.3    , array([ 0.940179   ,  0.726168   ,  0.0614708  ,  0.102016   ,  7539.86    ])\n",
      "42      , -30806.9    , array([ 0.940179   ,  0.726168   ,  0.0615323  ,  0.102016   ,  7539.86    ])\n",
      "45      , -17066.7    , array([ 1.08087    ,  0.802173   ,  0.0692013  ,  0.101963   ,  13433      ])\n",
      "48      , -17066.3    , array([ 1.08087    ,  0.802173   ,  0.0692705  ,  0.101963   ,  13433      ])\n",
      "51      , -12838.2    , array([ 1.17801    ,  0.903606   ,  0.0770861  ,  0.10189    ,  20019.9    ])\n",
      "54      , -12839.6    , array([ 1.17801    ,  0.903606   ,  0.0771632  ,  0.10189    ,  20019.9    ])\n",
      "57      , -11409      , array([ 1.29744    ,  1.01261    ,  0.0859126  ,  0.101811   ,  27380.2    ])\n",
      "60      , -11412.1    , array([ 1.29744    ,  1.01261    ,  0.0859985  ,  0.101811   ,  27380.2    ])\n",
      "63      , -11165.6    , array([ 1.43503    ,  1.05182    ,  0.0913929  ,  0.101742   ,  31360.6    ])\n",
      "66      , -11169.4    , array([ 1.43503    ,  1.05182    ,  0.0914843  ,  0.101742   ,  31360.6    ])\n",
      "69      , -11105.9    , array([ 1.53628    ,  1.08073    ,  0.0951417  ,  0.101692   ,  32641      ])\n",
      "72      , -11109.8    , array([ 1.53628    ,  1.08073    ,  0.0952369  ,  0.101692   ,  32641      ])\n",
      "75      , -11012.9    , array([ 1.71317    ,  1.16446    ,  0.103094   ,  0.101658   ,  33197.2    ])\n",
      "78      , -11016.8    , array([ 1.71317    ,  1.16446    ,  0.103197   ,  0.101658   ,  33197.2    ])\n",
      "81      , -10648.8    , array([ 2.66445    ,  1.64383    ,  0.146083   ,  0.101808   ,  32007.7    ])\n",
      "84      , -10652.4    , array([ 2.66445    ,  1.64383    ,  0.146229   ,  0.101808   ,  32007.7    ])\n",
      "87      , -10944.5    , array([ 10.7877    ,  5.19742    ,  0.455088   ,  0.102956   ,  23943.9    ])\n",
      "90      , -10950.5    , array([ 10.7877    ,  5.19742    ,  0.455543   ,  0.102956   ,  23943.9    ])\n",
      "93      , -10239.5    , array([ 5.01995    ,  2.7689     ,  0.244419   ,  0.102327   ,  28064.3    ])\n",
      "96      , -10243.3    , array([ 5.01995    ,  2.7689     ,  0.244663   ,  0.102327   ,  28064.3    ])\n",
      "99      , -9767.03    , array([ 7.10974    ,  3.67337    ,  0.321298   ,  0.103682   ,  23151.6    ])\n",
      "102     , -9770.69    , array([ 7.10974    ,  3.67337    ,  0.321619   ,  0.103682   ,  23151.6    ])\n",
      "105     , -16224.6    , array([ 7.8419     ,  7.33993    ,  0.105644   ,  0.109946   ,  13834.2    ])\n",
      "108     , -16215.5    , array([ 7.8419     ,  7.33993    ,  0.10575    ,  0.109946   ,  13834.2    ])\n",
      "111     , -9162.19    , array([ 7.25505    ,  4.23759    ,  0.255385   ,  0.104945   ,  20817.2    ])\n",
      "114     , -9160.28    , array([ 7.25505    ,  4.23759    ,  0.255641   ,  0.104945   ,  20817.2    ])\n",
      "117     , -7868.77    , array([ 16.8697    ,  8.27298    ,  0.554763   ,  0.110483   ,  9434       ])\n",
      "120     , -7870.35    , array([ 16.8697    ,  8.27298    ,  0.555318   ,  0.110483   ,  9434       ])\n",
      "123     , -6121.54    , array([ 18.3309    ,  8.40032    ,  0.633924   ,  0.108626   ,  5361       ])\n",
      "126     , -6123.28    , array([ 18.3309    ,  8.40032    ,  0.634558   ,  0.108626   ,  5361       ])\n",
      "129     , -196571     , array([ 2.89853    ,  13.6235    ,  0.860604   ,  0.0779708  ,  83.7419    ])\n",
      "132     , -196456     , array([ 2.89853    ,  13.6235    ,  0.861465   ,  0.0779708  ,  83.7419    ])\n",
      "135     , -3853.28    , array([ 12.7801    ,  9.23344    ,  0.672979   ,  0.101806   ,  2376.81    ])\n",
      "138     , -3849.72    , array([ 12.7801    ,  9.23344    ,  0.673652   ,  0.101806   ,  2376.81    ])\n",
      "141     , -3816.39    , array([ 12.207     ,  12.5789    ,  1.00648    ,  0.0988295  ,  1228.56    ])\n",
      "144     , -3818.53    , array([ 12.207     ,  12.5789    ,  1.00749    ,  0.0988295  ,  1228.56    ])\n",
      "147     , -3530.64    , array([ 12.51      ,  10.6629    ,  0.811663   ,  0.100409   ,  1748.15    ])\n",
      "150     , -3529.36    , array([ 12.51      ,  10.6629    ,  0.812475   ,  0.100409   ,  1748.15    ])\n",
      "153     , -3424.14    , array([ 10.3015    ,  9.33163    ,  0.79607    ,  0.0987866  ,  1821.07    ])\n",
      "156     , -3423.43    , array([ 10.3015    ,  9.33163    ,  0.796866   ,  0.0987866  ,  1821.07    ])\n",
      "159     , -3387.01    , array([ 10.2827    ,  7.75184    ,  0.802146   ,  0.0997865  ,  1962.51    ])\n",
      "162     , -3387.83    , array([ 10.2827    ,  7.75184    ,  0.802949   ,  0.0997865  ,  1962.51    ])\n",
      "165     , -3372.1     , array([ 10.0776    ,  7.96226    ,  0.786452   ,  0.100054   ,  1935.38    ])\n",
      "168     , -3372.02    , array([ 10.0776    ,  7.96226    ,  0.787239   ,  0.100054   ,  1935.38    ])\n",
      "171     , -3371.39    , array([ 10.0659    ,  7.96344    ,  0.789673   ,  0.100445   ,  1922.41    ])\n",
      "174     , -3371.37    , array([ 10.0659    ,  7.96344    ,  0.790463   ,  0.100445   ,  1922.41    ])\n",
      "177     , -3368.38    , array([ 9.99648    ,  7.91304    ,  0.796503   ,  0.103182   ,  1896.03    ])\n",
      "180     , -3368.48    , array([ 9.99648    ,  7.91304    ,  0.7973     ,  0.103182   ,  1896.03    ])\n",
      "183     , -3357.42    , array([ 9.77208    ,  7.76095    ,  0.813604   ,  0.115982   ,  1838.85    ])\n",
      "186     , -3357.79    , array([ 9.77208    ,  7.76095    ,  0.814418   ,  0.115982   ,  1838.85    ])\n",
      "189     , -3264.5     , array([ 8.71611    ,  7.00415    ,  0.886484   ,  0.21882    ,  1642.74    ])\n",
      "192     , -3265.07    , array([ 8.71611    ,  7.00415    ,  0.887371   ,  0.21882    ,  1642.74    ])\n",
      "195     , -8950.02    , array([ 5.51651    ,  4.64642    ,  1.24941    ,  2.77253    ,  1046.29    ])\n",
      "198     , -8946.25    , array([ 5.51651    ,  4.64642    ,  1.25066    ,  2.77253    ,  1046.29    ])\n",
      "201     , -3205.28    , array([ 8.35602    ,  6.74397    ,  0.914991   ,  0.276568   ,  1575.79    ])\n",
      "204     , -3205.54    , array([ 8.35602    ,  6.74397    ,  0.915907   ,  0.276568   ,  1575.79    ])\n",
      "207     , -3144.44    , array([ 8.03211    ,  6.50895    ,  0.942535   ,  0.34444    ,  1515.53    ])\n",
      "210     , -3144.23    , array([ 8.03211    ,  6.50895    ,  0.943478   ,  0.34444    ,  1515.53    ])\n",
      "213     , -3851.05    , array([ 6.65652    ,  5.49939    ,  1.08518    ,  0.977226   ,  1259.24    ])\n",
      "216     , -3848.16    , array([ 6.65652    ,  5.49939    ,  1.08626    ,  0.977226   ,  1259.24    ])\n",
      "219     , -3098.22    , array([ 7.70778    ,  6.27265    ,  0.972135   ,  0.432994   ,  1455.16    ])\n",
      "222     , -3097.38    , array([ 7.70778    ,  6.27265    ,  0.973108   ,  0.432994   ,  1455.16    ])\n",
      "225     , -3093.32    , array([ 7.58785    ,  6.18501    ,  0.98364    ,  0.47238    ,  1432.83    ])\n",
      "228     , -3092.23    , array([ 7.58785    ,  6.18501    ,  0.984624   ,  0.47238    ,  1432.83    ])\n",
      "231     , -17611.9    , array([ 3.61797    ,  3.18135    ,  1.34749    ,  9.38224    ,  1142.85    ])\n",
      "234     , -17608.7    , array([ 3.61797    ,  3.18135    ,  1.34884    ,  9.38224    ,  1142.85    ])\n",
      "237     , -3090.72    , array([ 7.53157    ,  6.14381    ,  0.986757   ,  0.486786   ,  1429.58    ])\n",
      "240     , -3089.54    , array([ 7.53157    ,  6.14381    ,  0.987744   ,  0.486786   ,  1429.58    ])\n",
      "243     , -2911.85    , array([ 6.31098    ,  5.24618    ,  0.959208   ,  0.630906   ,  1671.18    ])\n",
      "246     , -2910.37    , array([ 6.31098    ,  5.24618    ,  0.960168   ,  0.630906   ,  1671.18    ])\n",
      "249     , -2715.67    , array([ 3.87649    ,  3.84036    ,  0.878734   ,  1.12495    ,  2998.66    ])\n",
      "252     , -2714.5     , array([ 3.87649    ,  3.84036    ,  0.879614   ,  1.12495    ,  2998.66    ])\n",
      "255     , -6169.93    , array([ 2.35783    ,  1.27088    ,  0.714945   ,  1.59916    ,  4847.49    ])\n",
      "258     , -6166.28    , array([ 2.35783    ,  1.27088    ,  0.71566    ,  1.59916    ,  4847.49    ])\n",
      "261     , -2667.41    , array([ 3.52923    ,  3.11685    ,  0.845176   ,  1.20218    ,  3283.23    ])\n",
      "264     , -2665.64    , array([ 3.52923    ,  3.11685    ,  0.846022   ,  1.20218    ,  3283.23    ])\n",
      "267     , -2629.38    , array([ 4.17961    ,  3.56951    ,  0.873242   ,  0.919864   ,  2873.32    ])\n",
      "270     , -2628.45    , array([ 4.17961    ,  3.56951    ,  0.874116   ,  0.919864   ,  2873.32    ])\n",
      "273     , -2591.43    , array([ 4.22185    ,  3.61182    ,  0.916107   ,  0.981219   ,  2655.59    ])\n",
      "276     , -2590.4     , array([ 4.22185    ,  3.61182    ,  0.917023   ,  0.981219   ,  2655.59    ])\n",
      "279     , -2547.5     , array([ 3.82652    ,  3.37138    ,  0.946522   ,  1.0943     ,  2701.75    ])\n",
      "282     , -2546.33    , array([ 3.82652    ,  3.37138    ,  0.947469   ,  1.0943     ,  2701.75    ])\n",
      "285     , -2499.16    , array([ 3.20681    ,  2.70815    ,  1.0861     ,  1.45089    ,  3030.79    ])\n",
      "288     , -2498.34    , array([ 3.20681    ,  2.70815    ,  1.08719    ,  1.45089    ,  3030.79    ])\n",
      "291     , -2412.04    , array([ 3.10284    ,  2.76183    ,  1.13403    ,  1.3048     ,  2977.56    ])\n",
      "294     , -2411.59    , array([ 3.10284    ,  2.76183    ,  1.13517    ,  1.3048     ,  2977.56    ])\n",
      "297     , -2387.31    , array([ 3.07052    ,  2.68887    ,  1.18028    ,  1.31887    ,  3154.12    ])\n",
      "300     , -2387.14    , array([ 3.07052    ,  2.68887    ,  1.18146    ,  1.31887    ,  3154.12    ])\n",
      "303     , -2369.01    , array([ 2.75192    ,  2.42918    ,  1.27892    ,  1.4711     ,  3504.21    ])\n",
      "306     , -2368.84    , array([ 2.75192    ,  2.42918    ,  1.2802     ,  1.4711     ,  3504.21    ])\n",
      "309     , -2361.44    , array([ 2.66949    ,  2.36495    ,  1.38009    ,  1.54131    ,  3612.87    ])\n",
      "312     , -2361.34    , array([ 2.66949    ,  2.36495    ,  1.38147    ,  1.54131    ,  3612.87    ])\n",
      "315     , -2356.98    , array([ 2.65305    ,  2.34064    ,  1.46914    ,  1.55544    ,  3663.34    ])\n",
      "318     , -2356.93    , array([ 2.65305    ,  2.34064    ,  1.47061    ,  1.55544    ,  3663.34    ])\n",
      "321     , -2355.31    , array([ 2.58261    ,  2.28074    ,  1.57646    ,  1.59589    ,  3784.49    ])\n",
      "324     , -2355.29    , array([ 2.58261    ,  2.28074    ,  1.57804    ,  1.59589    ,  3784.49    ])\n",
      "327     , -2357.46    , array([ 2.56017    ,  2.31457    ,  1.68774    ,  1.62901    ,  3886.71    ])\n",
      "330     , -2357.45    , array([ 2.56017    ,  2.31457    ,  1.68943    ,  1.62901    ,  3886.71    ])\n",
      "333     , -2354.86    , array([ 2.57608    ,  2.29049    ,  1.60792    ,  1.60541    ,  3813.83    ])\n",
      "336     , -2354.84    , array([ 2.57608    ,  2.29049    ,  1.60953    ,  1.60541    ,  3813.83    ])\n",
      "339     , -2354.18    , array([ 2.57636    ,  2.27866    ,  1.66104    ,  1.60458    ,  3833.06    ])\n",
      "342     , -2354.17    , array([ 2.57636    ,  2.27866    ,  1.6627     ,  1.60458    ,  3833.06    ])\n",
      "345     , -2353.94    , array([ 2.56853    ,  2.26837    ,  1.72786    ,  1.6109     ,  3857.87    ])\n",
      "348     , -2353.94    , array([ 2.56853    ,  2.26837    ,  1.72959    ,  1.6109     ,  3857.87    ])\n",
      "351     , -2353.82    , array([ 2.57635    ,  2.27527    ,  1.7627     ,  1.60657    ,  3850.12    ])\n",
      "354     , -2353.82    , array([ 2.57635    ,  2.27527    ,  1.76446    ,  1.60657    ,  3850.12    ])\n",
      "357     , -2353.8     , array([ 2.57201    ,  2.27294    ,  1.7939     ,  1.61123    ,  3863.43    ])\n",
      "360     , -2353.8     , array([ 2.57201    ,  2.27294    ,  1.7957     ,  1.61123    ,  3863.43    ])\n",
      "363     , -2353.8     , array([ 2.57321    ,  2.27414    ,  1.79294    ,  1.61027    ,  3862.17    ])\n",
      "366     , -2353.8     , array([ 2.57321    ,  2.27414    ,  1.79474    ,  1.61027    ,  3862.17    ])\n",
      "369     , -2353.8     , array([ 2.57329    ,  2.2742     ,  1.79467    ,  1.61027    ,  3862.57    ])\n",
      "372     , -2353.8     , array([ 2.57329    ,  2.2742     ,  1.79647    ,  1.61027    ,  3862.57    ])\n",
      "375     , -2353.8     , array([ 2.57327    ,  2.27418    ,  1.7951     ,  1.61026    ,  3862.67    ])\n",
      "378     , -2353.8     , array([ 2.57327    ,  2.27418    ,  1.79689    ,  1.61026    ,  3862.67    ])\n",
      "381     , -2353.8     , array([ 2.57329    ,  2.2742     ,  1.79471    ,  1.61026    ,  3862.58    ])\n",
      "384     , -2353.8     , array([ 2.57329    ,  2.2742     ,  1.79651    ,  1.61026    ,  3862.58    ])\n",
      "387     , -2353.8     , array([ 2.57329    ,  2.2742     ,  1.79468    ,  1.61027    ,  3862.57    ])\n",
      "390     , -2353.8     , array([ 2.57329    ,  2.2742     ,  1.79647    ,  1.61027    ,  3862.57    ])\n",
      "393     , -2353.8     , array([ 2.57329    ,  2.2742     ,  1.79467    ,  1.61027    ,  3862.57    ])\n",
      "396     , -2353.8     , array([ 2.57329    ,  2.2742     ,  1.79647    ,  1.61027    ,  3862.57    ])\n",
      "399     , -2353.8     , array([ 2.57329    ,  2.2742     ,  1.79467    ,  1.61027    ,  3862.57    ])\n",
      "402     , -2353.8     , array([ 2.57329    ,  2.2742     ,  1.79647    ,  1.61027    ,  3862.57    ])\n",
      "405     , -2353.8     , array([ 2.57329    ,  2.2742     ,  1.79467    ,  1.61027    ,  3862.57    ])\n",
      "408     , -2353.8     , array([ 2.57329    ,  2.2742     ,  1.79647    ,  1.61027    ,  3862.57    ])\n",
      "411     , -2353.8     , array([ 2.57329    ,  2.2742     ,  1.79467    ,  1.61027    ,  3862.57    ])\n",
      "414     , -2353.8     , array([ 2.57329    ,  2.2742     ,  1.79647    ,  1.61027    ,  3862.57    ])\n",
      "417     , -2353.8     , array([ 2.57329    ,  2.2742     ,  1.79467    ,  1.61027    ,  3862.57    ])\n",
      "420     , -2353.8     , array([ 2.57329    ,  2.2742     ,  1.79647    ,  1.61027    ,  3862.57    ])\n"
     ]
    }
   ],
   "source": [
    "p_guess = moments.LD.Util.perturb_params(p_guess, fold=0.1)\n",
    "opt_params, LL = moments.LD.Inference.optimize_log_lbfgsb(\n",
    "    p_guess, [mv[\"means\"], mv[\"varcovs\"]], [demo_func], rs=r_bins, verbose = 3\n",
    ")\n",
    "\n",
    "physical_units = moments.LD.Util.rescale_params(\n",
    "    opt_params, [\"nu\", \"nu\", \"T\", \"m\", \"Ne\"]\n",
    ")"
   ]
  },
  {
   "cell_type": "code",
   "execution_count": 35,
   "metadata": {},
   "outputs": [
    {
     "name": "stdout",
     "output_type": "stream",
     "text": [
      "Simulated parameters:\n",
      "  N(deme0)         :  3430.0\n",
      "  N(deme1)         :  2260.0\n",
      "  Div. time (gen)  :  1412.0\n",
      "  Migration rate   :  0.000037\n",
      "  N(ancestral)     :  5579.0\n",
      "best fit parameters:\n",
      "  N(deme0)         :  9939.5\n",
      "  N(deme1)         :  8784.2\n",
      "  Div. time (gen)  :  13864.1\n",
      "  Migration rate   :  0.000208\n",
      "  N(ancestral)     :  3862.6\n"
     ]
    }
   ],
   "source": [
    "print(\"Simulated parameters:\")\n",
    "print(f\"  N(deme0)         :  {g.demes[1].epochs[0].start_size:.1f}\")\n",
    "print(f\"  N(deme1)         :  {g.demes[2].epochs[0].start_size:.1f}\")\n",
    "print(f\"  Div. time (gen)  :  {g.demes[1].epochs[0].start_time:.1f}\")\n",
    "print(f\"  Migration rate   :  {g.migrations[0].rate:.6f}\")\n",
    "print(f\"  N(ancestral)     :  {g.demes[0].epochs[0].start_size:.1f}\")\n",
    "\n",
    "print(\"best fit parameters:\")\n",
    "print(f\"  N(deme0)         :  {physical_units[0]:.1f}\")\n",
    "print(f\"  N(deme1)         :  {physical_units[1]:.1f}\")\n",
    "print(f\"  Div. time (gen)  :  {physical_units[2]:.1f}\")\n",
    "print(f\"  Migration rate   :  {physical_units[3]:.6f}\")\n",
    "print(f\"  N(ancestral)     :  {physical_units[4]:.1f}\")"
   ]
  },
  {
   "cell_type": "code",
   "execution_count": null,
   "metadata": {},
   "outputs": [],
   "source": [
    "opt_params"
   ]
  },
  {
   "cell_type": "code",
   "execution_count": 49,
   "metadata": {},
   "outputs": [],
   "source": [
    "physical_units = moments.LD.Util.rescale_params(\n",
    "    opt_params, [\"nu\", \"nu\", \"T\", \"m\", \"Ne\"]\n",
    ")"
   ]
  },
  {
   "cell_type": "code",
   "execution_count": null,
   "metadata": {},
   "outputs": [],
   "source": [
    "physical_units"
   ]
  },
  {
   "cell_type": "code",
   "execution_count": null,
   "metadata": {},
   "outputs": [],
   "source": [
    "physical_units[0]"
   ]
  },
  {
   "cell_type": "code",
   "execution_count": null,
   "metadata": {},
   "outputs": [],
   "source": [
    "sampled_params['Na']"
   ]
  },
  {
   "cell_type": "code",
   "execution_count": null,
   "metadata": {},
   "outputs": [],
   "source": [
    "demographic_model = \"split_isolation_model\"\n",
    "opt_params_dict = run_inference_momentsLD(flat_map_path, samples_path, metadata_path, p_guess, demographic_model, maxiter=100)"
   ]
  },
  {
   "cell_type": "code",
   "execution_count": 2,
   "metadata": {},
   "outputs": [],
   "source": [
    "import pickle\n",
    "\n",
    "with open('/sietch_colab/akapoor/Demographic_Inference/split_isolation_model_seed_42/sims/sims_pretrain_2_sims_inference_1_seed_42_num_replicates_10_top_values_5/simulation_results/software_inferences_sim_0.pkl', 'rb') as f:\n",
    "    data = pickle.load(f)"
   ]
  },
  {
   "cell_type": "code",
   "execution_count": 3,
   "metadata": {},
   "outputs": [
    {
     "data": {
      "text/plain": [
       "{'simulated_params': {'t_split': 4235,\n",
       "  'N1': 566,\n",
       "  'N2': 1672,\n",
       "  'Na': 14696,\n",
       "  'm': 0},\n",
       " 'sfs': Spectrum([[-- 103.0 34.0 34.0 14.0 41.0 6.0 5.0 2.0 4.0 6.0 1.0 2.0 2.0 1.0 12.0\n",
       "   3.0 53.0 0.0 0.0 432.0]\n",
       "  [19.0 0.0 0.0 0.0 0.0 0.0 0.0 0.0 0.0 0.0 0.0 0.0 0.0 0.0 0.0 0.0 0.0\n",
       "   0.0 0.0 0.0 0.0]\n",
       "  [18.0 0.0 0.0 0.0 0.0 0.0 0.0 0.0 0.0 0.0 0.0 0.0 0.0 0.0 0.0 0.0 0.0\n",
       "   0.0 0.0 0.0 0.0]\n",
       "  [12.0 0.0 0.0 0.0 0.0 0.0 0.0 0.0 0.0 0.0 0.0 0.0 0.0 0.0 0.0 0.0 0.0\n",
       "   0.0 0.0 0.0 0.0]\n",
       "  [32.0 0.0 0.0 0.0 0.0 0.0 0.0 0.0 0.0 0.0 0.0 0.0 0.0 0.0 0.0 0.0 0.0\n",
       "   0.0 0.0 0.0 0.0]\n",
       "  [6.0 0.0 0.0 0.0 0.0 0.0 0.0 0.0 0.0 0.0 0.0 0.0 0.0 0.0 0.0 0.0 0.0 0.0\n",
       "   0.0 0.0 0.0]\n",
       "  [1.0 0.0 0.0 0.0 0.0 0.0 0.0 0.0 0.0 0.0 0.0 0.0 0.0 0.0 0.0 0.0 0.0 0.0\n",
       "   0.0 0.0 0.0]\n",
       "  [0.0 0.0 0.0 0.0 0.0 0.0 0.0 0.0 0.0 0.0 0.0 0.0 0.0 0.0 0.0 0.0 0.0 0.0\n",
       "   0.0 0.0 0.0]\n",
       "  [5.0 0.0 0.0 0.0 0.0 0.0 0.0 0.0 0.0 0.0 0.0 0.0 0.0 0.0 0.0 0.0 0.0 0.0\n",
       "   0.0 0.0 0.0]\n",
       "  [2.0 0.0 0.0 0.0 0.0 0.0 0.0 0.0 0.0 0.0 0.0 0.0 0.0 0.0 0.0 0.0 0.0 0.0\n",
       "   0.0 0.0 0.0]\n",
       "  [12.0 0.0 0.0 0.0 0.0 0.0 0.0 0.0 0.0 0.0 0.0 0.0 0.0 0.0 0.0 0.0 0.0\n",
       "   0.0 0.0 0.0 0.0]\n",
       "  [6.0 0.0 0.0 0.0 0.0 0.0 0.0 0.0 0.0 0.0 0.0 0.0 0.0 0.0 0.0 0.0 0.0 0.0\n",
       "   0.0 0.0 0.0]\n",
       "  [12.0 0.0 0.0 0.0 0.0 0.0 0.0 0.0 0.0 0.0 0.0 0.0 0.0 0.0 0.0 0.0 0.0\n",
       "   0.0 0.0 0.0 0.0]\n",
       "  [0.0 0.0 0.0 0.0 0.0 0.0 0.0 0.0 0.0 0.0 0.0 0.0 0.0 0.0 0.0 0.0 0.0 0.0\n",
       "   0.0 0.0 0.0]\n",
       "  [3.0 0.0 0.0 0.0 0.0 0.0 0.0 0.0 0.0 0.0 0.0 0.0 0.0 0.0 0.0 0.0 0.0 0.0\n",
       "   0.0 0.0 0.0]\n",
       "  [0.0 0.0 0.0 0.0 0.0 0.0 0.0 0.0 0.0 0.0 0.0 0.0 0.0 0.0 0.0 0.0 0.0 0.0\n",
       "   0.0 0.0 0.0]\n",
       "  [3.0 0.0 0.0 0.0 0.0 0.0 0.0 0.0 0.0 0.0 0.0 0.0 0.0 0.0 0.0 0.0 0.0 0.0\n",
       "   0.0 0.0 0.0]\n",
       "  [0.0 0.0 0.0 0.0 0.0 0.0 0.0 0.0 0.0 0.0 0.0 0.0 0.0 0.0 0.0 0.0 0.0 0.0\n",
       "   0.0 0.0 0.0]\n",
       "  [6.0 0.0 0.0 0.0 0.0 0.0 0.0 0.0 0.0 0.0 0.0 0.0 0.0 0.0 0.0 0.0 0.0 0.0\n",
       "   0.0 0.0 0.0]\n",
       "  [0.0 0.0 0.0 0.0 0.0 0.0 0.0 0.0 0.0 0.0 0.0 0.0 0.0 0.0 0.0 0.0 0.0 0.0\n",
       "   0.0 0.0 0.0]\n",
       "  [428.0 0.0 0.0 47.0 0.0 0.0 0.0 0.0 0.0 0.0 0.0 0.0 0.0 0.0 0.0 6.0 1.0\n",
       "   0.0 0.0 0.0 --]], folded=False, pop_ids=None),\n",
       " 'opt_params_momentsLD': {'N1': 33064234.284869373,\n",
       "  'N2': 33157505.956595976,\n",
       "  't_split': 77222926.82401739,\n",
       "  'm': 1.2105896549953443e-09,\n",
       "  'Na': 21192399.506676525}}"
      ]
     },
     "execution_count": 3,
     "metadata": {},
     "output_type": "execute_result"
    }
   ],
   "source": [
    "data"
   ]
  },
  {
   "cell_type": "code",
   "execution_count": null,
   "metadata": {},
   "outputs": [],
   "source": []
  }
 ],
 "metadata": {
  "kernelspec": {
   "display_name": "myenv",
   "language": "python",
   "name": "python3"
  },
  "language_info": {
   "codemirror_mode": {
    "name": "ipython",
    "version": 3
   },
   "file_extension": ".py",
   "mimetype": "text/x-python",
   "name": "python",
   "nbconvert_exporter": "python",
   "pygments_lexer": "ipython3",
   "version": "3.10.13"
  }
 },
 "nbformat": 4,
 "nbformat_minor": 2
}
