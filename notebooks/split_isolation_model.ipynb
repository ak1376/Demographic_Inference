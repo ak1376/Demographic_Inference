{
 "cells": [
  {
   "cell_type": "code",
   "execution_count": null,
   "metadata": {},
   "outputs": [],
   "source": []
  },
  {
   "cell_type": "markdown",
   "metadata": {},
   "source": [
    "# Playing around with the split isolation model"
   ]
  },
  {
   "cell_type": "code",
   "execution_count": 1,
   "metadata": {},
   "outputs": [],
   "source": [
    "import msprime\n",
    "import numpy as np\n",
    "import matplotlib.pyplot as plt\n",
    "import demesdraw\n",
    "import moments\n",
    "import dadi\n"
   ]
  },
  {
   "cell_type": "code",
   "execution_count": 2,
   "metadata": {},
   "outputs": [],
   "source": [
    "upper_bound_params = {\n",
    "    \"t_split\": 5000, \n",
    "    \"N1\": 10000,\n",
    "    \"N2\": 10000,\n",
    "    \"Na\": 20000\n",
    "}\n",
    "\n",
    "lower_bound_params =  {\n",
    "    \"t_split\": 100, \n",
    "    \"N1\": 100,\n",
    "    \"N2\": 100,\n",
    "    \"Na\": 100\n",
    "\n",
    "}\n",
    "\n",
    "mutation_rate = 5.7e-9\n",
    "recombination_rate = 3.386e-9"
   ]
  },
  {
   "cell_type": "code",
   "execution_count": 3,
   "metadata": {},
   "outputs": [],
   "source": [
    "def sample_params():\n",
    "    sampled_params = {}\n",
    "    for key in lower_bound_params:\n",
    "        lower_bound = lower_bound_params[key]\n",
    "        upper_bound = upper_bound_params[key]\n",
    "        sampled_value = np.random.uniform(lower_bound, upper_bound)\n",
    "        sampled_params[key] = int(sampled_value)\n",
    "\n",
    "\n",
    "        # Check if the sampled parameter is equal to the mean of the uniform distribution\n",
    "        mean_value = (lower_bound + upper_bound) / 2\n",
    "        if sampled_value == mean_value:\n",
    "            # Add a small random value to avoid exact mean, while keeping within bounds\n",
    "            adjustment = np.random.uniform(-0.1 * (upper_bound - lower_bound), 0.1 * (upper_bound - lower_bound))\n",
    "            adjusted_value = sampled_value + adjustment\n",
    "            \n",
    "            # Ensure the adjusted value is still within the bounds\n",
    "            adjusted_value = max(min(adjusted_value, upper_bound), lower_bound)\n",
    "            sampled_params[key] = int(adjusted_value)\n",
    "\n",
    "    return sampled_params"
   ]
  },
  {
   "cell_type": "code",
   "execution_count": 4,
   "metadata": {},
   "outputs": [
    {
     "name": "stdout",
     "output_type": "stream",
     "text": [
      "{'t_split': 1358, 'N1': 255, 'N2': 5722, 'Na': 9570}\n"
     ]
    }
   ],
   "source": [
    "sampled_params = sample_params()\n",
    "print(sampled_params)"
   ]
  },
  {
   "cell_type": "code",
   "execution_count": 5,
   "metadata": {},
   "outputs": [],
   "source": [
    "import os\n",
    "os.chdir('/sietch_colab/akapoor/Demographic_Inference/')"
   ]
  },
  {
   "cell_type": "code",
   "execution_count": 6,
   "metadata": {},
   "outputs": [],
   "source": [
    "from src.demographic_models import split_isolation_model_simulation"
   ]
  },
  {
   "cell_type": "code",
   "execution_count": 7,
   "metadata": {},
   "outputs": [],
   "source": [
    "def create_SFS(\n",
    "    sampled_params, mode, num_samples, demographic_model, length=1e7, mutation_rate=5.7e-9, recombination_rate = 3.386e-9, **kwargs\n",
    "):\n",
    "    \"\"\"\n",
    "    If we are in pretraining mode we will use a simulated SFS. If we are in inference mode we will use a real SFS.\n",
    "\n",
    "    \"\"\"\n",
    "\n",
    "    if mode == \"pretrain\":\n",
    "        # Simulate the demographic model\n",
    "        g = demographic_model(sampled_params)\n",
    "        demog = msprime.Demography.from_demes(g)\n",
    "\n",
    "        # Dynamically define the samples using msprime.SampleSet, based on the sample_sizes dictionary\n",
    "        samples = [\n",
    "            msprime.SampleSet(sample_size, population=pop_name, ploidy=1)\n",
    "            for pop_name, sample_size in num_samples.items()\n",
    "        ]\n",
    "\n",
    "        # Simulate ancestry for two populations (joint simulation)\n",
    "        ts = msprime.sim_ancestry(\n",
    "            samples=samples,  # Two populations\n",
    "            demography=demog,\n",
    "            sequence_length=length,\n",
    "            recombination_rate=recombination_rate,\n",
    "            random_seed=295,\n",
    "        )\n",
    "\n",
    "        # Check the samples for each population dynamically\n",
    "        for pop in ts.populations():\n",
    "            print(f\"Population {pop.id} samples:\", ts.samples(population=pop.id))\n",
    "\n",
    "        \n",
    "        # Simulate mutations over the ancestry tree sequence\n",
    "        ts = msprime.sim_mutations(ts, rate=mutation_rate)\n",
    "\n",
    "        # Define sample sets dynamically for the SFS\n",
    "        sample_sets = [\n",
    "            ts.samples(population=pop.id) \n",
    "            for pop in ts.populations() \n",
    "            if len(ts.samples(population=pop.id)) > 0  # Exclude populations with no samples\n",
    "        ]\n",
    "        \n",
    "        # Create the joint allele frequency spectrum\n",
    "        sfs = ts.allele_frequency_spectrum(sample_sets=sample_sets, mode=\"site\", polarised=True)\n",
    "        \n",
    "        # Multiply SFS by the sequence length to adjust scale\n",
    "        sfs *= length\n",
    "\n",
    "        # Convert to moments Spectrum for further use\n",
    "        sfs = moments.Spectrum(sfs)\n",
    "    \n",
    "    elif mode == \"inference\":\n",
    "        vcf_file = kwargs.get(\"vcf_file\", None)\n",
    "        pop_file = kwargs.get(\"pop_file\", None)\n",
    "        popname = kwargs.get(\"popname\", None)\n",
    "\n",
    "        if vcf_file is None or pop_file is None:\n",
    "            raise ValueError(\n",
    "                \"vcf_file and pop_file must be provided in inference mode.\"\n",
    "            )\n",
    "\n",
    "        dd = dadi.Misc.make_data_dict_vcf(vcf_file, pop_file)\n",
    "        sfs = dadi.Spectrum.from_data_dict(\n",
    "            dd, [popname], projections=[2 * num_samples], polarized=True\n",
    "        )\n",
    "\n",
    "    return sfs"
   ]
  },
  {
   "cell_type": "code",
   "execution_count": 8,
   "metadata": {},
   "outputs": [
    {
     "name": "stdout",
     "output_type": "stream",
     "text": [
      "Population 0 samples: []\n",
      "Population 1 samples: [ 0  1  2  3  4  5  6  7  8  9 10 11 12 13 14]\n",
      "Population 2 samples: [15 16 17 18 19 20 21 22]\n"
     ]
    }
   ],
   "source": [
    "sample_sizes = {\n",
    "    \"N1\": 15,  # 15 samples from population 1\n",
    "    \"N2\": 8    # 8 samples from population 2\n",
    "}\n",
    "\n",
    "sfs = create_SFS(\n",
    "    sampled_params, 'pretrain', sample_sizes, demographic_model = split_isolation_model_simulation, length=1e7, mutation_rate=5.7e-9, recombination_rate = 3.386e-9)"
   ]
  },
  {
   "cell_type": "code",
   "execution_count": 9,
   "metadata": {},
   "outputs": [
    {
     "data": {
      "text/plain": [
       "(16, 9)"
      ]
     },
     "execution_count": 9,
     "metadata": {},
     "output_type": "execute_result"
    }
   ],
   "source": [
    "sfs.shape"
   ]
  },
  {
   "cell_type": "code",
   "execution_count": 10,
   "metadata": {},
   "outputs": [],
   "source": [
    "from src.parameter_inference import run_inference_dadi, run_inference_moments\n",
    "from src.demographic_models import split_isolation_model_dadi, split_isolation_model_moments"
   ]
  },
  {
   "cell_type": "code",
   "execution_count": 11,
   "metadata": {},
   "outputs": [],
   "source": [
    "p0 = [sampled_params[\"N1\"], sampled_params[\"N2\"], sampled_params[\"t_split\"]]\n",
    "num_samples = [sample_sizes['N1'], sample_sizes['N2']]\n",
    "demographic_model = \"split_isolation_model\"\n",
    "k = 1"
   ]
  },
  {
   "cell_type": "code",
   "execution_count": 12,
   "metadata": {},
   "outputs": [
    {
     "data": {
      "text/plain": [
       "{'t_split': 1358, 'N1': 255, 'N2': 5722, 'Na': 9570}"
      ]
     },
     "execution_count": 12,
     "metadata": {},
     "output_type": "execute_result"
    }
   ],
   "source": [
    "sampled_params"
   ]
  },
  {
   "cell_type": "code",
   "execution_count": 13,
   "metadata": {},
   "outputs": [],
   "source": [
    "demographic_model = \"split_isolation_model\""
   ]
  },
  {
   "cell_type": "code",
   "execution_count": 20,
   "metadata": {},
   "outputs": [
    {
     "name": "stderr",
     "output_type": "stream",
     "text": [
      "WARNING:Numerics:Extrapolation may have failed. Check resulting frequency spectrum for unexpected results.\n"
     ]
    },
    {
     "name": "stdout",
     "output_type": "stream",
     "text": [
      "OPT DADI PARAMETER: [ 156.99711776 1357.48807327 1126.3159604 ]\n"
     ]
    }
   ],
   "source": [
    "model_list, opt_theta_list, opt_params_final_list, ll_list = run_inference_dadi(\n",
    "    sfs,\n",
    "    p0,\n",
    "    num_samples = 100,\n",
    "    demographic_model = demographic_model,\n",
    "    k = k,\n",
    "    lower_bound=[100, 100, 100], # [N1, N2 , t_split]\n",
    "    upper_bound=[10000, 10000, 5000], # [N1, N2, t_split]\n",
    "    mutation_rate=mutation_rate,\n",
    "    length=1e8,\n",
    "    top_values_k = 1\n",
    ")"
   ]
  },
  {
   "cell_type": "code",
   "execution_count": 26,
   "metadata": {},
   "outputs": [
    {
     "data": {
      "text/plain": [
       "{'N1': 325.9846424190158,\n",
       " 'N2': 7757.592331981406,\n",
       " 't_split': 771.4647505541604}"
      ]
     },
     "execution_count": 26,
     "metadata": {},
     "output_type": "execute_result"
    }
   ],
   "source": [
    "opt_params_final_list[0]"
   ]
  },
  {
   "cell_type": "code",
   "execution_count": 27,
   "metadata": {},
   "outputs": [
    {
     "data": {
      "text/plain": [
       "{'t_split': 1358, 'N1': 255, 'N2': 5722, 'Na': 9570}"
      ]
     },
     "execution_count": 27,
     "metadata": {},
     "output_type": "execute_result"
    }
   ],
   "source": [
    "sampled_params"
   ]
  },
  {
   "cell_type": "code",
   "execution_count": 28,
   "metadata": {},
   "outputs": [
    {
     "name": "stdout",
     "output_type": "stream",
     "text": [
      "OPT MOMENTS PARAMETER: [ 406.73383597 5812.7052273  1181.78608151]\n"
     ]
    }
   ],
   "source": [
    "model_list, opt_theta_list, opt_params_final_list, ll_list = run_inference_moments(\n",
    "    sfs,\n",
    "    p0,\n",
    "    demographic_model = demographic_model,\n",
    "    k = k,\n",
    "    lower_bound=[100, 100, 100], # [N1, N2 , t_split]\n",
    "    upper_bound=[10000, 10000, 5000], # [N1, N2, t_split]\n",
    "    mutation_rate=mutation_rate,\n",
    "    length=1e8,\n",
    "    top_values_k = 1\n",
    ")"
   ]
  },
  {
   "cell_type": "code",
   "execution_count": 29,
   "metadata": {},
   "outputs": [
    {
     "data": {
      "text/plain": [
       "{'N1': 406.73383597251353,\n",
       " 'N2': 5812.7052273046365,\n",
       " 't_split': 1181.7860815133977}"
      ]
     },
     "execution_count": 29,
     "metadata": {},
     "output_type": "execute_result"
    }
   ],
   "source": [
    "opt_params_final_list[0]"
   ]
  },
  {
   "cell_type": "code",
   "execution_count": 31,
   "metadata": {},
   "outputs": [
    {
     "data": {
      "text/plain": [
       "{'t_split': 1358, 'N1': 255, 'N2': 5722, 'Na': 9570}"
      ]
     },
     "execution_count": 31,
     "metadata": {},
     "output_type": "execute_result"
    }
   ],
   "source": [
    "sampled_params"
   ]
  },
  {
   "cell_type": "code",
   "execution_count": 33,
   "metadata": {},
   "outputs": [
    {
     "data": {
      "text/plain": [
       "(16, 9)"
      ]
     },
     "execution_count": 33,
     "metadata": {},
     "output_type": "execute_result"
    }
   ],
   "source": [
    "model_list[0].shape"
   ]
  },
  {
   "cell_type": "code",
   "execution_count": 5,
   "metadata": {},
   "outputs": [],
   "source": [
    "import pickle \n",
    "\n",
    "with open('/sietch_colab/akapoor/Demographic_Inference/split_isolation_model_seed_42/models/sims_pretrain_100_sims_inference_5_seed_42_num_replicates_10_top_values_5/num_hidden_neurons_1000_num_hidden_layers_3_num_epochs_500_dropout_value_0_weight_decay_0_batch_size_35_EarlyStopping_False/linear_mdl_obj.pkl', 'rb') as f:\n",
    "    linear_mdl_obj = pickle.load(f) \n",
    "    "
   ]
  },
  {
   "cell_type": "code",
   "execution_count": 6,
   "metadata": {},
   "outputs": [
    {
     "data": {
      "text/plain": [
       "dict_keys(['model', 'training', 'validation', 'param_names'])"
      ]
     },
     "execution_count": 6,
     "metadata": {},
     "output_type": "execute_result"
    }
   ],
   "source": [
    "linear_mdl_obj.keys()"
   ]
  },
  {
   "cell_type": "code",
   "execution_count": 7,
   "metadata": {},
   "outputs": [
    {
     "data": {
      "text/plain": [
       "['N1', 'N2', 't_split']"
      ]
     },
     "execution_count": 7,
     "metadata": {},
     "output_type": "execute_result"
    }
   ],
   "source": [
    "linear_mdl_obj['param_names']"
   ]
  },
  {
   "cell_type": "code",
   "execution_count": 9,
   "metadata": {},
   "outputs": [
    {
     "data": {
      "text/plain": [
       "array([[ 0.0225102 ,  0.2844953 , -0.38913348],\n",
       "       [ 0.32076653, -1.26143853,  0.26610066],\n",
       "       [ 0.30600883,  0.91358245, -0.92541244],\n",
       "       [ 0.02548777, -1.20893355,  0.0407554 ],\n",
       "       [ 0.78636933, -0.4630963 , -1.2049197 ],\n",
       "       [ 0.57094902, -0.05928905,  0.80462959],\n",
       "       [-0.02463037,  0.3215308 , -0.36589899],\n",
       "       [-0.23332101, -0.86222919,  1.38787751],\n",
       "       [ 0.15606663,  0.26391918,  0.62638861],\n",
       "       [-1.85172169, -1.78494932, -0.12609008],\n",
       "       [-0.88617999,  0.39155847, -0.52275136],\n",
       "       [ 1.05669731,  0.26791219, -0.63639187],\n",
       "       [-0.43703385,  0.80994754, -0.06623194],\n",
       "       [-0.53928024,  0.09651836,  0.86194908],\n",
       "       [-0.82681804,  0.48456305,  0.19771553],\n",
       "       [-0.61022718,  0.34964982,  0.33698961],\n",
       "       [ 0.48473722,  0.71827473, -0.31718151],\n",
       "       [-0.38209656, -0.01369259,  0.31282726],\n",
       "       [ 0.08990455,  1.592333  , -0.75574536],\n",
       "       [ 0.63406058, -0.28052289,  0.61035364],\n",
       "       [ 0.27016008, -0.01976338, -1.29054951],\n",
       "       [ 0.92582044, -0.91713104, -0.51740169],\n",
       "       [ 0.86396735, -0.18283736,  0.50452607],\n",
       "       [ 0.78863849, -0.22469093,  0.15406886],\n",
       "       [ 1.62855958, -0.05537408, -0.34084767],\n",
       "       [ 0.84537467, -0.72164972, -1.29351005],\n",
       "       [ 1.46685743,  0.34464933, -0.24946415],\n",
       "       [-0.17471107,  0.62383576,  1.25953671],\n",
       "       [-0.97350934,  1.62881645,  2.01690066],\n",
       "       [-0.54549476, -0.46814244,  0.01296695],\n",
       "       [-0.77335093, -0.05615772,  0.77715552],\n",
       "       [-0.61488503,  0.28374085,  0.8939719 ],\n",
       "       [-0.2823125 , -0.50888381, -2.08574012],\n",
       "       [ 0.65579864,  0.89084717, -0.83428484],\n",
       "       [-0.22786003, -0.00641633,  0.51990239],\n",
       "       [ 0.30291388,  0.95860666,  0.61833638],\n",
       "       [ 0.724906  , -0.47589698, -0.36854373],\n",
       "       [ 0.54515008, -0.67235849,  0.54454166],\n",
       "       [-0.01910698,  1.35711653,  0.06940154],\n",
       "       [ 0.74776692,  0.45827339, -0.54856837],\n",
       "       [-0.22897154, -0.69955702, -0.32884341],\n",
       "       [ 0.1346363 , -0.22697612,  0.57150457],\n",
       "       [-0.12493646,  0.05213079,  0.86812015],\n",
       "       [ 0.85579404,  0.68135299, -1.52550147],\n",
       "       [-0.72771721, -0.48055397,  0.91274646],\n",
       "       [-0.13697889,  0.09239826,  1.007074  ],\n",
       "       [-0.26981608, -0.6066395 ,  0.35685796],\n",
       "       [ 1.30447578,  1.75373503, -1.18996947],\n",
       "       [-2.1344437 ,  0.13596222,  1.07959878],\n",
       "       [ 1.55683188,  0.95830383, -1.95670233],\n",
       "       [-0.23989792,  0.5780372 , -0.52201152],\n",
       "       [ 0.48964481, -0.73654671,  0.42878786],\n",
       "       [-0.28302652,  0.50355336, -0.81789764],\n",
       "       [ 0.31710572, -0.40159743,  0.50358904],\n",
       "       [ 0.93460219,  1.12414101, -0.66763531],\n",
       "       [ 0.27116684, -0.07390243,  0.50229761],\n",
       "       [ 1.33670375, -0.9312885 , -1.0591144 ],\n",
       "       [ 0.52998286,  0.64691364, -0.18898956],\n",
       "       [ 1.18166368, -1.16917376, -0.24324545],\n",
       "       [-1.77274573,  1.06180398, -0.55672086],\n",
       "       [ 0.79699753, -0.76044091, -1.81030874],\n",
       "       [ 1.31377741,  0.13314852,  0.18330496],\n",
       "       [ 0.02820806, -0.60254763, -0.07695899],\n",
       "       [-0.41379612, -0.71845259,  0.55051869],\n",
       "       [-1.46345405, -0.13025577,  0.85839732],\n",
       "       [-0.81044193, -0.91985514,  1.02826845],\n",
       "       [-0.98742652,  0.33424425,  1.23630392],\n",
       "       [ 0.33443962,  0.02675739, -0.79778424],\n",
       "       [-0.12925362, -0.60329509,  1.24981357],\n",
       "       [ 0.63498213, -0.29641403,  0.55273031],\n",
       "       [ 0.78918212,  0.37739149,  0.75945778],\n",
       "       [ 0.73527649, -0.8208142 , -0.53367205],\n",
       "       [-1.00846138, -0.85833191,  0.12902783],\n",
       "       [-0.34037272, -1.21037358,  0.38029993],\n",
       "       [ 1.08474042, -0.05888903,  1.50640589],\n",
       "       [ 0.73251762,  0.99735993, -1.53812924],\n",
       "       [-1.80763003, -0.05040622, -0.37404912],\n",
       "       [ 1.09483259, -0.1569561 , -1.16708879],\n",
       "       [-0.16922472,  0.56468211,  0.80498231],\n",
       "       [-0.32039886, -0.69586439, -1.04243318]])"
      ]
     },
     "execution_count": 9,
     "metadata": {},
     "output_type": "execute_result"
    }
   ],
   "source": [
    "linear_mdl_obj['training']['predictions']"
   ]
  },
  {
   "cell_type": "code",
   "execution_count": 10,
   "metadata": {},
   "outputs": [
    {
     "data": {
      "text/plain": [
       "array([[-0.96609945,  0.83033466, -0.93672136],\n",
       "       [ 0.86707513, -0.77050018,  1.32625605],\n",
       "       [-0.1210686 ,  0.68582214, -1.28454544],\n",
       "       [-0.44648421, -1.42343085, -0.91763345],\n",
       "       [ 1.35239927, -0.33941198, -1.17072495],\n",
       "       [ 1.26422213, -0.39434773,  1.30999598],\n",
       "       [ 0.23758838, -0.08992668, -0.99045028],\n",
       "       [-0.91606243, -1.20473756,  1.53339518],\n",
       "       [-1.24077821, -0.05108675, -0.56980937],\n",
       "       [-1.72505262, -1.71490525, -0.576172  ],\n",
       "       [-0.84678039,  0.71871361, -0.93318656],\n",
       "       [ 1.47381778,  0.54200943, -0.83916094],\n",
       "       [ 0.4573314 ,  0.57630054,  0.59596687],\n",
       "       [-0.72676152, -0.42443993,  1.32342821],\n",
       "       [-0.975547  , -0.36845444, -0.74089357],\n",
       "       [ 0.01784537,  1.32195716,  0.65747235],\n",
       "       [ 1.55184754,  1.49866134, -0.14775454],\n",
       "       [-1.0511274 , -0.51541633, -0.41357132],\n",
       "       [-0.01224682,  0.51086751, -0.1116996 ],\n",
       "       [-0.49862069, -0.6427833 ,  0.10887177],\n",
       "       [-0.79429401, -0.79744319, -1.46623403],\n",
       "       [ 1.49306279, -1.23762903, -1.14456745],\n",
       "       [ 1.7278519 ,  0.26663085,  1.59560762],\n",
       "       [ 0.63228602, -0.93285807, -0.56132585],\n",
       "       [ 1.46367041,  0.27432886,  0.47790463],\n",
       "       [ 1.11621052,  0.34641016, -1.09508029],\n",
       "       [ 1.50530961,  0.79534373, -0.34428928],\n",
       "       [-0.52276443, -0.16445735,  0.92187521],\n",
       "       [-1.18934155,  1.64072449,  1.45492268],\n",
       "       [-0.88701996, -0.33766243,  0.19158603],\n",
       "       [-0.57525081, -0.83663303,  0.00848351],\n",
       "       [-0.89541778,  1.18094373,  0.63979836],\n",
       "       [-0.21029546, -0.37755209, -1.66701053],\n",
       "       [ 0.66412776,  0.11512014, -1.02014258],\n",
       "       [ 0.15186062,  0.36985408,  1.29161503],\n",
       "       [ 0.78414664,  1.66976696,  0.91480561],\n",
       "       [ 1.27017059,  0.3212167 ,  0.4418497 ],\n",
       "       [ 1.63407622, -0.54515862,  0.97136237],\n",
       "       [ 0.03289147,  1.71700471,  0.12513183],\n",
       "       [-0.32331615, -0.56160435, -1.46199227],\n",
       "       [ 0.23968784, -0.40904392, -0.13573623],\n",
       "       [ 0.70926606, -0.19769873,  0.20289738],\n",
       "       [ 0.18020327,  1.60538366,  1.63943911],\n",
       "       [ 1.00283992,  0.71626424, -0.7840181 ],\n",
       "       [-1.2778686 , -1.32160725,  0.4347801 ],\n",
       "       [-0.56440363,  0.7372588 ,  1.06114623],\n",
       "       [-0.19699891, -1.50460979, -0.93318656],\n",
       "       [ 1.46611977,  1.17324573, -1.11982387],\n",
       "       [-1.65961959,  1.61623084,  1.4789593 ],\n",
       "       [ 1.5843891 ,  1.28066787, -1.40684943],\n",
       "       [-0.75405444,  0.16165808, -0.98974332],\n",
       "       [-0.11022142, -0.74075789,  1.02226346],\n",
       "       [-0.31946715,  0.15955862, -0.01626007],\n",
       "       [-0.6578294 , -0.45243267, -0.77977634],\n",
       "       [ 0.82858511,  0.82473611, -0.89006203],\n",
       "       [ 0.83593321, -0.7449568 ,  0.32166658],\n",
       "       [ 0.85797749, -1.6673176 , -1.69104716],\n",
       "       [ 0.13926388,  0.62038911, -0.53587531],\n",
       "       [ 1.24602685, -1.6862127 , -0.65464451],\n",
       "       [-1.569343  ,  1.27576914, -0.43407314],\n",
       "       [ 0.44963339, -0.09237604, -1.67478709],\n",
       "       [ 1.6449234 , -0.10777205, -0.03817581],\n",
       "       [-0.73375971, -0.68897132, -0.28419772],\n",
       "       [-0.9073147 , -0.59904464,  0.97419021],\n",
       "       [-1.71560507, -0.34676007,  1.26121577],\n",
       "       [-0.40974374, -1.57144246,  1.57722667],\n",
       "       [-0.44578439,  1.04482903,  1.59277978],\n",
       "       [ 0.62703738,  1.38144174, -0.81088256],\n",
       "       [-1.11830998, -1.19983883,  1.047714  ],\n",
       "       [ 0.66272813, -0.34431071,  0.93389352],\n",
       "       [ 1.16764718,  1.38913974,  1.67549405],\n",
       "       [ 1.15540036, -0.99409219, -1.24990442],\n",
       "       [-0.79359419, -1.03328203,  1.07669934],\n",
       "       [ 1.07597096, -0.95770163,  1.70730722],\n",
       "       [ 0.79184464, -0.82228675,  1.40967727],\n",
       "       [ 0.75860326,  0.61129147, -1.52208383],\n",
       "       [-1.58998765, -0.96504972, -0.56344673],\n",
       "       [ 1.33595353,  1.18304319, -1.30858206],\n",
       "       [ 0.46572922,  1.68061415,  1.12760042],\n",
       "       [-1.26982068, -1.05602613, -1.16789712]])"
      ]
     },
     "execution_count": 10,
     "metadata": {},
     "output_type": "execute_result"
    }
   ],
   "source": [
    "linear_mdl_obj['training']['targets']"
   ]
  },
  {
   "cell_type": "code",
   "execution_count": null,
   "metadata": {},
   "outputs": [],
   "source": []
  }
 ],
 "metadata": {
  "kernelspec": {
   "display_name": "base",
   "language": "python",
   "name": "python3"
  },
  "language_info": {
   "codemirror_mode": {
    "name": "ipython",
    "version": 3
   },
   "file_extension": ".py",
   "mimetype": "text/x-python",
   "name": "python",
   "nbconvert_exporter": "python",
   "pygments_lexer": "ipython3",
   "version": "3.10.13"
  }
 },
 "nbformat": 4,
 "nbformat_minor": 2
}
