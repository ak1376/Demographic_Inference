{
 "cells": [
  {
   "cell_type": "code",
   "execution_count": 1,
   "metadata": {},
   "outputs": [
    {
     "name": "stderr",
     "output_type": "stream",
     "text": [
      "rm: cannot remove './data/*.vcf.gz': No such file or directory\n",
      "rm: cannot remove './data/*.h5': No such file or directory\n"
     ]
    },
    {
     "data": {
      "text/plain": [
       "256"
      ]
     },
     "execution_count": 1,
     "metadata": {},
     "output_type": "execute_result"
    }
   ],
   "source": [
    "import os\n",
    "import time\n",
    "import gzip\n",
    "import numpy as np\n",
    "import pickle\n",
    "import msprime\n",
    "import moments\n",
    "import demes\n",
    "import ray\n",
    "\n",
    "assert msprime.__version__ >= \"1\"\n",
    "\n",
    "if not os.path.isdir(\"./data/\"):\n",
    "    os.makedirs(\"./data/\")\n",
    "os.system(\"rm ./data/*.vcf.gz\")\n",
    "os.system(\"rm ./data/*.h5\")"
   ]
  },
  {
   "cell_type": "code",
   "execution_count": null,
   "metadata": {},
   "outputs": [],
   "source": []
  }
 ],
 "metadata": {
  "kernelspec": {
   "display_name": "base",
   "language": "python",
   "name": "python3"
  },
  "language_info": {
   "codemirror_mode": {
    "name": "ipython",
    "version": 3
   },
   "file_extension": ".py",
   "mimetype": "text/x-python",
   "name": "python",
   "nbconvert_exporter": "python",
   "pygments_lexer": "ipython3",
   "version": "3.10.13"
  }
 },
 "nbformat": 4,
 "nbformat_minor": 2
}
