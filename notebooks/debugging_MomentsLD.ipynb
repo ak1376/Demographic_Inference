{
 "cells": [
  {
   "cell_type": "markdown",
   "metadata": {},
   "source": [
    "# MomentsLD makes me sad :("
   ]
  },
  {
   "cell_type": "code",
   "execution_count": 1,
   "metadata": {},
   "outputs": [],
   "source": [
    "import os\n",
    "import moments\n",
    "from tqdm import tqdm\n",
    "import numpy as np\n",
    "import msprime\n",
    "import dadi\n",
    "import glob\n",
    "import demes\n",
    "import ray\n",
    "import json\n",
    "os.chdir('/sietch_colab/akapoor/Demographic_Inference')\n",
    "import src.demographic_models as demographic_models"
   ]
  },
  {
   "cell_type": "markdown",
   "metadata": {},
   "source": [
    "## Functions"
   ]
  },
  {
   "cell_type": "markdown",
   "metadata": {},
   "source": [
    "I want to see what's going wrong with my MomentsLD specific scripts. I will copy and paste them here and will debug."
   ]
  },
  {
   "cell_type": "markdown",
   "metadata": {},
   "source": [
    "Functions in the preprocessing module"
   ]
  },
  {
   "cell_type": "code",
   "execution_count": 2,
   "metadata": {},
   "outputs": [],
   "source": [
    "def sample_params(lower_bound_params, upper_bound_params):\n",
    "    sampled_params = {}\n",
    "    for key in lower_bound_params:\n",
    "        lower_bound = lower_bound_params[key]\n",
    "        upper_bound = upper_bound_params[key]\n",
    "        sampled_value = np.random.uniform(lower_bound, upper_bound)\n",
    "        sampled_params[key] = int(sampled_value)\n",
    "\n",
    "\n",
    "        # Check if the sampled parameter is equal to the mean of the uniform distribution\n",
    "        mean_value = (lower_bound + upper_bound) / 2\n",
    "        if sampled_value == mean_value:\n",
    "            # Add a small random value to avoid exact mean, while keeping within bounds\n",
    "            adjustment = np.random.uniform(-0.1 * (upper_bound - lower_bound), 0.1 * (upper_bound - lower_bound))\n",
    "            adjusted_value = sampled_value + adjustment\n",
    "            \n",
    "            # Ensure the adjusted value is still within the bounds\n",
    "            adjusted_value = max(min(adjusted_value, upper_bound), lower_bound)\n",
    "            sampled_params[key] = int(adjusted_value)\n",
    "\n",
    "    return sampled_params"
   ]
  },
  {
   "cell_type": "code",
   "execution_count": 3,
   "metadata": {},
   "outputs": [],
   "source": [
    "def run_msprime_replicates(sampled_params, experiment_config, folderpath):\n",
    "\n",
    "    if experiment_config[\"demographic_model\"] == \"bottleneck_model\":\n",
    "        demographic_model = demographic_models.bottleneck_model\n",
    "\n",
    "    elif experiment_config[\"demographic_model\"] == \"split_isolation_model\":\n",
    "        demographic_model = demographic_models.split_isolation_model_simulation\n",
    "\n",
    "    else:\n",
    "        raise ValueError(f\"Unsupported demographic model: {experiment_config['demographic_model']}\")\n",
    "\n",
    "    g = demographic_model(sampled_params)\n",
    "    demog = msprime.Demography.from_demes(g)\n",
    "\n",
    "    # Create directory for storing VCFs\n",
    "    output_folder = folderpath\n",
    "    os.makedirs(output_folder, exist_ok=True)\n",
    "\n",
    "    print(f\"Samples: {experiment_config['num_samples']}\")\n",
    "    \n",
    "    tree_sequences = msprime.sim_ancestry(\n",
    "        samples = experiment_config['num_samples'],\n",
    "        # {\"N1\": experiment_config['num_samples']['N1'], \"N2\": experiment_config['num_samples']['N2']},\n",
    "        demography=demog,\n",
    "        sequence_length=experiment_config['genome_length'],\n",
    "        recombination_rate=experiment_config['recombination_rate'],\n",
    "        num_replicates=experiment_config['num_reps'],\n",
    "        random_seed=experiment_config['seed'],\n",
    "    )\n",
    "\n",
    "    # List to store file paths of the generated VCFs\n",
    "    vcf_filepaths = []\n",
    "\n",
    "    for ii, ts in enumerate(tree_sequences):\n",
    "        ts = msprime.sim_mutations(ts, rate=experiment_config['mutation_rate'], random_seed=ii + 1)\n",
    "        vcf_name = os.path.join(output_folder, f'rep.{ii}.vcf')\n",
    "        with open(vcf_name, \"w+\") as fout:\n",
    "            ts.write_vcf(fout, allow_position_zero=True)\n",
    "        os.system(f\"gzip {vcf_name}\")\n",
    "\n",
    "        # Store the compressed VCF file path\n",
    "        vcf_filepaths.append(f\"{vcf_name}.gz\")\n",
    "\n",
    "    # Write the metadata file with all VCF file paths\n",
    "    metadata_file = os.path.join(output_folder, \"metadata.txt\")\n",
    "    with open(metadata_file, \"w+\") as metafile:\n",
    "        metafile.write(\"\\n\".join(vcf_filepaths))\n",
    "\n",
    "    print(f\"Metadata file written to {metadata_file}\")"
   ]
  },
  {
   "cell_type": "code",
   "execution_count": 4,
   "metadata": {},
   "outputs": [],
   "source": [
    "def write_samples_and_rec_map(experiment_config, folderpath):\n",
    "\n",
    "    # Define the file paths\n",
    "    samples_file = os.path.join(folderpath, f\"samples.txt\")\n",
    "    flat_map_file = os.path.join(folderpath, f\"flat_map.txt\")\n",
    "\n",
    "    print(f'Samples filepath: {samples_file}')\n",
    "    print(f'Flat map filepath: {flat_map_file}')\n",
    "\n",
    "    # Open and write the sample file\n",
    "    with open(samples_file, \"w+\") as fout:\n",
    "        fout.write(\"sample\\tpop\\n\")\n",
    "\n",
    "        # Dynamically define samples based on the num_samples dictionary\n",
    "        sample_idx = 0  # Initialize sample index\n",
    "        for pop_name, sample_size in experiment_config['num_samples'].items():\n",
    "            for _ in range(sample_size):\n",
    "                fout.write(f\"tsk_{sample_idx}\\t{pop_name}\\n\")\n",
    "                sample_idx += 1\n",
    "\n",
    "    # Write the recombination map file\n",
    "    with open(flat_map_file, \"w+\") as fout:\n",
    "        fout.write(\"pos\\tMap(cM)\\n\")\n",
    "        fout.write(\"0\\t0\\n\")\n",
    "        fout.write(f\"{experiment_config['genome_length']}\\t{experiment_config['recombination_rate'] * experiment_config['genome_length'] * 100}\\n\")"
   ]
  },
  {
   "cell_type": "markdown",
   "metadata": {},
   "source": [
    "Functions in the demographic_models module"
   ]
  },
  {
   "cell_type": "code",
   "execution_count": 5,
   "metadata": {},
   "outputs": [],
   "source": [
    "def split_isolation_model_simulation(sampled_params):\n",
    "\n",
    "    # Unpack the sampled parameters\n",
    "    Na, N1, N2, m, t_split = (\n",
    "        sampled_params[\"Na\"],  # Effective population size of the ancestral population\n",
    "        sampled_params[\"N1\"],  # Size of population 1 after split\n",
    "        sampled_params[\"N2\"],  # Size of population 2 after split\n",
    "        sampled_params[\"m\"],   # Migration rate between populations\n",
    "        sampled_params[\"t_split\"],  # Time of the population split (in generations)\n",
    "    )\n",
    "\n",
    "    b = demes.Builder()\n",
    "    b.add_deme(\"Na\", epochs=[dict(start_size=Na, end_time=t_split)])\n",
    "    b.add_deme(\"N1\", ancestors=[\"Na\"], epochs=[dict(start_size=N1)])\n",
    "    b.add_deme(\"N2\", ancestors=[\"Na\"], epochs=[dict(start_size=N2)])\n",
    "    b.add_migration(demes=[\"N1\", \"N2\"], rate=m)\n",
    "    g = b.resolve()\n",
    "    return g"
   ]
  },
  {
   "cell_type": "markdown",
   "metadata": {},
   "source": [
    "Functions for the MomentsLD inference part"
   ]
  },
  {
   "cell_type": "code",
   "execution_count": 6,
   "metadata": {},
   "outputs": [],
   "source": [
    "# Define your function with Ray's remote decorator\n",
    "@ray.remote\n",
    "def get_LD_stats(vcf_file, r_bins, flat_map_path, pop_file_path):\n",
    "    ray.init(ignore_reinit_error=True)\n",
    "    ld_stats = moments.LD.Parsing.compute_ld_statistics( #type:ignore\n",
    "        vcf_file,\n",
    "        rec_map_file=flat_map_path,\n",
    "        pop_file=pop_file_path,\n",
    "        pops=[\"N1\", \"N2\"], # TODO: Change later\n",
    "        r_bins=r_bins,\n",
    "        report=False,\n",
    "    )\n",
    "\n",
    "    return ld_stats\n"
   ]
  },
  {
   "cell_type": "code",
   "execution_count": 7,
   "metadata": {},
   "outputs": [],
   "source": [
    "def compute_ld_stats_parallel(folderpath, num_reps, r_bins):\n",
    "    \n",
    "    flat_map_path = os.path.join(folderpath, \"flat_map.txt\")\n",
    "    pop_file_path = os.path.join(folderpath, \"samples.txt\")\n",
    "    vcf_files = [\n",
    "        os.path.join(folderpath, f\"rep.{rep_ii}.vcf.gz\")\n",
    "        for rep_ii in range(num_reps)\n",
    "    ]\n",
    "\n",
    "    # Launch the tasks in parallel using Ray\n",
    "    futures = [\n",
    "        get_LD_stats.remote(vcf_file, r_bins, flat_map_path, pop_file_path)\n",
    "        for vcf_file in vcf_files\n",
    "    ]\n",
    "\n",
    "    # Wait for all the tasks to complete and retrieve results\n",
    "    results = ray.get(futures)\n",
    "    return results"
   ]
  },
  {
   "cell_type": "code",
   "execution_count": 8,
   "metadata": {},
   "outputs": [],
   "source": [
    "def run_inference_momentsLD(folderpath, demographic_model, p_guess, num_reps):\n",
    "    \"\"\"\n",
    "    This should do the parameter inference for momentsLD\n",
    "    index: unique simulation number\n",
    "    \"\"\"\n",
    "\n",
    "    r_bins = np.array([0, 1e-6, 2e-6, 5e-6, 1e-5, 2e-5, 5e-5, 1e-4, 2e-4, 5e-4, 1e-3])\n",
    "\n",
    "    print(\"parsing LD statistics\")\n",
    "\n",
    "\n",
    "    ld_stats = {}\n",
    "    results = compute_ld_stats_parallel(folderpath, num_reps, r_bins)\n",
    "\n",
    "    for i, result in enumerate(results):\n",
    "        ld_stats[i] = result\n",
    "\n",
    "    # print(\"computing mean and varcov matrix from LD statistics sums\")\n",
    "    mv = moments.LD.Parsing.bootstrap_data(ld_stats)  # type: ignore\n",
    "    # print(\"SHAPE OF THE COVARIANCE MATRIX\")\n",
    "    # print(mv[\"varcovs\"][-1].shape)\n",
    "    # mv[\"varcovs\"][-1].shape = (1, 1)\n",
    "\n",
    "    if demographic_model == \"bottleneck_model\":\n",
    "        demo_func = moments.LD.Demographics1D.three_epoch # type: ignore\n",
    "\n",
    "    elif demographic_model == \"split_isolation_model\":\n",
    "        demo_func = demographic_models.split_isolation_model_momentsLD\n",
    "\n",
    "    else:\n",
    "        raise ValueError(f\"Unsupported demographic model: {demographic_model}\")\n",
    "\n",
    "    # Set up the initial guess\n",
    "    p_guess = moments.LD.Util.perturb_params(p_guess, fold=0.1) # type: ignore\n",
    "    opt_params, LL = moments.LD.Inference.optimize_log_lbfgsb( #type:ignore\n",
    "        p_guess, [mv[\"means\"], mv[\"varcovs\"]], [demo_func], rs=r_bins, maxiter = 100, verbose = 3\n",
    "    )\n",
    "\n",
    "    physical_units = moments.LD.Util.rescale_params( # type: ignore\n",
    "        opt_params, [\"nu\", \"nu\", \"T\", \"m\", \"Ne\"]\n",
    ")\n",
    "\n",
    "    opt_params, LL = moments.LD.Inference.optimize_log_lbfgsb( #type:ignore\n",
    "    p_guess, [mv[\"means\"], mv[\"varcovs\"]], [demo_func], rs=r_bins, verbose = 3\n",
    "    )\n",
    "\n",
    "    opt_params_dict = {}\n",
    "    if demographic_model == \"bottleneck_model\":\n",
    "\n",
    "        opt_params_dict = {\n",
    "            # \"N0\": opt_params[4],\n",
    "            \"Nb\": opt_params[0] * opt_params[4],\n",
    "            \"N_recover\": opt_params[1] * opt_params[4],\n",
    "            \"t_bottleneck_start\": (opt_params[2]+opt_params[3]) * 2 * opt_params[4],\n",
    "            \"t_bottleneck_end\": opt_params[3] * 2 * opt_params[4]\n",
    "        }\n",
    "\n",
    "    elif demographic_model == \"split_isolation_model\":\n",
    "        physical_units = moments.LD.Util.rescale_params( #type:ignore\n",
    "            opt_params, [\"nu\", \"nu\", \"T\", \"m\", \"Ne\"]\n",
    "        )\n",
    "\n",
    "        print(physical_units)\n",
    "\n",
    "        opt_params_dict = {\n",
    "            \"N1\": physical_units[0],\n",
    "            \"N2\": physical_units[1],\n",
    "            \"t_split\": physical_units[2],\n",
    "            \"m\": physical_units[3], \n",
    "            'Na': physical_units[4]\n",
    "        }\n",
    "\n",
    "        print(\"best fit parameters:\")\n",
    "        print(f\"  N(deme0)         :  {physical_units[0]:.1f}\")\n",
    "        print(f\"  N(deme1)         :  {physical_units[1]:.1f}\")\n",
    "        print(f\"  Div. time (gen)  :  {physical_units[2]:.1f}\")\n",
    "        print(f\"  Migration rate   :  {physical_units[3]:.6f}\")\n",
    "        print(f\"  N(ancestral)     :  {physical_units[4]:.1f}\")\n",
    "    \n",
    "    # print(f'Moments LD results: {opt_params_dict}')\n",
    "\n",
    "    return opt_params_dict\n"
   ]
  },
  {
   "cell_type": "markdown",
   "metadata": {},
   "source": [
    "## Driver"
   ]
  },
  {
   "cell_type": "code",
   "execution_count": 9,
   "metadata": {},
   "outputs": [],
   "source": [
    "# Load in the experiment_config.json\n",
    "with open(\"/sietch_colab/akapoor/Demographic_Inference/experiment_config.json\", \"r\") as f:\n",
    "    experiment_config = json.load(f)"
   ]
  },
  {
   "cell_type": "code",
   "execution_count": 10,
   "metadata": {},
   "outputs": [
    {
     "name": "stdout",
     "output_type": "stream",
     "text": [
      "{'t_split': 1611, 'N1': 1813, 'N2': 1423, 'Na': 12796, 'm': 0}\n"
     ]
    }
   ],
   "source": [
    "sampled_params = sample_params(experiment_config[\"lower_bound_params\"], experiment_config[\"upper_bound_params\"])\n",
    "print(sampled_params)"
   ]
  },
  {
   "cell_type": "code",
   "execution_count": 11,
   "metadata": {},
   "outputs": [],
   "source": [
    "folderpath = f\"/sietch_colab/akapoor/Demographic_Inference/testing_things/simulations/{experiment_config['demographic_model']}/\""
   ]
  },
  {
   "cell_type": "code",
   "execution_count": 12,
   "metadata": {},
   "outputs": [
    {
     "name": "stdout",
     "output_type": "stream",
     "text": [
      "Samples: {'N1': 20, 'N2': 20}\n",
      "Metadata file written to /sietch_colab/akapoor/Demographic_Inference/testing_things/simulations/split_isolation_model/metadata.txt\n"
     ]
    }
   ],
   "source": [
    "run_msprime_replicates(sampled_params, experiment_config, folderpath)"
   ]
  },
  {
   "cell_type": "code",
   "execution_count": 13,
   "metadata": {},
   "outputs": [
    {
     "name": "stdout",
     "output_type": "stream",
     "text": [
      "Samples filepath: /sietch_colab/akapoor/Demographic_Inference/testing_things/simulations/split_isolation_model/samples.txt\n",
      "Flat map filepath: /sietch_colab/akapoor/Demographic_Inference/testing_things/simulations/split_isolation_model/flat_map.txt\n"
     ]
    }
   ],
   "source": [
    "write_samples_and_rec_map(experiment_config, folderpath)"
   ]
  },
  {
   "cell_type": "code",
   "execution_count": 14,
   "metadata": {},
   "outputs": [],
   "source": [
    "demographic_model = \"split_isolation_model\""
   ]
  },
  {
   "cell_type": "code",
   "execution_count": 16,
   "metadata": {},
   "outputs": [],
   "source": [
    "p_guess = p_guess = [0.01, 0.8, 0.075, 0.05, 10000]\n",
    "num_reps = 100"
   ]
  },
  {
   "cell_type": "code",
   "execution_count": 17,
   "metadata": {},
   "outputs": [
    {
     "name": "stdout",
     "output_type": "stream",
     "text": [
      "parsing LD statistics\n"
     ]
    },
    {
     "name": "stderr",
     "output_type": "stream",
     "text": [
      "2024-10-20 20:48:59,965\tINFO worker.py:1781 -- Started a local Ray instance.\n",
      "\u001b[36m(get_LD_stats pid=1480715)\u001b[0m Calling ray.init() again after it has already been called.\n"
     ]
    },
    {
     "name": "stdout",
     "output_type": "stream",
     "text": [
      "3       , -3.69906e+11, array([ 0.00972849 ,  0.789578   ,  0.0718179  ,  0.0468688  ,  10706.4    ])\n",
      "6       , -3.69943e+11, array([ 0.00972849 ,  0.788789   ,  0.0718179  ,  0.0468688  ,  10717.1    ])\n",
      "9       , -1.75582e+07, array([ 0.0215045  ,  0.768531   ,  0.0396941  ,  0.0533926  ,  10293.6    ])\n",
      "12      , -1.75592e+07, array([ 0.0215045  ,  0.767763   ,  0.0396941  ,  0.0533926  ,  10303.9    ])\n",
      "15      , -1.75525e+07, array([ 0.0215052  ,  0.768531   ,  0.0396929  ,  0.0533926  ,  10293.6    ])\n",
      "18      , -1.75535e+07, array([ 0.0215052  ,  0.767762   ,  0.0396929  ,  0.0533926  ,  10303.9    ])\n",
      "21      , -1.75299e+07, array([ 0.0215079  ,  0.768527   ,  0.0396881  ,  0.0533926  ,  10293.5    ])\n",
      "24      , -1.7531e+07 , array([ 0.0215079  ,  0.767759   ,  0.0396881  ,  0.0533926  ,  10303.8    ])\n",
      "27      , -1.744e+07  , array([ 0.0215185  ,  0.768514   ,  0.0396689  ,  0.0533927  ,  10293.3    ])\n",
      "30      , -1.7441e+07 , array([ 0.0215185  ,  0.767746   ,  0.0396689  ,  0.0533927  ,  10303.6    ])\n",
      "33      , -1.70851e+07, array([ 0.0215612  ,  0.76846    ,  0.0395921  ,  0.0533932  ,  10292.3    ])\n",
      "36      , -1.7086e+07 , array([ 0.0215612  ,  0.767692   ,  0.0395921  ,  0.0533932  ,  10302.6    ])\n",
      "39      , -1.57416e+07, array([ 0.0217327  ,  0.768245   ,  0.0392864  ,  0.053395   ,  10288.6    ])\n",
      "42      , -1.57424e+07, array([ 0.0217327  ,  0.767477   ,  0.0392864  ,  0.053395   ,  10298.9    ])\n",
      "45      , -6.80295e+06, array([ 0.0236536  ,  0.765704   ,  0.0361945  ,  0.0534094  ,  10255.3    ])\n",
      "48      , -6.80291e+06, array([ 0.0236536  ,  0.764939   ,  0.0361945  ,  0.0534094  ,  10265.6    ])\n",
      "51      , -3.97632e+06, array([ 0.0250617  ,  0.763694   ,  0.0342548  ,  0.0534147  ,  10239.6    ])\n",
      "54      , -3.97615e+06, array([ 0.0250617  ,  0.762931   ,  0.0342548  ,  0.0534147  ,  10249.8    ])\n",
      "57      , -2.09385e+06, array([ 0.0269734  ,  0.760749   ,  0.0319713  ,  0.053417   ,  10227.2    ])\n",
      "60      , -2.09367e+06, array([ 0.0269734  ,  0.759989   ,  0.0319713  ,  0.053417   ,  10237.4    ])\n",
      "63      , -1.17143e+06, array([ 0.0289894  ,  0.757341   ,  0.0299146  ,  0.0534152  ,  10222.7    ])\n",
      "66      , -1.17128e+06, array([ 0.0289894  ,  0.756584   ,  0.0299146  ,  0.0534152  ,  10232.9    ])\n",
      "69      , -664335     , array([ 0.0313382  ,  0.752926   ,  0.0278799  ,  0.0534092  ,  10226      ])\n",
      "72      , -664222     , array([ 0.0313382  ,  0.752174   ,  0.0278799  ,  0.0534092  ,  10236.2    ])\n",
      "75      , -395587     , array([ 0.0340051  ,  0.747266   ,  0.0259446  ,  0.0533987  ,  10239.2    ])\n",
      "78      , -395503     , array([ 0.0340051  ,  0.746519   ,  0.0259446  ,  0.0533987  ,  10249.4    ])\n",
      "81      , -248382     , array([ 0.037136   ,  0.739669   ,  0.0240735  ,  0.0533826  ,  10266.9    ])\n",
      "84      , -248319     , array([ 0.037136   ,  0.73893    ,  0.0240735  ,  0.0533826  ,  10277.2    ])\n",
      "87      , -166500     , array([ 0.0408932  ,  0.729161   ,  0.022272   ,  0.0533594  ,  10318.2    ])\n",
      "90      , -166452     , array([ 0.0408932  ,  0.728432   ,  0.022272   ,  0.0533594  ,  10328.6    ])\n",
      "93      , -119799     , array([ 0.0455646  ,  0.714044   ,  0.0205416  ,  0.0533259  ,  10411      ])\n",
      "96      , -119763     , array([ 0.0455646  ,  0.713331   ,  0.0205416  ,  0.0533259  ,  10421.4    ])\n",
      "99      , -92838.9    , array([ 0.0515697  ,  0.691564   ,  0.0189216  ,  0.0532848  ,  10575.4    ])\n",
      "102     , -92810.2    , array([ 0.0515697  ,  0.690873   ,  0.0189216  ,  0.0532848  ,  10586      ])\n",
      "105     , -77335.1    , array([ 0.0595029  ,  0.657252   ,  0.0175044  ,  0.0532349  ,  10855.8    ])\n",
      "108     , -77312.2    , array([ 0.0595029  ,  0.656595   ,  0.0175044  ,  0.0532349  ,  10866.6    ])\n",
      "111     , -68416      , array([ 0.0702465  ,  0.604015   ,  0.0164647  ,  0.0531754  ,  11300.2    ])\n",
      "114     , -68397.3    , array([ 0.0702465  ,  0.603412   ,  0.0164647  ,  0.0531754  ,  11311.5    ])\n",
      "117     , -62470.6    , array([ 0.0860024  ,  0.519213   ,  0.0160849  ,  0.0531039  ,  11941.2    ])\n",
      "120     , -62454.4    , array([ 0.0860024  ,  0.518694   ,  0.0160849  ,  0.0531039  ,  11953.2    ])\n",
      "123     , -54916.3    , array([ 0.119533   ,  0.36932    ,  0.017003   ,  0.0529934  ,  12905.8    ])\n",
      "126     , -54900      , array([ 0.119533   ,  0.36895    ,  0.017003   ,  0.0529934  ,  12918.7    ])\n",
      "129     , -20604.7    , array([ 0.550619   ,  0.0617377  ,  0.0266596  ,  0.0525003  ,  17452.5    ])\n",
      "132     , -20600      , array([ 0.550619   ,  0.061676   ,  0.0266596  ,  0.0525003  ,  17469.9    ])\n",
      "135     , -29947.4    , array([ 0.794861   ,  0.0267136  ,  0.0365439  ,  0.0519079  ,  10888.8    ])\n",
      "138     , -29982.7    , array([ 0.794861   ,  0.0266869  ,  0.0365439  ,  0.0519079  ,  10899.7    ])\n",
      "141     , -19044.7    , array([ 0.611701   ,  0.048562   ,  0.029181   ,  0.0523299  ,  15245.7    ])\n",
      "144     , -19047      , array([ 0.611701   ,  0.0485135  ,  0.029181   ,  0.0523299  ,  15261      ])\n",
      "147     , -16392.5    , array([ 0.467102   ,  0.0515606  ,  0.0309977  ,  0.0521043  ,  10359.6    ])\n",
      "150     , -16392.2    , array([ 0.467102   ,  0.051509   ,  0.0309977  ,  0.0521043  ,  10370      ])\n",
      "153     , -1.32343e+06, array([ 0.0478757  ,  0.099785   ,  0.0567238  ,  0.0502342  ,  866.372    ])\n",
      "156     , -1.32228e+06, array([ 0.0478757  ,  0.0996852  ,  0.0567238  ,  0.0502342  ,  867.239    ])\n",
      "159     , -13079.5    , array([ 0.232873   ,  0.0630866  ,  0.0372837  ,  0.0515256  ,  4853.54    ])\n",
      "162     , -13066.1    , array([ 0.232873   ,  0.0630235  ,  0.0372837  ,  0.0515256  ,  4858.39    ])\n",
      "165     , -9470.21    , array([ 0.214033   ,  0.0688692  ,  0.0405912  ,  0.0513086  ,  6096.75    ])\n",
      "168     , -9460.77    , array([ 0.214033   ,  0.0688004  ,  0.0405912  ,  0.0513086  ,  6102.85    ])\n",
      "171     , -5.28093e+12, array([ 0.00502477 ,  0.907215   ,  0.423192   ,  0.0454626  ,  107777     ])\n",
      "174     , -5.27972e+12, array([ 0.00502477 ,  0.906309   ,  0.423192   ,  0.0454626  ,  107885     ])\n",
      "177     , -278560     , array([ 0.0723572  ,  0.145108   ,  0.0799345  ,  0.0495455  ,  13985.9    ])\n",
      "180     , -278386     , array([ 0.0723572  ,  0.144963   ,  0.0799345  ,  0.0495455  ,  13999.9    ])\n",
      "183     , -3346.9     , array([ 0.151943   ,  0.0871521  ,  0.0502815  ,  0.0507449  ,  7925.33    ])\n",
      "186     , -3339.14    , array([ 0.151943   ,  0.087065   ,  0.0502815  ,  0.0507449  ,  7933.26    ])\n",
      "189     , -4.45039e+06, array([ 0.0634636  ,  0.21973    ,  0.105885   ,  0.0487157  ,  24021.7    ])\n",
      "192     , -4.44876e+06, array([ 0.0634636  ,  0.219511   ,  0.105885   ,  0.0487157  ,  24045.7    ])\n",
      "195     , -1633.2     , array([ 0.117261   ,  0.114676   ,  0.0627188  ,  0.050134   ,  11014      ])\n",
      "198     , -1625.2     , array([ 0.117261   ,  0.114561   ,  0.0627188  ,  0.050134   ,  11025.1    ])\n",
      "201     , -1367.26    , array([ 0.13475    ,  0.0989736  ,  0.0557051  ,  0.0504609  ,  9231.21    ])\n",
      "204     , -1360.36    , array([ 0.13475    ,  0.0988746  ,  0.0557051  ,  0.0504609  ,  9240.45    ])\n",
      "207     , -774.931    , array([ 0.132291   ,  0.119274   ,  0.0669963  ,  0.0499429  ,  14535.7    ])\n",
      "210     , -774.689    , array([ 0.132291   ,  0.119154   ,  0.0669963  ,  0.0499429  ,  14550.3    ])\n",
      "213     , -217.098    , array([ 0.133461   ,  0.109098   ,  0.061339   ,  0.0501898  ,  11700      ])\n",
      "216     , -213.947    , array([ 0.133461   ,  0.108989   ,  0.061339   ,  0.0501898  ,  11711.7    ])\n",
      "219     , -80.2421    , array([ 0.146063   ,  0.106149   ,  0.0627292  ,  0.0501256  ,  13065.2    ])\n",
      "222     , -80.9495    , array([ 0.146063   ,  0.106043   ,  0.0627292  ,  0.0501256  ,  13078.3    ])\n",
      "225     , -50.387     , array([ 0.141954   ,  0.108161   ,  0.0631777  ,  0.0501027  ,  13017.9    ])\n",
      "228     , -50.5666    , array([ 0.141954   ,  0.108053   ,  0.0631777  ,  0.0501027  ,  13030.9    ])\n",
      "231     , -50.0009    , array([ 0.141516   ,  0.108097   ,  0.0629083  ,  0.0501123  ,  12911.4    ])\n",
      "234     , -49.9286    , array([ 0.141516   ,  0.107989   ,  0.0629083  ,  0.0501123  ,  12924.3    ])\n",
      "237     , -49.9207    , array([ 0.141515   ,  0.108028   ,  0.0629295  ,  0.0501089  ,  12925.3    ])\n",
      "240     , -49.8927    , array([ 0.141515   ,  0.10792    ,  0.0629295  ,  0.0501089  ,  12938.2    ])\n",
      "243     , -49.9093    , array([ 0.141455   ,  0.107958   ,  0.0629097  ,  0.0501058  ,  12934.8    ])\n",
      "246     , -49.8984    , array([ 0.141455   ,  0.10785    ,  0.0629097  ,  0.0501058  ,  12947.7    ])\n",
      "249     , -49.9425    , array([ 0.141088   ,  0.10762    ,  0.0627604  ,  0.0500913  ,  12971.4    ])\n",
      "252     , -49.9746    , array([ 0.141088   ,  0.107513   ,  0.0627604  ,  0.0500913  ,  12984.4    ])\n",
      "255     , -49.9105    , array([ 0.1414     ,  0.107907   ,  0.0628872  ,  0.0501036  ,  12940.3    ])\n",
      "258     , -49.9061    , array([ 0.1414     ,  0.107799   ,  0.0628872  ,  0.0501036  ,  12953.3    ])\n",
      "261     , -49.9094    , array([ 0.141446   ,  0.107949   ,  0.0629061  ,  0.0501054  ,  12935.7    ])\n",
      "264     , -49.8995    , array([ 0.141446   ,  0.107842   ,  0.0629061  ,  0.0501054  ,  12948.6    ])\n",
      "267     , -49.9093    , array([ 0.141454   ,  0.107956   ,  0.0629091  ,  0.0501057  ,  12934.9    ])\n",
      "270     , -49.8986    , array([ 0.141454   ,  0.107848   ,  0.0629091  ,  0.0501057  ,  12947.9    ])\n",
      "273     , -49.9093    , array([ 0.141455   ,  0.107958   ,  0.0629096  ,  0.0501058  ,  12934.8    ])\n",
      "276     , -49.8984    , array([ 0.141455   ,  0.10785    ,  0.0629096  ,  0.0501058  ,  12947.8    ])\n",
      "279     , -49.9093    , array([ 0.141455   ,  0.107958   ,  0.0629097  ,  0.0501058  ,  12934.8    ])\n",
      "282     , -49.8984    , array([ 0.141455   ,  0.10785    ,  0.0629097  ,  0.0501058  ,  12947.7    ])\n",
      "285     , -49.9093    , array([ 0.141455   ,  0.107958   ,  0.0629097  ,  0.0501058  ,  12934.8    ])\n",
      "288     , -49.8984    , array([ 0.141455   ,  0.10785    ,  0.0629097  ,  0.0501058  ,  12947.7    ])\n",
      "291     , -49.9093    , array([ 0.141455   ,  0.107958   ,  0.0629097  ,  0.0501058  ,  12934.8    ])\n",
      "294     , -49.8984    , array([ 0.141455   ,  0.10785    ,  0.0629097  ,  0.0501058  ,  12947.7    ])\n",
      "297     , -49.9093    , array([ 0.141455   ,  0.107958   ,  0.0629097  ,  0.0501058  ,  12934.8    ])\n",
      "300     , -49.8984    , array([ 0.141455   ,  0.10785    ,  0.0629097  ,  0.0501058  ,  12947.7    ])\n",
      "303     , -49.9093    , array([ 0.141455   ,  0.107958   ,  0.0629097  ,  0.0501058  ,  12934.8    ])\n",
      "306     , -49.8984    , array([ 0.141455   ,  0.10785    ,  0.0629097  ,  0.0501058  ,  12947.7    ])\n",
      "309     , -49.9093    , array([ 0.141455   ,  0.107958   ,  0.0629097  ,  0.0501058  ,  12934.8    ])\n",
      "312     , -49.8984    , array([ 0.141455   ,  0.10785    ,  0.0629097  ,  0.0501058  ,  12947.7    ])\n",
      "315     , -49.9093    , array([ 0.141455   ,  0.107958   ,  0.0629097  ,  0.0501058  ,  12934.8    ])\n",
      "318     , -49.8984    , array([ 0.141455   ,  0.10785    ,  0.0629097  ,  0.0501058  ,  12947.7    ])\n",
      "321     , -49.9093    , array([ 0.141455   ,  0.107958   ,  0.0629097  ,  0.0501058  ,  12934.8    ])\n",
      "324     , -49.8984    , array([ 0.141455   ,  0.10785    ,  0.0629097  ,  0.0501058  ,  12947.7    ])\n",
      "327     , -49.9093    , array([ 0.141455   ,  0.107958   ,  0.0629097  ,  0.0501058  ,  12934.8    ])\n",
      "330     , -49.8984    , array([ 0.141455   ,  0.10785    ,  0.0629097  ,  0.0501058  ,  12947.7    ])\n",
      "333     , -49.9093    , array([ 0.141455   ,  0.107958   ,  0.0629097  ,  0.0501058  ,  12934.8    ])\n",
      "336     , -49.8984    , array([ 0.141455   ,  0.10785    ,  0.0629097  ,  0.0501058  ,  12947.7    ])\n",
      "339     , -49.9093    , array([ 0.141455   ,  0.107958   ,  0.0629097  ,  0.0501058  ,  12934.8    ])\n",
      "342     , -49.8984    , array([ 0.141455   ,  0.10785    ,  0.0629097  ,  0.0501058  ,  12947.7    ])\n",
      "345     , -3.69906e+11, array([ 0.00972849 ,  0.789578   ,  0.0718179  ,  0.0468688  ,  10706.4    ])\n",
      "348     , -3.69943e+11, array([ 0.00972849 ,  0.788789   ,  0.0718179  ,  0.0468688  ,  10717.1    ])\n",
      "351     , -1.75582e+07, array([ 0.0215045  ,  0.768531   ,  0.0396941  ,  0.0533926  ,  10293.6    ])\n",
      "354     , -1.75592e+07, array([ 0.0215045  ,  0.767763   ,  0.0396941  ,  0.0533926  ,  10303.9    ])\n",
      "357     , -1.75525e+07, array([ 0.0215052  ,  0.768531   ,  0.0396929  ,  0.0533926  ,  10293.6    ])\n",
      "360     , -1.75535e+07, array([ 0.0215052  ,  0.767762   ,  0.0396929  ,  0.0533926  ,  10303.9    ])\n",
      "363     , -1.75299e+07, array([ 0.0215079  ,  0.768527   ,  0.0396881  ,  0.0533926  ,  10293.5    ])\n",
      "366     , -1.7531e+07 , array([ 0.0215079  ,  0.767759   ,  0.0396881  ,  0.0533926  ,  10303.8    ])\n",
      "369     , -1.744e+07  , array([ 0.0215185  ,  0.768514   ,  0.0396689  ,  0.0533927  ,  10293.3    ])\n",
      "372     , -1.7441e+07 , array([ 0.0215185  ,  0.767746   ,  0.0396689  ,  0.0533927  ,  10303.6    ])\n",
      "375     , -1.70851e+07, array([ 0.0215612  ,  0.76846    ,  0.0395921  ,  0.0533932  ,  10292.3    ])\n",
      "378     , -1.7086e+07 , array([ 0.0215612  ,  0.767692   ,  0.0395921  ,  0.0533932  ,  10302.6    ])\n",
      "381     , -1.57416e+07, array([ 0.0217327  ,  0.768245   ,  0.0392864  ,  0.053395   ,  10288.6    ])\n",
      "384     , -1.57424e+07, array([ 0.0217327  ,  0.767477   ,  0.0392864  ,  0.053395   ,  10298.9    ])\n",
      "387     , -6.80295e+06, array([ 0.0236536  ,  0.765704   ,  0.0361945  ,  0.0534094  ,  10255.3    ])\n",
      "390     , -6.80291e+06, array([ 0.0236536  ,  0.764939   ,  0.0361945  ,  0.0534094  ,  10265.6    ])\n",
      "393     , -3.97632e+06, array([ 0.0250617  ,  0.763694   ,  0.0342548  ,  0.0534147  ,  10239.6    ])\n",
      "396     , -3.97615e+06, array([ 0.0250617  ,  0.762931   ,  0.0342548  ,  0.0534147  ,  10249.8    ])\n",
      "399     , -2.09385e+06, array([ 0.0269734  ,  0.760749   ,  0.0319713  ,  0.053417   ,  10227.2    ])\n",
      "402     , -2.09367e+06, array([ 0.0269734  ,  0.759989   ,  0.0319713  ,  0.053417   ,  10237.4    ])\n",
      "405     , -1.17143e+06, array([ 0.0289894  ,  0.757341   ,  0.0299146  ,  0.0534152  ,  10222.7    ])\n",
      "408     , -1.17128e+06, array([ 0.0289894  ,  0.756584   ,  0.0299146  ,  0.0534152  ,  10232.9    ])\n",
      "411     , -664335     , array([ 0.0313382  ,  0.752926   ,  0.0278799  ,  0.0534092  ,  10226      ])\n",
      "414     , -664222     , array([ 0.0313382  ,  0.752174   ,  0.0278799  ,  0.0534092  ,  10236.2    ])\n",
      "417     , -395587     , array([ 0.0340051  ,  0.747266   ,  0.0259446  ,  0.0533987  ,  10239.2    ])\n",
      "420     , -395503     , array([ 0.0340051  ,  0.746519   ,  0.0259446  ,  0.0533987  ,  10249.4    ])\n",
      "423     , -248382     , array([ 0.037136   ,  0.739669   ,  0.0240735  ,  0.0533826  ,  10266.9    ])\n",
      "426     , -248319     , array([ 0.037136   ,  0.73893    ,  0.0240735  ,  0.0533826  ,  10277.2    ])\n",
      "429     , -166500     , array([ 0.0408932  ,  0.729161   ,  0.022272   ,  0.0533594  ,  10318.2    ])\n",
      "432     , -166452     , array([ 0.0408932  ,  0.728432   ,  0.022272   ,  0.0533594  ,  10328.6    ])\n",
      "435     , -119799     , array([ 0.0455646  ,  0.714044   ,  0.0205416  ,  0.0533259  ,  10411      ])\n",
      "438     , -119763     , array([ 0.0455646  ,  0.713331   ,  0.0205416  ,  0.0533259  ,  10421.4    ])\n",
      "441     , -92838.9    , array([ 0.0515697  ,  0.691564   ,  0.0189216  ,  0.0532848  ,  10575.4    ])\n",
      "444     , -92810.2    , array([ 0.0515697  ,  0.690873   ,  0.0189216  ,  0.0532848  ,  10586      ])\n",
      "447     , -77335.1    , array([ 0.0595029  ,  0.657252   ,  0.0175044  ,  0.0532349  ,  10855.8    ])\n",
      "450     , -77312.2    , array([ 0.0595029  ,  0.656595   ,  0.0175044  ,  0.0532349  ,  10866.6    ])\n",
      "453     , -68416      , array([ 0.0702465  ,  0.604015   ,  0.0164647  ,  0.0531754  ,  11300.2    ])\n",
      "456     , -68397.3    , array([ 0.0702465  ,  0.603412   ,  0.0164647  ,  0.0531754  ,  11311.5    ])\n",
      "459     , -62470.6    , array([ 0.0860024  ,  0.519213   ,  0.0160849  ,  0.0531039  ,  11941.2    ])\n",
      "462     , -62454.4    , array([ 0.0860024  ,  0.518694   ,  0.0160849  ,  0.0531039  ,  11953.2    ])\n",
      "465     , -54916.3    , array([ 0.119533   ,  0.36932    ,  0.017003   ,  0.0529934  ,  12905.8    ])\n",
      "468     , -54900      , array([ 0.119533   ,  0.36895    ,  0.017003   ,  0.0529934  ,  12918.7    ])\n",
      "471     , -20604.7    , array([ 0.550619   ,  0.0617377  ,  0.0266596  ,  0.0525003  ,  17452.5    ])\n",
      "474     , -20600      , array([ 0.550619   ,  0.061676   ,  0.0266596  ,  0.0525003  ,  17469.9    ])\n",
      "477     , -29947.4    , array([ 0.794861   ,  0.0267136  ,  0.0365439  ,  0.0519079  ,  10888.8    ])\n",
      "480     , -29982.7    , array([ 0.794861   ,  0.0266869  ,  0.0365439  ,  0.0519079  ,  10899.7    ])\n",
      "483     , -19044.7    , array([ 0.611701   ,  0.048562   ,  0.029181   ,  0.0523299  ,  15245.7    ])\n",
      "486     , -19047      , array([ 0.611701   ,  0.0485135  ,  0.029181   ,  0.0523299  ,  15261      ])\n",
      "489     , -16392.5    , array([ 0.467102   ,  0.0515606  ,  0.0309977  ,  0.0521043  ,  10359.6    ])\n",
      "492     , -16392.2    , array([ 0.467102   ,  0.051509   ,  0.0309977  ,  0.0521043  ,  10370      ])\n",
      "495     , -1.32343e+06, array([ 0.0478757  ,  0.099785   ,  0.0567238  ,  0.0502342  ,  866.372    ])\n",
      "498     , -1.32228e+06, array([ 0.0478757  ,  0.0996852  ,  0.0567238  ,  0.0502342  ,  867.239    ])\n",
      "501     , -13079.5    , array([ 0.232873   ,  0.0630866  ,  0.0372837  ,  0.0515256  ,  4853.54    ])\n",
      "504     , -13066.1    , array([ 0.232873   ,  0.0630235  ,  0.0372837  ,  0.0515256  ,  4858.39    ])\n",
      "507     , -9470.21    , array([ 0.214033   ,  0.0688692  ,  0.0405912  ,  0.0513086  ,  6096.75    ])\n",
      "510     , -9460.77    , array([ 0.214033   ,  0.0688004  ,  0.0405912  ,  0.0513086  ,  6102.85    ])\n",
      "513     , -5.28093e+12, array([ 0.00502477 ,  0.907215   ,  0.423192   ,  0.0454626  ,  107777     ])\n",
      "516     , -5.27972e+12, array([ 0.00502477 ,  0.906309   ,  0.423192   ,  0.0454626  ,  107885     ])\n",
      "519     , -278560     , array([ 0.0723572  ,  0.145108   ,  0.0799345  ,  0.0495455  ,  13985.9    ])\n",
      "522     , -278386     , array([ 0.0723572  ,  0.144963   ,  0.0799345  ,  0.0495455  ,  13999.9    ])\n",
      "525     , -3346.9     , array([ 0.151943   ,  0.0871521  ,  0.0502815  ,  0.0507449  ,  7925.33    ])\n",
      "528     , -3339.14    , array([ 0.151943   ,  0.087065   ,  0.0502815  ,  0.0507449  ,  7933.26    ])\n",
      "531     , -4.45039e+06, array([ 0.0634636  ,  0.21973    ,  0.105885   ,  0.0487157  ,  24021.7    ])\n",
      "534     , -4.44876e+06, array([ 0.0634636  ,  0.219511   ,  0.105885   ,  0.0487157  ,  24045.7    ])\n",
      "537     , -1633.2     , array([ 0.117261   ,  0.114676   ,  0.0627188  ,  0.050134   ,  11014      ])\n",
      "540     , -1625.2     , array([ 0.117261   ,  0.114561   ,  0.0627188  ,  0.050134   ,  11025.1    ])\n",
      "543     , -1367.26    , array([ 0.13475    ,  0.0989736  ,  0.0557051  ,  0.0504609  ,  9231.21    ])\n",
      "546     , -1360.36    , array([ 0.13475    ,  0.0988746  ,  0.0557051  ,  0.0504609  ,  9240.45    ])\n",
      "549     , -774.931    , array([ 0.132291   ,  0.119274   ,  0.0669963  ,  0.0499429  ,  14535.7    ])\n",
      "552     , -774.689    , array([ 0.132291   ,  0.119154   ,  0.0669963  ,  0.0499429  ,  14550.3    ])\n",
      "555     , -217.098    , array([ 0.133461   ,  0.109098   ,  0.061339   ,  0.0501898  ,  11700      ])\n",
      "558     , -213.947    , array([ 0.133461   ,  0.108989   ,  0.061339   ,  0.0501898  ,  11711.7    ])\n",
      "561     , -80.2421    , array([ 0.146063   ,  0.106149   ,  0.0627292  ,  0.0501256  ,  13065.2    ])\n",
      "564     , -80.9495    , array([ 0.146063   ,  0.106043   ,  0.0627292  ,  0.0501256  ,  13078.3    ])\n",
      "567     , -50.387     , array([ 0.141954   ,  0.108161   ,  0.0631777  ,  0.0501027  ,  13017.9    ])\n",
      "570     , -50.5666    , array([ 0.141954   ,  0.108053   ,  0.0631777  ,  0.0501027  ,  13030.9    ])\n",
      "573     , -50.0009    , array([ 0.141516   ,  0.108097   ,  0.0629083  ,  0.0501123  ,  12911.4    ])\n",
      "576     , -49.9286    , array([ 0.141516   ,  0.107989   ,  0.0629083  ,  0.0501123  ,  12924.3    ])\n",
      "579     , -49.9207    , array([ 0.141515   ,  0.108028   ,  0.0629295  ,  0.0501089  ,  12925.3    ])\n",
      "582     , -49.8927    , array([ 0.141515   ,  0.10792    ,  0.0629295  ,  0.0501089  ,  12938.2    ])\n",
      "585     , -49.9093    , array([ 0.141455   ,  0.107958   ,  0.0629097  ,  0.0501058  ,  12934.8    ])\n",
      "588     , -49.8984    , array([ 0.141455   ,  0.10785    ,  0.0629097  ,  0.0501058  ,  12947.7    ])\n",
      "591     , -49.9425    , array([ 0.141088   ,  0.10762    ,  0.0627604  ,  0.0500913  ,  12971.4    ])\n",
      "594     , -49.9746    , array([ 0.141088   ,  0.107513   ,  0.0627604  ,  0.0500913  ,  12984.4    ])\n",
      "597     , -49.9105    , array([ 0.1414     ,  0.107907   ,  0.0628872  ,  0.0501036  ,  12940.3    ])\n",
      "600     , -49.9061    , array([ 0.1414     ,  0.107799   ,  0.0628872  ,  0.0501036  ,  12953.3    ])\n",
      "603     , -49.9094    , array([ 0.141446   ,  0.107949   ,  0.0629061  ,  0.0501054  ,  12935.7    ])\n",
      "606     , -49.8995    , array([ 0.141446   ,  0.107842   ,  0.0629061  ,  0.0501054  ,  12948.6    ])\n",
      "609     , -49.9093    , array([ 0.141454   ,  0.107956   ,  0.0629091  ,  0.0501057  ,  12934.9    ])\n",
      "612     , -49.8986    , array([ 0.141454   ,  0.107848   ,  0.0629091  ,  0.0501057  ,  12947.9    ])\n",
      "615     , -49.9093    , array([ 0.141455   ,  0.107958   ,  0.0629096  ,  0.0501058  ,  12934.8    ])\n",
      "618     , -49.8984    , array([ 0.141455   ,  0.10785    ,  0.0629096  ,  0.0501058  ,  12947.8    ])\n",
      "621     , -49.9093    , array([ 0.141455   ,  0.107958   ,  0.0629097  ,  0.0501058  ,  12934.8    ])\n",
      "624     , -49.8984    , array([ 0.141455   ,  0.10785    ,  0.0629097  ,  0.0501058  ,  12947.7    ])\n",
      "627     , -49.9093    , array([ 0.141455   ,  0.107958   ,  0.0629097  ,  0.0501058  ,  12934.8    ])\n",
      "630     , -49.8984    , array([ 0.141455   ,  0.10785    ,  0.0629097  ,  0.0501058  ,  12947.7    ])\n",
      "633     , -49.9093    , array([ 0.141455   ,  0.107958   ,  0.0629097  ,  0.0501058  ,  12934.8    ])\n",
      "636     , -49.8984    , array([ 0.141455   ,  0.10785    ,  0.0629097  ,  0.0501058  ,  12947.7    ])\n",
      "639     , -49.9093    , array([ 0.141455   ,  0.107958   ,  0.0629097  ,  0.0501058  ,  12934.8    ])\n",
      "642     , -49.8984    , array([ 0.141455   ,  0.10785    ,  0.0629097  ,  0.0501058  ,  12947.7    ])\n",
      "645     , -49.9093    , array([ 0.141455   ,  0.107958   ,  0.0629097  ,  0.0501058  ,  12934.8    ])\n",
      "648     , -49.8984    , array([ 0.141455   ,  0.10785    ,  0.0629097  ,  0.0501058  ,  12947.7    ])\n",
      "651     , -49.9093    , array([ 0.141455   ,  0.107958   ,  0.0629097  ,  0.0501058  ,  12934.8    ])\n",
      "654     , -49.8984    , array([ 0.141455   ,  0.10785    ,  0.0629097  ,  0.0501058  ,  12947.7    ])\n",
      "657     , -49.9093    , array([ 0.141455   ,  0.107958   ,  0.0629097  ,  0.0501058  ,  12934.8    ])\n",
      "660     , -49.8984    , array([ 0.141455   ,  0.10785    ,  0.0629097  ,  0.0501058  ,  12947.7    ])\n",
      "663     , -49.9093    , array([ 0.141455   ,  0.107958   ,  0.0629097  ,  0.0501058  ,  12934.8    ])\n",
      "666     , -49.8984    , array([ 0.141455   ,  0.10785    ,  0.0629097  ,  0.0501058  ,  12947.7    ])\n",
      "669     , -49.9093    , array([ 0.141455   ,  0.107958   ,  0.0629097  ,  0.0501058  ,  12934.8    ])\n",
      "672     , -49.8984    , array([ 0.141455   ,  0.10785    ,  0.0629097  ,  0.0501058  ,  12947.7    ])\n",
      "675     , -49.9093    , array([ 0.141455   ,  0.107958   ,  0.0629097  ,  0.0501058  ,  12934.8    ])\n",
      "678     , -49.8984    , array([ 0.141455   ,  0.10785    ,  0.0629097  ,  0.0501058  ,  12947.7    ])\n",
      "681     , -49.9093    , array([ 0.141455   ,  0.107958   ,  0.0629097  ,  0.0501058  ,  12934.8    ])\n",
      "684     , -49.8984    , array([ 0.141455   ,  0.10785    ,  0.0629097  ,  0.0501058  ,  12947.7    ])\n",
      "[1.82969560e+03 1.39501611e+03 1.62744927e+03 1.93686013e-06\n",
      " 1.29347969e+04]\n",
      "best fit parameters:\n",
      "  N(deme0)         :  1829.7\n",
      "  N(deme1)         :  1395.0\n",
      "  Div. time (gen)  :  1627.4\n",
      "  Migration rate   :  0.000002\n",
      "  N(ancestral)     :  12934.8\n"
     ]
    },
    {
     "name": "stderr",
     "output_type": "stream",
     "text": [
      "\u001b[36m(pid=1475411)\u001b[0m [2024-10-20 21:34:27,441 E 1475411 1485928] gcs_rpc_client.h:653: Failed to connect to GCS within 60 seconds. GCS may have been killed. It's either GCS is terminated by `ray stop` or is killed unexpectedly. If it is killed unexpectedly, see the log file gcs_server.out. https://docs.ray.io/en/master/ray-observability/user-guides/configure-logging.html#logging-directory-structure. The program will terminate.\n",
      "\u001b[36m(pid=gcs_server)\u001b[0m E1020 21:36:20.844855780 1474957 chttp2_transport.cc:2890]             keepalive_ping_end state error: 0 (expect: 1)\n"
     ]
    }
   ],
   "source": [
    "opt_params_dict = run_inference_momentsLD(folderpath, demographic_model, p_guess, num_reps)"
   ]
  },
  {
   "cell_type": "code",
   "execution_count": 18,
   "metadata": {},
   "outputs": [
    {
     "data": {
      "text/plain": [
       "{'N1': 1829.695604190187,\n",
       " 'N2': 1395.01610945435,\n",
       " 't_split': 1627.4492700196256,\n",
       " 'm': 1.9368601263622553e-06,\n",
       " 'Na': 12934.796930862876}"
      ]
     },
     "execution_count": 18,
     "metadata": {},
     "output_type": "execute_result"
    }
   ],
   "source": [
    "opt_params_dict"
   ]
  },
  {
   "cell_type": "code",
   "execution_count": 19,
   "metadata": {},
   "outputs": [
    {
     "data": {
      "text/plain": [
       "{'t_split': 1611, 'N1': 1813, 'N2': 1423, 'Na': 12796, 'm': 0}"
      ]
     },
     "execution_count": 19,
     "metadata": {},
     "output_type": "execute_result"
    }
   ],
   "source": [
    "sampled_params"
   ]
  },
  {
   "cell_type": "markdown",
   "metadata": {},
   "source": [
    "# Dadi makes me sad :("
   ]
  },
  {
   "cell_type": "code",
   "execution_count": 1,
   "metadata": {},
   "outputs": [],
   "source": [
    "import os\n",
    "import moments\n",
    "from tqdm import tqdm\n",
    "import numpy as np\n",
    "import msprime\n",
    "import dadi\n",
    "import glob\n",
    "import demes\n",
    "import ray\n",
    "import json\n",
    "os.chdir('/sietch_colab/akapoor/Demographic_Inference')\n",
    "import src.demographic_models as demographic_models"
   ]
  },
  {
   "cell_type": "code",
   "execution_count": 2,
   "metadata": {},
   "outputs": [],
   "source": [
    "# Load in the experiment_config.json\n",
    "with open(\"/sietch_colab/akapoor/Demographic_Inference/experiment_config.json\", \"r\") as f:\n",
    "    experiment_config = json.load(f)"
   ]
  },
  {
   "cell_type": "code",
   "execution_count": 3,
   "metadata": {},
   "outputs": [],
   "source": [
    "def sample_params(lower_bound_params, upper_bound_params):\n",
    "    sampled_params = {}\n",
    "    for key in lower_bound_params:\n",
    "        lower_bound = lower_bound_params[key]\n",
    "        upper_bound = upper_bound_params[key]\n",
    "        sampled_value = np.random.uniform(lower_bound, upper_bound)\n",
    "        sampled_params[key] = int(sampled_value)\n",
    "\n",
    "\n",
    "        # Check if the sampled parameter is equal to the mean of the uniform distribution\n",
    "        mean_value = (lower_bound + upper_bound) / 2\n",
    "        if sampled_value == mean_value:\n",
    "            # Add a small random value to avoid exact mean, while keeping within bounds\n",
    "            adjustment = np.random.uniform(-0.1 * (upper_bound - lower_bound), 0.1 * (upper_bound - lower_bound))\n",
    "            adjusted_value = sampled_value + adjustment\n",
    "            \n",
    "            # Ensure the adjusted value is still within the bounds\n",
    "            adjusted_value = max(min(adjusted_value, upper_bound), lower_bound)\n",
    "            sampled_params[key] = int(adjusted_value)\n",
    "\n",
    "    return sampled_params"
   ]
  },
  {
   "cell_type": "code",
   "execution_count": 4,
   "metadata": {},
   "outputs": [
    {
     "name": "stdout",
     "output_type": "stream",
     "text": [
      "{'t_split': 4782, 'N1': 5104, 'N2': 6980, 'Na': 18976, 'm': 0}\n"
     ]
    }
   ],
   "source": [
    "sampled_params = sample_params(experiment_config[\"lower_bound_params\"], experiment_config[\"upper_bound_params\"])\n",
    "print(sampled_params)"
   ]
  },
  {
   "cell_type": "code",
   "execution_count": 5,
   "metadata": {},
   "outputs": [],
   "source": [
    "def create_SFS(\n",
    "    experiment_config, sampled_params, mode, num_samples, demographic_model, length=1e7, mutation_rate=5.7e-9, recombination_rate = 3.386e-9, **kwargs\n",
    "):\n",
    "    \"\"\"\n",
    "    If we are in pretraining mode we will use a simulated SFS. If we are in inference mode we will use a real SFS.\n",
    "\n",
    "    \"\"\"\n",
    "\n",
    "    if mode == \"pretrain\":\n",
    "        # Simulate the demographic model\n",
    "        g = demographic_model(sampled_params)\n",
    "        demog = msprime.Demography.from_demes(g)\n",
    "\n",
    "        # Dynamically define the samples using msprime.SampleSet, based on the sample_sizes dictionary\n",
    "        samples = [\n",
    "            msprime.SampleSet(sample_size, population=pop_name, ploidy=1)\n",
    "            for pop_name, sample_size in num_samples.items()\n",
    "        ]\n",
    "\n",
    "        # Simulate ancestry for two populations (joint simulation)\n",
    "        ts = msprime.sim_ancestry(\n",
    "            samples=samples,  # Two populations\n",
    "            demography=demog,\n",
    "            sequence_length=length,\n",
    "            recombination_rate=recombination_rate,\n",
    "            random_seed=experiment_config['seed'],\n",
    "        )\n",
    "        \n",
    "        # Simulate mutations over the ancestry tree sequence\n",
    "        ts = msprime.sim_mutations(ts, rate=mutation_rate)\n",
    "\n",
    "        # Define sample sets dynamically for the SFS\n",
    "        sample_sets = [\n",
    "            ts.samples(population=pop.id) \n",
    "            for pop in ts.populations() \n",
    "            if len(ts.samples(population=pop.id)) > 0  # Exclude populations with no samples\n",
    "        ]\n",
    "        \n",
    "        # Create the joint allele frequency spectrum\n",
    "        sfs = ts.allele_frequency_spectrum(sample_sets=sample_sets, mode=\"site\", polarised=True)\n",
    "        \n",
    "        # Multiply SFS by the sequence length to adjust scale\n",
    "        sfs *= length\n",
    "\n",
    "        # Convert to moments Spectrum for further use\n",
    "        sfs = moments.Spectrum(sfs)\n",
    "    \n",
    "    elif mode == \"inference\":\n",
    "        vcf_file = kwargs.get(\"vcf_file\", None)\n",
    "        pop_file = kwargs.get(\"pop_file\", None)\n",
    "        popname = kwargs.get(\"popname\", None)\n",
    "\n",
    "        if vcf_file is None or pop_file is None:\n",
    "            raise ValueError(\n",
    "                \"vcf_file and pop_file must be provided in inference mode.\"\n",
    "            )\n",
    "\n",
    "        dd = dadi.Misc.make_data_dict_vcf(vcf_file, pop_file)\n",
    "        sfs = dadi.Spectrum.from_data_dict(\n",
    "            dd, [popname], projections=[2 * num_samples], polarized=True\n",
    "        )\n",
    "\n",
    "    return sfs"
   ]
  },
  {
   "cell_type": "code",
   "execution_count": 6,
   "metadata": {},
   "outputs": [],
   "source": [
    "sfs = create_SFS(\n",
    "    experiment_config,\n",
    "      sampled_params,\n",
    "        \"pretrain\",\n",
    "          experiment_config[\"num_samples\"],\n",
    "            demographic_models.split_isolation_model_simulation,\n",
    "              length=experiment_config['genome_length'],\n",
    "                mutation_rate=experiment_config['mutation_rate'], recombination_rate = experiment_config['recombination_rate'])"
   ]
  },
  {
   "cell_type": "code",
   "execution_count": 7,
   "metadata": {},
   "outputs": [
    {
     "data": {
      "text/plain": [
       "Spectrum([[-- 447.0 203.0 152.0 132.0 79.0 72.0 48.0 42.0 32.0 34.0 24.0 18.0 19.0\n",
       "  37.0 23.0 1.0 3.0 11.0 8.0 1.0]\n",
       " [356.0 7.0 12.0 28.0 1.0 12.0 11.0 19.0 4.0 3.0 10.0 5.0 0.0 5.0 2.0 0.0\n",
       "  0.0 3.0 3.0 1.0 1.0]\n",
       " [210.0 11.0 15.0 14.0 6.0 4.0 14.0 2.0 16.0 6.0 2.0 4.0 3.0 9.0 3.0 4.0\n",
       "  1.0 0.0 3.0 5.0 0.0]\n",
       " [115.0 6.0 7.0 7.0 9.0 10.0 4.0 5.0 8.0 1.0 1.0 6.0 5.0 0.0 6.0 2.0 1.0\n",
       "  0.0 4.0 2.0 1.0]\n",
       " [84.0 4.0 2.0 2.0 15.0 6.0 0.0 2.0 7.0 3.0 8.0 7.0 5.0 2.0 6.0 1.0 0.0\n",
       "  1.0 2.0 5.0 1.0]\n",
       " [59.0 1.0 1.0 3.0 4.0 3.0 6.0 1.0 1.0 0.0 1.0 7.0 0.0 0.0 1.0 2.0 2.0\n",
       "  1.0 0.0 2.0 4.0]\n",
       " [59.0 3.0 3.0 6.0 3.0 8.0 6.0 2.0 1.0 3.0 2.0 1.0 7.0 3.0 2.0 1.0 2.0\n",
       "  1.0 0.0 1.0 5.0]\n",
       " [31.0 5.0 0.0 6.0 2.0 7.0 3.0 3.0 2.0 4.0 4.0 2.0 1.0 5.0 5.0 6.0 0.0\n",
       "  0.0 0.0 1.0 0.0]\n",
       " [42.0 11.0 1.0 2.0 2.0 2.0 6.0 5.0 2.0 1.0 4.0 1.0 0.0 3.0 1.0 3.0 3.0\n",
       "  2.0 3.0 0.0 1.0]\n",
       " [39.0 5.0 2.0 8.0 5.0 2.0 0.0 0.0 4.0 1.0 2.0 3.0 0.0 0.0 5.0 0.0 5.0\n",
       "  0.0 0.0 1.0 16.0]\n",
       " [45.0 4.0 1.0 10.0 3.0 6.0 9.0 1.0 1.0 4.0 13.0 5.0 0.0 0.0 5.0 2.0 2.0\n",
       "  9.0 0.0 0.0 5.0]\n",
       " [42.0 3.0 0.0 4.0 3.0 2.0 1.0 0.0 2.0 1.0 1.0 4.0 0.0 0.0 4.0 3.0 1.0\n",
       "  10.0 0.0 1.0 7.0]\n",
       " [17.0 0.0 3.0 4.0 2.0 3.0 2.0 2.0 3.0 1.0 2.0 4.0 5.0 2.0 4.0 0.0 1.0\n",
       "  1.0 4.0 4.0 4.0]\n",
       " [9.0 5.0 0.0 0.0 3.0 5.0 4.0 4.0 2.0 1.0 6.0 11.0 1.0 0.0 4.0 1.0 0.0\n",
       "  0.0 0.0 2.0 1.0]\n",
       " [13.0 4.0 1.0 2.0 1.0 5.0 8.0 9.0 3.0 0.0 0.0 4.0 2.0 4.0 7.0 4.0 4.0\n",
       "  3.0 2.0 0.0 7.0]\n",
       " [14.0 2.0 5.0 0.0 2.0 4.0 2.0 3.0 0.0 4.0 2.0 3.0 1.0 10.0 4.0 3.0 2.0\n",
       "  0.0 0.0 0.0 8.0]\n",
       " [14.0 7.0 4.0 2.0 0.0 8.0 1.0 1.0 2.0 3.0 3.0 1.0 3.0 1.0 0.0 0.0 9.0\n",
       "  2.0 2.0 5.0 10.0]\n",
       " [10.0 12.0 4.0 1.0 3.0 5.0 4.0 0.0 3.0 11.0 0.0 0.0 8.0 2.0 3.0 1.0 7.0\n",
       "  0.0 6.0 2.0 14.0]\n",
       " [3.0 0.0 4.0 0.0 0.0 2.0 4.0 11.0 0.0 3.0 2.0 10.0 2.0 6.0 5.0 5.0 2.0\n",
       "  1.0 3.0 4.0 16.0]\n",
       " [2.0 2.0 2.0 1.0 2.0 1.0 1.0 2.0 1.0 6.0 7.0 0.0 5.0 6.0 12.0 5.0 2.0\n",
       "  4.0 2.0 10.0 13.0]\n",
       " [1.0 5.0 1.0 0.0 0.0 12.0 21.0 2.0 9.0 7.0 13.0 3.0 3.0 10.0 9.0 8.0\n",
       "  13.0 23.0 12.0 19.0 --]], folded=False, pop_ids=None)"
      ]
     },
     "execution_count": 7,
     "metadata": {},
     "output_type": "execute_result"
    }
   ],
   "source": [
    "sfs"
   ]
  },
  {
   "cell_type": "code",
   "execution_count": 8,
   "metadata": {},
   "outputs": [],
   "source": [
    "from src.parameter_inference import run_inference_dadi"
   ]
  },
  {
   "cell_type": "code",
   "execution_count": 9,
   "metadata": {},
   "outputs": [
    {
     "name": "stdout",
     "output_type": "stream",
     "text": [
      "3       , -6934.29    , array([ 0.0147655  ,  1.09256    ,  0.047487   ,  0.02723    ])\n",
      "6       , -14927.7    , array([ 0.00376638 ,  0.624363   ,  0.047487   ,  0.02723    ])\n",
      "9       , -6771.8     , array([ 0.0147655  ,  0.624363   ,  0.047487   ,  0.00680751 ])\n",
      "OPT DADI PARAMETER: [0.01476551 0.62436314 0.01194675 0.02723004]\n",
      "12      , -9353.06    , array([ 0.0173614  ,  1.42488    ,  0.0940947  ,  0.0530843  ])\n",
      "15      , -11356.1    , array([ 0.00996368 ,  1.42488    ,  0.0940947  ,  0.0928976  ])\n",
      "18      , -6053.52    , array([ 0.00996368 ,  1.42488    ,  0.0235987  ,  0.0530843  ])\n",
      "OPT DADI PARAMETER: [0.00996368 1.4248795  0.02359867 0.05308435]\n",
      "21      , -12150.6    , array([ 0.0124891  ,  1.08654    ,  0.129034   ,  0.0302475  ])\n",
      "24      , -12227.6    , array([ 0.0124891  ,  1.08654    ,  0.225735   ,  0.0302475  ])\n",
      "27      , -11565.7    , array([ 0.0124891  ,  0.271709   ,  0.129034   ,  0.0302475  ])\n",
      "30      , -10542      , array([ 0.0205984  ,  0.944363   ,  0.0001     ,  0.0373044  ])\n",
      "OPT DADI PARAMETER: [0.01248908 1.08653787 0.03233358 0.03024748]\n"
     ]
    }
   ],
   "source": [
    "model_sfs_dadi, opt_theta_dadi, opt_params_dict_dadi, ll_list_dadi = (\n",
    "        run_inference_dadi(\n",
    "            sfs = sfs,\n",
    "            p0= experiment_config['optimization_initial_guess'],\n",
    "            lower_bound= experiment_config['lower_bound_optimization'],\n",
    "            upper_bound= experiment_config['upper_bound_optimization'],\n",
    "            num_samples=20,\n",
    "            demographic_model=experiment_config['demographic_model'],\n",
    "            mutation_rate=experiment_config['mutation_rate'],\n",
    "            length=experiment_config['genome_length'],\n",
    "            k  = experiment_config['k'], \n",
    "            top_values_k = experiment_config['top_values_k']\n",
    "        )\n",
    "    )"
   ]
  },
  {
   "cell_type": "code",
   "execution_count": null,
   "metadata": {},
   "outputs": [],
   "source": []
  }
 ],
 "metadata": {
  "kernelspec": {
   "display_name": "myenv",
   "language": "python",
   "name": "python3"
  },
  "language_info": {
   "codemirror_mode": {
    "name": "ipython",
    "version": 3
   },
   "file_extension": ".py",
   "mimetype": "text/x-python",
   "name": "python",
   "nbconvert_exporter": "python",
   "pygments_lexer": "ipython3",
   "version": "3.10.13"
  }
 },
 "nbformat": 4,
 "nbformat_minor": 2
}
