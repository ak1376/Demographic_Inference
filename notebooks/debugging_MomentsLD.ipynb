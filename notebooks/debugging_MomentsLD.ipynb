{
 "cells": [
  {
   "cell_type": "markdown",
   "metadata": {},
   "source": [
    "# MomentsLD makes me sad :("
   ]
  },
  {
   "cell_type": "code",
   "execution_count": 2,
   "metadata": {},
   "outputs": [],
   "source": [
    "import os\n",
    "import moments\n",
    "from tqdm import tqdm\n",
    "import numpy as np\n",
    "import msprime\n",
    "import dadi\n",
    "import glob\n",
    "import demes\n",
    "import ray\n",
    "import json\n",
    "os.chdir('/sietch_colab/akapoor/Demographic_Inference')\n",
    "import src.demographic_models as demographic_models"
   ]
  },
  {
   "cell_type": "markdown",
   "metadata": {},
   "source": [
    "## Functions"
   ]
  },
  {
   "cell_type": "markdown",
   "metadata": {},
   "source": [
    "I want to see what's going wrong with my MomentsLD specific scripts. I will copy and paste them here and will debug."
   ]
  },
  {
   "cell_type": "markdown",
   "metadata": {},
   "source": [
    "Functions in the preprocessing module"
   ]
  },
  {
   "cell_type": "code",
   "execution_count": 3,
   "metadata": {},
   "outputs": [],
   "source": [
    "def sample_params(lower_bound_params, upper_bound_params):\n",
    "    sampled_params = {}\n",
    "    for key in lower_bound_params:\n",
    "        lower_bound = lower_bound_params[key]\n",
    "        upper_bound = upper_bound_params[key]\n",
    "        sampled_value = np.random.uniform(lower_bound, upper_bound)\n",
    "        sampled_params[key] = int(sampled_value)\n",
    "\n",
    "\n",
    "        # Check if the sampled parameter is equal to the mean of the uniform distribution\n",
    "        mean_value = (lower_bound + upper_bound) / 2\n",
    "        if sampled_value == mean_value:\n",
    "            # Add a small random value to avoid exact mean, while keeping within bounds\n",
    "            adjustment = np.random.uniform(-0.1 * (upper_bound - lower_bound), 0.1 * (upper_bound - lower_bound))\n",
    "            adjusted_value = sampled_value + adjustment\n",
    "            \n",
    "            # Ensure the adjusted value is still within the bounds\n",
    "            adjusted_value = max(min(adjusted_value, upper_bound), lower_bound)\n",
    "            sampled_params[key] = int(adjusted_value)\n",
    "\n",
    "    return sampled_params"
   ]
  },
  {
   "cell_type": "code",
   "execution_count": 4,
   "metadata": {},
   "outputs": [],
   "source": [
    "def run_msprime_replicates(sampled_params, experiment_config, folderpath):\n",
    "\n",
    "    if experiment_config[\"demographic_model\"] == \"bottleneck_model\":\n",
    "        demographic_model = demographic_models.bottleneck_model\n",
    "\n",
    "    elif experiment_config[\"demographic_model\"] == \"split_isolation_model\":\n",
    "        demographic_model = demographic_models.split_isolation_model_simulation\n",
    "\n",
    "    else:\n",
    "        raise ValueError(f\"Unsupported demographic model: {experiment_config['demographic_model']}\")\n",
    "\n",
    "    g = demographic_model(sampled_params)\n",
    "    demog = msprime.Demography.from_demes(g)\n",
    "\n",
    "    # Create directory for storing VCFs\n",
    "    output_folder = folderpath\n",
    "    os.makedirs(output_folder, exist_ok=True)\n",
    "\n",
    "    print(f\"Samples: {experiment_config['num_samples']}\")\n",
    "    \n",
    "    tree_sequences = msprime.sim_ancestry(\n",
    "        samples = experiment_config['num_samples'],\n",
    "        # {\"N1\": experiment_config['num_samples']['N1'], \"N2\": experiment_config['num_samples']['N2']},\n",
    "        demography=demog,\n",
    "        sequence_length=experiment_config['genome_length'],\n",
    "        recombination_rate=experiment_config['recombination_rate'],\n",
    "        num_replicates=experiment_config['num_reps'],\n",
    "        random_seed=experiment_config['seed'],\n",
    "    )\n",
    "\n",
    "    # List to store file paths of the generated VCFs\n",
    "    vcf_filepaths = []\n",
    "\n",
    "    for ii, ts in enumerate(tree_sequences):\n",
    "        ts = msprime.sim_mutations(ts, rate=experiment_config['mutation_rate'], random_seed=ii + 1)\n",
    "        vcf_name = os.path.join(output_folder, f'rep.{ii}.vcf')\n",
    "        with open(vcf_name, \"w+\") as fout:\n",
    "            ts.write_vcf(fout, allow_position_zero=True)\n",
    "        os.system(f\"gzip {vcf_name}\")\n",
    "\n",
    "        # Store the compressed VCF file path\n",
    "        vcf_filepaths.append(f\"{vcf_name}.gz\")\n",
    "\n",
    "    # Write the metadata file with all VCF file paths\n",
    "    metadata_file = os.path.join(output_folder, \"metadata.txt\")\n",
    "    with open(metadata_file, \"w+\") as metafile:\n",
    "        metafile.write(\"\\n\".join(vcf_filepaths))\n",
    "\n",
    "    print(f\"Metadata file written to {metadata_file}\")"
   ]
  },
  {
   "cell_type": "code",
   "execution_count": 5,
   "metadata": {},
   "outputs": [],
   "source": [
    "def write_samples_and_rec_map(experiment_config, folderpath):\n",
    "\n",
    "    # Define the file paths\n",
    "    samples_file = os.path.join(folderpath, f\"samples.txt\")\n",
    "    flat_map_file = os.path.join(folderpath, f\"flat_map.txt\")\n",
    "\n",
    "    print(f'Samples filepath: {samples_file}')\n",
    "    print(f'Flat map filepath: {flat_map_file}')\n",
    "\n",
    "    # Open and write the sample file\n",
    "    with open(samples_file, \"w+\") as fout:\n",
    "        fout.write(\"sample\\tpop\\n\")\n",
    "\n",
    "        # Dynamically define samples based on the num_samples dictionary\n",
    "        sample_idx = 0  # Initialize sample index\n",
    "        for pop_name, sample_size in experiment_config['num_samples'].items():\n",
    "            for _ in range(sample_size):\n",
    "                fout.write(f\"tsk_{sample_idx}\\t{pop_name}\\n\")\n",
    "                sample_idx += 1\n",
    "\n",
    "    # Write the recombination map file\n",
    "    with open(flat_map_file, \"w+\") as fout:\n",
    "        fout.write(\"pos\\tMap(cM)\\n\")\n",
    "        fout.write(\"0\\t0\\n\")\n",
    "        fout.write(f\"{experiment_config['genome_length']}\\t{experiment_config['recombination_rate'] * experiment_config['genome_length'] * 100}\\n\")"
   ]
  },
  {
   "cell_type": "markdown",
   "metadata": {},
   "source": [
    "Functions in the demographic_models module"
   ]
  },
  {
   "cell_type": "code",
   "execution_count": 6,
   "metadata": {},
   "outputs": [],
   "source": [
    "def split_isolation_model_simulation(sampled_params):\n",
    "\n",
    "    # Unpack the sampled parameters\n",
    "    Na, N1, N2, m, t_split = (\n",
    "        sampled_params[\"Na\"],  # Effective population size of the ancestral population\n",
    "        sampled_params[\"N1\"],  # Size of population 1 after split\n",
    "        sampled_params[\"N2\"],  # Size of population 2 after split\n",
    "        sampled_params[\"m\"],   # Migration rate between populations\n",
    "        sampled_params[\"t_split\"],  # Time of the population split (in generations)\n",
    "    )\n",
    "\n",
    "    b = demes.Builder()\n",
    "    b.add_deme(\"Na\", epochs=[dict(start_size=Na, end_time=t_split)])\n",
    "    b.add_deme(\"N1\", ancestors=[\"Na\"], epochs=[dict(start_size=N1)])\n",
    "    b.add_deme(\"N2\", ancestors=[\"Na\"], epochs=[dict(start_size=N2)])\n",
    "    b.add_migration(demes=[\"N1\", \"N2\"], rate=m)\n",
    "    g = b.resolve()\n",
    "    return g"
   ]
  },
  {
   "cell_type": "markdown",
   "metadata": {},
   "source": [
    "Functions for the MomentsLD inference part"
   ]
  },
  {
   "cell_type": "code",
   "execution_count": 7,
   "metadata": {},
   "outputs": [],
   "source": [
    "# Define your function with Ray's remote decorator\n",
    "@ray.remote\n",
    "def get_LD_stats(vcf_file, r_bins, flat_map_path, pop_file_path):\n",
    "    ray.init(ignore_reinit_error=True)\n",
    "    ld_stats = moments.LD.Parsing.compute_ld_statistics( #type:ignore\n",
    "        vcf_file,\n",
    "        rec_map_file=flat_map_path,\n",
    "        pop_file=pop_file_path,\n",
    "        pops=[\"N1\", \"N2\"], # TODO: Change later\n",
    "        r_bins=r_bins,\n",
    "        report=False,\n",
    "    )\n",
    "\n",
    "    return ld_stats\n"
   ]
  },
  {
   "cell_type": "code",
   "execution_count": 8,
   "metadata": {},
   "outputs": [],
   "source": [
    "def compute_ld_stats_parallel(folderpath, num_reps, r_bins):\n",
    "    \n",
    "    flat_map_path = os.path.join(folderpath, \"flat_map.txt\")\n",
    "    pop_file_path = os.path.join(folderpath, \"samples.txt\")\n",
    "    vcf_files = [\n",
    "        os.path.join(folderpath, f\"rep.{rep_ii}.vcf.gz\")\n",
    "        for rep_ii in range(num_reps)\n",
    "    ]\n",
    "\n",
    "    # Launch the tasks in parallel using Ray\n",
    "    futures = [\n",
    "        get_LD_stats.remote(vcf_file, r_bins, flat_map_path, pop_file_path)\n",
    "        for vcf_file in vcf_files\n",
    "    ]\n",
    "\n",
    "    # Wait for all the tasks to complete and retrieve results\n",
    "    results = ray.get(futures)\n",
    "    return results"
   ]
  },
  {
   "cell_type": "code",
   "execution_count": 9,
   "metadata": {},
   "outputs": [],
   "source": [
    "def run_inference_momentsLD(folderpath, demographic_model, p_guess, num_reps):\n",
    "    \"\"\"\n",
    "    This should do the parameter inference for momentsLD\n",
    "    index: unique simulation number\n",
    "    \"\"\"\n",
    "\n",
    "    r_bins = np.array([0, 1e-6, 2e-6, 5e-6, 1e-5, 2e-5, 5e-5, 1e-4, 2e-4, 5e-4, 1e-3])\n",
    "\n",
    "    print(\"parsing LD statistics\")\n",
    "\n",
    "\n",
    "    ld_stats = {}\n",
    "    results = compute_ld_stats_parallel(folderpath, num_reps, r_bins)\n",
    "\n",
    "    for i, result in enumerate(results):\n",
    "        ld_stats[i] = result\n",
    "\n",
    "    # print(\"computing mean and varcov matrix from LD statistics sums\")\n",
    "    mv = moments.LD.Parsing.bootstrap_data(ld_stats)  # type: ignore\n",
    "    # print(\"SHAPE OF THE COVARIANCE MATRIX\")\n",
    "    # print(mv[\"varcovs\"][-1].shape)\n",
    "    # mv[\"varcovs\"][-1].shape = (1, 1)\n",
    "\n",
    "    if demographic_model == \"bottleneck_model\":\n",
    "        demo_func = moments.LD.Demographics1D.three_epoch # type: ignore\n",
    "\n",
    "    elif demographic_model == \"split_isolation_model\":\n",
    "        demo_func = demographic_models.split_isolation_model_momentsLD\n",
    "\n",
    "    else:\n",
    "        raise ValueError(f\"Unsupported demographic model: {demographic_model}\")\n",
    "\n",
    "    # Set up the initial guess\n",
    "    p_guess = moments.LD.Util.perturb_params(p_guess, fold=0.1) # type: ignore\n",
    "    opt_params, LL = moments.LD.Inference.optimize_log_lbfgsb( #type:ignore\n",
    "        p_guess, [mv[\"means\"], mv[\"varcovs\"]], [demo_func], rs=r_bins, maxiter = 100, verbose = 3\n",
    "    )\n",
    "\n",
    "    physical_units = moments.LD.Util.rescale_params( # type: ignore\n",
    "        opt_params, [\"nu\", \"nu\", \"T\", \"m\", \"Ne\"]\n",
    ")\n",
    "\n",
    "    opt_params, LL = moments.LD.Inference.optimize_log_lbfgsb( #type:ignore\n",
    "    p_guess, [mv[\"means\"], mv[\"varcovs\"]], [demo_func], rs=r_bins, verbose = 3\n",
    "    )\n",
    "\n",
    "    opt_params_dict = {}\n",
    "    if demographic_model == \"bottleneck_model\":\n",
    "\n",
    "        opt_params_dict = {\n",
    "            # \"N0\": opt_params[4],\n",
    "            \"Nb\": opt_params[0] * opt_params[4],\n",
    "            \"N_recover\": opt_params[1] * opt_params[4],\n",
    "            \"t_bottleneck_start\": (opt_params[2]+opt_params[3]) * 2 * opt_params[4],\n",
    "            \"t_bottleneck_end\": opt_params[3] * 2 * opt_params[4]\n",
    "        }\n",
    "\n",
    "    elif demographic_model == \"split_isolation_model\":\n",
    "        physical_units = moments.LD.Util.rescale_params( #type:ignore\n",
    "            opt_params, [\"nu\", \"nu\", \"T\", \"m\", \"Ne\"]\n",
    "        )\n",
    "\n",
    "        print(physical_units)\n",
    "\n",
    "        opt_params_dict = {\n",
    "            \"N1\": physical_units[0],\n",
    "            \"N2\": physical_units[1],\n",
    "            \"t_split\": physical_units[2],\n",
    "            \"m\": physical_units[3], \n",
    "            'Na': physical_units[4]\n",
    "        }\n",
    "\n",
    "        print(\"best fit parameters:\")\n",
    "        print(f\"  N(deme0)         :  {physical_units[0]:.1f}\")\n",
    "        print(f\"  N(deme1)         :  {physical_units[1]:.1f}\")\n",
    "        print(f\"  Div. time (gen)  :  {physical_units[2]:.1f}\")\n",
    "        print(f\"  Migration rate   :  {physical_units[3]:.6f}\")\n",
    "        print(f\"  N(ancestral)     :  {physical_units[4]:.1f}\")\n",
    "    \n",
    "    # print(f'Moments LD results: {opt_params_dict}')\n",
    "\n",
    "    return opt_params_dict\n"
   ]
  },
  {
   "cell_type": "markdown",
   "metadata": {},
   "source": [
    "## Driver"
   ]
  },
  {
   "cell_type": "code",
   "execution_count": 10,
   "metadata": {},
   "outputs": [],
   "source": [
    "# Load in the experiment_config.json\n",
    "with open(\"/sietch_colab/akapoor/Demographic_Inference/experiment_config.json\", \"r\") as f:\n",
    "    experiment_config = json.load(f)"
   ]
  },
  {
   "cell_type": "code",
   "execution_count": 11,
   "metadata": {},
   "outputs": [
    {
     "name": "stdout",
     "output_type": "stream",
     "text": [
      "{'t_split': 3371, 'N1': 2274, 'N2': 8321, 'Na': 18377, 'm': 0}\n"
     ]
    }
   ],
   "source": [
    "sampled_params = sample_params(experiment_config[\"lower_bound_params\"], experiment_config[\"upper_bound_params\"])\n",
    "print(sampled_params)"
   ]
  },
  {
   "cell_type": "code",
   "execution_count": 12,
   "metadata": {},
   "outputs": [],
   "source": [
    "folderpath = f\"/sietch_colab/akapoor/Demographic_Inference/testing_things/simulations/{experiment_config['demographic_model']}/\""
   ]
  },
  {
   "cell_type": "code",
   "execution_count": 13,
   "metadata": {},
   "outputs": [
    {
     "name": "stdout",
     "output_type": "stream",
     "text": [
      "Samples: {'N1': 20, 'N2': 20}\n",
      "Metadata file written to /sietch_colab/akapoor/Demographic_Inference/testing_things/simulations/split_isolation_model/metadata.txt\n"
     ]
    }
   ],
   "source": [
    "run_msprime_replicates(sampled_params, experiment_config, folderpath)"
   ]
  },
  {
   "cell_type": "code",
   "execution_count": 14,
   "metadata": {},
   "outputs": [
    {
     "name": "stdout",
     "output_type": "stream",
     "text": [
      "Samples filepath: /sietch_colab/akapoor/Demographic_Inference/testing_things/simulations/split_isolation_model/samples.txt\n",
      "Flat map filepath: /sietch_colab/akapoor/Demographic_Inference/testing_things/simulations/split_isolation_model/flat_map.txt\n"
     ]
    }
   ],
   "source": [
    "write_samples_and_rec_map(experiment_config, folderpath)"
   ]
  },
  {
   "cell_type": "code",
   "execution_count": 15,
   "metadata": {},
   "outputs": [],
   "source": [
    "demographic_model = \"split_isolation_model\""
   ]
  },
  {
   "cell_type": "code",
   "execution_count": 16,
   "metadata": {},
   "outputs": [],
   "source": [
    "p_guess = p_guess = [0.1, 2, 0.075, 2, 10000]\n",
    "num_reps = 100"
   ]
  },
  {
   "cell_type": "code",
   "execution_count": 17,
   "metadata": {},
   "outputs": [
    {
     "name": "stdout",
     "output_type": "stream",
     "text": [
      "parsing LD statistics\n"
     ]
    },
    {
     "name": "stderr",
     "output_type": "stream",
     "text": [
      "2024-10-16 18:40:51,747\tINFO worker.py:1781 -- Started a local Ray instance.\n",
      "\u001b[36m(get_LD_stats pid=2667074)\u001b[0m Calling ray.init() again after it has already been called.\n"
     ]
    },
    {
     "name": "stdout",
     "output_type": "stream",
     "text": [
      "3       , -52439.7    , array([ 0.0951222  ,  1.95896    ,  0.0709626  ,  2.04211    ,  10410.8    ])\n",
      "6       , -52376.9    , array([ 0.0951222  ,  1.957      ,  0.0709626  ,  2.04211    ,  10421.2    ])\n",
      "9       , -35029.5    , array([ 0.191531   ,  1.73513    ,  0.0464343  ,  1.67564    ,  17612.7    ])\n",
      "12      , -35022.1    , array([ 0.191531   ,  1.7334     ,  0.0464343  ,  1.67564    ,  17630.3    ])\n",
      "15      , -31371.6    , array([ 0.172543   ,  1.6606     ,  0.0522723  ,  1.61509    ,  17885.7    ])\n",
      "18      , -31363.8    , array([ 0.172543   ,  1.65894    ,  0.0522723  ,  1.61509    ,  17903.6    ])\n",
      "21      , -26909.1    , array([ 0.113637   ,  1.39315    ,  0.0839459  ,  1.394      ,  19020.8    ])\n",
      "24      , -26891.4    , array([ 0.113637   ,  1.39176    ,  0.0839459  ,  1.394      ,  19039.9    ])\n",
      "27      , -26052.2    , array([ 0.143398   ,  1.53631    ,  0.0644781  ,  1.51312    ,  18380      ])\n",
      "30      , -26042.3    , array([ 0.143398   ,  1.53477    ,  0.0644781  ,  1.51312    ,  18398.4    ])\n",
      "33      , -99699.1    , array([ 0.0823974  ,  0.754093   ,  0.134738   ,  0.9295     ,  17856.8    ])\n",
      "36      , -99565.7    , array([ 0.0823974  ,  0.753339   ,  0.134738   ,  0.9295     ,  17874.6    ])\n",
      "39      , -22113.2    , array([ 0.121162   ,  1.23735    ,  0.0806772  ,  1.30472    ,  18219.3    ])\n",
      "42      , -22095.6    , array([ 0.121162   ,  1.23611    ,  0.0806772  ,  1.30472    ,  18237.5    ])\n",
      "45      , -11476.7    , array([ 0.110018   ,  0.684779   ,  0.108349   ,  0.911221   ,  17667.1    ])\n",
      "48      , -11446.6    , array([ 0.110018   ,  0.684094   ,  0.108349   ,  0.911221   ,  17684.8    ])\n",
      "51      , -6.45291e+17, array([ 0.0269017  ,  3.95743e-07,  66.4657    ,  0.000164462,  9473.5     ])\n",
      "54      , -6.4282e+17 , array([ 0.0269017  ,  3.95348e-07,  66.4657    ,  0.000164462,  9482.98    ])\n",
      "57      , -4.30354e+10, array([ 0.0688328  ,  0.00573432 ,  0.918437   ,  0.0516604  ,  14356.5    ])\n",
      "60      , -4.3044e+10 , array([ 0.0688328  ,  0.00572859 ,  0.918437   ,  0.0516604  ,  14370.8    ])\n",
      "63      , -4.69665e+06, array([ 0.097296   ,  0.19556    ,  0.189694   ,  0.429538   ,  16732.1    ])\n",
      "66      , -4.70983e+06, array([ 0.097296   ,  0.195364   ,  0.189694   ,  0.429538   ,  16748.9    ])\n",
      "69      , -10401.8    , array([ 0.106297   ,  0.482133   ,  0.126743   ,  0.738205   ,  17400.2    ])\n",
      "72      , -10386.2    , array([ 0.106297   ,  0.481651   ,  0.126743   ,  0.738205   ,  17417.6    ])\n",
      "75      , -9477.55    , array([ 0.108574   ,  0.598479   ,  0.115072   ,  0.840459   ,  17564.2    ])\n",
      "78      , -9448.66    , array([ 0.108574   ,  0.597881   ,  0.115072   ,  0.840459   ,  17581.8    ])\n",
      "81      , -5461.82    , array([ 0.112278   ,  0.436363   ,  0.120988   ,  0.645955   ,  17896.6    ])\n",
      "84      , -5460.9     , array([ 0.112278   ,  0.435927   ,  0.120988   ,  0.645955   ,  17914.5    ])\n",
      "87      , -1354.15    , array([ 0.121353   ,  0.465086   ,  0.102299   ,  0.614335   ,  18056.6    ])\n",
      "90      , -1345.43    , array([ 0.121353   ,  0.464621   ,  0.102299   ,  0.614335   ,  18074.7    ])\n",
      "93      , -817.409    , array([ 0.124199   ,  0.441096   ,  0.10108    ,  0.570542   ,  18737.3    ])\n",
      "96      , -812.882    , array([ 0.124199   ,  0.440655   ,  0.10108    ,  0.570542   ,  18756.1    ])\n",
      "99      , -548.843    , array([ 0.126505   ,  0.419281   ,  0.0994722  ,  0.520928   ,  19880.6    ])\n",
      "102     , -548.728    , array([ 0.126505   ,  0.418862   ,  0.0994722  ,  0.520928   ,  19900.5    ])\n",
      "105     , -503.068    , array([ 0.125962   ,  0.413702   ,  0.0975555  ,  0.498806   ,  20287      ])\n",
      "108     , -503.684    , array([ 0.125962   ,  0.413288   ,  0.0975555  ,  0.498806   ,  20307.3    ])\n",
      "111     , -437.13     , array([ 0.123112   ,  0.404001   ,  0.0928298  ,  0.455332   ,  20842.6    ])\n",
      "114     , -438.088    , array([ 0.123112   ,  0.403597   ,  0.0928298  ,  0.455332   ,  20863.5    ])\n",
      "117     , -373.943    , array([ 0.118108   ,  0.392234   ,  0.0870093  ,  0.405248   ,  21299.1    ])\n",
      "120     , -374.661    , array([ 0.118108   ,  0.391842   ,  0.0870093  ,  0.405248   ,  21320.4    ])\n",
      "123     , -301.168    , array([ 0.110383   ,  0.37678    ,  0.080181   ,  0.346033   ,  21720      ])\n",
      "126     , -301.252    , array([ 0.110383   ,  0.376404   ,  0.080181   ,  0.346033   ,  21741.7    ])\n",
      "129     , -235.818    , array([ 0.102525   ,  0.363644   ,  0.075127   ,  0.295717   ,  21986.1    ])\n",
      "132     , -235.308    , array([ 0.102525   ,  0.36328    ,  0.075127   ,  0.295717   ,  22008.1    ])\n",
      "135     , -207.302    , array([ 0.0985626  ,  0.353908   ,  0.0732213  ,  0.268541   ,  21946.1    ])\n",
      "138     , -206.895    , array([ 0.0985626  ,  0.353555   ,  0.0732213  ,  0.268541   ,  21968      ])\n",
      "141     , -203.183    , array([ 0.0982225  ,  0.352091   ,  0.0733463  ,  0.263732   ,  21983.8    ])\n",
      "144     , -203.152    , array([ 0.0982225  ,  0.351739   ,  0.0733463  ,  0.263732   ,  22005.8    ])\n",
      "147     , -201.895    , array([ 0.0980843  ,  0.350997   ,  0.073272   ,  0.259888   ,  22052.8    ])\n",
      "150     , -202.081    , array([ 0.0980843  ,  0.350646   ,  0.073272   ,  0.259888   ,  22074.9    ])\n",
      "153     , -200.157    , array([ 0.0977083  ,  0.34933    ,  0.0729039  ,  0.251219   ,  22141.7    ])\n",
      "156     , -200.538    , array([ 0.0977083  ,  0.348981   ,  0.0729039  ,  0.251219   ,  22163.9    ])\n",
      "159     , -195.377    , array([ 0.0971493  ,  0.347591   ,  0.0722697  ,  0.231196   ,  22197.3    ])\n",
      "162     , -195.935    , array([ 0.0971493  ,  0.347243   ,  0.0722697  ,  0.231196   ,  22219.5    ])\n",
      "165     , -178.703    , array([ 0.0974597  ,  0.35264    ,  0.0723774  ,  0.186486   ,  22025.6    ])\n",
      "168     , -179.33     , array([ 0.0974597  ,  0.352287   ,  0.0723774  ,  0.186486   ,  22047.6    ])\n",
      "171     , -142.044    , array([ 0.100942   ,  0.364913   ,  0.0731227  ,  0.0945834  ,  20932.5    ])\n",
      "174     , -142.13     , array([ 0.100942   ,  0.364549   ,  0.0731227  ,  0.0945834  ,  20953.5    ])\n",
      "177     , -108.851    , array([ 0.108215   ,  0.394167   ,  0.0782633  ,  0.0605676  ,  19961.3    ])\n",
      "180     , -108.809    , array([ 0.108215   ,  0.393773   ,  0.0782633  ,  0.0605676  ,  19981.3    ])\n",
      "183     , -95.7182    , array([ 0.114659   ,  0.420234   ,  0.0838809  ,  0.0439912  ,  18975.3    ])\n",
      "186     , -95.7383    , array([ 0.114659   ,  0.419814   ,  0.0838809  ,  0.0439912  ,  18994.2    ])\n",
      "189     , -95.4004    , array([ 0.114464   ,  0.419894   ,  0.083323   ,  0.0414994  ,  19012.1    ])\n",
      "192     , -95.2172    , array([ 0.114464   ,  0.419474   ,  0.083323   ,  0.0414994  ,  19031.1    ])\n",
      "195     , -95.3038    , array([ 0.114306   ,  0.418937   ,  0.0832141  ,  0.0421797  ,  19077.3    ])\n",
      "198     , -95.2214    , array([ 0.114306   ,  0.418518   ,  0.0832141  ,  0.0421797  ,  19096.4    ])\n",
      "201     , -95.0966    , array([ 0.114316   ,  0.418874   ,  0.0832131  ,  0.0410363  ,  19083.3    ])\n",
      "204     , -95.0503    , array([ 0.114316   ,  0.418456   ,  0.0832131  ,  0.0410363  ,  19102.4    ])\n",
      "207     , -94.0432    , array([ 0.114101   ,  0.418067   ,  0.0829161  ,  0.0307846  ,  19103.9    ])\n",
      "210     , -94.1143    , array([ 0.114101   ,  0.41765    ,  0.0829161  ,  0.0307846  ,  19123      ])\n",
      "213     , -93.2685    , array([ 0.11403    ,  0.418799   ,  0.082714   ,  0.0209972  ,  19056.9    ])\n",
      "216     , -93.2699    , array([ 0.11403    ,  0.418381   ,  0.082714   ,  0.0209972  ,  19075.9    ])\n",
      "219     , -93.0335    , array([ 0.113905   ,  0.419131   ,  0.0825068  ,  0.0139105  ,  19009      ])\n",
      "222     , -92.942     , array([ 0.113905   ,  0.418712   ,  0.0825068  ,  0.0139105  ,  19028.1    ])\n",
      "225     , -92.7462    , array([ 0.114042   ,  0.420148   ,  0.0826233  ,  0.0110584  ,  18978.9    ])\n",
      "228     , -92.6487    , array([ 0.114042   ,  0.419728   ,  0.0826233  ,  0.0110584  ,  18997.8    ])\n",
      "231     , -92.5065    , array([ 0.114071   ,  0.419935   ,  0.0825706  ,  0.0073764  ,  18971.7    ])\n",
      "234     , -92.456     , array([ 0.114071   ,  0.419515   ,  0.0825706  ,  0.0073764  ,  18990.7    ])\n",
      "237     , -92.5053    , array([ 0.113907   ,  0.419632   ,  0.0824521  ,  0.00502651 ,  18996.8    ])\n",
      "240     , -92.4892    , array([ 0.113907   ,  0.419212   ,  0.0824521  ,  0.00502651 ,  19015.9    ])\n",
      "243     , -92.2141    , array([ 0.114249   ,  0.420721   ,  0.082627   ,  0.00308445 ,  18955.4    ])\n",
      "246     , -92.1905    , array([ 0.114249   ,  0.420301   ,  0.082627   ,  0.00308445 ,  18974.3    ])\n",
      "249     , -92.0973    , array([ 0.114331   ,  0.420944   ,  0.082691   ,  0.00219025 ,  18942.5    ])\n",
      "252     , -92.0925    , array([ 0.114331   ,  0.420523   ,  0.082691   ,  0.00219025 ,  18961.4    ])\n",
      "255     , -92.1104    , array([ 0.114296   ,  0.420899   ,  0.0826432  ,  0.00122398 ,  18944.2    ])\n",
      "258     , -92.101     , array([ 0.114296   ,  0.420478   ,  0.0826432  ,  0.00122398 ,  18963.2    ])\n",
      "261     , -92.0974    , array([ 0.114323   ,  0.420934   ,  0.0826805  ,  0.00192854 ,  18942.8    ])\n",
      "264     , -92.0926    , array([ 0.114323   ,  0.420513   ,  0.0826805  ,  0.00192854 ,  18961.8    ])\n",
      "267     , -92.5822    , array([ 0.113912   ,  0.420178   ,  0.08257    ,  0.000644143,  18907.7    ])\n",
      "270     , -92.5403    , array([ 0.113912   ,  0.419758   ,  0.08257    ,  0.000644143,  18926.6    ])\n",
      "273     , -92.1014    , array([ 0.114304   ,  0.420899   ,  0.0826755  ,  0.00183396 ,  18941.2    ])\n",
      "276     , -92.0955    , array([ 0.114304   ,  0.420479   ,  0.0826755  ,  0.00183396 ,  18960.2    ])\n",
      "279     , -92.0976    , array([ 0.114322   ,  0.420932   ,  0.0826802  ,  0.00192155 ,  18942.7    ])\n",
      "282     , -92.0927    , array([ 0.114322   ,  0.420511   ,  0.0826802  ,  0.00192155 ,  18961.7    ])\n",
      "285     , -92.0974    , array([ 0.114323   ,  0.420934   ,  0.0826805  ,  0.00192802 ,  18942.8    ])\n",
      "288     , -92.0926    , array([ 0.114323   ,  0.420513   ,  0.0826805  ,  0.00192802 ,  18961.8    ])\n",
      "291     , -92.0974    , array([ 0.114323   ,  0.420934   ,  0.0826805  ,  0.0019285  ,  18942.8    ])\n",
      "294     , -92.0926    , array([ 0.114323   ,  0.420513   ,  0.0826805  ,  0.0019285  ,  18961.8    ])\n",
      "297     , -92.0974    , array([ 0.114323   ,  0.420934   ,  0.0826805  ,  0.00192854 ,  18942.8    ])\n",
      "300     , -92.0926    , array([ 0.114323   ,  0.420513   ,  0.0826805  ,  0.00192854 ,  18961.8    ])\n",
      "303     , -92.0974    , array([ 0.114323   ,  0.420934   ,  0.0826805  ,  0.00192854 ,  18942.8    ])\n",
      "306     , -92.0926    , array([ 0.114323   ,  0.420513   ,  0.0826805  ,  0.00192854 ,  18961.8    ])\n",
      "309     , -92.0974    , array([ 0.114323   ,  0.420934   ,  0.0826805  ,  0.00192854 ,  18942.8    ])\n",
      "312     , -92.0926    , array([ 0.114323   ,  0.420513   ,  0.0826805  ,  0.00192854 ,  18961.8    ])\n",
      "315     , -92.0974    , array([ 0.114323   ,  0.420934   ,  0.0826805  ,  0.00192854 ,  18942.8    ])\n",
      "318     , -92.0926    , array([ 0.114323   ,  0.420513   ,  0.0826805  ,  0.00192854 ,  18961.8    ])\n",
      "321     , -92.0974    , array([ 0.114323   ,  0.420934   ,  0.0826805  ,  0.00192854 ,  18942.8    ])\n",
      "324     , -92.0926    , array([ 0.114323   ,  0.420513   ,  0.0826805  ,  0.00192854 ,  18961.8    ])\n",
      "327     , -92.0974    , array([ 0.114323   ,  0.420934   ,  0.0826805  ,  0.00192854 ,  18942.8    ])\n",
      "330     , -92.0926    , array([ 0.114323   ,  0.420513   ,  0.0826805  ,  0.00192854 ,  18961.8    ])\n",
      "333     , -92.0974    , array([ 0.114323   ,  0.420934   ,  0.0826805  ,  0.00192854 ,  18942.8    ])\n",
      "336     , -92.0926    , array([ 0.114323   ,  0.420513   ,  0.0826805  ,  0.00192854 ,  18961.8    ])\n",
      "339     , -92.0974    , array([ 0.114323   ,  0.420934   ,  0.0826805  ,  0.00192854 ,  18942.8    ])\n",
      "342     , -92.0926    , array([ 0.114323   ,  0.420513   ,  0.0826805  ,  0.00192854 ,  18961.8    ])\n",
      "345     , -92.0974    , array([ 0.114323   ,  0.420934   ,  0.0826805  ,  0.00192854 ,  18942.8    ])\n",
      "348     , -92.0926    , array([ 0.114323   ,  0.420513   ,  0.0826805  ,  0.00192854 ,  18961.8    ])\n",
      "351     , -92.0974    , array([ 0.114323   ,  0.420934   ,  0.0826805  ,  0.00192854 ,  18942.8    ])\n",
      "354     , -92.0926    , array([ 0.114323   ,  0.420513   ,  0.0826805  ,  0.00192854 ,  18961.8    ])\n",
      "357     , -92.0974    , array([ 0.114323   ,  0.420934   ,  0.0826805  ,  0.00192854 ,  18942.8    ])\n",
      "360     , -92.0926    , array([ 0.114323   ,  0.420513   ,  0.0826805  ,  0.00192854 ,  18961.8    ])\n",
      "363     , -92.0974    , array([ 0.114323   ,  0.420934   ,  0.0826805  ,  0.00192854 ,  18942.8    ])\n",
      "366     , -92.0926    , array([ 0.114323   ,  0.420513   ,  0.0826805  ,  0.00192854 ,  18961.8    ])\n",
      "369     , -8.07601e+15, array([ 4.0676e-07 ,  0.0394712  ,  7330.47    ,  0.0017954  ,  222181     ])\n",
      "372     , -8.07617e+15, array([ 4.0676e-07 ,  0.0394317  ,  7330.47    ,  0.0017954  ,  222403     ])\n",
      "375     , -92.0974    , array([ 0.114323   ,  0.420934   ,  0.0826805  ,  0.00192854 ,  18942.8    ])\n",
      "378     , -92.0926    , array([ 0.114323   ,  0.420513   ,  0.0826805  ,  0.00192854 ,  18961.8    ])\n",
      "381     , -92.0974    , array([ 0.114323   ,  0.420934   ,  0.0826805  ,  0.00192854 ,  18942.8    ])\n",
      "384     , -92.0926    , array([ 0.114323   ,  0.420513   ,  0.0826805  ,  0.00192854 ,  18961.8    ])\n",
      "387     , -92.0974    , array([ 0.114323   ,  0.420934   ,  0.0826805  ,  0.00192854 ,  18942.8    ])\n",
      "390     , -92.0926    , array([ 0.114323   ,  0.420513   ,  0.0826805  ,  0.00192854 ,  18961.8    ])\n",
      "393     , -92.0974    , array([ 0.114323   ,  0.420934   ,  0.0826805  ,  0.00192854 ,  18942.8    ])\n",
      "396     , -92.0926    , array([ 0.114323   ,  0.420513   ,  0.0826805  ,  0.00192854 ,  18961.8    ])\n",
      "399     , -92.0974    , array([ 0.114323   ,  0.420934   ,  0.0826805  ,  0.00192854 ,  18942.8    ])\n",
      "402     , -92.0926    , array([ 0.114323   ,  0.420513   ,  0.0826805  ,  0.00192854 ,  18961.8    ])\n",
      "405     , -92.0974    , array([ 0.114323   ,  0.420934   ,  0.0826805  ,  0.00192854 ,  18942.8    ])\n",
      "408     , -92.0926    , array([ 0.114323   ,  0.420513   ,  0.0826805  ,  0.00192854 ,  18961.8    ])\n",
      "411     , -92.0974    , array([ 0.114323   ,  0.420934   ,  0.0826805  ,  0.00192854 ,  18942.8    ])\n",
      "414     , -92.0926    , array([ 0.114323   ,  0.420513   ,  0.0826805  ,  0.00192854 ,  18961.8    ])\n",
      "417     , -92.0974    , array([ 0.114323   ,  0.420934   ,  0.0826805  ,  0.00192854 ,  18942.8    ])\n",
      "420     , -92.0926    , array([ 0.114323   ,  0.420513   ,  0.0826805  ,  0.00192854 ,  18961.8    ])\n",
      "423     , -92.0974    , array([ 0.114323   ,  0.420934   ,  0.0826805  ,  0.00192854 ,  18942.8    ])\n",
      "426     , -92.0926    , array([ 0.114323   ,  0.420513   ,  0.0826805  ,  0.00192854 ,  18961.8    ])\n",
      "429     , -92.0974    , array([ 0.114323   ,  0.420934   ,  0.0826805  ,  0.00192854 ,  18942.8    ])\n",
      "432     , -92.0926    , array([ 0.114323   ,  0.420513   ,  0.0826805  ,  0.00192854 ,  18961.8    ])\n",
      "435     , -92.0974    , array([ 0.114323   ,  0.420934   ,  0.0826805  ,  0.00192854 ,  18942.8    ])\n",
      "438     , -92.0926    , array([ 0.114323   ,  0.420513   ,  0.0826805  ,  0.00192854 ,  18961.8    ])\n",
      "441     , -92.0974    , array([ 0.114323   ,  0.420934   ,  0.0826805  ,  0.00192854 ,  18942.8    ])\n",
      "444     , -92.0926    , array([ 0.114323   ,  0.420513   ,  0.0826805  ,  0.00192854 ,  18961.8    ])\n",
      "447     , -52439.7    , array([ 0.0951222  ,  1.95896    ,  0.0709626  ,  2.04211    ,  10410.8    ])\n",
      "450     , -52376.9    , array([ 0.0951222  ,  1.957      ,  0.0709626  ,  2.04211    ,  10421.2    ])\n",
      "453     , -35029.5    , array([ 0.191531   ,  1.73513    ,  0.0464343  ,  1.67564    ,  17612.7    ])\n",
      "456     , -35022.1    , array([ 0.191531   ,  1.7334     ,  0.0464343  ,  1.67564    ,  17630.3    ])\n",
      "459     , -31371.6    , array([ 0.172543   ,  1.6606     ,  0.0522723  ,  1.61509    ,  17885.7    ])\n",
      "462     , -31363.8    , array([ 0.172543   ,  1.65894    ,  0.0522723  ,  1.61509    ,  17903.6    ])\n",
      "465     , -26909.1    , array([ 0.113637   ,  1.39315    ,  0.0839459  ,  1.394      ,  19020.8    ])\n",
      "468     , -26891.4    , array([ 0.113637   ,  1.39176    ,  0.0839459  ,  1.394      ,  19039.9    ])\n",
      "471     , -26052.2    , array([ 0.143398   ,  1.53631    ,  0.0644781  ,  1.51312    ,  18380      ])\n",
      "474     , -26042.3    , array([ 0.143398   ,  1.53477    ,  0.0644781  ,  1.51312    ,  18398.4    ])\n",
      "477     , -99699.1    , array([ 0.0823974  ,  0.754093   ,  0.134738   ,  0.9295     ,  17856.8    ])\n",
      "480     , -99565.7    , array([ 0.0823974  ,  0.753339   ,  0.134738   ,  0.9295     ,  17874.6    ])\n",
      "483     , -22113.2    , array([ 0.121162   ,  1.23735    ,  0.0806772  ,  1.30472    ,  18219.3    ])\n",
      "486     , -22095.6    , array([ 0.121162   ,  1.23611    ,  0.0806772  ,  1.30472    ,  18237.5    ])\n",
      "489     , -11476.7    , array([ 0.110018   ,  0.684779   ,  0.108349   ,  0.911221   ,  17667.1    ])\n",
      "492     , -11446.6    , array([ 0.110018   ,  0.684094   ,  0.108349   ,  0.911221   ,  17684.8    ])\n",
      "495     , -6.45291e+17, array([ 0.0269017  ,  3.95743e-07,  66.4657    ,  0.000164462,  9473.5     ])\n",
      "498     , -6.4282e+17 , array([ 0.0269017  ,  3.95348e-07,  66.4657    ,  0.000164462,  9482.98    ])\n",
      "501     , -4.30354e+10, array([ 0.0688328  ,  0.00573432 ,  0.918437   ,  0.0516604  ,  14356.5    ])\n",
      "504     , -4.3044e+10 , array([ 0.0688328  ,  0.00572859 ,  0.918437   ,  0.0516604  ,  14370.8    ])\n",
      "507     , -4.69665e+06, array([ 0.097296   ,  0.19556    ,  0.189694   ,  0.429538   ,  16732.1    ])\n",
      "510     , -4.70983e+06, array([ 0.097296   ,  0.195364   ,  0.189694   ,  0.429538   ,  16748.9    ])\n",
      "513     , -10401.8    , array([ 0.106297   ,  0.482133   ,  0.126743   ,  0.738205   ,  17400.2    ])\n",
      "516     , -10386.2    , array([ 0.106297   ,  0.481651   ,  0.126743   ,  0.738205   ,  17417.6    ])\n",
      "519     , -9477.55    , array([ 0.108574   ,  0.598479   ,  0.115072   ,  0.840459   ,  17564.2    ])\n",
      "522     , -9448.66    , array([ 0.108574   ,  0.597881   ,  0.115072   ,  0.840459   ,  17581.8    ])\n",
      "525     , -5461.82    , array([ 0.112278   ,  0.436363   ,  0.120988   ,  0.645955   ,  17896.6    ])\n",
      "528     , -5460.9     , array([ 0.112278   ,  0.435927   ,  0.120988   ,  0.645955   ,  17914.5    ])\n",
      "531     , -1354.15    , array([ 0.121353   ,  0.465086   ,  0.102299   ,  0.614335   ,  18056.6    ])\n",
      "534     , -1345.43    , array([ 0.121353   ,  0.464621   ,  0.102299   ,  0.614335   ,  18074.7    ])\n",
      "537     , -817.409    , array([ 0.124199   ,  0.441096   ,  0.10108    ,  0.570542   ,  18737.3    ])\n",
      "540     , -812.882    , array([ 0.124199   ,  0.440655   ,  0.10108    ,  0.570542   ,  18756.1    ])\n",
      "543     , -548.843    , array([ 0.126505   ,  0.419281   ,  0.0994722  ,  0.520928   ,  19880.6    ])\n",
      "546     , -548.728    , array([ 0.126505   ,  0.418862   ,  0.0994722  ,  0.520928   ,  19900.5    ])\n",
      "549     , -503.068    , array([ 0.125962   ,  0.413702   ,  0.0975555  ,  0.498806   ,  20287      ])\n",
      "552     , -503.684    , array([ 0.125962   ,  0.413288   ,  0.0975555  ,  0.498806   ,  20307.3    ])\n",
      "555     , -437.13     , array([ 0.123112   ,  0.404001   ,  0.0928298  ,  0.455332   ,  20842.6    ])\n",
      "558     , -438.088    , array([ 0.123112   ,  0.403597   ,  0.0928298  ,  0.455332   ,  20863.5    ])\n",
      "561     , -373.943    , array([ 0.118108   ,  0.392234   ,  0.0870093  ,  0.405248   ,  21299.1    ])\n",
      "564     , -374.661    , array([ 0.118108   ,  0.391842   ,  0.0870093  ,  0.405248   ,  21320.4    ])\n",
      "567     , -301.168    , array([ 0.110383   ,  0.37678    ,  0.080181   ,  0.346033   ,  21720      ])\n",
      "570     , -301.252    , array([ 0.110383   ,  0.376404   ,  0.080181   ,  0.346033   ,  21741.7    ])\n",
      "573     , -235.818    , array([ 0.102525   ,  0.363644   ,  0.075127   ,  0.295717   ,  21986.1    ])\n",
      "576     , -235.308    , array([ 0.102525   ,  0.36328    ,  0.075127   ,  0.295717   ,  22008.1    ])\n",
      "579     , -207.302    , array([ 0.0985626  ,  0.353908   ,  0.0732213  ,  0.268541   ,  21946.1    ])\n",
      "582     , -206.895    , array([ 0.0985626  ,  0.353555   ,  0.0732213  ,  0.268541   ,  21968      ])\n",
      "585     , -203.183    , array([ 0.0982225  ,  0.352091   ,  0.0733463  ,  0.263732   ,  21983.8    ])\n",
      "588     , -203.152    , array([ 0.0982225  ,  0.351739   ,  0.0733463  ,  0.263732   ,  22005.8    ])\n",
      "591     , -201.895    , array([ 0.0980843  ,  0.350997   ,  0.073272   ,  0.259888   ,  22052.8    ])\n",
      "594     , -202.081    , array([ 0.0980843  ,  0.350646   ,  0.073272   ,  0.259888   ,  22074.9    ])\n",
      "597     , -200.157    , array([ 0.0977083  ,  0.34933    ,  0.0729039  ,  0.251219   ,  22141.7    ])\n",
      "600     , -200.538    , array([ 0.0977083  ,  0.348981   ,  0.0729039  ,  0.251219   ,  22163.9    ])\n",
      "603     , -195.377    , array([ 0.0971493  ,  0.347591   ,  0.0722697  ,  0.231196   ,  22197.3    ])\n",
      "606     , -195.935    , array([ 0.0971493  ,  0.347243   ,  0.0722697  ,  0.231196   ,  22219.5    ])\n",
      "609     , -178.703    , array([ 0.0974597  ,  0.35264    ,  0.0723774  ,  0.186486   ,  22025.6    ])\n",
      "612     , -179.33     , array([ 0.0974597  ,  0.352287   ,  0.0723774  ,  0.186486   ,  22047.6    ])\n",
      "615     , -142.044    , array([ 0.100942   ,  0.364913   ,  0.0731227  ,  0.0945834  ,  20932.5    ])\n",
      "618     , -142.13     , array([ 0.100942   ,  0.364549   ,  0.0731227  ,  0.0945834  ,  20953.5    ])\n",
      "621     , -108.851    , array([ 0.108215   ,  0.394167   ,  0.0782633  ,  0.0605676  ,  19961.3    ])\n",
      "624     , -108.809    , array([ 0.108215   ,  0.393773   ,  0.0782633  ,  0.0605676  ,  19981.3    ])\n",
      "627     , -95.7182    , array([ 0.114659   ,  0.420234   ,  0.0838809  ,  0.0439912  ,  18975.3    ])\n",
      "630     , -95.7383    , array([ 0.114659   ,  0.419814   ,  0.0838809  ,  0.0439912  ,  18994.2    ])\n",
      "633     , -95.4004    , array([ 0.114464   ,  0.419894   ,  0.083323   ,  0.0414994  ,  19012.1    ])\n",
      "636     , -95.2172    , array([ 0.114464   ,  0.419474   ,  0.083323   ,  0.0414994  ,  19031.1    ])\n",
      "639     , -95.3038    , array([ 0.114306   ,  0.418937   ,  0.0832141  ,  0.0421797  ,  19077.3    ])\n",
      "642     , -95.2214    , array([ 0.114306   ,  0.418518   ,  0.0832141  ,  0.0421797  ,  19096.4    ])\n",
      "645     , -95.0966    , array([ 0.114316   ,  0.418874   ,  0.0832131  ,  0.0410363  ,  19083.3    ])\n",
      "648     , -95.0503    , array([ 0.114316   ,  0.418456   ,  0.0832131  ,  0.0410363  ,  19102.4    ])\n",
      "651     , -94.0432    , array([ 0.114101   ,  0.418067   ,  0.0829161  ,  0.0307846  ,  19103.9    ])\n",
      "654     , -94.1143    , array([ 0.114101   ,  0.41765    ,  0.0829161  ,  0.0307846  ,  19123      ])\n",
      "657     , -93.2685    , array([ 0.11403    ,  0.418799   ,  0.082714   ,  0.0209972  ,  19056.9    ])\n",
      "660     , -93.2699    , array([ 0.11403    ,  0.418381   ,  0.082714   ,  0.0209972  ,  19075.9    ])\n",
      "663     , -93.0335    , array([ 0.113905   ,  0.419131   ,  0.0825068  ,  0.0139105  ,  19009      ])\n",
      "666     , -92.942     , array([ 0.113905   ,  0.418712   ,  0.0825068  ,  0.0139105  ,  19028.1    ])\n",
      "669     , -92.7462    , array([ 0.114042   ,  0.420148   ,  0.0826233  ,  0.0110584  ,  18978.9    ])\n",
      "672     , -92.6487    , array([ 0.114042   ,  0.419728   ,  0.0826233  ,  0.0110584  ,  18997.8    ])\n",
      "675     , -92.5065    , array([ 0.114071   ,  0.419935   ,  0.0825706  ,  0.0073764  ,  18971.7    ])\n",
      "678     , -92.456     , array([ 0.114071   ,  0.419515   ,  0.0825706  ,  0.0073764  ,  18990.7    ])\n",
      "681     , -92.5053    , array([ 0.113907   ,  0.419632   ,  0.0824521  ,  0.00502651 ,  18996.8    ])\n",
      "684     , -92.4892    , array([ 0.113907   ,  0.419212   ,  0.0824521  ,  0.00502651 ,  19015.9    ])\n",
      "687     , -92.2141    , array([ 0.114249   ,  0.420721   ,  0.082627   ,  0.00308445 ,  18955.4    ])\n",
      "690     , -92.1905    , array([ 0.114249   ,  0.420301   ,  0.082627   ,  0.00308445 ,  18974.3    ])\n",
      "693     , -92.0973    , array([ 0.114331   ,  0.420944   ,  0.082691   ,  0.00219025 ,  18942.5    ])\n",
      "696     , -92.0925    , array([ 0.114331   ,  0.420523   ,  0.082691   ,  0.00219025 ,  18961.4    ])\n",
      "699     , -92.1104    , array([ 0.114296   ,  0.420899   ,  0.0826432  ,  0.00122398 ,  18944.2    ])\n",
      "702     , -92.101     , array([ 0.114296   ,  0.420478   ,  0.0826432  ,  0.00122398 ,  18963.2    ])\n",
      "705     , -92.0974    , array([ 0.114323   ,  0.420934   ,  0.0826805  ,  0.00192854 ,  18942.8    ])\n",
      "708     , -92.0926    , array([ 0.114323   ,  0.420513   ,  0.0826805  ,  0.00192854 ,  18961.8    ])\n",
      "711     , -92.5822    , array([ 0.113912   ,  0.420178   ,  0.08257    ,  0.000644143,  18907.7    ])\n",
      "714     , -92.5403    , array([ 0.113912   ,  0.419758   ,  0.08257    ,  0.000644143,  18926.6    ])\n",
      "717     , -92.1014    , array([ 0.114304   ,  0.420899   ,  0.0826755  ,  0.00183396 ,  18941.2    ])\n",
      "720     , -92.0955    , array([ 0.114304   ,  0.420479   ,  0.0826755  ,  0.00183396 ,  18960.2    ])\n",
      "723     , -92.0976    , array([ 0.114322   ,  0.420932   ,  0.0826802  ,  0.00192155 ,  18942.7    ])\n",
      "726     , -92.0927    , array([ 0.114322   ,  0.420511   ,  0.0826802  ,  0.00192155 ,  18961.7    ])\n",
      "729     , -92.0974    , array([ 0.114323   ,  0.420934   ,  0.0826805  ,  0.00192802 ,  18942.8    ])\n",
      "732     , -92.0926    , array([ 0.114323   ,  0.420513   ,  0.0826805  ,  0.00192802 ,  18961.8    ])\n",
      "735     , -92.0974    , array([ 0.114323   ,  0.420934   ,  0.0826805  ,  0.0019285  ,  18942.8    ])\n",
      "738     , -92.0926    , array([ 0.114323   ,  0.420513   ,  0.0826805  ,  0.0019285  ,  18961.8    ])\n",
      "741     , -92.0974    , array([ 0.114323   ,  0.420934   ,  0.0826805  ,  0.00192854 ,  18942.8    ])\n",
      "744     , -92.0926    , array([ 0.114323   ,  0.420513   ,  0.0826805  ,  0.00192854 ,  18961.8    ])\n",
      "747     , -92.0974    , array([ 0.114323   ,  0.420934   ,  0.0826805  ,  0.00192854 ,  18942.8    ])\n",
      "750     , -92.0926    , array([ 0.114323   ,  0.420513   ,  0.0826805  ,  0.00192854 ,  18961.8    ])\n",
      "753     , -92.0974    , array([ 0.114323   ,  0.420934   ,  0.0826805  ,  0.00192854 ,  18942.8    ])\n",
      "756     , -92.0926    , array([ 0.114323   ,  0.420513   ,  0.0826805  ,  0.00192854 ,  18961.8    ])\n",
      "759     , -92.0974    , array([ 0.114323   ,  0.420934   ,  0.0826805  ,  0.00192854 ,  18942.8    ])\n",
      "762     , -92.0926    , array([ 0.114323   ,  0.420513   ,  0.0826805  ,  0.00192854 ,  18961.8    ])\n",
      "765     , -92.0974    , array([ 0.114323   ,  0.420934   ,  0.0826805  ,  0.00192854 ,  18942.8    ])\n",
      "768     , -92.0926    , array([ 0.114323   ,  0.420513   ,  0.0826805  ,  0.00192854 ,  18961.8    ])\n",
      "771     , -92.0974    , array([ 0.114323   ,  0.420934   ,  0.0826805  ,  0.00192854 ,  18942.8    ])\n",
      "774     , -92.0926    , array([ 0.114323   ,  0.420513   ,  0.0826805  ,  0.00192854 ,  18961.8    ])\n",
      "777     , -92.0974    , array([ 0.114323   ,  0.420934   ,  0.0826805  ,  0.00192854 ,  18942.8    ])\n",
      "780     , -92.0926    , array([ 0.114323   ,  0.420513   ,  0.0826805  ,  0.00192854 ,  18961.8    ])\n",
      "783     , -92.0974    , array([ 0.114323   ,  0.420934   ,  0.0826805  ,  0.00192854 ,  18942.8    ])\n",
      "786     , -92.0926    , array([ 0.114323   ,  0.420513   ,  0.0826805  ,  0.00192854 ,  18961.8    ])\n",
      "789     , -92.0974    , array([ 0.114323   ,  0.420934   ,  0.0826805  ,  0.00192854 ,  18942.8    ])\n",
      "792     , -92.0926    , array([ 0.114323   ,  0.420513   ,  0.0826805  ,  0.00192854 ,  18961.8    ])\n",
      "795     , -92.0974    , array([ 0.114323   ,  0.420934   ,  0.0826805  ,  0.00192854 ,  18942.8    ])\n",
      "798     , -92.0926    , array([ 0.114323   ,  0.420513   ,  0.0826805  ,  0.00192854 ,  18961.8    ])\n",
      "801     , -92.0974    , array([ 0.114323   ,  0.420934   ,  0.0826805  ,  0.00192854 ,  18942.8    ])\n",
      "804     , -92.0926    , array([ 0.114323   ,  0.420513   ,  0.0826805  ,  0.00192854 ,  18961.8    ])\n",
      "807     , -92.0974    , array([ 0.114323   ,  0.420934   ,  0.0826805  ,  0.00192854 ,  18942.8    ])\n",
      "810     , -92.0926    , array([ 0.114323   ,  0.420513   ,  0.0826805  ,  0.00192854 ,  18961.8    ])\n",
      "813     , -8.07601e+15, array([ 4.0676e-07 ,  0.0394712  ,  7330.47    ,  0.0017954  ,  222181     ])\n",
      "816     , -8.07617e+15, array([ 4.0676e-07 ,  0.0394317  ,  7330.47    ,  0.0017954  ,  222403     ])\n",
      "819     , -92.0974    , array([ 0.114323   ,  0.420934   ,  0.0826805  ,  0.00192854 ,  18942.8    ])\n",
      "822     , -92.0926    , array([ 0.114323   ,  0.420513   ,  0.0826805  ,  0.00192854 ,  18961.8    ])\n",
      "825     , -92.0974    , array([ 0.114323   ,  0.420934   ,  0.0826805  ,  0.00192854 ,  18942.8    ])\n",
      "828     , -92.0926    , array([ 0.114323   ,  0.420513   ,  0.0826805  ,  0.00192854 ,  18961.8    ])\n",
      "831     , -92.0974    , array([ 0.114323   ,  0.420934   ,  0.0826805  ,  0.00192854 ,  18942.8    ])\n",
      "834     , -92.0926    , array([ 0.114323   ,  0.420513   ,  0.0826805  ,  0.00192854 ,  18961.8    ])\n",
      "837     , -92.0974    , array([ 0.114323   ,  0.420934   ,  0.0826805  ,  0.00192854 ,  18942.8    ])\n",
      "840     , -92.0926    , array([ 0.114323   ,  0.420513   ,  0.0826805  ,  0.00192854 ,  18961.8    ])\n",
      "843     , -92.0974    , array([ 0.114323   ,  0.420934   ,  0.0826805  ,  0.00192854 ,  18942.8    ])\n",
      "846     , -92.0926    , array([ 0.114323   ,  0.420513   ,  0.0826805  ,  0.00192854 ,  18961.8    ])\n",
      "849     , -92.0974    , array([ 0.114323   ,  0.420934   ,  0.0826805  ,  0.00192854 ,  18942.8    ])\n",
      "852     , -92.0926    , array([ 0.114323   ,  0.420513   ,  0.0826805  ,  0.00192854 ,  18961.8    ])\n",
      "855     , -92.0974    , array([ 0.114323   ,  0.420934   ,  0.0826805  ,  0.00192854 ,  18942.8    ])\n",
      "858     , -92.0926    , array([ 0.114323   ,  0.420513   ,  0.0826805  ,  0.00192854 ,  18961.8    ])\n",
      "861     , -92.0974    , array([ 0.114323   ,  0.420934   ,  0.0826805  ,  0.00192854 ,  18942.8    ])\n",
      "864     , -92.0926    , array([ 0.114323   ,  0.420513   ,  0.0826805  ,  0.00192854 ,  18961.8    ])\n",
      "867     , -92.0974    , array([ 0.114323   ,  0.420934   ,  0.0826805  ,  0.00192854 ,  18942.8    ])\n",
      "870     , -92.0926    , array([ 0.114323   ,  0.420513   ,  0.0826805  ,  0.00192854 ,  18961.8    ])\n",
      "873     , -92.0974    , array([ 0.114323   ,  0.420934   ,  0.0826805  ,  0.00192854 ,  18942.8    ])\n",
      "876     , -92.0926    , array([ 0.114323   ,  0.420513   ,  0.0826805  ,  0.00192854 ,  18961.8    ])\n",
      "879     , -92.0974    , array([ 0.114323   ,  0.420934   ,  0.0826805  ,  0.00192854 ,  18942.8    ])\n",
      "882     , -92.0926    , array([ 0.114323   ,  0.420513   ,  0.0826805  ,  0.00192854 ,  18961.8    ])\n",
      "885     , -92.0974    , array([ 0.114323   ,  0.420934   ,  0.0826805  ,  0.00192854 ,  18942.8    ])\n",
      "888     , -92.0926    , array([ 0.114323   ,  0.420513   ,  0.0826805  ,  0.00192854 ,  18961.8    ])\n",
      "[2.16560822e+03 7.96571713e+03 3.13240726e+03 5.09042990e-08\n",
      " 1.89428352e+04]\n",
      "best fit parameters:\n",
      "  N(deme0)         :  2165.6\n",
      "  N(deme1)         :  7965.7\n",
      "  Div. time (gen)  :  3132.4\n",
      "  Migration rate   :  0.000000\n",
      "  N(ancestral)     :  18942.8\n"
     ]
    }
   ],
   "source": [
    "opt_params_dict = run_inference_momentsLD(folderpath, demographic_model, p_guess, num_reps)"
   ]
  },
  {
   "cell_type": "code",
   "execution_count": 18,
   "metadata": {},
   "outputs": [
    {
     "data": {
      "text/plain": [
       "{'N1': 2165.6082176928317,\n",
       " 'N2': 7965.717126880145,\n",
       " 't_split': 3132.407258348543,\n",
       " 'm': 5.090429903285065e-08,\n",
       " 'Na': 18942.83519058916}"
      ]
     },
     "execution_count": 18,
     "metadata": {},
     "output_type": "execute_result"
    }
   ],
   "source": [
    "opt_params_dict"
   ]
  },
  {
   "cell_type": "code",
   "execution_count": 19,
   "metadata": {},
   "outputs": [
    {
     "data": {
      "text/plain": [
       "{'t_split': 3371, 'N1': 2274, 'N2': 8321, 'Na': 18377, 'm': 0}"
      ]
     },
     "execution_count": 19,
     "metadata": {},
     "output_type": "execute_result"
    }
   ],
   "source": [
    "sampled_params"
   ]
  },
  {
   "cell_type": "code",
   "execution_count": 77,
   "metadata": {},
   "outputs": [],
   "source": [
    "import pickle\n",
    "with open('/sietch_colab/akapoor/Demographic_Inference/split_isolation_model_seed_42/sims/sims_pretrain_12_sims_inference_1_seed_42_num_replicates_10_top_values_5/preprocessing_results_obj.pkl', 'rb') as f:\n",
    "    data = pickle.load(f)"
   ]
  },
  {
   "cell_type": "code",
   "execution_count": 78,
   "metadata": {},
   "outputs": [
    {
     "data": {
      "text/plain": [
       "dict_keys(['training', 'validation', 'parameter_names'])"
      ]
     },
     "execution_count": 78,
     "metadata": {},
     "output_type": "execute_result"
    }
   ],
   "source": [
    "data.keys()"
   ]
  },
  {
   "cell_type": "code",
   "execution_count": 80,
   "metadata": {},
   "outputs": [
    {
     "data": {
      "text/plain": [
       "['t_split', 'N1', 'N2', 'Na', 'm']"
      ]
     },
     "execution_count": 80,
     "metadata": {},
     "output_type": "execute_result"
    }
   ],
   "source": [
    "data['parameter_names']"
   ]
  },
  {
   "cell_type": "code",
   "execution_count": 76,
   "metadata": {},
   "outputs": [
    {
     "data": {
      "text/plain": [
       "array([[[ 1608,  5221,  3856, 17859,     0]],\n",
       "\n",
       "       [[ 3482,  9955,  6506, 10587,     0]],\n",
       "\n",
       "       [[  235,  8783,  5833, 15484,     0]],\n",
       "\n",
       "       [[ 3496,  3182,  8467, 11598,     0]],\n",
       "\n",
       "       [[ 1737,  3639,  2020, 16572,     0]],\n",
       "\n",
       "       [[ 4404,  6009,  9332, 17824,     0]]])"
      ]
     },
     "execution_count": 76,
     "metadata": {},
     "output_type": "execute_result"
    }
   ],
   "source": [
    "data['training']['targets'][:,0,:,:]"
   ]
  },
  {
   "cell_type": "code",
   "execution_count": null,
   "metadata": {},
   "outputs": [],
   "source": []
  },
  {
   "cell_type": "code",
   "execution_count": 64,
   "metadata": {},
   "outputs": [],
   "source": [
    "training_features = np.load('/sietch_colab/akapoor/Demographic_Inference/split_isolation_model_seed_42/sims/sims_pretrain_12_sims_inference_1_seed_42_num_replicates_10_top_values_5/training_features.npy')"
   ]
  },
  {
   "cell_type": "code",
   "execution_count": 71,
   "metadata": {},
   "outputs": [],
   "source": [
    "training_targets= np.load('/sietch_colab/akapoor/Demographic_Inference/split_isolation_model_seed_42/sims/sims_pretrain_12_sims_inference_1_seed_42_num_replicates_10_top_values_5/training_targets.npy')"
   ]
  },
  {
   "cell_type": "code",
   "execution_count": 72,
   "metadata": {},
   "outputs": [
    {
     "data": {
      "text/plain": [
       "array([[ 1608,  5221,  3856, 17859,     0],\n",
       "       [ 3482,  9955,  6506, 10587,     0],\n",
       "       [  235,  8783,  5833, 15484,     0],\n",
       "       [ 3496,  3182,  8467, 11598,     0],\n",
       "       [ 1737,  3639,  2020, 16572,     0],\n",
       "       [ 4404,  6009,  9332, 17824,     0]])"
      ]
     },
     "execution_count": 72,
     "metadata": {},
     "output_type": "execute_result"
    }
   ],
   "source": [
    "training_targets"
   ]
  },
  {
   "cell_type": "code",
   "execution_count": 65,
   "metadata": {},
   "outputs": [
    {
     "data": {
      "text/plain": [
       "array([17588.31983593, 10824.32280993, 11725.58031146, 12134.04389039,\n",
       "       17438.27966385, 18950.23873659])"
      ]
     },
     "execution_count": 65,
     "metadata": {},
     "output_type": "execute_result"
    }
   ],
   "source": [
    "training_features[:,-1]"
   ]
  },
  {
   "cell_type": "code",
   "execution_count": 85,
   "metadata": {},
   "outputs": [],
   "source": [
    "with open('/sietch_colab/akapoor/Demographic_Inference/split_isolation_model_seed_42/sims/sims_pretrain_20_sims_inference_1_seed_42_num_replicates_2_top_values_1/preprocessing_results_obj.pkl', 'rb') as f:\n",
    "    data = pickle.load(f)"
   ]
  },
  {
   "cell_type": "code",
   "execution_count": 86,
   "metadata": {},
   "outputs": [
    {
     "data": {
      "text/plain": [
       "dict_keys(['predictions', 'targets', 'upper_triangular_FIM', 'momentsLD_predictions'])"
      ]
     },
     "execution_count": 86,
     "metadata": {},
     "output_type": "execute_result"
    }
   ],
   "source": [
    "data['training'].keys()"
   ]
  },
  {
   "cell_type": "code",
   "execution_count": 92,
   "metadata": {},
   "outputs": [
    {
     "data": {
      "text/plain": [
       "dict_keys(['predictions', 'targets', 'upper_triangular_FIM', 'momentsLD_predictions'])"
      ]
     },
     "execution_count": 92,
     "metadata": {},
     "output_type": "execute_result"
    }
   ],
   "source": [
    "data['training'].keys()"
   ]
  },
  {
   "cell_type": "code",
   "execution_count": 14,
   "metadata": {},
   "outputs": [],
   "source": [
    "import pickle\n",
    "with open('/sietch_colab/akapoor/Demographic_Inference/split_isolation_model_seed_42/models/sims_pretrain_10_sims_inference_1_seed_42_num_replicates_10_top_values_5/num_hidden_neurons_1000_num_hidden_layers_3_num_epochs_500_dropout_value_0_weight_decay_0_batch_size_35_EarlyStopping_False/linear_mdl_obj.pkl', 'rb') as f:\n",
    "    data = pickle.load(f)"
   ]
  },
  {
   "cell_type": "code",
   "execution_count": 16,
   "metadata": {},
   "outputs": [
    {
     "data": {
      "text/plain": [
       "dict_keys(['predictions', 'targets'])"
      ]
     },
     "execution_count": 16,
     "metadata": {},
     "output_type": "execute_result"
    }
   ],
   "source": [
    "data['training'].keys()"
   ]
  },
  {
   "cell_type": "code",
   "execution_count": 18,
   "metadata": {},
   "outputs": [
    {
     "data": {
      "text/plain": [
       "(5, 5)"
      ]
     },
     "execution_count": 18,
     "metadata": {},
     "output_type": "execute_result"
    }
   ],
   "source": [
    "data['training']['predictions'].shape"
   ]
  },
  {
   "cell_type": "code",
   "execution_count": 19,
   "metadata": {},
   "outputs": [
    {
     "data": {
      "text/plain": [
       "(5, 5)"
      ]
     },
     "execution_count": 19,
     "metadata": {},
     "output_type": "execute_result"
    }
   ],
   "source": [
    "data['training']['targets'].shape"
   ]
  },
  {
   "cell_type": "code",
   "execution_count": 20,
   "metadata": {},
   "outputs": [
    {
     "data": {
      "text/plain": [
       "array([-5.19615242, -5.19615242, -5.19615242, -5.19615242, -5.19615242])"
      ]
     },
     "execution_count": 20,
     "metadata": {},
     "output_type": "execute_result"
    }
   ],
   "source": [
    "data['training']['predictions'][:,-1]"
   ]
  },
  {
   "cell_type": "code",
   "execution_count": 21,
   "metadata": {},
   "outputs": [
    {
     "data": {
      "text/plain": [
       "array([[-4.16042103e-01,  6.68676584e-01, -9.43083991e-01,\n",
       "         4.72308202e+08, -5.19615242e+00],\n",
       "       [-1.46402032e+00, -2.28140834e-01,  4.10743477e+00,\n",
       "         3.52854033e+08, -5.19615242e+00],\n",
       "       [-1.50425988e+00,  1.21558475e+00,  3.14596983e-01,\n",
       "         4.06934067e+08, -5.19615242e+00],\n",
       "       [-9.69598543e-01, -6.78474044e-01,  9.88329400e-01,\n",
       "         4.64443905e+08, -5.19615242e+00],\n",
       "       [-9.23410521e-01,  1.14525299e+00, -1.56520836e+00,\n",
       "         5.58815470e+08, -5.19615242e+00]])"
      ]
     },
     "execution_count": 21,
     "metadata": {},
     "output_type": "execute_result"
    }
   ],
   "source": [
    "data['training']['predictions']"
   ]
  },
  {
   "cell_type": "code",
   "execution_count": 24,
   "metadata": {},
   "outputs": [
    {
     "data": {
      "text/plain": [
       "array([-5.19615242, -5.19615242, -5.19615242, -5.19615242, -5.19615242])"
      ]
     },
     "execution_count": 24,
     "metadata": {},
     "output_type": "execute_result"
    }
   ],
   "source": [
    "data['training']['targets'][:,-1]"
   ]
  },
  {
   "cell_type": "code",
   "execution_count": 41,
   "metadata": {},
   "outputs": [],
   "source": [
    "with open('/sietch_colab/akapoor/Demographic_Inference/split_isolation_model_seed_42/sims/sims_pretrain_10_sims_inference_1_seed_42_num_replicates_10_top_values_5/postprocessing_results.pkl', 'rb') as f:\n",
    "    data = pickle.load(f)"
   ]
  },
  {
   "cell_type": "code",
   "execution_count": 45,
   "metadata": {},
   "outputs": [
    {
     "data": {
      "text/plain": [
       "array([ 0.66500833, -1.52102015, -0.74134643,  0.34102731,  1.25633095])"
      ]
     },
     "execution_count": 45,
     "metadata": {},
     "output_type": "execute_result"
    }
   ],
   "source": [
    "data['training']['normalized_predictions'][:,-1]"
   ]
  },
  {
   "cell_type": "code",
   "execution_count": 57,
   "metadata": {},
   "outputs": [],
   "source": [
    "with open('/sietch_colab/akapoor/Demographic_Inference/split_isolation_model_seed_42/sims/sims_pretrain_10_sims_inference_1_seed_42_num_replicates_10_top_values_5/features_and_targets.pkl', 'rb') as f:\n",
    "    data = pickle.load(f)"
   ]
  },
  {
   "cell_type": "code",
   "execution_count": 60,
   "metadata": {},
   "outputs": [
    {
     "data": {
      "text/plain": [
       "dict_keys(['training', 'validation'])"
      ]
     },
     "execution_count": 60,
     "metadata": {},
     "output_type": "execute_result"
    }
   ],
   "source": [
    "data.keys()"
   ]
  },
  {
   "cell_type": "code",
   "execution_count": null,
   "metadata": {},
   "outputs": [],
   "source": []
  }
 ],
 "metadata": {
  "kernelspec": {
   "display_name": "myenv",
   "language": "python",
   "name": "python3"
  },
  "language_info": {
   "codemirror_mode": {
    "name": "ipython",
    "version": 3
   },
   "file_extension": ".py",
   "mimetype": "text/x-python",
   "name": "python",
   "nbconvert_exporter": "python",
   "pygments_lexer": "ipython3",
   "version": "3.10.13"
  }
 },
 "nbformat": 4,
 "nbformat_minor": 2
}
