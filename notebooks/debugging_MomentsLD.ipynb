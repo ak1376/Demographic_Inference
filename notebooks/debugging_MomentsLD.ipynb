{
 "cells": [
  {
   "cell_type": "code",
   "execution_count": 13,
   "metadata": {},
   "outputs": [],
   "source": [
    "import msprime\n",
    "import numpy as np\n",
    "import matplotlib.pyplot as plt\n",
    "import demesdraw\n",
    "import moments\n",
    "import dadi\n",
    "import time \n",
    "import nlopt\n",
    "from tqdm import tqdm\n",
    "import json\n"
   ]
  },
  {
   "cell_type": "code",
   "execution_count": 14,
   "metadata": {},
   "outputs": [],
   "source": [
    "upper_bound_params = {\n",
    "    \"t_split\": 5000, \n",
    "    \"m\": 1e-4,\n",
    "    \"N1\": 10000,\n",
    "    \"N2\": 10000,\n",
    "    \"Na\": 20000\n",
    "}\n",
    "\n",
    "lower_bound_params =  {\n",
    "    \"t_split\": 100, \n",
    "    \"m\": 1e-8,\n",
    "    \"N1\": 100,\n",
    "    \"N2\": 100,\n",
    "    \"Na\": 10000\n",
    "\n",
    "}"
   ]
  },
  {
   "cell_type": "code",
   "execution_count": 15,
   "metadata": {},
   "outputs": [],
   "source": [
    "def sample_params():\n",
    "    sampled_params = {}\n",
    "    for key in lower_bound_params:\n",
    "        lower_bound = lower_bound_params[key]\n",
    "        upper_bound = upper_bound_params[key]\n",
    "        sampled_value = np.random.uniform(lower_bound, upper_bound)\n",
    "\n",
    "        # Initialize adjusted_value with sampled_value by default\n",
    "        adjusted_value = sampled_value\n",
    "\n",
    "        # Check if the sampled parameter is equal to the mean of the uniform distribution\n",
    "        mean_value = (lower_bound + upper_bound) / 2\n",
    "        if sampled_value == mean_value:\n",
    "            # Add a small random value to avoid exact mean, while keeping within bounds\n",
    "            adjustment = np.random.uniform(-0.1 * (upper_bound - lower_bound), 0.1 * (upper_bound - lower_bound))\n",
    "            adjusted_value = sampled_value + adjustment\n",
    "            # Ensure the adjusted value is still within the bounds\n",
    "            adjusted_value = max(min(adjusted_value, upper_bound), lower_bound)\n",
    "\n",
    "        # Assign adjusted_value to sampled_params\n",
    "        if key == \"m\":\n",
    "            sampled_params[key] = adjusted_value\n",
    "        else:\n",
    "            sampled_params[key] = int(adjusted_value)\n",
    "\n",
    "    return sampled_params"
   ]
  },
  {
   "cell_type": "code",
   "execution_count": 16,
   "metadata": {},
   "outputs": [
    {
     "name": "stdout",
     "output_type": "stream",
     "text": [
      "{'t_split': 2858, 'm': 6.911408461632738e-05, 'N1': 4108, 'N2': 7247, 'Na': 17237}\n"
     ]
    }
   ],
   "source": [
    "sampled_params = sample_params()\n",
    "print(sampled_params)"
   ]
  },
  {
   "cell_type": "code",
   "execution_count": 17,
   "metadata": {},
   "outputs": [],
   "source": [
    "with open(\"/sietch_colab/akapoor/Demographic_Inference/experiment_config.json\") as f:\n",
    "    experiment_config = json.load(f)\n",
    "\n",
    "mutation_rate = experiment_config['mutation_rate']\n",
    "recombination_rate = experiment_config['recombination_rate']\n",
    "length = experiment_config['genome_length']"
   ]
  },
  {
   "cell_type": "code",
   "execution_count": 18,
   "metadata": {},
   "outputs": [
    {
     "name": "stdout",
     "output_type": "stream",
     "text": [
      "5.7e-09\n",
      "3.386e-09\n",
      "1000000.0\n"
     ]
    }
   ],
   "source": [
    "print(mutation_rate)\n",
    "print(recombination_rate)\n",
    "print(length)"
   ]
  },
  {
   "cell_type": "code",
   "execution_count": 19,
   "metadata": {},
   "outputs": [],
   "source": [
    "import os\n",
    "os.chdir('/sietch_colab/akapoor/Demographic_Inference/')"
   ]
  },
  {
   "cell_type": "code",
   "execution_count": 20,
   "metadata": {},
   "outputs": [],
   "source": [
    "# import src.demographic_models as demographic_models\n",
    "\n",
    "# demographic_model = demographic_models.split_isolation_model_simulation"
   ]
  },
  {
   "cell_type": "code",
   "execution_count": 21,
   "metadata": {},
   "outputs": [
    {
     "name": "stderr",
     "output_type": "stream",
     "text": [
      "rm: cannot remove './data/*.vcf.gz': No such file or directory\n",
      "rm: cannot remove './data/*.h5': No such file or directory\n"
     ]
    },
    {
     "data": {
      "text/plain": [
       "256"
      ]
     },
     "execution_count": 21,
     "metadata": {},
     "output_type": "execute_result"
    }
   ],
   "source": [
    "if not os.path.isdir(\"./data/\"):\n",
    "    os.makedirs(\"./data/\")\n",
    "os.system(\"rm ./data/*.vcf.gz\")\n",
    "os.system(\"rm ./data/*.h5\")"
   ]
  },
  {
   "cell_type": "code",
   "execution_count": 22,
   "metadata": {},
   "outputs": [],
   "source": [
    "def run_msprime_replicates(g,experiment_config, num_reps=100):\n",
    "    # Set up the demography from demes\n",
    "    demog = msprime.Demography.from_demes(g)\n",
    "\n",
    "    # Dynamically define the samples using msprime.SampleSet, based on the sample_sizes dictionary\n",
    "    samples = [\n",
    "        msprime.SampleSet(sample_size, population=pop_name, ploidy=1)\n",
    "        for pop_name, sample_size in experiment_config['num_samples'].items()\n",
    "    ]\n",
    "\n",
    "    tree_sequences = msprime.sim_ancestry(\n",
    "        samples,\n",
    "        demography=demog,\n",
    "        sequence_length=experiment_config['genome_length'],\n",
    "        recombination_rate=experiment_config['recombination_rate'],\n",
    "        num_replicates=num_reps,\n",
    "        random_seed=42,\n",
    "    )\n",
    "    for ii, ts in enumerate(tree_sequences):\n",
    "        ts = msprime.sim_mutations(ts, rate=experiment_config['mutation_rate'], random_seed=ii + 1)\n",
    "        vcf_name = \"./data/split_mig.{0}.vcf\".format(ii)\n",
    "        with open(vcf_name, \"w+\") as fout:\n",
    "            ts.write_vcf(fout, allow_position_zero=True)\n",
    "        os.system(f\"gzip {vcf_name}\")\n",
    "\n",
    "\n",
    "def write_samples_and_rec_map(experiment_config):\n",
    "\n",
    "    # Define the file paths\n",
    "    samples_file = \"./data/samples.txt\"\n",
    "    flat_map_file =\"./data/flat_map.txt\"\n",
    "\n",
    "    # Open and write the sample file\n",
    "    with open(samples_file, \"w+\") as fout:\n",
    "        fout.write(\"sample\\tpop\\n\")\n",
    "\n",
    "        # Dynamically define samples based on the num_samples dictionary\n",
    "        sample_idx = 0  # Initialize sample index\n",
    "        for pop_name, sample_size in experiment_config['num_samples'].items():\n",
    "            for _ in range(sample_size):\n",
    "                fout.write(f\"tsk_{sample_idx}\\t{pop_name}\\n\")\n",
    "                sample_idx += 1\n",
    "\n",
    "    # Write the recombination map file\n",
    "    with open(flat_map_file, \"w+\") as fout:\n",
    "        fout.write(\"pos\\tMap(cM)\\n\")\n",
    "        fout.write(\"0\\t0\\n\")\n",
    "        fout.write(f\"{experiment_config['genome_length']}\\t{experiment_config['recombination_rate'] * experiment_config['genome_length'] * 100}\\n\")\n",
    "\n",
    "\n"
   ]
  },
  {
   "cell_type": "code",
   "execution_count": 23,
   "metadata": {},
   "outputs": [],
   "source": [
    "import src.demographic_models as demographic_models\n",
    "demographic_model = demographic_models.split_isolation_model_simulation"
   ]
  },
  {
   "cell_type": "code",
   "execution_count": 24,
   "metadata": {},
   "outputs": [
    {
     "name": "stdout",
     "output_type": "stream",
     "text": [
      "running msprime and writing vcfs\n"
     ]
    }
   ],
   "source": [
    "print(\"running msprime and writing vcfs\")\n",
    "g = demographic_model(sampled_params)"
   ]
  },
  {
   "cell_type": "code",
   "execution_count": 25,
   "metadata": {},
   "outputs": [
    {
     "data": {
      "text/plain": [
       "Graph(description='', time_units='generations', generation_time=1, doi=[], metadata={}, demes=[Deme(name='ancestral', description='', start_time=inf, ancestors=[], proportions=[], epochs=[Epoch(start_time=inf, end_time=2858, start_size=17237, end_size=17237, size_function='constant', selfing_rate=0, cloning_rate=0)]), Deme(name='N1', description='', start_time=2858, ancestors=['ancestral'], proportions=[1.0], epochs=[Epoch(start_time=2858, end_time=0, start_size=4108, end_size=4108, size_function='constant', selfing_rate=0, cloning_rate=0)]), Deme(name='N2', description='', start_time=2858, ancestors=['ancestral'], proportions=[1.0], epochs=[Epoch(start_time=2858, end_time=0, start_size=7247, end_size=7247, size_function='constant', selfing_rate=0, cloning_rate=0)])], migrations=[AsymmetricMigration(source='N1', dest='N2', start_time=2858, end_time=0, rate=6.911408461632738e-05), AsymmetricMigration(source='N2', dest='N1', start_time=2858, end_time=0, rate=6.911408461632738e-05)], pulses=[])"
      ]
     },
     "execution_count": 25,
     "metadata": {},
     "output_type": "execute_result"
    }
   ],
   "source": [
    "g"
   ]
  },
  {
   "cell_type": "code",
   "execution_count": 26,
   "metadata": {},
   "outputs": [
    {
     "name": "stdout",
     "output_type": "stream",
     "text": [
      "writing samples and recombination map\n"
     ]
    }
   ],
   "source": [
    "run_msprime_replicates(g,experiment_config)\n",
    "\n",
    "print(\"writing samples and recombination map\")\n",
    "write_samples_and_rec_map(experiment_config)\n"
   ]
  },
  {
   "cell_type": "code",
   "execution_count": 27,
   "metadata": {},
   "outputs": [],
   "source": [
    "import ray "
   ]
  },
  {
   "cell_type": "code",
   "execution_count": 28,
   "metadata": {},
   "outputs": [
    {
     "name": "stderr",
     "output_type": "stream",
     "text": [
      "2024-10-14 14:03:07,765\tINFO worker.py:1781 -- Started a local Ray instance.\n"
     ]
    }
   ],
   "source": [
    "# Initialize Ray\n",
    "ray.init(ignore_reinit_error=True)\n",
    "\n",
    "# Define your function with Ray's remote decorator\n",
    "@ray.remote\n",
    "def get_LD_stats(rep_ii, r_bins):\n",
    "    vcf_file = f\"./data/split_mig.{rep_ii}.vcf.gz\"\n",
    "    time1 = time.time()\n",
    "    ld_stats = moments.LD.Parsing.compute_ld_statistics(\n",
    "        vcf_file,\n",
    "        rec_map_file=\"./data/flat_map.txt\",\n",
    "        pop_file=\"./data/samples.txt\",\n",
    "        pops=[\"N1\", \"N2\"],\n",
    "        r_bins=r_bins,\n",
    "        report=False,\n",
    "    )\n",
    "    time2 = time.time()\n",
    "    print(\"  finished rep\", rep_ii, \"in\", int(time2 - time1), \"seconds\")\n",
    "    return ld_stats\n"
   ]
  },
  {
   "cell_type": "code",
   "execution_count": 29,
   "metadata": {},
   "outputs": [
    {
     "name": "stdout",
     "output_type": "stream",
     "text": [
      "parsing LD statistics in parallel\n"
     ]
    },
    {
     "name": "stdout",
     "output_type": "stream",
     "text": [
      "\u001b[36m(get_LD_stats pid=3403749)\u001b[0m   finished rep 73 in 18 seconds\n",
      "\u001b[36m(get_LD_stats pid=3400795)\u001b[0m   finished rep 90 in 23 seconds\u001b[32m [repeated 32x across cluster] (Ray deduplicates logs by default. Set RAY_DEDUP_LOGS=0 to disable log deduplication, or see https://docs.ray.io/en/master/ray-observability/user-guides/configure-logging.html#log-deduplication for more options.)\u001b[0m\n",
      "\u001b[36m(get_LD_stats pid=3405658)\u001b[0m   finished rep 1 in 29 seconds\u001b[32m [repeated 54x across cluster]\u001b[0m\n",
      "\u001b[36m(get_LD_stats pid=3405252)\u001b[0m   finished rep 39 in 33 seconds\n"
     ]
    }
   ],
   "source": [
    "num_reps = 100\n",
    "# define the bin edges\n",
    "r_bins = np.array([0, 1e-6, 2e-6, 5e-6, 1e-5, 2e-5, 5e-5, 1e-4, 2e-4, 5e-4, 1e-3])\n",
    "# Parallel execution with Ray\n",
    "print(\"parsing LD statistics in parallel\")\n",
    "# Submit tasks to Ray in parallel using .remote()\n",
    "futures = [get_LD_stats.remote(ii, r_bins) for ii in range(num_reps)]\n",
    "# Gather results with ray.get() to collect them once the tasks are finished\n",
    "ld_stats = ray.get(futures)\n",
    "# Optionally, you can convert the list of results into a dictionary with indices\n",
    "ld_stats_dict = {ii: result for ii, result in enumerate(ld_stats)}\n"
   ]
  },
  {
   "cell_type": "code",
   "execution_count": 30,
   "metadata": {},
   "outputs": [
    {
     "name": "stdout",
     "output_type": "stream",
     "text": [
      "computing mean and varcov matrix from LD statistics sums\n",
      "running inference\n",
      "3       , -2.17333e+07, array([ 0.100294   ,  2.13672    ,  0.07435    ,  0.778923   ,  10147.8    ])\n",
      "6       , -2.17341e+07, array([ 0.100294   ,  2.13459    ,  0.07435    ,  0.778923   ,  10158      ])\n",
      "9       , -192018     , array([ 0.212762   ,  2.18508    ,  0.0386801  ,  0.844859   ,  10319.7    ])\n",
      "12      , -191876     , array([ 0.212762   ,  2.1829     ,  0.0386801  ,  0.844859   ,  10330      ])\n",
      "15      , -191555     , array([ 0.213034   ,  2.18513    ,  0.0386502  ,  0.844889   ,  10330.2    ])\n",
      "18      , -191414     , array([ 0.213034   ,  2.18294    ,  0.0386502  ,  0.844889   ,  10340.6    ])\n",
      "21      , -189731     , array([ 0.214124   ,  2.1853     ,  0.0385307  ,  0.845007   ,  10372.5    ])\n",
      "24      , -189590     , array([ 0.214124   ,  2.18312    ,  0.0385307  ,  0.845007   ,  10382.9    ])\n",
      "27      , -182838     , array([ 0.218542   ,  2.186      ,  0.0380566  ,  0.845477   ,  10543.2    ])\n",
      "30      , -182700     , array([ 0.218542   ,  2.18381    ,  0.0380566  ,  0.845477   ,  10553.8    ])\n",
      "33      , -124644     , array([ 0.271266   ,  2.18936    ,  0.0345471  ,  0.85092    ,  13765.1    ])\n",
      "36      , -124542     , array([ 0.271266   ,  2.18717    ,  0.0345471  ,  0.85092    ,  13778.9    ])\n",
      "39      , -76082.5    , array([ 0.344963   ,  2.19381    ,  0.0323257  ,  0.860362   ,  21514.2    ])\n",
      "42      , -76018.7    , array([ 0.344963   ,  2.19161    ,  0.0323257  ,  0.860362   ,  21535.8    ])\n",
      "45      , -37629.8    , array([ 0.458772   ,  2.21835    ,  0.029547   ,  0.881289   ,  43529.5    ])\n",
      "48      , -37600      , array([ 0.458772   ,  2.21614    ,  0.029547   ,  0.881289   ,  43573      ])\n",
      "51      , -24998.2    , array([ 0.546961   ,  2.1999     ,  0.0273375  ,  0.900796   ,  77430.8    ])\n",
      "54      , -24985.3    , array([ 0.546961   ,  2.19771    ,  0.0273375  ,  0.900796   ,  77508.3    ])\n",
      "57      , -22380.7    , array([ 0.589136   ,  2.06143    ,  0.0271436  ,  0.910732   ,  108236     ])\n",
      "60      , -22374.5    , array([ 0.589136   ,  2.05937    ,  0.0271436  ,  0.910732   ,  108344     ])\n",
      "63      , -21415.5    , array([ 0.60755    ,  1.79011    ,  0.0288552  ,  0.913326   ,  131648     ])\n",
      "66      , -21411.7    , array([ 0.60755    ,  1.78832    ,  0.0288552  ,  0.913326   ,  131780     ])\n",
      "69      , -19981.9    , array([ 0.648228   ,  1.1282     ,  0.0355644  ,  0.909512   ,  181009     ])\n",
      "72      , -19981.6    , array([ 0.648228   ,  1.12707    ,  0.0355644  ,  0.909512   ,  181190     ])\n",
      "75      , -19693.8    , array([ 0.67754    ,  0.857678   ,  0.0368278  ,  0.905758   ,  191657     ])\n",
      "78      , -19695.6    , array([ 0.67754    ,  0.856821   ,  0.0368278  ,  0.905758   ,  191849     ])\n",
      "81      , -19200.4    , array([ 0.681873   ,  0.760018   ,  0.0333058  ,  0.904871   ,  173384     ])\n",
      "84      , -19200.9    , array([ 0.681873   ,  0.759259   ,  0.0333058  ,  0.904871   ,  173557     ])\n",
      "87      , -18939.5    , array([ 0.664564   ,  0.641038   ,  0.0288517  ,  0.90507    ,  161656     ])\n",
      "90      , -18938.9    , array([ 0.664564   ,  0.640397   ,  0.0288517  ,  0.90507    ,  161818     ])\n",
      "93      , -18752.4    , array([ 0.62143    ,  0.550957   ,  0.0247134  ,  0.907824   ,  162612     ])\n",
      "96      , -18751.2    , array([ 0.62143    ,  0.550406   ,  0.0247134  ,  0.907824   ,  162774     ])\n",
      "99      , -18106.5    , array([ 0.43315    ,  0.269745   ,  0.0126387  ,  0.921432   ,  182220     ])\n",
      "102     , -18105.2    , array([ 0.43315    ,  0.269475   ,  0.0126387  ,  0.921432   ,  182403     ])\n",
      "105     , -17458.8    , array([ 0.208352   ,  0.101627   ,  0.00456306 ,  0.946411   ,  205728     ])\n",
      "108     , -17457.1    , array([ 0.208352   ,  0.101526   ,  0.00456306 ,  0.946411   ,  205933     ])\n",
      "111     , -16875      , array([ 0.128636   ,  0.0621478  ,  0.0028968  ,  0.977483   ,  206528     ])\n",
      "114     , -16873.7    , array([ 0.128636   ,  0.0620857  ,  0.0028968  ,  0.977483   ,  206734     ])\n",
      "117     , -14905.7    , array([ 0.0158573  ,  0.0179113  ,  0.000665298,  1.13854    ,  196940     ])\n",
      "120     , -14901.3    , array([ 0.0158573  ,  0.0178934  ,  0.000665298,  1.13854    ,  197138     ])\n",
      "123     , -13985.2    , array([ 0.00574352 ,  0.00599593 ,  0.000248664,  1.26246    ,  295571     ])\n",
      "126     , -13984.3    , array([ 0.00574352 ,  0.00598994 ,  0.000248664,  1.26246    ,  295867     ])\n",
      "129     , -13970.3    , array([ 0.00445927 ,  0.00501677 ,  0.000216074,  1.30574    ,  324797     ])\n",
      "132     , -13970.1    , array([ 0.00445927 ,  0.00501175 ,  0.000216074,  1.30574    ,  325122     ])\n",
      "135     , -13914.1    , array([ 0.00522336 ,  0.00550942 ,  0.000238618,  1.29169    ,  332179     ])\n",
      "138     , -13914.1    , array([ 0.00522336 ,  0.00550391 ,  0.000238618,  1.29169    ,  332512     ])\n",
      "141     , -13881.9    , array([ 0.00633112 ,  0.0066702  ,  0.00028841 ,  1.27773    ,  334271     ])\n",
      "144     , -13881.8    , array([ 0.00633112 ,  0.00666353 ,  0.00028841 ,  1.27773    ,  334605     ])\n",
      "147     , -13788.9    , array([ 0.0136648  ,  0.0143308  ,  0.000615508,  1.22337    ,  342769     ])\n",
      "150     , -13788.4    , array([ 0.0136648  ,  0.0143165  ,  0.000615508,  1.22337    ,  343112     ])\n",
      "153     , -13782.8    , array([ 0.0254167  ,  0.0266463  ,  0.00119486 ,  1.19043    ,  356765     ])\n",
      "156     , -13782.8    , array([ 0.0254167  ,  0.0266196  ,  0.00119486 ,  1.19043    ,  357122     ])\n",
      "159     , -13759.7    , array([ 0.0168832  ,  0.017704   ,  0.000771637,  1.21204    ,  347476     ])\n",
      "162     , -13759.4    , array([ 0.0168832  ,  0.0176863  ,  0.000771637,  1.21204    ,  347824     ])\n",
      "165     , -14005.7    , array([ 0.0143978  ,  0.0203752  ,  0.000835546,  1.28401    ,  399911     ])\n",
      "168     , -14004.8    , array([ 0.0143978  ,  0.0203548  ,  0.000835546,  1.28401    ,  400311     ])\n",
      "171     , -13729.9    , array([ 0.0162169  ,  0.0183443  ,  0.000787319,  1.22985    ,  360046     ])\n",
      "174     , -13729.4    , array([ 0.0162169  ,  0.018326   ,  0.000787319,  1.22985    ,  360406     ])\n",
      "177     , -13701.9    , array([ 0.0170162  ,  0.0184333  ,  0.00085023 ,  1.23241    ,  361861     ])\n",
      "180     , -13702.2    , array([ 0.0170162  ,  0.0184149  ,  0.00085023 ,  1.23241    ,  362223     ])\n",
      "183     , -13698.8    , array([ 0.0171253  ,  0.0188475  ,  0.00085054 ,  1.22893    ,  356672     ])\n",
      "186     , -13698.8    , array([ 0.0171253  ,  0.0188287  ,  0.00085054 ,  1.22893    ,  357029     ])\n",
      "189     , -13698.8    , array([ 0.0170773  ,  0.0187707  ,  0.000847916,  1.22935    ,  356622     ])\n",
      "192     , -13698.8    , array([ 0.0170773  ,  0.0187519  ,  0.000847916,  1.22935    ,  356979     ])\n",
      "195     , -13698.8    , array([ 0.0171234  ,  0.0188445  ,  0.000850436,  1.22895    ,  356670     ])\n",
      "198     , -13698.8    , array([ 0.0171234  ,  0.0188257  ,  0.000850436,  1.22895    ,  357027     ])\n",
      "201     , -13698.8    , array([ 0.0171252  ,  0.0188474  ,  0.000850535,  1.22893    ,  356672     ])\n",
      "204     , -13698.8    , array([ 0.0171252  ,  0.0188286  ,  0.000850535,  1.22893    ,  357029     ])\n",
      "207     , -13698.8    , array([ 0.0171253  ,  0.0188475  ,  0.00085054 ,  1.22893    ,  356672     ])\n",
      "210     , -13698.8    , array([ 0.0171253  ,  0.0188287  ,  0.00085054 ,  1.22893    ,  357029     ])\n",
      "213     , -13698.8    , array([ 0.0171253  ,  0.0188475  ,  0.00085054 ,  1.22893    ,  356672     ])\n",
      "216     , -13698.8    , array([ 0.0171253  ,  0.0188287  ,  0.00085054 ,  1.22893    ,  357029     ])\n",
      "219     , -13698.8    , array([ 0.0171253  ,  0.0188475  ,  0.00085054 ,  1.22893    ,  356672     ])\n",
      "222     , -13698.8    , array([ 0.0171253  ,  0.0188287  ,  0.00085054 ,  1.22893    ,  357029     ])\n",
      "225     , -13698.8    , array([ 0.0171253  ,  0.0188475  ,  0.00085054 ,  1.22893    ,  356672     ])\n",
      "228     , -13698.8    , array([ 0.0171253  ,  0.0188287  ,  0.00085054 ,  1.22893    ,  357029     ])\n",
      "231     , -13698.8    , array([ 0.0171253  ,  0.0188475  ,  0.00085054 ,  1.22893    ,  356672     ])\n",
      "234     , -13698.8    , array([ 0.0171253  ,  0.0188287  ,  0.00085054 ,  1.22893    ,  357029     ])\n",
      "237     , -13698.8    , array([ 0.0171253  ,  0.0188475  ,  0.00085054 ,  1.22893    ,  356672     ])\n",
      "240     , -13698.8    , array([ 0.0171253  ,  0.0188287  ,  0.00085054 ,  1.22893    ,  357029     ])\n",
      "243     , -13698.8    , array([ 0.0171253  ,  0.0188475  ,  0.00085054 ,  1.22893    ,  356672     ])\n",
      "246     , -13698.8    , array([ 0.0171253  ,  0.0188287  ,  0.00085054 ,  1.22893    ,  357029     ])\n",
      "249     , -13698.8    , array([ 0.0171253  ,  0.0188475  ,  0.00085054 ,  1.22893    ,  356672     ])\n",
      "252     , -13698.8    , array([ 0.0171253  ,  0.0188287  ,  0.00085054 ,  1.22893    ,  357029     ])\n",
      "255     , -13698.8    , array([ 0.0171253  ,  0.0188475  ,  0.00085054 ,  1.22893    ,  356672     ])\n",
      "258     , -13698.8    , array([ 0.0171253  ,  0.0188287  ,  0.00085054 ,  1.22893    ,  357029     ])\n",
      "261     , -13698.8    , array([ 0.0171253  ,  0.0188475  ,  0.00085054 ,  1.22893    ,  356672     ])\n",
      "264     , -13698.8    , array([ 0.0171253  ,  0.0188287  ,  0.00085054 ,  1.22893    ,  357029     ])\n",
      "267     , -13698.8    , array([ 0.0171253  ,  0.0188475  ,  0.00085054 ,  1.22893    ,  356672     ])\n",
      "270     , -13698.8    , array([ 0.0171253  ,  0.0188287  ,  0.00085054 ,  1.22893    ,  357029     ])\n",
      "273     , -13698.8    , array([ 0.0171253  ,  0.0188475  ,  0.00085054 ,  1.22893    ,  356672     ])\n",
      "276     , -13698.8    , array([ 0.0171253  ,  0.0188287  ,  0.00085054 ,  1.22893    ,  357029     ])\n",
      "279     , -13698.8    , array([ 0.0171253  ,  0.0188475  ,  0.00085054 ,  1.22893    ,  356672     ])\n",
      "282     , -13698.8    , array([ 0.0171253  ,  0.0188287  ,  0.00085054 ,  1.22893    ,  357029     ])\n"
     ]
    }
   ],
   "source": [
    "print(\"computing mean and varcov matrix from LD statistics sums\")\n",
    "mv = moments.LD.Parsing.bootstrap_data(ld_stats_dict)\n",
    "\n",
    "print(\"running inference\")\n",
    "# Run inference using the parsed data\n",
    "demo_func = moments.LD.Demographics2D.split_mig\n",
    "# Set up the initial guess\n",
    "# The split_mig function takes four parameters (nu0, nu1, T, m), and we append\n",
    "# the last parameter to fit Ne, which doesn't get passed to the function but\n",
    "# scales recombination rates so can be simultaneously fit\n",
    "p_guess = [0.1, 2, 0.075, 0.8, 10000]\n",
    "p_guess = moments.LD.Util.perturb_params(p_guess, fold=0.1)\n",
    "opt_params, LL = moments.LD.Inference.optimize_log_lbfgsb(\n",
    "    p_guess, [mv[\"means\"], mv[\"varcovs\"]], [demo_func], rs=r_bins, verbose = 3\n",
    ")\n"
   ]
  },
  {
   "cell_type": "code",
   "execution_count": 31,
   "metadata": {},
   "outputs": [
    {
     "name": "stdout",
     "output_type": "stream",
     "text": [
      "Simulated parameters:\n",
      "  N(deme0)         :  4108.0\n",
      "  N(deme1)         :  7247.0\n",
      "  Div. time (gen)  :  2858.0\n",
      "  Migration rate   :  0.000069\n",
      "  N(ancestral)     :  17237.0\n",
      "best fit parameters:\n",
      "  N(deme0)         :  6108.1\n",
      "  N(deme1)         :  6715.7\n",
      "  Div. time (gen)  :  606.7\n",
      "  Migration rate   :  0.000002\n",
      "  N(ancestral)     :  356672.2\n"
     ]
    }
   ],
   "source": [
    "physical_units = moments.LD.Util.rescale_params(\n",
    "    opt_params, [\"nu\", \"nu\", \"T\", \"m\", \"Ne\"]\n",
    ")\n",
    "\n",
    "print(\"Simulated parameters:\")\n",
    "print(f\"  N(deme0)         :  {g.demes[1].epochs[0].start_size:.1f}\")\n",
    "print(f\"  N(deme1)         :  {g.demes[2].epochs[0].start_size:.1f}\")\n",
    "print(f\"  Div. time (gen)  :  {g.demes[1].epochs[0].start_time:.1f}\")\n",
    "print(f\"  Migration rate   :  {g.migrations[0].rate:.6f}\")\n",
    "print(f\"  N(ancestral)     :  {g.demes[0].epochs[0].start_size:.1f}\")\n",
    "\n",
    "print(\"best fit parameters:\")\n",
    "print(f\"  N(deme0)         :  {physical_units[0]:.1f}\")\n",
    "print(f\"  N(deme1)         :  {physical_units[1]:.1f}\")\n",
    "print(f\"  Div. time (gen)  :  {physical_units[2]:.1f}\")\n",
    "print(f\"  Migration rate   :  {physical_units[3]:.6f}\")\n",
    "print(f\"  N(ancestral)     :  {physical_units[4]:.1f}\")"
   ]
  },
  {
   "cell_type": "code",
   "execution_count": null,
   "metadata": {},
   "outputs": [],
   "source": []
  }
 ],
 "metadata": {
  "kernelspec": {
   "display_name": "base",
   "language": "python",
   "name": "python3"
  },
  "language_info": {
   "codemirror_mode": {
    "name": "ipython",
    "version": 3
   },
   "file_extension": ".py",
   "mimetype": "text/x-python",
   "name": "python",
   "nbconvert_exporter": "python",
   "pygments_lexer": "ipython3",
   "version": "3.10.13"
  }
 },
 "nbformat": 4,
 "nbformat_minor": 2
}
