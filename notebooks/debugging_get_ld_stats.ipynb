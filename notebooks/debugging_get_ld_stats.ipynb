{
 "cells": [
  {
   "cell_type": "code",
   "execution_count": 12,
   "metadata": {},
   "outputs": [],
   "source": [
    "import os\n",
    "import numpy as np\n",
    "import moments"
   ]
  },
  {
   "cell_type": "code",
   "execution_count": 14,
   "metadata": {},
   "outputs": [],
   "source": [
    "vcf_file = '/sietch_colab/akapoor/Demographic_Inference/sim_540/window_78/window.78.vcf.gz'\n",
    "r_bins = np.array([0, 1e-6, 2e-6, 5e-6, 1e-5, 2e-5, 5e-5, 1e-4, 2e-4, 5e-4, 1e-3])\n",
    "flat_map_path = '/sietch_colab/akapoor/Demographic_Inference/sim_540/window_78/flat_map.txt'\n",
    "pop_file_path = '/sietch_colab/akapoor/Demographic_Inference/sim_540/window_8/samples.txt'"
   ]
  },
  {
   "cell_type": "code",
   "execution_count": 15,
   "metadata": {},
   "outputs": [],
   "source": [
    "# Define your function with Ray's remote decorator\n",
    "def get_LD_stats(vcf_file, r_bins, flat_map_path, pop_file_path):\n",
    "    ld_stats = moments.LD.Parsing.compute_ld_statistics( #type:ignore\n",
    "        vcf_file,\n",
    "        rec_map_file=flat_map_path,\n",
    "        pop_file=pop_file_path,\n",
    "        pops=[\"N1\", \"N2\"], # TODO: Change later\n",
    "        r_bins=r_bins,\n",
    "        report=False\n",
    "    )\n",
    "\n",
    "    return ld_stats"
   ]
  },
  {
   "cell_type": "code",
   "execution_count": 16,
   "metadata": {},
   "outputs": [],
   "source": [
    "ld_stats = get_LD_stats(vcf_file, r_bins, flat_map_path, pop_file_path)"
   ]
  },
  {
   "cell_type": "code",
   "execution_count": 19,
   "metadata": {},
   "outputs": [
    {
     "ename": "NotImplementedError",
     "evalue": "seek not implemented in files compressed by method 1",
     "output_type": "error",
     "traceback": [
      "\u001b[0;31m---------------------------------------------------------------------------\u001b[0m",
      "\u001b[0;31mNotImplementedError\u001b[0m                       Traceback (most recent call last)",
      "Cell \u001b[0;32mIn[19], line 13\u001b[0m\n\u001b[1;32m     10\u001b[0m vcf_file_78 \u001b[38;5;241m=\u001b[39m \u001b[38;5;124m'\u001b[39m\u001b[38;5;124m/sietch_colab/akapoor/Demographic_Inference/sim_540/window_78/window.78.vcf.gz\u001b[39m\u001b[38;5;124m'\u001b[39m\n\u001b[1;32m     11\u001b[0m vcf_file_79 \u001b[38;5;241m=\u001b[39m \u001b[38;5;124m'\u001b[39m\u001b[38;5;124m/sietch_colab/akapoor/Demographic_Inference/sim_540/window_79/window.79.vcf.gz\u001b[39m\u001b[38;5;124m'\u001b[39m\n\u001b[0;32m---> 13\u001b[0m chroms_78 \u001b[38;5;241m=\u001b[39m \u001b[43mlist_chromosomes\u001b[49m\u001b[43m(\u001b[49m\u001b[43mvcf_file_78\u001b[49m\u001b[43m)\u001b[49m\n\u001b[1;32m     14\u001b[0m chroms_79 \u001b[38;5;241m=\u001b[39m list_chromosomes(vcf_file_79)\n\u001b[1;32m     16\u001b[0m \u001b[38;5;28mprint\u001b[39m(\u001b[38;5;124m\"\u001b[39m\u001b[38;5;124mChromosomes in window_78.vcf.gz:\u001b[39m\u001b[38;5;124m\"\u001b[39m, chroms_78)\n",
      "Cell \u001b[0;32mIn[19], line 5\u001b[0m, in \u001b[0;36mlist_chromosomes\u001b[0;34m(vcf_file)\u001b[0m\n\u001b[1;32m      3\u001b[0m \u001b[38;5;28;01mdef\u001b[39;00m \u001b[38;5;21mlist_chromosomes\u001b[39m(vcf_file):\n\u001b[1;32m      4\u001b[0m     chromosomes \u001b[38;5;241m=\u001b[39m \u001b[38;5;28mset\u001b[39m()\n\u001b[0;32m----> 5\u001b[0m     \u001b[38;5;28;01mwith\u001b[39;00m \u001b[43mpysam\u001b[49m\u001b[38;5;241;43m.\u001b[39;49m\u001b[43mVariantFile\u001b[49m\u001b[43m(\u001b[49m\u001b[43mvcf_file\u001b[49m\u001b[43m)\u001b[49m \u001b[38;5;28;01mas\u001b[39;00m vcf:\n\u001b[1;32m      6\u001b[0m         \u001b[38;5;28;01mfor\u001b[39;00m record \u001b[38;5;129;01min\u001b[39;00m vcf:\n\u001b[1;32m      7\u001b[0m             chromosomes\u001b[38;5;241m.\u001b[39madd(record\u001b[38;5;241m.\u001b[39mchrom)\n",
      "File \u001b[0;32m~/miniconda3/envs/myenv/lib/python3.10/site-packages/pysam/libcbcf.pyx:4117\u001b[0m, in \u001b[0;36mpysam.libcbcf.VariantFile.__init__\u001b[0;34m()\u001b[0m\n",
      "File \u001b[0;32m~/miniconda3/envs/myenv/lib/python3.10/site-packages/pysam/libcbcf.pyx:4380\u001b[0m, in \u001b[0;36mpysam.libcbcf.VariantFile.open\u001b[0;34m()\u001b[0m\n",
      "File \u001b[0;32m~/miniconda3/envs/myenv/lib/python3.10/site-packages/pysam/libchtslib.pyx:514\u001b[0m, in \u001b[0;36mpysam.libchtslib.HTSFile.tell\u001b[0;34m()\u001b[0m\n",
      "\u001b[0;31mNotImplementedError\u001b[0m: seek not implemented in files compressed by method 1"
     ]
    }
   ],
   "source": [
    "import pysam\n",
    "\n",
    "def list_chromosomes(vcf_file):\n",
    "    chromosomes = set()\n",
    "    with pysam.VariantFile(vcf_file) as vcf:\n",
    "        for record in vcf:\n",
    "            chromosomes.add(record.chrom)\n",
    "    return chromosomes\n",
    "\n",
    "vcf_file_78 = '/sietch_colab/akapoor/Demographic_Inference/sim_540/window_78/window.78.vcf.gz'\n",
    "vcf_file_79 = '/sietch_colab/akapoor/Demographic_Inference/sim_540/window_79/window.79.vcf.gz'\n",
    "\n",
    "chroms_78 = list_chromosomes(vcf_file_78)\n",
    "chroms_79 = list_chromosomes(vcf_file_79)\n",
    "\n",
    "print(\"Chromosomes in window_78.vcf.gz:\", chroms_78)\n",
    "print(\"Chromosomes in window_79.vcf.gz:\", chroms_79)\n",
    "\n",
    "# Compare the results\n",
    "if chroms_78 == chroms_79:\n",
    "    print(\"Both files have the same chromosomes.\")\n",
    "else:\n",
    "    print(\"The files have different chromosomes.\")"
   ]
  },
  {
   "cell_type": "code",
   "execution_count": null,
   "metadata": {},
   "outputs": [],
   "source": []
  }
 ],
 "metadata": {
  "kernelspec": {
   "display_name": "myenv",
   "language": "python",
   "name": "python3"
  },
  "language_info": {
   "codemirror_mode": {
    "name": "ipython",
    "version": 3
   },
   "file_extension": ".py",
   "mimetype": "text/x-python",
   "name": "python",
   "nbconvert_exporter": "python",
   "pygments_lexer": "ipython3",
   "version": "3.10.13"
  }
 },
 "nbformat": 4,
 "nbformat_minor": 2
}
