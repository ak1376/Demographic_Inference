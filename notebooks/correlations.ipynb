{
 "cells": [
  {
   "cell_type": "code",
   "execution_count": 1,
   "metadata": {},
   "outputs": [],
   "source": [
    "import numpy as np\n",
    "import matplotlib.pyplot as plt\n",
    "import os"
   ]
  },
  {
   "cell_type": "code",
   "execution_count": 4,
   "metadata": {},
   "outputs": [],
   "source": [
    "training_features = np.load('/sietch_colab/akapoor/Demographic_Inference/bottleneck_experiments_seed_42/sims/sims_pretrain_30000_sims_inference_5_seed_42_num_replicates_10_top_values_5/training_features.npy')\n",
    "training_targets = np.load('/sietch_colab/akapoor/Demographic_Inference/bottleneck_experiments_seed_42/sims/sims_pretrain_30000_sims_inference_5_seed_42_num_replicates_10_top_values_5/training_targets.npy')"
   ]
  },
  {
   "cell_type": "code",
   "execution_count": 5,
   "metadata": {},
   "outputs": [
    {
     "data": {
      "text/plain": [
       "(24000, 100)"
      ]
     },
     "execution_count": 5,
     "metadata": {},
     "output_type": "execute_result"
    }
   ],
   "source": [
    "training_features.shape"
   ]
  },
  {
   "cell_type": "code",
   "execution_count": 7,
   "metadata": {},
   "outputs": [
    {
     "data": {
      "text/plain": [
       "(24000, 5)"
      ]
     },
     "execution_count": 7,
     "metadata": {},
     "output_type": "execute_result"
    }
   ],
   "source": [
    "training_targets.shape"
   ]
  },
  {
   "cell_type": "code",
   "execution_count": 14,
   "metadata": {},
   "outputs": [
    {
     "name": "stderr",
     "output_type": "stream",
     "text": [
      "/tmp/ipykernel_2071815/3000866371.py:5: UserWarning: Attempt to set non-positive xlim on a log-scaled axis will be ignored.\n",
      "  plt.xlim([0, 1e5])\n"
     ]
    },
    {
     "data": {
      "image/png": "[encoded data removed]",
      "text/plain": [
       "<Figure size 640x480 with 1 Axes>"
      ]
     },
     "metadata": {},
     "output_type": "display_data"
    }
   ],
   "source": [
    "plt.figure()\n",
    "plt.scatter(training_features[:,0], training_targets[:,0])\n",
    "plt.yscale('log')\n",
    "plt.xscale('log')\n",
    "plt.xlim([0, 1e5])\n",
    "plt.axline([1,1], [10e5, 10e5], color='red')\n",
    "plt.show()"
   ]
  },
  {
   "cell_type": "code",
   "execution_count": 9,
   "metadata": {},
   "outputs": [
    {
     "data": {
      "text/plain": [
       "91971618.19567679"
      ]
     },
     "execution_count": 9,
     "metadata": {},
     "output_type": "execute_result"
    }
   ],
   "source": [
    "np.max(training_features)"
   ]
  },
  {
   "cell_type": "code",
   "execution_count": 2,
   "metadata": {},
   "outputs": [],
   "source": [
    "import pickle"
   ]
  },
  {
   "cell_type": "code",
   "execution_count": 18,
   "metadata": {},
   "outputs": [],
   "source": [
    "with open('/sietch_colab/akapoor/Demographic_Inference/bottleneck_experiments_seed_42/sims/sims_pretrain_25_sims_inference_5_seed_42_num_replicates_10_top_values_5/simulation_results/software_inferences_sim_0.pkl', 'rb') as f:\n",
    "    data = pickle.load(f)"
   ]
  },
  {
   "cell_type": "code",
   "execution_count": 19,
   "metadata": {},
   "outputs": [
    {
     "data": {
      "text/plain": [
       "dict_keys(['simulated_params', 'sfs', 'model_sfs_dadi', 'opt_theta_dadi', 'opt_params_dadi', 'll_all_replicates_dadi', 'model_sfs_moments', 'opt_theta_moments', 'opt_params_moments', 'll_all_replicates_moments'])"
      ]
     },
     "execution_count": 19,
     "metadata": {},
     "output_type": "execute_result"
    }
   ],
   "source": [
    "data.keys()"
   ]
  },
  {
   "cell_type": "code",
   "execution_count": 20,
   "metadata": {},
   "outputs": [
    {
     "data": {
      "text/plain": [
       "{'N0': 8749,\n",
       " 'Nb': 4950,\n",
       " 'N_recover': 6731,\n",
       " 't_bottleneck_start': 1799,\n",
       " 't_bottleneck_end': 831}"
      ]
     },
     "execution_count": 20,
     "metadata": {},
     "output_type": "execute_result"
    }
   ],
   "source": [
    "data['simulated_params']"
   ]
  },
  {
   "cell_type": "code",
   "execution_count": 22,
   "metadata": {},
   "outputs": [
    {
     "data": {
      "text/plain": [
       "[{'N0': 13523.832415335186,\n",
       "  'Nb': 2903.809132083906,\n",
       "  'N_recover': 7812.222141022301,\n",
       "  't_bottleneck_start': 5932.045710352954,\n",
       "  't_bottleneck_end': 4322.786913895972,\n",
       "  'upper_triangular_FIM': array([-26394.8813634 ,    384.96069261,  12893.79258795, -16445.52534675,\n",
       "          -2005.98823086,   -103.43811962,   7184.54200383,  11394.15302491,\n",
       "           8464.73324668, -43677.40859845])},\n",
       " {'N0': 10796.636541113921,\n",
       "  'Nb': 2316.1743879994065,\n",
       "  'N_recover': 5082.291384046471,\n",
       "  't_bottleneck_start': 2194.728339142566,\n",
       "  't_bottleneck_end': 1143.2288643216978,\n",
       "  'upper_triangular_FIM': array([-15019.24905043,    378.26452279,  23822.62784109, -14321.63889795,\n",
       "          -2996.26950843,   -510.90767382,  11426.9676745 ,  44127.53561016,\n",
       "          31220.37802541, -22245.7473788 ])},\n",
       " {'N0': 16671.88213513816,\n",
       "  'Nb': 3263.6653839420865,\n",
       "  'N_recover': 7249.9190673265275,\n",
       "  't_bottleneck_start': 7573.1200380840155,\n",
       "  't_bottleneck_end': 6419.44766339426,\n",
       "  'upper_triangular_FIM': array([-4.06788815e+04,  5.28854070e+02,  1.35984705e+04, -3.19586386e+04,\n",
       "         -3.02038819e+03, -2.71586776e+01,  1.45680298e+04,  1.07475188e+04,\n",
       "          9.89890778e+03, -8.66102500e+04])},\n",
       " {'N0': 12745.64629339487,\n",
       "  'Nb': 2251.7311164354624,\n",
       "  'N_recover': 6139.485174684419,\n",
       "  't_bottleneck_start': 2848.755455708222,\n",
       "  't_bottleneck_end': 2066.7445731401995,\n",
       "  'upper_triangular_FIM': array([-3.45018626e+04,  3.90093108e+02,  2.72400469e+04, -3.16326752e+04,\n",
       "         -2.13235195e+03, -8.15085518e+01,  1.35404102e+04,  3.95709348e+04,\n",
       "          3.03502574e+04, -1.12102755e+05])},\n",
       " {'N0': 11633.93444060128,\n",
       "  'Nb': 1493.2661080220332,\n",
       "  'N_recover': 10011.239420827187,\n",
       "  't_bottleneck_start': 2597.182447791349,\n",
       "  't_bottleneck_end': 1355.8404876130994,\n",
       "  'upper_triangular_FIM': array([-59290.24741417,    374.66207876,  49187.65435912, -25766.56225267,\n",
       "           -626.39441714,   -399.03374852,   4140.47718552,  68570.31702014,\n",
       "          33790.55608866, -77968.70910108])}]"
      ]
     },
     "execution_count": 22,
     "metadata": {},
     "output_type": "execute_result"
    }
   ],
   "source": [
    "data['opt_params_moments']"
   ]
  },
  {
   "cell_type": "code",
   "execution_count": 14,
   "metadata": {},
   "outputs": [],
   "source": [
    "with open('/sietch_colab/akapoor/Demographic_Inference/bottleneck_experiments_seed_42/sims/sims_pretrain_1000_sims_inference_5_seed_42_num_replicates_3/features_and_targets.pkl', 'rb') as f:\n",
    "    data = pickle.load(f)"
   ]
  },
  {
   "cell_type": "code",
   "execution_count": 16,
   "metadata": {},
   "outputs": [
    {
     "data": {
      "text/plain": [
       "dict_keys(['training', 'validation', 'testing'])"
      ]
     },
     "execution_count": 16,
     "metadata": {},
     "output_type": "execute_result"
    }
   ],
   "source": [
    "data.keys()"
   ]
  },
  {
   "cell_type": "code",
   "execution_count": 17,
   "metadata": {},
   "outputs": [
    {
     "data": {
      "text/plain": [
       "array([[[[1.46469508e+04, 3.66524482e+03, 9.14130379e+03,\n",
       "          1.16826264e+04, 7.80621908e+03],\n",
       "         [1.12958505e+04, 4.27429382e+03, 4.36810843e+03,\n",
       "          2.82058109e+03, 1.93308054e+03]],\n",
       "\n",
       "        [[7.80984849e+03, 4.30497908e+03, 8.09465508e+03,\n",
       "          1.96278120e+03, 1.56196970e+00],\n",
       "         [8.37459401e+03, 2.95015233e+03, 1.12903609e+04,\n",
       "          2.61914126e+03, 9.57358700e+02]],\n",
       "\n",
       "        [[8.49424101e+03, 5.76346405e+03, 7.37737297e+03,\n",
       "          2.47962853e+03, 1.03786049e+03],\n",
       "         [1.35177398e+04, 3.02549062e+03, 6.06568302e+03,\n",
       "          3.86599451e+03, 2.79810770e+03]]],\n",
       "\n",
       "\n",
       "       [[[1.01039387e+04, 2.94431565e+03, 7.84241315e+03,\n",
       "          2.11941714e+03, 6.80505125e+02],\n",
       "         [1.57687201e+04, 2.74410252e+03, 8.49601780e+03,\n",
       "          6.40304984e+03, 3.71421567e+03]],\n",
       "\n",
       "        [[8.85853205e+03, 2.59399687e+03, 6.79764189e+03,\n",
       "          7.15663831e+02, 1.77170641e+00],\n",
       "         [1.18193891e+04, 2.47758457e+03, 1.77187557e+04,\n",
       "          2.19862341e+03, 1.49227419e+03]],\n",
       "\n",
       "        [[9.70610810e+03, 2.87827234e+03, 6.44797461e+03,\n",
       "          2.36749465e+03, 1.94122162e+00],\n",
       "         [1.63740668e+04, 2.53084683e+03, 6.16915356e+03,\n",
       "          5.54993528e+03, 2.54336635e+03]]],\n",
       "\n",
       "\n",
       "       [[[7.84829625e+03, 4.01246096e+03, 1.17307998e+04,\n",
       "          3.00710598e+03, 2.49241261e+03],\n",
       "         [1.03133794e+04, 2.82163262e+03, 6.73599706e+03,\n",
       "          4.87066657e+03, 3.05592262e+03]],\n",
       "\n",
       "        [[7.60017372e+03, 4.65936649e+03, 5.19682473e+03,\n",
       "          1.77653522e+03, 1.14874399e+03],\n",
       "         [1.03374538e+04, 2.34350502e+03, 4.43736469e+03,\n",
       "          1.99274367e+03, 1.44717892e+03]],\n",
       "\n",
       "        [[1.21310647e+04, 2.46198364e+03, 7.16854021e+03,\n",
       "          5.83981427e+03, 3.74854759e+03],\n",
       "         [8.99925862e+03, 2.75867614e+03, 4.58666246e+03,\n",
       "          2.01343153e+03, 9.94291100e+02]]],\n",
       "\n",
       "\n",
       "       ...,\n",
       "\n",
       "\n",
       "       [[[1.03657545e+04, 1.85427907e+03, 6.95637343e+03,\n",
       "          3.83711203e+03, 1.53913446e+03],\n",
       "         [1.07572277e+04, 1.72825795e+03, 1.31520943e+04,\n",
       "          2.69679412e+03, 1.70495276e+03]],\n",
       "\n",
       "        [[7.19405978e+03, 6.07219172e+03, 6.73175234e+03,\n",
       "          2.67279002e+03, 1.77672812e+03],\n",
       "         [1.22750433e+04, 1.98675425e+03, 4.89173200e+03,\n",
       "          3.90647320e+03, 1.60879691e+03]],\n",
       "\n",
       "        [[6.92735507e+03, 2.74712947e+03, 6.70848454e+03,\n",
       "          9.34206959e+02, 1.38547101e+00],\n",
       "         [9.98242150e+03, 4.42806352e+03, 5.04654066e+03,\n",
       "          4.43135513e+03, 3.80321943e+03]]],\n",
       "\n",
       "\n",
       "       [[[8.94349790e+03, 2.99549150e+03, 5.75358947e+03,\n",
       "          2.01645227e+03, 1.78869958e+00],\n",
       "         [1.41683503e+04, 3.33952678e+03, 6.95154483e+03,\n",
       "          5.80219048e+03, 4.26224162e+03]],\n",
       "\n",
       "        [[8.39453723e+03, 2.35035608e+03, 5.63610139e+03,\n",
       "          8.40942722e+02, 1.67890745e+00],\n",
       "         [1.49892977e+04, 2.38886411e+03, 1.22809388e+04,\n",
       "          4.12726185e+03, 3.25662835e+03]],\n",
       "\n",
       "        [[8.21764386e+03, 2.79443890e+03, 6.14615121e+03,\n",
       "          8.31346035e+02, 1.64352877e+00],\n",
       "         [1.21513269e+04, 2.29742358e+03, 1.15132554e+04,\n",
       "          2.78098171e+03, 1.93791168e+03]]],\n",
       "\n",
       "\n",
       "       [[[9.20022441e+03, 2.65412819e+03, 8.71080215e+03,\n",
       "          2.88786196e+03, 1.35475605e+03],\n",
       "         [1.48405636e+04, 1.97208888e+03, 1.13640802e+04,\n",
       "          4.60479075e+03, 3.18867642e+03]],\n",
       "\n",
       "        [[8.44411087e+03, 4.00690143e+03, 7.47583691e+03,\n",
       "          2.85950634e+03, 1.31211144e+03],\n",
       "         [1.07640424e+04, 4.05636176e+03, 4.23492241e+03,\n",
       "          3.04013661e+03, 1.28156531e+03]],\n",
       "\n",
       "        [[9.39798703e+03, 2.72198212e+03, 6.92763990e+03,\n",
       "          2.14734773e+03, 1.01248826e+03],\n",
       "         [1.03670366e+04, 3.00256840e+03, 7.41883990e+03,\n",
       "          3.62034504e+03, 2.11756653e+03]]]])"
      ]
     },
     "execution_count": 17,
     "metadata": {},
     "output_type": "execute_result"
    }
   ],
   "source": [
    "data['training']['features']"
   ]
  },
  {
   "cell_type": "code",
   "execution_count": 43,
   "metadata": {},
   "outputs": [],
   "source": [
    "with open('/sietch_colab/akapoor/Demographic_Inference/bottleneck_experiments_seed_42/sims/sims_pretrain_25_sims_inference_5_seed_42_num_replicates_10_top_values_5/preprocessing_results_obj.pkl', 'rb') as f:\n",
    "    preproc = pickle.load(f)"
   ]
  },
  {
   "cell_type": "code",
   "execution_count": 45,
   "metadata": {},
   "outputs": [
    {
     "data": {
      "text/plain": [
       "(20, 5, 2, 5)"
      ]
     },
     "execution_count": 45,
     "metadata": {},
     "output_type": "execute_result"
    }
   ],
   "source": [
    "preproc['training']['predictions'].shape"
   ]
  },
  {
   "cell_type": "code",
   "execution_count": 47,
   "metadata": {},
   "outputs": [
    {
     "data": {
      "text/plain": [
       "array([ 7964.75873122,  1383.69544225, 11234.65464133,  1217.71437599,\n",
       "         234.65270461])"
      ]
     },
     "execution_count": 47,
     "metadata": {},
     "output_type": "execute_result"
    }
   ],
   "source": [
    "preproc['training']['predictions'][0,0,0,:]"
   ]
  },
  {
   "cell_type": "code",
   "execution_count": 48,
   "metadata": {},
   "outputs": [],
   "source": [
    "with open('/sietch_colab/akapoor/Demographic_Inference/bottleneck_experiments_seed_42/sims/sims_pretrain_25_sims_inference_5_seed_42_num_replicates_10_top_values_5/features_and_targets.pkl', 'rb') as f:\n",
    "    features = pickle.load(f)"
   ]
  },
  {
   "cell_type": "code",
   "execution_count": 53,
   "metadata": {},
   "outputs": [
    {
     "data": {
      "text/plain": [
       "(20, 5)"
      ]
     },
     "execution_count": 53,
     "metadata": {},
     "output_type": "execute_result"
    }
   ],
   "source": [
    "features['training']['targets'].shape"
   ]
  },
  {
   "cell_type": "code",
   "execution_count": 57,
   "metadata": {},
   "outputs": [],
   "source": [
    "with open('/sietch_colab/akapoor/Demographic_Inference/bottleneck_experiments_seed_42/models/sims_pretrain_1000_sims_inference_5_seed_42_num_replicates_10_top_values_5/num_hidden_neurons_512_256_128_num_hidden_layers_3_num_epochs_500_dropout_value_0.2_weight_decay_0.0001_batch_size_128_EarlyStopping_True/linear_mdl_obj.pkl', 'rb') as f:\n",
    "    model = pickle.load(f)"
   ]
  },
  {
   "cell_type": "code",
   "execution_count": 59,
   "metadata": {},
   "outputs": [
    {
     "data": {
      "text/plain": [
       "array([[-0.43474475,  1.55884573,  0.80020747,  0.33948196, -1.19511506],\n",
       "       [-0.43474475,  1.55884573,  0.80020747,  0.33948196, -1.19511506],\n",
       "       [-0.43474475,  1.55884573,  0.80020747,  0.33948196, -1.19511506],\n",
       "       ...,\n",
       "       [-0.43474475,  1.55884573,  0.80020747,  0.33948196, -1.19511506],\n",
       "       [-0.43474475,  1.55884573,  0.80020747,  0.33948196, -1.19511506],\n",
       "       [-0.43474475,  1.55884573,  0.80020747,  0.33948196, -1.19511506]])"
      ]
     },
     "execution_count": 59,
     "metadata": {},
     "output_type": "execute_result"
    }
   ],
   "source": [
    "model['training']['predictions']  "
   ]
  },
  {
   "cell_type": "code",
   "execution_count": 60,
   "metadata": {},
   "outputs": [],
   "source": [
    "training_features = np.load('/sietch_colab/akapoor/Demographic_Inference/bottleneck_experiments_seed_42/sims/sims_pretrain_1000_sims_inference_5_seed_42_num_replicates_10_top_values_5/training_features.npy')"
   ]
  },
  {
   "cell_type": "code",
   "execution_count": 61,
   "metadata": {},
   "outputs": [
    {
     "data": {
      "text/plain": [
       "array([[  7612.54281377,   5231.29273955,   6898.75045335, ...,\n",
       "         10159.57631887,   7438.40904941, -14536.2327362 ],\n",
       "       [  6885.43320404,   1748.28542541,   9812.53121493, ...,\n",
       "         18179.74620403,  11541.49953484, -37517.85811112],\n",
       "       [  7618.23729217,   4370.12654957,   6587.03006281, ...,\n",
       "         37318.83303214,  22448.85298444, -70816.36191082],\n",
       "       ...,\n",
       "       [  7989.06032835,   5404.17158852,   7654.32377407, ...,\n",
       "         23009.32617712,  16959.46199835, -78794.45989812],\n",
       "       [  7334.55567149,   2445.39785213,  10055.27014638, ...,\n",
       "         10187.2428451 ,   8465.67918845,  -2327.28371637],\n",
       "       [  6965.45484003,   2103.19105874,   9368.28290471, ...,\n",
       "         12793.49018403,  13458.88227571, -10743.49261453]])"
      ]
     },
     "execution_count": 61,
     "metadata": {},
     "output_type": "execute_result"
    }
   ],
   "source": [
    "training_features"
   ]
  },
  {
   "cell_type": "code",
   "execution_count": null,
   "metadata": {},
   "outputs": [],
   "source": []
  }
 ],
 "metadata": {
  "kernelspec": {
   "display_name": "myenv",
   "language": "python",
   "name": "python3"
  },
  "language_info": {
   "codemirror_mode": {
    "name": "ipython",
    "version": 3
   },
   "file_extension": ".py",
   "mimetype": "text/x-python",
   "name": "python",
   "nbconvert_exporter": "python",
   "pygments_lexer": "ipython3",
   "version": "3.10.13"
  }
 },
 "nbformat": 4,
 "nbformat_minor": 2
}
