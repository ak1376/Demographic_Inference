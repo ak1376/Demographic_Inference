{
 "cells": [
  {
   "cell_type": "code",
   "execution_count": 1,
   "metadata": {},
   "outputs": [],
   "source": [
    "import pickle\n",
    "with open('/projects/kernlab/akapoor/Demographic_Inference/split_isolation_model_dadi_analysis_True_moments_analysis_True_momentsLD_analysis_True_seed_42/sims/sims_pretrain_5_sims_inference_1_seed_42_num_replicates_3_top_values_2/preprocessing_results_obj.pkl', 'rb') as f:\n",
    "    data = pickle.load(f)\n"
   ]
  },
  {
   "cell_type": "code",
   "execution_count": 2,
   "metadata": {},
   "outputs": [
    {
     "data": {
      "text/plain": [
       "Index(['Moments_rep1_Na', 'Moments_rep1_N1', 'Moments_rep1_N2',\n",
       "       'Moments_rep1_t_split', 'Moments_rep1_m', 'Moments_rep1_FIM_element_0',\n",
       "       'Moments_rep1_FIM_element_1', 'Moments_rep1_FIM_element_2',\n",
       "       'Moments_rep1_FIM_element_3', 'Moments_rep1_FIM_element_4',\n",
       "       'Moments_rep1_FIM_element_5', 'Moments_rep1_FIM_element_6',\n",
       "       'Moments_rep1_FIM_element_7', 'Moments_rep1_FIM_element_8',\n",
       "       'Moments_rep1_FIM_element_9', 'Moments_rep2_Na', 'Moments_rep2_N1',\n",
       "       'Moments_rep2_N2', 'Moments_rep2_t_split', 'Moments_rep2_m',\n",
       "       'Moments_rep2_FIM_element_0', 'Moments_rep2_FIM_element_1',\n",
       "       'Moments_rep2_FIM_element_2', 'Moments_rep2_FIM_element_3',\n",
       "       'Moments_rep2_FIM_element_4', 'Moments_rep2_FIM_element_5',\n",
       "       'Moments_rep2_FIM_element_6', 'Moments_rep2_FIM_element_7',\n",
       "       'Moments_rep2_FIM_element_8', 'Moments_rep2_FIM_element_9',\n",
       "       'Dadi_rep1_Na', 'Dadi_rep1_N1', 'Dadi_rep1_N2', 'Dadi_rep1_t_split',\n",
       "       'Dadi_rep1_m', 'Dadi_rep2_Na', 'Dadi_rep2_N1', 'Dadi_rep2_N2',\n",
       "       'Dadi_rep2_t_split', 'Dadi_rep2_m', 'MomentsLD_N1', 'MomentsLD_N2',\n",
       "       'MomentsLD_t_split', 'MomentsLD_m', 'MomentsLD_Na'],\n",
       "      dtype='object')"
      ]
     },
     "execution_count": 2,
     "metadata": {},
     "output_type": "execute_result"
    }
   ],
   "source": [
    "data['training']['predictions'].columns"
   ]
  },
  {
   "cell_type": "code",
   "execution_count": 6,
   "metadata": {},
   "outputs": [
    {
     "name": "stdout",
     "output_type": "stream",
     "text": [
      "Collecting matplotlib\n",
      "  Using cached matplotlib-3.9.2-cp312-cp312-manylinux_2_17_x86_64.manylinux2014_x86_64.whl.metadata (11 kB)\n",
      "Collecting contourpy>=1.0.1 (from matplotlib)\n",
      "  Downloading contourpy-1.3.0-cp312-cp312-manylinux_2_17_x86_64.manylinux2014_x86_64.whl.metadata (5.4 kB)\n",
      "Collecting cycler>=0.10 (from matplotlib)\n",
      "  Using cached cycler-0.12.1-py3-none-any.whl.metadata (3.8 kB)\n",
      "Collecting fonttools>=4.22.0 (from matplotlib)\n",
      "  Downloading fonttools-4.54.1-cp312-cp312-manylinux_2_5_x86_64.manylinux1_x86_64.manylinux_2_17_x86_64.manylinux2014_x86_64.whl.metadata (163 kB)\n",
      "Collecting kiwisolver>=1.3.1 (from matplotlib)\n",
      "  Downloading kiwisolver-1.4.7-cp312-cp312-manylinux_2_17_x86_64.manylinux2014_x86_64.whl.metadata (6.3 kB)\n",
      "Requirement already satisfied: numpy>=1.23 in /gpfs/home/akapoor/miniforge3/envs/snakemake/lib/python3.12/site-packages (from matplotlib) (2.1.0)\n",
      "Requirement already satisfied: packaging>=20.0 in /gpfs/home/akapoor/miniforge3/envs/snakemake/lib/python3.12/site-packages (from matplotlib) (24.1)\n",
      "Collecting pillow>=8 (from matplotlib)\n",
      "  Downloading pillow-11.0.0-cp312-cp312-manylinux_2_28_x86_64.whl.metadata (9.1 kB)\n",
      "Requirement already satisfied: pyparsing>=2.3.1 in /gpfs/home/akapoor/miniforge3/envs/snakemake/lib/python3.12/site-packages (from matplotlib) (3.1.4)\n",
      "Requirement already satisfied: python-dateutil>=2.7 in /gpfs/home/akapoor/miniforge3/envs/snakemake/lib/python3.12/site-packages (from matplotlib) (2.9.0)\n",
      "Requirement already satisfied: six>=1.5 in /gpfs/home/akapoor/miniforge3/envs/snakemake/lib/python3.12/site-packages (from python-dateutil>=2.7->matplotlib) (1.16.0)\n",
      "Using cached matplotlib-3.9.2-cp312-cp312-manylinux_2_17_x86_64.manylinux2014_x86_64.whl (8.3 MB)\n",
      "Downloading contourpy-1.3.0-cp312-cp312-manylinux_2_17_x86_64.manylinux2014_x86_64.whl (320 kB)\n",
      "Using cached cycler-0.12.1-py3-none-any.whl (8.3 kB)\n",
      "Downloading fonttools-4.54.1-cp312-cp312-manylinux_2_5_x86_64.manylinux1_x86_64.manylinux_2_17_x86_64.manylinux2014_x86_64.whl (4.9 MB)\n",
      "\u001b[2K   \u001b[90m━━━━━━━━━━━━━━━━━━━━━━━━━━━━━━━━━━━━━━━━\u001b[0m \u001b[32m4.9/4.9 MB\u001b[0m \u001b[31m33.8 MB/s\u001b[0m eta \u001b[36m0:00:00\u001b[0m\n",
      "\u001b[?25hDownloading kiwisolver-1.4.7-cp312-cp312-manylinux_2_17_x86_64.manylinux2014_x86_64.whl (1.5 MB)\n",
      "\u001b[2K   \u001b[90m━━━━━━━━━━━━━━━━━━━━━━━━━━━━━━━━━━━━━━━━\u001b[0m \u001b[32m1.5/1.5 MB\u001b[0m \u001b[31m17.8 MB/s\u001b[0m eta \u001b[36m0:00:00\u001b[0m\n",
      "\u001b[?25hDownloading pillow-11.0.0-cp312-cp312-manylinux_2_28_x86_64.whl (4.4 MB)\n",
      "\u001b[2K   \u001b[90m━━━━━━━━━━━━━━━━━━━━━━━━━━━━━━━━━━━━━━━━\u001b[0m \u001b[32m4.4/4.4 MB\u001b[0m \u001b[31m87.9 MB/s\u001b[0m eta \u001b[36m0:00:00\u001b[0m\n",
      "\u001b[?25hInstalling collected packages: pillow, kiwisolver, fonttools, cycler, contourpy, matplotlib\n",
      "Successfully installed contourpy-1.3.0 cycler-0.12.1 fonttools-4.54.1 kiwisolver-1.4.7 matplotlib-3.9.2 pillow-11.0.0\n"
     ]
    }
   ],
   "source": [
    "!pip install matplotlib"
   ]
  },
  {
   "cell_type": "code",
   "execution_count": 9,
   "metadata": {},
   "outputs": [
    {
     "data": {
      "text/plain": [
       "<matplotlib.collections.PathCollection at 0x154fb7bd5c40>"
      ]
     },
     "execution_count": 9,
     "metadata": {},
     "output_type": "execute_result"
    },
    {
     "data": {
      "image/png": "[encoded data removed]",
      "text/plain": [
       "<Figure size 640x480 with 1 Axes>"
      ]
     },
     "metadata": {},
     "output_type": "display_data"
    }
   ],
   "source": [
    "import matplotlib.pyplot as plt\n",
    "plt.figure()\n",
    "plt.scatter(data['training']['predictions']['MomentsLD_Na'], data['training']['targets']['simulated_params_Na'] )"
   ]
  },
  {
   "cell_type": "code",
   "execution_count": 4,
   "metadata": {},
   "outputs": [
    {
     "data": {
      "text/html": [
       "<div>\n",
       "<style scoped>\n",
       "    .dataframe tbody tr th:only-of-type {\n",
       "        vertical-align: middle;\n",
       "    }\n",
       "\n",
       "    .dataframe tbody tr th {\n",
       "        vertical-align: top;\n",
       "    }\n",
       "\n",
       "    .dataframe thead th {\n",
       "        text-align: right;\n",
       "    }\n",
       "</style>\n",
       "<table border=\"1\" class=\"dataframe\">\n",
       "  <thead>\n",
       "    <tr style=\"text-align: right;\">\n",
       "      <th></th>\n",
       "      <th>simulated_params_t_split</th>\n",
       "      <th>simulated_params_N1</th>\n",
       "      <th>simulated_params_N2</th>\n",
       "      <th>simulated_params_Na</th>\n",
       "      <th>simulated_params_m</th>\n",
       "    </tr>\n",
       "  </thead>\n",
       "  <tbody>\n",
       "    <tr>\n",
       "      <th>Sim_0</th>\n",
       "      <td>3887</td>\n",
       "      <td>6097</td>\n",
       "      <td>9364</td>\n",
       "      <td>14085</td>\n",
       "      <td>0</td>\n",
       "    </tr>\n",
       "    <tr>\n",
       "      <th>Sim_1</th>\n",
       "      <td>1910</td>\n",
       "      <td>658</td>\n",
       "      <td>556</td>\n",
       "      <td>18015</td>\n",
       "      <td>0</td>\n",
       "    </tr>\n",
       "  </tbody>\n",
       "</table>\n",
       "</div>"
      ],
      "text/plain": [
       "       simulated_params_t_split  simulated_params_N1  simulated_params_N2  \\\n",
       "Sim_0                      3887                 6097                 9364   \n",
       "Sim_1                      1910                  658                  556   \n",
       "\n",
       "       simulated_params_Na  simulated_params_m  \n",
       "Sim_0                14085                   0  \n",
       "Sim_1                18015                   0  "
      ]
     },
     "execution_count": 4,
     "metadata": {},
     "output_type": "execute_result"
    }
   ],
   "source": [
    "data['training']['targets']"
   ]
  },
  {
   "cell_type": "code",
   "execution_count": 5,
   "metadata": {},
   "outputs": [],
   "source": [
    "import pickle"
   ]
  },
  {
   "cell_type": "code",
   "execution_count": 6,
   "metadata": {},
   "outputs": [],
   "source": [
    "with open('/sietch_colab/akapoor/Demographic_Inference/software_inferences_sim_5.pkl', 'rb') as f:\n",
    "    data = pickle.load(f)"
   ]
  },
  {
   "cell_type": "code",
   "execution_count": 7,
   "metadata": {},
   "outputs": [
    {
     "data": {
      "text/plain": [
       "dict_keys(['simulated_params', 'sfs', 'model_sfs_dadi', 'opt_theta_dadi', 'opt_params_dadi', 'll_all_replicates_dadi', 'model_sfs_moments', 'opt_theta_moments', 'opt_params_moments', 'll_all_replicates_moments'])"
      ]
     },
     "execution_count": 7,
     "metadata": {},
     "output_type": "execute_result"
    }
   ],
   "source": [
    "data.keys()"
   ]
  },
  {
   "cell_type": "code",
   "execution_count": 8,
   "metadata": {},
   "outputs": [
    {
     "data": {
      "text/plain": [
       "[{'Na': 18494.177088298515,\n",
       "  'N1': 2930.5926344181325,\n",
       "  'N2': 3312.882320802637,\n",
       "  't_split': 1601.2538594384037,\n",
       "  'm': 757.0144801023038,\n",
       "  'll': -14692.237606551713},\n",
       " {'Na': 16799.758949189985,\n",
       "  'N1': 3402.5765411178068,\n",
       "  'N2': 3230.4610969307073,\n",
       "  't_split': 959.484227618703,\n",
       "  'm': 372.151378684218,\n",
       "  'll': -22328.696144845057}]"
      ]
     },
     "execution_count": 8,
     "metadata": {},
     "output_type": "execute_result"
    }
   ],
   "source": [
    "data['opt_params_dadi']"
   ]
  },
  {
   "cell_type": "code",
   "execution_count": null,
   "metadata": {},
   "outputs": [],
   "source": []
  }
 ],
 "metadata": {
  "kernelspec": {
   "display_name": "myenv",
   "language": "python",
   "name": "python3"
  },
  "language_info": {
   "codemirror_mode": {
    "name": "ipython",
    "version": 3
   },
   "file_extension": ".py",
   "mimetype": "text/x-python",
   "name": "python",
   "nbconvert_exporter": "python",
   "pygments_lexer": "ipython3",
   "version": "3.10.13"
  }
 },
 "nbformat": 4,
 "nbformat_minor": 2
}
