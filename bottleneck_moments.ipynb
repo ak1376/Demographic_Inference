{
 "cells": [
  {
   "cell_type": "code",
   "execution_count": 1,
   "metadata": {},
   "outputs": [],
   "source": [
    "# I want to see how the expected SFS changes when I change the bottleneck size "
   ]
  },
  {
   "cell_type": "code",
   "execution_count": 29,
   "metadata": {},
   "outputs": [],
   "source": [
    "import matplotlib.pyplot as plt\n",
    "import numpy as np\n",
    "import moments"
   ]
  },
  {
   "cell_type": "code",
   "execution_count": 33,
   "metadata": {},
   "outputs": [
    {
     "data": {
      "image/png": "[encoded data removed]",
      "text/plain": [
       "<Figure size 640x480 with 1 Axes>"
      ]
     },
     "metadata": {},
     "output_type": "display_data"
    }
   ],
   "source": [
    "input_theta = 10000\n",
    "\n",
    "# Let's define the ground truth parameter values. We will try to recover these values using the moments optimization procedure.\n",
    "\n",
    "sampled_params = {}\n",
    "\n",
    "sampled_params['N0'] = 10000\n",
    "sampled_params['Nb'] = 7000\n",
    "sampled_params['N_recover'] = 9000\n",
    "sampled_params['t_bottleneck_end'] = 400\n",
    "sampled_params['t_bottleneck_start'] = 600\n",
    "\n",
    "\n",
    "nuB = sampled_params['Nb']/sampled_params['N0']\n",
    "nuF = sampled_params['N_recover']/sampled_params['N0']\n",
    "TB = (sampled_params['t_bottleneck_start'] - sampled_params['t_bottleneck_end'])/(2*sampled_params['N0'])\n",
    "TF = sampled_params['t_bottleneck_end']/(2*sampled_params['N0'])\n",
    "\n",
    "params = [nuB, nuF, TB, TF]\n",
    "model_func = moments.Demographics1D.three_epoch\n",
    "model = model_func(params, [200])\n",
    "model = input_theta * model\n",
    "data = model.sample()\n",
    "\n",
    "plt.figure()\n",
    "plt.hist(np.array(data))\n",
    "plt.show()\n",
    "# plt.savefig('bottleneck_sfs.png')\n"
   ]
  },
  {
   "cell_type": "code",
   "execution_count": 34,
   "metadata": {},
   "outputs": [
    {
     "name": "stdout",
     "output_type": "stream",
     "text": [
      "3680    , -823.259    , array([ 0.8073     ,  0.739698   ,  0.0192288  ,  0.0158013  ])\n",
      "3700    , -783.611    , array([ 0.807887   ,  0.809228   ,  0.0246729  ,  0.00236784 ])\n",
      "3720    , -779.959    , array([ 0.811241   ,  0.854101   ,  0.0229018  ,  0.00174748 ])\n",
      "3740    , -775.192    , array([ 0.866467   ,  0.858801   ,  0.0368333  ,  0.000170569])\n",
      "3760    , -774.403    , array([ 0.862523   ,  0.870318   ,  0.0425143  ,  0.000121205])\n",
      "3780    , -774.249    , array([ 0.86074    ,  0.866176   ,  0.0471571  ,  0.000114522])\n",
      "3800    , -774.039    , array([ 0.869451   ,  0.84127    ,  0.0507331  ,  0.000113521])\n",
      "3820    , -774.006    , array([ 0.867978   ,  0.844291   ,  0.0538842  ,  0.00010632 ])\n",
      "3840    , -773.998    , array([ 0.870053   ,  0.837913   ,  0.0543199  ,  0.000109157])\n",
      "3860    , -773.996    , array([ 0.869982   ,  0.838854   ,  0.054409   ,  0.000107661])\n",
      "3880    , -773.993    , array([ 0.87014    ,  0.841629   ,  0.0546687  ,  0.000101776])\n",
      "3900    , -773.992    , array([ 0.869568   ,  0.844299   ,  0.0544469  ,  0.000100571])\n",
      "3920    , -773.991    , array([ 0.869404   ,  0.845543   ,  0.0540092  ,  0.000100383])\n",
      "3940    , -773.991    , array([ 0.869607   ,  0.845065   ,  0.0540934  ,  0.00010008 ])\n",
      "3960    , -773.991    , array([ 0.869605   ,  0.84501    ,  0.0541731  ,  0.000100002])\n",
      "3980    , -773.991    , array([ 0.869603   ,  0.844992   ,  0.0541863  ,  0.000100005])\n"
     ]
    }
   ],
   "source": [
    "p_guess = [0.75, 0.85, 0.1, 0.01]\n",
    "lower_bound = [1e-4, 1e-4, 1e-4, 1e-4]\n",
    "upper_bound = [1, 1, 1, 1]\n",
    "\n",
    "p_guess = moments.Misc.perturb_params(\n",
    "    p_guess, lower_bound=lower_bound, upper_bound=upper_bound)\n",
    "\n",
    "opt_params = moments.Inference.optimize_log_fmin(\n",
    "    p_guess, data, model_func,\n",
    "    lower_bound=lower_bound, upper_bound=upper_bound,\n",
    "    verbose=20) # report every 20 iterations\n"
   ]
  },
  {
   "cell_type": "code",
   "execution_count": 35,
   "metadata": {},
   "outputs": [
    {
     "name": "stdout",
     "output_type": "stream",
     "text": [
      "Found params: [8.69601888e-01 8.45009520e-01 5.41798943e-02 1.00000002e-04]\n",
      "Actual Params: [0.7, 0.9, 0.01, 0.02]\n"
     ]
    }
   ],
   "source": [
    "print(f'Found params: {opt_params}')\n",
    "print(f'Actual Params: {params}')"
   ]
  },
  {
   "cell_type": "code",
   "execution_count": null,
   "metadata": {},
   "outputs": [],
   "source": [
    "# Bottleneck size, recovery size, TB, TF"
   ]
  }
 ],
 "metadata": {
  "kernelspec": {
   "display_name": "myenv",
   "language": "python",
   "name": "python3"
  },
  "language_info": {
   "codemirror_mode": {
    "name": "ipython",
    "version": 3
   },
   "file_extension": ".py",
   "mimetype": "text/x-python",
   "name": "python",
   "nbconvert_exporter": "python",
   "pygments_lexer": "ipython3",
   "version": "3.10.13"
  }
 },
 "nbformat": 4,
 "nbformat_minor": 2
}
